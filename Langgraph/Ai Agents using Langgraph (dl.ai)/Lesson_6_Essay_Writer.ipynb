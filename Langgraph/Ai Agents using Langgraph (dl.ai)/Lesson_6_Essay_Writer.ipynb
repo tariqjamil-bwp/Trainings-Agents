{
 "cells": [
  {
   "cell_type": "markdown",
   "id": "911b3b37-3b29-4833-94f2-bfe47af00c83",
   "metadata": {},
   "source": [
    "# Lesson 6: Essay Writer"
   ]
  },
  {
   "cell_type": "code",
   "execution_count": 1,
   "id": "f5762271-8736-4e94-9444-8c92bd0e8074",
   "metadata": {
    "height": 63
   },
   "outputs": [],
   "source": [
    "from dotenv import load_dotenv\n",
    "\n",
    "_ = load_dotenv()\n"
   ]
  },
  {
   "cell_type": "code",
   "execution_count": 2,
   "id": "a59684d4",
   "metadata": {},
   "outputs": [
    {
     "name": "stdout",
     "output_type": "stream",
     "text": [
      "reading environment variables from: </home/tjamil/Desktop/Agents/code_excercises/Langgraph/Ai Agents using Langgraph (dl.ai)>\n",
      "API Keys loaded and tracing set with project name:  Essay-Writing-deeplearning.ai\n"
     ]
    }
   ],
   "source": [
    "from setup_environment_r2 import set_environment_variables\n",
    "set_environment_variables('Essay-Writing-deeplearning.ai')"
   ]
  },
  {
   "cell_type": "code",
   "execution_count": 3,
   "id": "d0168aee-bce9-4d60-b827-f86a88187e31",
   "metadata": {
    "height": 146
   },
   "outputs": [],
   "source": [
    "from langgraph.graph import StateGraph, END\n",
    "from typing import TypedDict, Annotated, List\n",
    "import operator\n",
    "from langgraph.checkpoint.sqlite import SqliteSaver\n",
    "from langchain_core.messages import AnyMessage, SystemMessage, HumanMessage, AIMessage, ChatMessage\n",
    "from IPython.display import Image, display\n",
    "import sqlite3\n",
    "conn = sqlite3.connect(\"checkpoints.sqlite\", check_same_thread=False)\n",
    "memory = SqliteSaver(conn)\n",
    "\n",
    "#memory = SqliteSaver.from_conn_string(\":memory:\")"
   ]
  },
  {
   "cell_type": "code",
   "execution_count": 4,
   "id": "2589c5b6-6cc2-4594-9a17-dccdcf676054",
   "metadata": {
    "height": 148
   },
   "outputs": [],
   "source": [
    "class AgentState(TypedDict):\n",
    "    task: str\n",
    "    plan: str\n",
    "    draft: str\n",
    "    critique: str\n",
    "    content: List[str]\n",
    "    revision_number: int\n",
    "    max_revisions: int"
   ]
  },
  {
   "cell_type": "code",
   "execution_count": 5,
   "id": "a2ba84ec-c172-4de7-ac55-e3158a531b23",
   "metadata": {
    "height": 61
   },
   "outputs": [
    {
     "data": {
      "text/plain": [
       "AIMessage(content=\"Hello! It's nice to meet you. Is there something I can help you with, or would you like to chat?\", additional_kwargs={}, response_metadata={'token_usage': {'completion_tokens': 26, 'prompt_tokens': 11, 'total_tokens': 37, 'completion_time': 0.08135383, 'prompt_time': 0.000181979, 'queue_time': 0.014242409999999999, 'total_time': 0.081535809}, 'model_name': 'llama3-70b-8192', 'system_fingerprint': 'fp_c1a4bcec29', 'finish_reason': 'stop', 'logprobs': None}, id='run-18ae0629-ca2d-4b61-90be-f2a5ec27d23b-0', usage_metadata={'input_tokens': 11, 'output_tokens': 26, 'total_tokens': 37})"
      ]
     },
     "execution_count": 5,
     "metadata": {},
     "output_type": "execute_result"
    }
   ],
   "source": [
    "#from langchain_openai import ChatOpenAI\n",
    "#model = ChatOpenAI(model=\"gpt-3.5-turbo\", temperature=0)\n",
    "\n",
    "from utils import GroqChatLLM, OllamaLLM\n",
    "#model2 = GroqChatLLM(model_name='llama3-8b-8192')\n",
    "model2 = OllamaLLM(model_name='gemma2:2b')\n",
    "model = GroqChatLLM(model_name='llama3-70b-8192')\n",
    "model.invoke(\"hello\")  # testing"
   ]
  },
  {
   "cell_type": "code",
   "execution_count": 6,
   "id": "876d5092-b8ef-4e38-b4d7-0e80c609bf7a",
   "metadata": {
    "height": 78
   },
   "outputs": [],
   "source": [
    "PLAN_PROMPT = \"\"\"You are an expert writer tasked with writing a high level outline of an essay. \\\n",
    "Write such an outline for the user provided topic. Give an outline of the essay along with any relevant notes \\\n",
    "or instructions for the sections.\"\"\""
   ]
  },
  {
   "cell_type": "code",
   "execution_count": 7,
   "id": "10084a02-2928-4945-9f7c-ad3f5b33caf7",
   "metadata": {
    "height": 163
   },
   "outputs": [],
   "source": [
    "WRITER_PROMPT = \"\"\"You are an essay assistant tasked with writing excellent 5-paragraph essays.\\\n",
    "Generate the best essay possible for the user's request and the initial outline. \\\n",
    "If the user provides critique, respond with a revised version of your previous attempts. \\\n",
    "Utilize all the information below as needed: \n",
    "\n",
    "------\n",
    "\n",
    "{content}\"\"\""
   ]
  },
  {
   "cell_type": "code",
   "execution_count": 8,
   "id": "714d1205-f8fc-4912-b148-2a45da99219c",
   "metadata": {
    "height": 78
   },
   "outputs": [],
   "source": [
    "REFLECTION_PROMPT = \"\"\"You are a teacher grading an essay submission. \\\n",
    "Generate critique and recommendations for the user's submission. \\\n",
    "Provide detailed recommendations, including requests for length, depth, style, etc.\"\"\""
   ]
  },
  {
   "cell_type": "code",
   "execution_count": 9,
   "id": "83588e70-254f-4f83-a510-c8ae81e729b0",
   "metadata": {
    "height": 95
   },
   "outputs": [],
   "source": [
    "RESEARCH_PLAN_PROMPT = \"\"\"You are a researcher charged with providing information that can \\\n",
    "be used when writing the following essay. Generate a list of search queries that will gather \\\n",
    "any relevant information. Only generate 3 queries max.\"\"\"\n"
   ]
  },
  {
   "cell_type": "code",
   "execution_count": 10,
   "id": "6cb3ef4c-58b3-401b-b104-0d51e553d982",
   "metadata": {
    "height": 95
   },
   "outputs": [],
   "source": [
    "RESEARCH_CRITIQUE_PROMPT = \"\"\"You are a researcher charged with providing information that can \\\n",
    "be used when making any requested revisions (as outlined below). \\\n",
    "Generate a list of search queries that will gather any relevant information. Only generate 3 queries max.\"\"\"\n"
   ]
  },
  {
   "cell_type": "code",
   "execution_count": 11,
   "id": "dc3293b7-a50c-43c8-a022-8975e1e444b8",
   "metadata": {
    "height": 81
   },
   "outputs": [
    {
     "name": "stderr",
     "output_type": "stream",
     "text": [
      "/home/tjamil/Desktop/Agents/.conda/lib/python3.11/site-packages/IPython/core/interactiveshell.py:3577: LangChainDeprecationWarning: As of langchain-core 0.3.0, LangChain uses pydantic v2 internally. The langchain_core.pydantic_v1 module was a compatibility shim for pydantic v1, and should no longer be used. Please update the code to import from Pydantic directly.\n",
      "\n",
      "For example, replace imports like: `from langchain_core.pydantic_v1 import BaseModel`\n",
      "with: `from pydantic import BaseModel`\n",
      "or the v1 compatibility namespace if you are working in a code base that has not been fully upgraded to pydantic 2 yet. \tfrom pydantic.v1 import BaseModel\n",
      "\n",
      "  exec(code_obj, self.user_global_ns, self.user_ns)\n"
     ]
    }
   ],
   "source": [
    "from langchain_core.pydantic_v1 import BaseModel\n",
    "\n",
    "class Queries(BaseModel):\n",
    "    queries: List[str]"
   ]
  },
  {
   "cell_type": "code",
   "execution_count": 12,
   "id": "0722c3d4-4cbf-43bf-81b0-50f634c4ce61",
   "metadata": {
    "height": 78
   },
   "outputs": [],
   "source": [
    "from tavily import TavilyClient\n",
    "import os\n",
    "tavily = TavilyClient(api_key=os.environ[\"TAVILY_API_KEY\"])"
   ]
  },
  {
   "cell_type": "code",
   "execution_count": 13,
   "id": "6b2f82fe-3ec4-4917-be51-9fb10d1317fa",
   "metadata": {
    "height": 132
   },
   "outputs": [],
   "source": [
    "def plan_node(state: AgentState):\n",
    "    messages = [\n",
    "        SystemMessage(content=PLAN_PROMPT), \n",
    "        HumanMessage(content=state['task'])\n",
    "    ]\n",
    "    response = model.invoke(messages)\n",
    "    return {\"plan\": response.content}"
   ]
  },
  {
   "cell_type": "code",
   "execution_count": 14,
   "id": "ee0fe1c7-77e2-499c-a2f9-1f739bb6ddf0",
   "metadata": {
    "height": 214
   },
   "outputs": [],
   "source": [
    "def research_plan_node(state: AgentState):\n",
    "\n",
    "    queries = model.with_structured_output(Queries).invoke([\n",
    "        SystemMessage(content=RESEARCH_PLAN_PROMPT),\n",
    "        HumanMessage(content=state['task'])\n",
    "    ])\n",
    "    \n",
    "    content = state.get('content', []) #or state['content'] or []\n",
    "    for q in queries.queries:\n",
    "        response = tavily.search(query=q, max_results=2)\n",
    "        for r in response['results']:\n",
    "            content.append(r['content'])\n",
    "    return {\"content\": content}"
   ]
  },
  {
   "cell_type": "code",
   "execution_count": 15,
   "id": "98f303b1-a4d0-408c-8cc0-515ff980717f",
   "metadata": {
    "height": 299
   },
   "outputs": [],
   "source": [
    "def generation_node(state: AgentState):\n",
    "    \n",
    "    content = \"\\n\\n\".join(state.get('content', [])) #or state['content'] or [])\n",
    "    user_message = HumanMessage(\n",
    "        content=f\"{state['task']}\\n\\nHere is my plan:\\n\\n{state['plan']}\")\n",
    "    messages = [\n",
    "        SystemMessage(\n",
    "            content=WRITER_PROMPT.format(content=content)\n",
    "        ),\n",
    "        user_message\n",
    "        ]\n",
    "    response = model2.invoke(messages)\n",
    "    return {\n",
    "        \"draft\": response.content, \n",
    "        \"revision_number\": state.get(\"revision_number\", 1) + 1\n",
    "    }"
   ]
  },
  {
   "cell_type": "code",
   "execution_count": 16,
   "id": "bf4dcb93-6298-4cfd-b3ce-61dfac7fb35f",
   "metadata": {
    "height": 132
   },
   "outputs": [],
   "source": [
    "def reflection_node(state: AgentState):\n",
    "    messages = [\n",
    "        SystemMessage(content=REFLECTION_PROMPT), \n",
    "        HumanMessage(content=state['draft'])\n",
    "    ]\n",
    "    response = model.invoke(messages)\n",
    "    return {\"critique\": response.content}"
   ]
  },
  {
   "cell_type": "code",
   "execution_count": 17,
   "id": "932883a4-c722-42bb-aec0-b4f41c5c81a4",
   "metadata": {
    "height": 214
   },
   "outputs": [],
   "source": [
    "def research_critique_node(state: AgentState):\n",
    "    queries = model.with_structured_output(Queries).invoke([\n",
    "        SystemMessage(content=RESEARCH_CRITIQUE_PROMPT),\n",
    "        HumanMessage(content=state['critique'])\n",
    "    ])\n",
    "    content = state.get('content', []) #or state['content'] or []\n",
    "    for q in queries.queries:\n",
    "        response = tavily.search(query=q, max_results=2)\n",
    "        for r in response['results']:\n",
    "            content.append(r['content'])\n",
    "    return {\"content\": content}"
   ]
  },
  {
   "cell_type": "code",
   "execution_count": 18,
   "id": "ff362f49-dcf1-4ea1-a86c-e516e9ab897d",
   "metadata": {
    "height": 95
   },
   "outputs": [],
   "source": [
    "def should_continue(state):\n",
    "    if state[\"revision_number\"] > state[\"max_revisions\"]:\n",
    "        return END\n",
    "    return \"reflect\""
   ]
  },
  {
   "cell_type": "code",
   "execution_count": 19,
   "id": "a7e15a20-83d7-434c-8551-bce8dcc32be0",
   "metadata": {
    "height": 30
   },
   "outputs": [],
   "source": [
    "builder = StateGraph(AgentState)"
   ]
  },
  {
   "cell_type": "code",
   "execution_count": 20,
   "id": "54ab2c74-f32e-490c-a85d-932d11444210",
   "metadata": {
    "height": 112
   },
   "outputs": [
    {
     "data": {
      "text/plain": [
       "<langgraph.graph.state.StateGraph at 0x7f2a6cd0ac50>"
      ]
     },
     "execution_count": 20,
     "metadata": {},
     "output_type": "execute_result"
    }
   ],
   "source": [
    "builder.add_node(\"planner\", plan_node)\n",
    "builder.add_node(\"generate\", generation_node)\n",
    "builder.add_node(\"reflect\", reflection_node)\n",
    "builder.add_node(\"research_plan\", research_plan_node)\n",
    "builder.add_node(\"research_critique\", research_critique_node)"
   ]
  },
  {
   "cell_type": "code",
   "execution_count": 21,
   "id": "a833d3ce-bd31-4319-811d-decff226b970",
   "metadata": {
    "height": 30
   },
   "outputs": [
    {
     "data": {
      "text/plain": [
       "<langgraph.graph.state.StateGraph at 0x7f2a6cd0ac50>"
      ]
     },
     "execution_count": 21,
     "metadata": {},
     "output_type": "execute_result"
    }
   ],
   "source": [
    "builder.set_entry_point(\"planner\")"
   ]
  },
  {
   "cell_type": "code",
   "execution_count": 22,
   "id": "76e93cce-6eab-4c7c-ac64-e9993fdb30d6",
   "metadata": {
    "height": 115
   },
   "outputs": [
    {
     "data": {
      "text/plain": [
       "<langgraph.graph.state.StateGraph at 0x7f2a6cd0ac50>"
      ]
     },
     "execution_count": 22,
     "metadata": {},
     "output_type": "execute_result"
    }
   ],
   "source": [
    "builder.add_conditional_edges(\n",
    "    \"generate\", \n",
    "    should_continue, \n",
    "    {END: END, \"reflect\": \"reflect\"}\n",
    ")"
   ]
  },
  {
   "cell_type": "code",
   "execution_count": 23,
   "id": "fd2d0990-a932-423f-9ff3-5cada58c5f32",
   "metadata": {
    "height": 98
   },
   "outputs": [
    {
     "data": {
      "text/plain": [
       "<langgraph.graph.state.StateGraph at 0x7f2a6cd0ac50>"
      ]
     },
     "execution_count": 23,
     "metadata": {},
     "output_type": "execute_result"
    }
   ],
   "source": [
    "builder.add_edge(\"planner\", \"research_plan\")\n",
    "builder.add_edge(\"research_plan\", \"generate\")\n",
    "\n",
    "builder.add_edge(\"reflect\", \"research_critique\")\n",
    "builder.add_edge(\"research_critique\", \"generate\")"
   ]
  },
  {
   "cell_type": "code",
   "execution_count": 24,
   "id": "27cde654-64e2-48bc-80a9-0ed668ccb7dc",
   "metadata": {
    "height": 30
   },
   "outputs": [],
   "source": [
    "graph = builder.compile(checkpointer=memory)"
   ]
  },
  {
   "cell_type": "code",
   "execution_count": 25,
   "id": "4871f644-b131-4065-b7ce-b82c20a41f11",
   "metadata": {
    "height": 64
   },
   "outputs": [
    {
     "data": {
      "image/jpeg": "[encoded data removed]",
      "text/plain": [
       "<IPython.core.display.Image object>"
      ]
     },
     "metadata": {},
     "output_type": "display_data"
    }
   ],
   "source": [
    "from IPython.display import Image, display\n",
    "\n",
    "display(Image(graph.get_graph().draw_mermaid_png()))"
   ]
  },
  {
   "cell_type": "code",
   "execution_count": 26,
   "id": "98f3be1d-cc4c-41fa-9863-3e386e88e305",
   "metadata": {
    "height": 146
   },
   "outputs": [
    {
     "name": "stdout",
     "output_type": "stream",
     "text": [
      "{'planner': {'plan': 'Here is a high-level outline for an essay on AI use cases in education exams assessment:\\n\\n**Title:** \"Revolutionizing Education Exams: The Role of Artificial Intelligence in Assessment\"\\n\\n**I. Introduction**\\n\\n* Brief overview of the importance of education and the need for efficient assessment methods\\n* Thesis statement: Artificial Intelligence (AI) has the potential to transform the way we assess student learning, making exams more efficient, accurate, and personalized.\\n\\n**II. Current Challenges in Education Exams Assessment**\\n\\n* Discuss the limitations of traditional assessment methods (e.g., human grading, paper-based exams)\\n* Highlight the issues of bias, subjectivity, and time-consuming grading processes\\n* Introduce the need for innovative solutions to address these challenges\\n\\n**III. AI-Powered Assessment: Use Cases in Education Exams**\\n\\n* **Automated Grading**: Explain how AI can accurately grade exams, freeing up instructors\\' time and reducing grading errors\\n\\t+ Discuss the use of machine learning algorithms to analyze student responses and provide instant feedback\\n* **Personalized Assessment**: Describe how AI can create customized exams tailored to individual students\\' needs and abilities\\n\\t+ Explore the potential of AI-generated questions that adapt to a student\\'s performance in real-time\\n* **Intelligent Tutoring Systems**: Introduce AI-powered systems that provide one-on-one support to students, offering real-time feedback and guidance\\n\\t+ Discuss the benefits of AI-driven adaptive learning and its impact on student outcomes\\n\\n**IV. Benefits of AI in Education Exams Assessment**\\n\\n* **Increased Efficiency**: Discuss how AI can reduce the time and effort required for grading and feedback\\n* **Improved Accuracy**: Highlight the potential of AI to minimize grading errors and bias\\n* **Enhanced Student Experience**: Explore how AI-powered assessment can lead to more engaging and effective learning experiences\\n\\n**V. Challenges and Limitations of AI in Education Exams Assessment**\\n\\n* **Data Quality and Security**: Discuss the importance of ensuring the quality and security of student data used to train AI models\\n* **Lack of Human Touch**: Address concerns about the potential loss of human interaction and empathy in AI-driven assessment\\n* **Ethical Considerations**: Explore the ethical implications of relying on AI in education exams, including issues of bias and fairness\\n\\n**VI. Conclusion**\\n\\n* Summarize the benefits and challenges of AI in education exams assessment\\n* Reiterate the thesis statement and emphasize the potential of AI to transform the way we assess student learning\\n* Provide a call to action for educators, policymakers, and developers to work together to harness the power of AI in education exams assessment.\\n\\n**Notes and Instructions:**\\n\\n* Throughout the essay, provide concrete examples and case studies to illustrate the use cases and benefits of AI in education exams assessment.\\n* Engage with existing research and literature on AI in education to support arguments and claims.\\n* Use clear and concise language, avoiding technical jargon and ensuring that the essay is accessible to a broad audience.\\n* Consider including visual aids, such as diagrams or infographics, to illustrate complex concepts and ideas.'}}\n",
      "{'research_plan': {'content': ['AI agents are more than chatbots or content generators; they can take action, complete tasks and drive real-world results. To better automate and enhance business operations, you can use AI agents to iteratively prompt language models with revised context from previous outputs, mirroring and accelerating human processes. The AI agents analyze data from multiple sources, including customer interactions, inventory and market trends, to make real-time decisions. Key first steps for business leaders looking to adopt AI agents are: This helps validate that your pilot projects are resulting in outcomes aligned with your business objectives before you scale AI agents across broader functions. Overall, my advice to business leaders is simple: Start exploring AI agents now.', 'Beyond Bots: How AI Agents Are Driving the Next Wave of Enterprise Automation Unlike previous generations of software that primarily addressed low-level, sequential tasks that could be robotically executed, new cognitive architectures enable agents to dynamically automate end-to-end processes. Moreover, legacy RPA and iPaaS solutions continue to be handcuffed to their deterministic architectures—even when they try to incorporate LLMs. Today, both UiPath’s AI solution Autopilot and Zapier’s AI Actions only offer LLMs for sub-agentic design patterns like (1) text-to-action, or (2) nodes for semantic search, synthesis, or one-shot generation. That being said, most enterprise agents use an “agents on rails” architecture, which requires agents to be grounded in a workflow-specific set of predefined actions, business context, and guardrails for each new process.', 'In the world of marketing, AI agents are responsible for managing everything from generating content to analyzing campaign performance. Example: A digital agency uses AI agents to manage and optimize Google Ads campaigns, tweaking bids and strategies based on real-time performance. Managing a supply chain is all about timing and efficiency, and AI agents help make that process more streamlined. Example: A content marketing agency uses AI agents to generate SEO-friendly blog posts for clients, allowing them to scale production without sacrificing quality. From marketing and supply chain management to customer service and fraud detection, the impact of AI agents is profound. With Integrail’s multi-agent platform, businesses can unlock the full potential of AI, automating even the most complex workflows to improve both productivity and performance. ai (3)', 'Learn how companies, governments, and startups are using generative AI agents to enhance productivity, automate processes, and modernize customer experience. Explore real-world examples of AI agents in customer service, employee empowerment, code creation, data analysis, cybersecurity, and creative ideation and production.', 'In summary . AI agents have caused a revolution in the business world, offering groundbreaking solutions to boost productivity and gain an edge over competitors.These intelligent systems have a significant impact on customer interactions, operational efficiency, and decision-making processes.By using AI for business, companies can streamline operations, offer personalised experiences, and make', '5 Benefits You Can Expect from Using AI in Business. 1. Increases in Efficiency and Productivity. AI is well-known for its ability to enhance efficiency and productivity in the workplace by: Automating repetitive tasks. Streamlining workflows. Providing data-driven insights.', 'The adoption of AI agents in enterprises is gaining momentum, driven by their potential to streamline operations and enhance decision-making processes. To successfully integrate AI solutions into', 'Actionable Intelligence Delivered. Momentum AI is designed specifically to mobilize your sales and customer conversations to automate your CRM and follow-up tasks so that you can spend more time effectively selling and building customer relationships. This guide will cover the major tools provided as part of Call Summaries and how to use them', '1. Start with a Clear Vision. One of the key factors to ensure AI initiatives find adoption is to start with building a clear, strategic vision. AI-ready organizations do not think of AI as a plug-and-play solution; rather, they understand that its implementation requires a deep knowledge of identifying the right opportunities where it can add', \"AI adoption requires overcoming inertia and adjustment costs. Ultimately, the biggest barriers to AI adoption may be inertia and adjustment costs. This was true with the internet, word processors, and even double-entry bookkeeping. Both factors exist for good reasons, McElheran said, and shouldn't be discounted. Related Articles.\", 'Here are some important current AI trends to look out for in the coming year. Reality check: more realistic expectations. Multimodal AI. Small (er) language models and open source advancements. GPU shortages and cloud costs. Model optimization is getting more accessible. Customized local models and data pipelines.', 'jsbacContactjsbacContact\\n8 a.m. – 7 p.m. ET\\n8 a.m.\\xa0– 5 p.m. GMT\\nMonday through Friday\\nPlease provide the consent below\\nI have read, understood and accepted Gartner\\nSeparate Consent Letter\\n, whereby I agree (1) to provide Gartner with my personal information, and understand that information will be transferred outside of mainland China and processed by Gartner group companies and other legitimate processing parties and (2) to be contacted by Gartner group\\ncompanies via internet, mobile/telephone and email, for the purposes of sales, marketing and research.\\n Please provide the consent below\\nI have read, understood and accepted Gartner\\nSeparate Consent Letter\\n, whereby I agree (1) to provide Gartner with my personal information, and understand that information will be transferred outside of mainland China and processed by Gartner group companies and other legitimate processing parties and (2) to be contacted by Gartner group\\ncompanies via internet, mobile/telephone and email, for the purposes of sales, marketing and research.\\n The critical technologies that fall into this category include the following:\\nAI simulation is the combined application of AI and simulation technologies to jointly develop AI agents and the simulated environments in which they can be trained, tested and sometimes deployed.\\n Get Exclusive Content\\nSubscribe to the Latest Insight\\nBy clicking the \"Continue\" button, you are agreeing to the\\nGartner Terms of Use\\nand\\nPrivacy Policy.\\n Listen now:\\xa0The AI Hype Cycle 2023: New Technologies on the Innovation Trigger\\nInnovations that will fuel generative AI advancement\\n“Generative AI exploration is accelerating, thanks to the popularity of stable diffusion, midjourney, ChatGPT and large language models.', \"One of the greatest benefits of AI in educational assessment is its ability to personalize learning, tailoring it to the individual needs and capabilities of each student. ... Instead of using standardized tests that may not fully reflect a student's abilities, AI can design dynamic assessments that adapt based on the student's responses\", 'The Benefits of AI-Enabled Assessments Efficiency and time-saving: AI automates many of the time-consuming tasks involved in assessments, such as grading. Multiple-choice tests can be graded instantly, and even more complex tasks like essays can be evaluated through AI-driven systems that assess content coherence, grammar, and relevance.', \"From researches it is observed that AI helps HEIs to improve quality of education by improving students' final outcomes. Assessment can take multiple forms conferring to the purpose of assessment within the learning environment in the course. It could be diagnostic, formative, summative, or e-assessment. ... Competency-based assessment act as\", 'AI can provide students with continuous assessment and feedback, provide collaborative learning, and apply learning analytics to differentiate the learning process to adapt to the individual needs', 'Implementing timed exams limits the time available for students to consult external sources or use AI-generated content. Ensure that the time allocated is reasonable for the scope of the assessment. Open-book exams with a twist include questions that require higher-order thinking or apply concepts in novel ways. This makes it less advantageous', 'Drawing on our diverse experiences as academics, researchers, psychometricians, teachers, and teacher educators specializing in formative assessment, we examine the pedagogical practices in which teachers provide feedback, facilitate peer- and self-assessments, and support students’ learning, and discuss how existing challenges to each of these may be affected by applications of AI. Thus, although AI can potentially ease the workload of teachers by automating some aspects of formative assessment (e.g., automatising scoring and tracing students’ learning progress), it adds further burden through the need for professional development in its use (Engeness, 2021).']}}\n",
      "{'generate': {'draft': \"## Revolutionizing Education Exams: The Role of Artificial Intelligence in Assessment\\n\\n**Introduction:** \\nEducation is the cornerstone of societal progress, equipping individuals with knowledge and skills necessary for success in a rapidly evolving world.  However, traditional assessment methods often fall short of capturing the true depth of student learning. This essay explores how artificial intelligence (AI) offers a revolutionary approach to education exams, promising more efficient, accurate, and personalized assessments that empower students and educators alike.\\n\\n**Current Challenges in Education Exams Assessment:**\\nTraditional exam formats, while seemingly straightforward, present significant challenges. Human grading is prone to subjectivity, bias, and fatigue, leading to inconsistencies and inaccuracies. Paper-based exams are time-consuming and often lack the flexibility needed for diverse learning styles.  Furthermore, these methods fail to provide timely feedback, hindering students' understanding of their progress and limiting opportunities for growth.\\n\\n**AI-Powered Assessment: Use Cases in Education Exams:**\\nThe advent of AI presents a transformative opportunity to address these challenges. Here are some key use cases:\\n\\n* **Automated Grading:** AI algorithms can analyze student responses with remarkable accuracy, reducing the burden on educators and minimizing grading errors. Machine learning models can identify patterns and trends within student work, providing instant feedback that helps students understand their strengths and weaknesses. This automation frees up valuable time for instructors to focus on other aspects of teaching and mentoring.\\n* **Personalized Assessment:** AI-powered systems can create customized exams tailored to individual student needs and abilities. By analyzing a student's performance history, AI algorithms can generate questions that adapt in real-time, ensuring the exam challenges students at their optimal level. This personalized approach fosters deeper understanding and engagement with the material.\\n* **Intelligent Tutoring Systems:**  AI-driven systems offer one-on-one support to students, providing real-time feedback and guidance. These intelligent tutoring systems can analyze student performance in real-time, identifying areas where they need additional help. By offering personalized explanations and practice exercises, these systems empower students to master the material at their own pace.\\n\\n**Benefits of AI in Education Exams Assessment:**\\nThe integration of AI into education exams offers a plethora of benefits:\\n\\n* **Increased Efficiency:**  AI automates grading processes, freeing up educators' time for more meaningful interactions with students. This allows for faster feedback and personalized support, leading to improved learning outcomes. \\n* **Improved Accuracy:** AI algorithms minimize human error and bias in assessment, ensuring fairer and more objective evaluation of student performance.\\n* **Enhanced Student Experience:**  Personalized assessments and real-time feedback create a more engaging and effective learning experience, fostering deeper understanding and motivation.\\n\\n**Challenges and Limitations of AI in Education Exams Assessment:**\\nWhile the potential of AI is undeniable, certain challenges need to be addressed:\\n\\n* **Data Quality and Security:** Ensuring the quality and security of student data used for training AI models is crucial. Robust data governance policies are essential to prevent misuse and protect sensitive information. \\n* **Lack of Human Touch:**  There's a risk that relying solely on AI might diminish human interaction and empathy in assessment. It's important to maintain a balance between technology-driven assessments and the valuable role of educators in providing personalized guidance and support.\\n* **Ethical Considerations:**  AI raises ethical concerns regarding bias and fairness. Addressing these issues through careful design, rigorous testing, and ongoing monitoring is crucial for ensuring equitable access to education and fair evaluation of student learning.\\n\\n**Conclusion:** \\nThe integration of AI into education exams holds immense promise for revolutionizing the assessment landscape. By leveraging its power to automate grading, personalize learning experiences, and provide real-time feedback, we can create a more efficient, accurate, and engaging educational environment. However, it's crucial to address challenges related to data security, ethical considerations, and maintaining human interaction in the process. Collaboration between educators, policymakers, and developers is essential to harnessing the full potential of AI for a brighter future of education. \\n\\n\\n**Note:** This essay provides a framework for your analysis. You can expand on each section with specific examples, case studies, and research findings to create a comprehensive and insightful piece.  Remember to cite all sources appropriately.\", 'revision_number': 2}}\n",
      "{'reflect': {'critique': '**Overall Assessment:**\\nThis essay provides a solid foundation for exploring the role of artificial intelligence in education exams. The writer effectively identifies the challenges of traditional assessment methods and presents a compelling case for the benefits of AI-powered assessment. However, to take this essay to the next level, I recommend addressing the following areas:\\n\\n**Length and Depth:**\\nThe essay could benefit from more in-depth analysis and supporting evidence in each section. Consider expanding each point with specific examples, case studies, or research findings to make the arguments more convincing. Aim for a length of around 1,500-2,000 words to provide a more comprehensive exploration of the topic.\\n\\n**Organization and Transitions:**\\nThe essay jumps abruptly from discussing the challenges of traditional assessment methods to presenting the benefits of AI-powered assessment. Consider adding transitional phrases or sentences to connect the ideas more smoothly. Additionally, consider reorganizing the essay to have a clearer structure, such as:\\n\\nI. Introduction\\nII. Challenges of Traditional Assessment Methods\\nIII. Benefits of AI-Powered Assessment\\nIV. Use Cases of AI in Education Exams\\nV. Challenges and Limitations of AI in Education Exams\\nVI. Conclusion\\n\\n**Style and Tone:**\\nThe writing style is clear and concise, but could benefit from more varied sentence structures and vocabulary. Consider using more nuanced language to convey complex ideas and avoid repetitive phrases. The tone is generally informative, but could be more engaging and persuasive with the use of rhetorical devices and emotional appeals.\\n\\n**Specific Recommendations:**\\n\\n* In the introduction, consider adding more context about the importance of education and the need for innovative assessment methods. This will help set the stage for the rest of the essay.\\n* In the \"Current Challenges\" section, provide more specific examples of how human grading can be biased or inaccurate. This will make the case for AI-powered assessment more compelling.\\n* In the \"AI-Powered Assessment\" section, consider providing more details about how machine learning models can analyze student responses and provide instant feedback. This will help readers understand the technical aspects of AI-powered assessment.\\n* In the \"Benefits\" section, consider adding more evidence from research studies or real-world examples to support the claims about increased efficiency, improved accuracy, and enhanced student experience.\\n* In the \"Challenges and Limitations\" section, consider providing more specific examples of how data quality and security can be compromised, and how educators can mitigate these risks.\\n* In the conclusion, consider summarizing the main points more concisely and reiterating the importance of harnessing the potential of AI in education exams.\\n\\n**Grammar and Mechanics:**\\nThe essay is generally free of grammatical errors, but consider proofreading more closely to catch any minor mistakes. Additionally, consider using more precise citations and referencing to support the arguments.\\n\\n**Final Thoughts:**\\nThis essay has a strong foundation, but could benefit from more depth, nuance, and supporting evidence. By addressing these areas, the writer can create a more comprehensive and persuasive exploration of the role of artificial intelligence in education exams.'}}\n",
      "{'research_critique': {'content': ['AI agents are more than chatbots or content generators; they can take action, complete tasks and drive real-world results. To better automate and enhance business operations, you can use AI agents to iteratively prompt language models with revised context from previous outputs, mirroring and accelerating human processes. The AI agents analyze data from multiple sources, including customer interactions, inventory and market trends, to make real-time decisions. Key first steps for business leaders looking to adopt AI agents are: This helps validate that your pilot projects are resulting in outcomes aligned with your business objectives before you scale AI agents across broader functions. Overall, my advice to business leaders is simple: Start exploring AI agents now.', 'Beyond Bots: How AI Agents Are Driving the Next Wave of Enterprise Automation Unlike previous generations of software that primarily addressed low-level, sequential tasks that could be robotically executed, new cognitive architectures enable agents to dynamically automate end-to-end processes. Moreover, legacy RPA and iPaaS solutions continue to be handcuffed to their deterministic architectures—even when they try to incorporate LLMs. Today, both UiPath’s AI solution Autopilot and Zapier’s AI Actions only offer LLMs for sub-agentic design patterns like (1) text-to-action, or (2) nodes for semantic search, synthesis, or one-shot generation. That being said, most enterprise agents use an “agents on rails” architecture, which requires agents to be grounded in a workflow-specific set of predefined actions, business context, and guardrails for each new process.', 'In the world of marketing, AI agents are responsible for managing everything from generating content to analyzing campaign performance. Example: A digital agency uses AI agents to manage and optimize Google Ads campaigns, tweaking bids and strategies based on real-time performance. Managing a supply chain is all about timing and efficiency, and AI agents help make that process more streamlined. Example: A content marketing agency uses AI agents to generate SEO-friendly blog posts for clients, allowing them to scale production without sacrificing quality. From marketing and supply chain management to customer service and fraud detection, the impact of AI agents is profound. With Integrail’s multi-agent platform, businesses can unlock the full potential of AI, automating even the most complex workflows to improve both productivity and performance. ai (3)', 'Learn how companies, governments, and startups are using generative AI agents to enhance productivity, automate processes, and modernize customer experience. Explore real-world examples of AI agents in customer service, employee empowerment, code creation, data analysis, cybersecurity, and creative ideation and production.', 'In summary . AI agents have caused a revolution in the business world, offering groundbreaking solutions to boost productivity and gain an edge over competitors.These intelligent systems have a significant impact on customer interactions, operational efficiency, and decision-making processes.By using AI for business, companies can streamline operations, offer personalised experiences, and make', '5 Benefits You Can Expect from Using AI in Business. 1. Increases in Efficiency and Productivity. AI is well-known for its ability to enhance efficiency and productivity in the workplace by: Automating repetitive tasks. Streamlining workflows. Providing data-driven insights.', 'The adoption of AI agents in enterprises is gaining momentum, driven by their potential to streamline operations and enhance decision-making processes. To successfully integrate AI solutions into', 'Actionable Intelligence Delivered. Momentum AI is designed specifically to mobilize your sales and customer conversations to automate your CRM and follow-up tasks so that you can spend more time effectively selling and building customer relationships. This guide will cover the major tools provided as part of Call Summaries and how to use them', '1. Start with a Clear Vision. One of the key factors to ensure AI initiatives find adoption is to start with building a clear, strategic vision. AI-ready organizations do not think of AI as a plug-and-play solution; rather, they understand that its implementation requires a deep knowledge of identifying the right opportunities where it can add', \"AI adoption requires overcoming inertia and adjustment costs. Ultimately, the biggest barriers to AI adoption may be inertia and adjustment costs. This was true with the internet, word processors, and even double-entry bookkeeping. Both factors exist for good reasons, McElheran said, and shouldn't be discounted. Related Articles.\", 'Here are some important current AI trends to look out for in the coming year. Reality check: more realistic expectations. Multimodal AI. Small (er) language models and open source advancements. GPU shortages and cloud costs. Model optimization is getting more accessible. Customized local models and data pipelines.', 'jsbacContactjsbacContact\\n8 a.m. – 7 p.m. ET\\n8 a.m.\\xa0– 5 p.m. GMT\\nMonday through Friday\\nPlease provide the consent below\\nI have read, understood and accepted Gartner\\nSeparate Consent Letter\\n, whereby I agree (1) to provide Gartner with my personal information, and understand that information will be transferred outside of mainland China and processed by Gartner group companies and other legitimate processing parties and (2) to be contacted by Gartner group\\ncompanies via internet, mobile/telephone and email, for the purposes of sales, marketing and research.\\n Please provide the consent below\\nI have read, understood and accepted Gartner\\nSeparate Consent Letter\\n, whereby I agree (1) to provide Gartner with my personal information, and understand that information will be transferred outside of mainland China and processed by Gartner group companies and other legitimate processing parties and (2) to be contacted by Gartner group\\ncompanies via internet, mobile/telephone and email, for the purposes of sales, marketing and research.\\n The critical technologies that fall into this category include the following:\\nAI simulation is the combined application of AI and simulation technologies to jointly develop AI agents and the simulated environments in which they can be trained, tested and sometimes deployed.\\n Get Exclusive Content\\nSubscribe to the Latest Insight\\nBy clicking the \"Continue\" button, you are agreeing to the\\nGartner Terms of Use\\nand\\nPrivacy Policy.\\n Listen now:\\xa0The AI Hype Cycle 2023: New Technologies on the Innovation Trigger\\nInnovations that will fuel generative AI advancement\\n“Generative AI exploration is accelerating, thanks to the popularity of stable diffusion, midjourney, ChatGPT and large language models.', \"One of the greatest benefits of AI in educational assessment is its ability to personalize learning, tailoring it to the individual needs and capabilities of each student. ... Instead of using standardized tests that may not fully reflect a student's abilities, AI can design dynamic assessments that adapt based on the student's responses\", 'The Benefits of AI-Enabled Assessments Efficiency and time-saving: AI automates many of the time-consuming tasks involved in assessments, such as grading. Multiple-choice tests can be graded instantly, and even more complex tasks like essays can be evaluated through AI-driven systems that assess content coherence, grammar, and relevance.', \"From researches it is observed that AI helps HEIs to improve quality of education by improving students' final outcomes. Assessment can take multiple forms conferring to the purpose of assessment within the learning environment in the course. It could be diagnostic, formative, summative, or e-assessment. ... Competency-based assessment act as\", 'AI can provide students with continuous assessment and feedback, provide collaborative learning, and apply learning analytics to differentiate the learning process to adapt to the individual needs', 'Implementing timed exams limits the time available for students to consult external sources or use AI-generated content. Ensure that the time allocated is reasonable for the scope of the assessment. Open-book exams with a twist include questions that require higher-order thinking or apply concepts in novel ways. This makes it less advantageous', 'Drawing on our diverse experiences as academics, researchers, psychometricians, teachers, and teacher educators specializing in formative assessment, we examine the pedagogical practices in which teachers provide feedback, facilitate peer- and self-assessments, and support students’ learning, and discuss how existing challenges to each of these may be affected by applications of AI. Thus, although AI can potentially ease the workload of teachers by automating some aspects of formative assessment (e.g., automatising scoring and tracing students’ learning progress), it adds further burden through the need for professional development in its use (Engeness, 2021).', 'Information technologies, particularly artificial intelligence (AI), are revolutionizing modern education. AI algorithms and educational robots are now integral to learning management and training systems, providing support for a wide array of teaching and learning activities (Costa et al., 2017, García et al., 2007).Numerous applications of AI in education (AIED) have emerged.', \"The U.S. Department of Education Office of Educational Technology's new policy report, Artificial Intelligence and the Future of Teaching and Learning: Insights and Recommendations, addresses the clear need for sharing knowledge, engaging educators, and refining technology plans and policies for artificial intelligence (AI) use in education.The report describes AI as a rapidly-advancing set\", 'AI in Education: Innovative Approaches to Assessments for Improved Learning Outcomes | by IntegraSoftware | Medium AI in Education: Innovative Approaches to Assessments for Improved Learning Outcomes Clear learning outcomes align teaching methods and assessment strategies with educational goals, providing a roadmap for both educators and students. Personalized Learning: AI-powered tools adapt to individual student needs, offering customized learning paths and real-time feedback. AI integration can improve assessment effectiveness and fairness by providing real-time feedback, adapting to individual learning needs, and analyzing large datasets for insights. Personalized Learning Experiences: AI customizes educational content and assessment methods to each student’s unique needs, promoting continuous improvement and engagement. The integration of AI in education offers creative possibilities, from personalized learning experiences to real-time feedback and more accurate assessments.', \"As traditional assessment methods face challenges adapting to the digital age's demands, Artificial Intelligence (AI) redefines how we evaluate learning outcomes. ... Development efforts should focus on user-friendly interfaces, ensuring educators and students can easily interact with AI-powered assessment tools. Additionally, research can\", 'By leveraging data on student performance, preferences, and learning styles, machine learning can personalize learning paths, predict areas where students might struggle, and provide educators with valuable insights to improve their instruction. In essence, machine learning in education empowers teachers to personalize learning, identify struggling students early on, and create a more engaging and effective learning environment for all. Educators can ensure ethical use by prioritizing student privacy, staying informed about machine learning applications, advocating for transparent algorithms, and fostering open communication with students, parents, and school administrations.', 'CS 189 Spring 2020. Introduction to Machine LearningFinal ExamThe. xam is open book, open notes, and open web. However, you may not consult or communicate wit. other people (besides your exam proctors).You will submit your answers to the multiple-choice questions through Gradescope via the assignment \"Final Exam - Multiple Choice\"; please']}}\n",
      "{'generate': {'draft': \"## Revolutionizing Education Exams: The Role of Artificial Intelligence in Assessment\\n\\n**Introduction:** \\nEducation is the cornerstone of individual growth and societal progress.  However, traditional assessment methods often fall short of capturing the true breadth and depth of student learning. This essay explores how artificial intelligence (AI) offers a revolutionary approach to education exams, promising more efficient, accurate, and personalized assessments that empower both students and educators.\\n\\n**Current Challenges in Education Exams Assessment:**\\nTraditional exam formats, while seemingly straightforward, are plagued by limitations. Human grading is subjective, prone to bias, and time-consuming. Paper-based exams often suffer from logistical challenges and limited accessibility for diverse learners.  These shortcomings hinder the accurate evaluation of student learning and create a barrier to personalized feedback.\\n\\n**AI-Powered Assessment: Use Cases in Education Exams:**\\nThe advent of AI presents a transformative opportunity to address these challenges. Here's how:\\n\\n* **Automated Grading:** AI algorithms can analyze student responses with remarkable accuracy, freeing up educators from the burden of manual grading. Machine learning models can identify patterns and trends in student work, providing instant feedback that helps students understand their strengths and weaknesses. This not only saves valuable time but also minimizes human error and bias.\\n* **Personalized Assessment:**  AI-powered systems can create customized exams tailored to individual student needs and abilities. By analyzing past performance data, AI algorithms can generate questions that adapt in real-time, ensuring a more engaging and effective learning experience. \\n* **Intelligent Tutoring Systems:** AI-driven tutoring systems offer personalized support to students, providing real-time feedback and guidance on specific areas of difficulty. These systems leverage adaptive learning techniques, tailoring the curriculum and pace based on individual student progress, leading to improved understanding and higher academic performance.\\n\\n**Benefits of AI in Education Exams Assessment:**\\nThe integration of AI into education exams offers a plethora of benefits:\\n\\n* **Increased Efficiency:**  AI automates grading processes, significantly reducing time and effort required for educators. This allows them to focus on providing personalized feedback and addressing individual student needs. \\n* **Improved Accuracy:** AI algorithms minimize human error and bias in assessment, leading to more reliable and objective evaluation of student learning.\\n* **Enhanced Student Experience:**  Personalized assessments and real-time feedback through AI-powered systems create a more engaging and effective learning experience for students, fostering deeper understanding and improved academic performance.\\n\\n**Challenges and Limitations of AI in Education Exams Assessment:**\\nWhile the potential of AI is undeniable, it's crucial to acknowledge its limitations:\\n\\n* **Data Quality and Security:**  The accuracy and effectiveness of AI-powered assessments rely heavily on the quality and security of student data used for training models. Ensuring ethical data collection practices and robust data protection measures are paramount. \\n* **Lack of Human Touch:**  While AI can provide valuable insights, it cannot fully replicate the human touch and empathy that educators bring to the classroom. Maintaining a balance between AI-driven assessments and human interaction is crucial for fostering meaningful learning experiences.\\n* **Ethical Considerations:**  The use of AI in education raises ethical concerns regarding bias and fairness. It's imperative to ensure that AI algorithms are developed and deployed responsibly, minimizing potential biases and promoting equitable access to educational opportunities.\\n\\n**Conclusion:** \\nAI holds immense promise for revolutionizing the way we assess student learning. By embracing its potential while addressing its limitations, we can create a more efficient, accurate, and personalized assessment system that empowers both students and educators.  Collaboration between educators, policymakers, and developers is crucial to harnessing the power of AI in education exams and ensuring a brighter future for all learners. \\n\\n\\n**Note:** This essay provides a framework for your analysis. You can expand on each section with specific examples, case studies, and relevant research findings to create a comprehensive and insightful essay.  \\n\", 'revision_number': 3}}\n"
     ]
    }
   ],
   "source": [
    "thread = {\"configurable\": {\"thread_id\": \"1\"}}\n",
    "for s in graph.stream({\n",
    "    #'task': \"what is the difference between langchain and langsmith\",\n",
    "    'task': \"Write an Assay on AI use case in Education Exams assessment?\",\n",
    "    \n",
    "    \"max_revisions\": 2,\n",
    "    \"revision_number\": 1,}, thread):\n",
    "    print(s)"
   ]
  },
  {
   "cell_type": "code",
   "execution_count": 27,
   "id": "09dbc307",
   "metadata": {},
   "outputs": [
    {
     "name": "stdout",
     "output_type": "stream",
     "text": [
      "{'task': 'Write an Assay on AI use case in Education Exams assessment?', 'plan': 'Here is a high-level outline for an essay on AI use cases in education exams assessment:\\n\\n**Title:** \"Revolutionizing Education Exams: The Role of Artificial Intelligence in Assessment\"\\n\\n**I. Introduction**\\n\\n* Brief overview of the importance of education and the need for efficient assessment methods\\n* Thesis statement: Artificial Intelligence (AI) has the potential to transform the way we assess student learning, making exams more efficient, accurate, and personalized.\\n\\n**II. Current Challenges in Education Exams Assessment**\\n\\n* Discuss the limitations of traditional assessment methods (e.g., human grading, paper-based exams)\\n* Highlight the issues of bias, subjectivity, and time-consuming grading processes\\n* Introduce the need for innovative solutions to address these challenges\\n\\n**III. AI-Powered Assessment: Use Cases in Education Exams**\\n\\n* **Automated Grading**: Explain how AI can accurately grade exams, freeing up instructors\\' time and reducing bias\\n\\t+ Discuss the use of machine learning algorithms to analyze student responses\\n\\t+ Provide examples of successful implementations (e.g., Gradescope, Turnitin)\\n* **Intelligent Tutoring Systems**: Describe how AI can provide personalized feedback and support to students\\n\\t+ Discuss the use of AI-powered adaptive learning systems to adjust difficulty levels and content\\n\\t+ Provide examples of successful implementations (e.g., DreamBox, Knewton)\\n* **Natural Language Processing (NLP) in Exam Analysis**: Explain how AI-powered NLP can analyze student responses to open-ended questions\\n\\t+ Discuss the use of NLP to identify patterns, sentiment, and meaning in student responses\\n\\t+ Provide examples of successful implementations (e.g., ETS\\'s e-rater)\\n\\n**IV. Benefits of AI-Powered Assessment**\\n\\n* **Increased Efficiency**: Discuss how AI can reduce grading time and effort, allowing instructors to focus on teaching\\n* **Improved Accuracy**: Explain how AI can minimize human error and bias in grading\\n* **Enhanced Student Experience**: Describe how AI-powered assessment can provide immediate feedback and support to students\\n\\n**V. Challenges and Limitations of AI-Powered Assessment**\\n\\n* **Data Quality and Security**: Discuss the importance of ensuring data quality and security in AI-powered assessment systems\\n* **Ethical Considerations**: Address concerns around bias, fairness, and transparency in AI-powered assessment\\n* **Teacher Training and Adoption**: Highlight the need for teacher training and support in adopting AI-powered assessment tools\\n\\n**VI. Conclusion**\\n\\n* Restate the thesis statement\\n* Summarize the benefits and challenges of AI-powered assessment in education exams\\n* Look to the future: How can AI continue to transform education exams and improve student outcomes?\\n\\n**Notes and Instructions:**\\n\\n* Throughout the essay, provide concrete examples and case studies to illustrate the use cases and benefits of AI-powered assessment.\\n* Address potential counterarguments and concerns around AI-powered assessment, such as job replacement and bias.\\n* Use clear and concise language, avoiding technical jargon and ensuring that the essay is accessible to a general audience.\\n* Use transition words and phrases to connect ideas between sections and paragraphs.\\n* Ensure that the essay is well-organized, logical, and easy to follow.', 'draft': \"## Revolutionizing Education Exams: The Role of Artificial Intelligence in Assessment\\n\\n**Introduction:** \\nEducation is the cornerstone of a thriving society, equipping individuals with knowledge and skills necessary for success.  However, traditional assessment methods often fall short of capturing the true depth of student learning. This essay explores how artificial intelligence (AI) offers a revolutionary approach to education exams, promising more efficient, accurate, and personalized assessments. \\n\\n**Current Challenges in Education Exams Assessment:**\\nTraditional exam formats, while providing a snapshot of knowledge, suffer from inherent limitations. Human grading is prone to subjectivity, bias, and inconsistencies, leading to time-consuming processes and potential inaccuracies. Paper-based exams are susceptible to errors, logistical challenges, and limited accessibility for students with disabilities.  These shortcomings highlight the urgent need for innovative solutions that can accurately assess student learning in a timely and equitable manner.\\n\\n**AI-Powered Assessment: Use Cases in Education Exams:**\\nArtificial intelligence is poised to transform education exams by addressing these challenges head-on. \\n\\n* **Automated Grading**: AI algorithms, powered by machine learning, can analyze student responses with remarkable accuracy, freeing up instructors from tedious grading tasks. This allows for a faster turnaround time and reduces the risk of human error or bias in assessment.  Platforms like Gradescope and Turnitin are already demonstrating successful implementations of automated grading systems, streamlining the process and improving efficiency.\\n* **Intelligent Tutoring Systems**: AI-powered adaptive learning systems can provide personalized feedback and support to students based on their individual needs and progress. These systems adjust difficulty levels and content in real-time, ensuring that each student receives tailored instruction and challenges.  Examples like DreamBox and Knewton showcase the potential of intelligent tutoring systems to enhance student engagement and learning outcomes.\\n* **Natural Language Processing (NLP) in Exam Analysis**: AI-powered NLP can analyze open-ended exam questions, going beyond simple factual recall. This allows for deeper understanding of student responses, identifying patterns, sentiment, and meaning behind their answers.  The ETS's e-rater is a prime example of how NLP can be used to assess writing skills and provide valuable feedback on student essays.\\n\\n**Benefits of AI-Powered Assessment:**\\nAI-powered assessment offers numerous benefits for both students and educators:\\n\\n* **Increased Efficiency**: Automated grading frees up instructors' time, allowing them to focus on teaching and providing personalized support to students. \\n* **Improved Accuracy**: AI minimizes human error and bias in grading, leading to more reliable assessments of student learning.\\n* **Enhanced Student Experience**: Immediate feedback and personalized support through AI-powered systems can significantly improve student engagement and understanding.\\n\\n**Challenges and Limitations of AI-Powered Assessment:**\\nWhile promising, the implementation of AI in education exams faces certain challenges:\\n\\n* **Data Quality and Security**: Ensuring data quality and security is crucial for reliable AI-powered assessments.  Robust data management practices are essential to prevent bias and ensure ethical use of student information. \\n* **Ethical Considerations**: Addressing concerns around bias, fairness, and transparency in AI-powered assessment is critical.  Developing clear guidelines and protocols for responsible AI implementation will be key to ensuring equitable access and unbiased results.\\n* **Teacher Training and Adoption**: Equipping educators with the necessary training and support to effectively utilize AI-powered tools is crucial for successful adoption.  Providing comprehensive resources and professional development opportunities will ensure teachers can leverage these technologies to their full potential.\\n\\n**Conclusion:** \\nAI has the potential to revolutionize education exams, offering a more efficient, accurate, and personalized approach to assessing student learning. By addressing current challenges in assessment methods, AI-powered tools can empower educators to focus on teaching and provide students with the support they need to succeed.  As we continue to explore the possibilities of AI in education, it is crucial to address ethical considerations and ensure responsible implementation for a brighter future of learning. \\n\\n\\nThis essay provides a comprehensive overview of the role of AI in education exams assessment, highlighting its potential benefits and challenges. It emphasizes the importance of addressing ethical concerns and ensuring equitable access to these technologies for all students.  By embracing this transformative technology, we can create a more efficient, accurate, and personalized approach to assessing student learning and fostering a brighter future for education. \\n\", 'critique': '**Grade: B+ (87%)**\\n\\n**Strengths:**\\n\\n1. Clear and concise thesis statement that sets the tone for the essay.\\n2. Well-structured and organized essay with distinct sections that flow logically.\\n3. Effective use of transitional phrases and sentences to connect ideas between paragraphs.\\n4. The writer provides a good balance of general information and specific examples to support their arguments.\\n5. The essay addresses the challenges and limitations of AI-powered assessment, demonstrating a nuanced understanding of the topic.\\n\\n**Weaknesses and Recommendations:**\\n\\n1. **Length:** The essay is a bit short, with some sections feeling rushed. Consider expanding each section to provide more depth and detail. Aim for a minimum of 1,000 words.\\n2. **Depth:** While the writer provides some examples, they could be more detailed and specific. Incorporate more case studies, research findings, and expert opinions to add credibility and depth to the essay.\\n3. **Style:** The writing is clear, but it\\'s often too formal and lacks a conversational tone. Consider using more varied sentence structures and rhetorical devices to engage the reader.\\n4. **Transitions:** While the writer uses transitional phrases, they could be more effective in connecting ideas between paragraphs. Consider using more nuanced transitions that show the relationships between ideas.\\n5. **Supporting Evidence:** While the writer provides some examples, they could be more effectively integrated into the essay. Consider using more quotes, statistics, and research findings to support arguments.\\n6. **Counterarguments:** The essay could benefit from a more nuanced discussion of counterarguments. Consider addressing potential criticisms of AI-powered assessment and responding to them thoughtfully.\\n7. **Conclusion:** The conclusion feels a bit abrupt and doesn\\'t fully summarize the main points. Consider rewriting the conclusion to provide a more satisfying conclusion to the essay.\\n\\n**Specific Recommendations:**\\n\\n* In the \"Current Challenges in Education Exams Assessment\" section, consider providing more specific examples of the limitations of traditional assessment methods. This could include statistics on the time spent grading, error rates, and accessibility issues.\\n* In the \"AI-Powered Assessment: Use Cases in Education Exams\" section, consider providing more detailed examples of each use case. For instance, you could describe a specific open-ended question that AI could analyze using NLP techniques.\\n* In the \"Benefits of AI-Powered Assessment\" section, consider providing more concrete examples of how AI-powered assessment has improved student outcomes in specific educational settings.\\n* In the \"Challenges and Limitations of AI-Powered Assessment\" section, consider providing more specific examples of data quality and security issues, as well as potential biases in AI algorithms.\\n\\n**Additional Resources:**\\n\\n* Consider consulting research articles and studies on AI-powered assessment in education to add more depth and credibility to the essay.\\n* Look into case studies of educational institutions that have successfully implemented AI-powered assessment tools to provide more concrete examples.\\n* Consult experts in the field of education and AI to gain more insights and perspectives on the topic.\\n\\nBy addressing these weaknesses and incorporating more depth, detail, and nuance, the essay has the potential to be even stronger and more effective in making a compelling argument for the role of AI in education exams.', 'content': ['AI agents are more than chatbots or content generators; they can take action, complete tasks and drive real-world results. To better automate and enhance business operations, you can use AI agents to iteratively prompt language models with revised context from previous outputs, mirroring and accelerating human processes. The AI agents analyze data from multiple sources, including customer interactions, inventory and market trends, to make real-time decisions. Key first steps for business leaders looking to adopt AI agents are: This helps validate that your pilot projects are resulting in outcomes aligned with your business objectives before you scale AI agents across broader functions. Overall, my advice to business leaders is simple: Start exploring AI agents now.', 'Beyond Bots: How AI Agents Are Driving the Next Wave of Enterprise Automation Unlike previous generations of software that primarily addressed low-level, sequential tasks that could be robotically executed, new cognitive architectures enable agents to dynamically automate end-to-end processes. Moreover, legacy RPA and iPaaS solutions continue to be handcuffed to their deterministic architectures—even when they try to incorporate LLMs. Today, both UiPath’s AI solution Autopilot and Zapier’s AI Actions only offer LLMs for sub-agentic design patterns like (1) text-to-action, or (2) nodes for semantic search, synthesis, or one-shot generation. That being said, most enterprise agents use an “agents on rails” architecture, which requires agents to be grounded in a workflow-specific set of predefined actions, business context, and guardrails for each new process.', 'In the world of marketing, AI agents are responsible for managing everything from generating content to analyzing campaign performance. Example: A digital agency uses AI agents to manage and optimize Google Ads campaigns, tweaking bids and strategies based on real-time performance. Managing a supply chain is all about timing and efficiency, and AI agents help make that process more streamlined. Example: A content marketing agency uses AI agents to generate SEO-friendly blog posts for clients, allowing them to scale production without sacrificing quality. From marketing and supply chain management to customer service and fraud detection, the impact of AI agents is profound. With Integrail’s multi-agent platform, businesses can unlock the full potential of AI, automating even the most complex workflows to improve both productivity and performance. ai (3)', 'Learn how companies, governments, and startups are using generative AI agents to enhance productivity, automate processes, and modernize customer experience. Explore real-world examples of AI agents in customer service, employee empowerment, code creation, data analysis, cybersecurity, and creative ideation and production.', 'In summary . AI agents have caused a revolution in the business world, offering groundbreaking solutions to boost productivity and gain an edge over competitors.These intelligent systems have a significant impact on customer interactions, operational efficiency, and decision-making processes.By using AI for business, companies can streamline operations, offer personalised experiences, and make', '5 Benefits You Can Expect from Using AI in Business. 1. Increases in Efficiency and Productivity. AI is well-known for its ability to enhance efficiency and productivity in the workplace by: Automating repetitive tasks. Streamlining workflows. Providing data-driven insights.', 'The adoption of AI agents in enterprises is gaining momentum, driven by their potential to streamline operations and enhance decision-making processes. To successfully integrate AI solutions into', 'Actionable Intelligence Delivered. Momentum AI is designed specifically to mobilize your sales and customer conversations to automate your CRM and follow-up tasks so that you can spend more time effectively selling and building customer relationships. This guide will cover the major tools provided as part of Call Summaries and how to use them', '1. Start with a Clear Vision. One of the key factors to ensure AI initiatives find adoption is to start with building a clear, strategic vision. AI-ready organizations do not think of AI as a plug-and-play solution; rather, they understand that its implementation requires a deep knowledge of identifying the right opportunities where it can add', \"AI adoption requires overcoming inertia and adjustment costs. Ultimately, the biggest barriers to AI adoption may be inertia and adjustment costs. This was true with the internet, word processors, and even double-entry bookkeeping. Both factors exist for good reasons, McElheran said, and shouldn't be discounted. Related Articles.\", 'Here are some important current AI trends to look out for in the coming year. Reality check: more realistic expectations. Multimodal AI. Small (er) language models and open source advancements. GPU shortages and cloud costs. Model optimization is getting more accessible. Customized local models and data pipelines.', 'jsbacContactjsbacContact\\n8 a.m. – 7 p.m. ET\\n8 a.m.\\xa0– 5 p.m. GMT\\nMonday through Friday\\nPlease provide the consent below\\nI have read, understood and accepted Gartner\\nSeparate Consent Letter\\n, whereby I agree (1) to provide Gartner with my personal information, and understand that information will be transferred outside of mainland China and processed by Gartner group companies and other legitimate processing parties and (2) to be contacted by Gartner group\\ncompanies via internet, mobile/telephone and email, for the purposes of sales, marketing and research.\\n Please provide the consent below\\nI have read, understood and accepted Gartner\\nSeparate Consent Letter\\n, whereby I agree (1) to provide Gartner with my personal information, and understand that information will be transferred outside of mainland China and processed by Gartner group companies and other legitimate processing parties and (2) to be contacted by Gartner group\\ncompanies via internet, mobile/telephone and email, for the purposes of sales, marketing and research.\\n The critical technologies that fall into this category include the following:\\nAI simulation is the combined application of AI and simulation technologies to jointly develop AI agents and the simulated environments in which they can be trained, tested and sometimes deployed.\\n Get Exclusive Content\\nSubscribe to the Latest Insight\\nBy clicking the \"Continue\" button, you are agreeing to the\\nGartner Terms of Use\\nand\\nPrivacy Policy.\\n Listen now:\\xa0The AI Hype Cycle 2023: New Technologies on the Innovation Trigger\\nInnovations that will fuel generative AI advancement\\n“Generative AI exploration is accelerating, thanks to the popularity of stable diffusion, midjourney, ChatGPT and large language models.', \"One of the greatest benefits of AI in educational assessment is its ability to personalize learning, tailoring it to the individual needs and capabilities of each student. ... Instead of using standardized tests that may not fully reflect a student's abilities, AI can design dynamic assessments that adapt based on the student's responses\", 'The Benefits of AI-Enabled Assessments Efficiency and time-saving: AI automates many of the time-consuming tasks involved in assessments, such as grading. Multiple-choice tests can be graded instantly, and even more complex tasks like essays can be evaluated through AI-driven systems that assess content coherence, grammar, and relevance.', \"From researches it is observed that AI helps HEIs to improve quality of education by improving students' final outcomes. Assessment can take multiple forms conferring to the purpose of assessment within the learning environment in the course. It could be diagnostic, formative, summative, or e-assessment. ... Competency-based assessment act as\", 'AI can provide students with continuous assessment and feedback, provide collaborative learning, and apply learning analytics to differentiate the learning process to adapt to the individual needs', 'Implementing timed exams limits the time available for students to consult external sources or use AI-generated content. Ensure that the time allocated is reasonable for the scope of the assessment. Open-book exams with a twist include questions that require higher-order thinking or apply concepts in novel ways. This makes it less advantageous', 'Drawing on our diverse experiences as academics, researchers, psychometricians, teachers, and teacher educators specializing in formative assessment, we examine the pedagogical practices in which teachers provide feedback, facilitate peer- and self-assessments, and support students’ learning, and discuss how existing challenges to each of these may be affected by applications of AI. Thus, although AI can potentially ease the workload of teachers by automating some aspects of formative assessment (e.g., automatising scoring and tracing students’ learning progress), it adds further burden through the need for professional development in its use (Engeness, 2021).', 'Information technologies, particularly artificial intelligence (AI), are revolutionizing modern education. AI algorithms and educational robots are now integral to learning management and training systems, providing support for a wide array of teaching and learning activities (Costa et al., 2017, García et al., 2007).Numerous applications of AI in education (AIED) have emerged.', \"The U.S. Department of Education Office of Educational Technology's new policy report, Artificial Intelligence and the Future of Teaching and Learning: Insights and Recommendations, addresses the clear need for sharing knowledge, engaging educators, and refining technology plans and policies for artificial intelligence (AI) use in education.The report describes AI as a rapidly-advancing set\", 'AI in Education: Innovative Approaches to Assessments for Improved Learning Outcomes | by IntegraSoftware | Medium AI in Education: Innovative Approaches to Assessments for Improved Learning Outcomes Clear learning outcomes align teaching methods and assessment strategies with educational goals, providing a roadmap for both educators and students. Personalized Learning: AI-powered tools adapt to individual student needs, offering customized learning paths and real-time feedback. AI integration can improve assessment effectiveness and fairness by providing real-time feedback, adapting to individual learning needs, and analyzing large datasets for insights. Personalized Learning Experiences: AI customizes educational content and assessment methods to each student’s unique needs, promoting continuous improvement and engagement. The integration of AI in education offers creative possibilities, from personalized learning experiences to real-time feedback and more accurate assessments.', \"As traditional assessment methods face challenges adapting to the digital age's demands, Artificial Intelligence (AI) redefines how we evaluate learning outcomes. ... Development efforts should focus on user-friendly interfaces, ensuring educators and students can easily interact with AI-powered assessment tools. Additionally, research can\", 'By leveraging data on student performance, preferences, and learning styles, machine learning can personalize learning paths, predict areas where students might struggle, and provide educators with valuable insights to improve their instruction. In essence, machine learning in education empowers teachers to personalize learning, identify struggling students early on, and create a more engaging and effective learning environment for all. Educators can ensure ethical use by prioritizing student privacy, staying informed about machine learning applications, advocating for transparent algorithms, and fostering open communication with students, parents, and school administrations.', 'CS 189 Spring 2020. Introduction to Machine LearningFinal ExamThe. xam is open book, open notes, and open web. However, you may not consult or communicate wit. other people (besides your exam proctors).You will submit your answers to the multiple-choice questions through Gradescope via the assignment \"Final Exam - Multiple Choice\"; please', \"One of the greatest benefits of AI in educational assessment is its ability to personalize learning, tailoring it to the individual needs and capabilities of each student. ... Instead of using standardized tests that may not fully reflect a student's abilities, AI can design dynamic assessments that adapt based on the student's responses\", 'The Benefits of AI-Enabled Assessments Efficiency and time-saving: AI automates many of the time-consuming tasks involved in assessments, such as grading. Multiple-choice tests can be graded instantly, and even more complex tasks like essays can be evaluated through AI-driven systems that assess content coherence, grammar, and relevance.', \"From researches it is observed that AI helps HEIs to improve quality of education by improving students' final outcomes. Assessment can take multiple forms conferring to the purpose of assessment within the learning environment in the course. It could be diagnostic, formative, summative, or e-assessment. ... Competency-based assessment act as\", 'How can business schools use artificial intelligence (AI) to improve the assessment process in a way that boosts student learning? Too often, said Tudela, schools that have introduced digital tools to the classroom have focused too closely on “how do we stop, limit, prevent, or detect when students are doing bad things?” He suggested a better question: How can schools use AI in assessments—and allow students to use AI in coursework—while removing “the value that is gained from cheating activities?” Means hopes that improved AI learning tools allow schools to solve “Bloom’s 2 sigma problem,” which demonstrates that students who receive personalized tutoring outperform peers educated in the classroom by two standard deviations.', 'Implementing timed exams limits the time available for students to consult external sources or use AI-generated content. Ensure that the time allocated is reasonable for the scope of the assessment. Open-book exams with a twist include questions that require higher-order thinking or apply concepts in novel ways. This makes it less advantageous', 'Drawing on our diverse experiences as academics, researchers, psychometricians, teachers, and teacher educators specializing in formative assessment, we examine the pedagogical practices in which teachers provide feedback, facilitate peer- and self-assessments, and support students’ learning, and discuss how existing challenges to each of these may be affected by applications of AI. Thus, although AI can potentially ease the workload of teachers by automating some aspects of formative assessment (e.g., automatising scoring and tracing students’ learning progress), it adds further burden through the need for professional development in its use (Engeness, 2021).', 'Educational assessment or educational evaluation [1] is the systematic process of documenting and using empirical data on the knowledge, skill, attitudes, aptitude and beliefs to refine programs and improve student learning. [2] Assessment data can be obtained by examining student work directly to assess the achievement of learning outcomes or it is based on data from which one can make', 'Education makes use of many types of assessment. While your mind may jump to the word test when you hear assessment, this is not always the case. Tests are one type of assessment, but they reach far beyond this one method. Assessments can be a great indicator of student performance, understanding, and mastery. These measures guide teaching', 'As we stand at the crossroads of technology and education, AI-powered tools offer a glimpse into the future of eLearning assessments. Their advantages—efficiency, personalization, and integrity—are poised to redefine how we measure and evaluate knowledge. While challenges and ethical considerations persist, the ongoing collaboration between', 'AI-powered technologies, such as personalized learning algorithms and adaptive assessment tools, provide solutions by customizing educational experiences for each student, increasing engagement', 'Acknowledgments\\nAbby Javurek, Northwest Evaluation Association\\nÂ\\xa0Alina Von Davier, Duolingo\\nAshley Eden, New Meridian\\nBethany Little, Education Counsel\\nEdward Metz, Institute of Education Sciences\\nElda Garcia, National Association of Testing Professionals\\nJack Buckley, Robox and the American Institutes for Research\\nÂ\\xa0James Pellegrino, University of Illinois at Chicago\\nJohn Whitmer, Institute of Education Sciences\\nKrasimir Staykov, Student Voice\\nKristopher John, New Meridian\\nLaura Slover, Centerpoint Education Solutions\\nMargaret Hor, Centerpoint Education Solutions\\nMark DeLoura, Games and Learning Inc.\\nMark Jutabha, WestEd\\nMichael Rothman, independent consultant formerly of Eskolta School Research DesignÂ\\nMichael Watson, New ClassroomsÂ\\nMohan Sivaloganathan, Our Turn\\nNeil Heffernan, Worcester Polytechnic Institute\\nOsonde Osoba, RAND Corporation\\nÂ\\xa0Roxanne Garza, UnidosUS\\nÂ\\xa0Sandi Jacobs, Sean Worley and Scott Palmer of Education Counsel\\nÂ\\xa0Terra Wallin, The Education Trust\\nÂ\\xa0Tim Langan, National Parents Union\\nÂ\\xa0Vivett Dukes, National Parents Union\\nEndnotes\\nExpand\\nThe positions of American Progress, and our policy experts, are independent, and the findings and conclusions presented are those of American Progress alone. These systems are the backbone of tools such as Siri and Alexa, and experts such as John Gabrieli, a neuroscientist at the Massachusetts Institute of Technology, and Yaacov Petscher, a professor at Florida State University, have been exploring ways for voice-based AI tools to be used to diagnose reading issues.13\\nThe benefits and challenges of AI\\nArtificial intelligence can help students learn better and faster when paired with high-quality learning materials and instruction. Center for American Progress\\nDonate\\nSee all topics\\nSee all states\\nSee all topics\\nSearch\\nSearch\\nCenter for American Progress\\nFuture of Testing in Education: Artificial Intelligence\\nTechnology and artificial intelligence can vastly improve the types of assessments teachers use to guide students in their learning.\\n This approach makes testing more ubiquitous and useful for teachers because the methods are woven into the fabric of learning and are invisible to students.3\\nStay informed\\non K-12 Education Policy\\nSign Up\\nThis site is protected by reCAPTCHA and the Google\\tPrivacy Policy and Terms of Service apply.\\n Nov 22, 2023\\nLeo Banks\\nNov 30, 2023\\nMolly Weston Williamson\\nNov 17, 2023\\nPatrick Gaspard, \\t\\t\\t\\t\\t\\t\\t\\t\\t\\t\\tAllison McManus\\nNov 27, 2023\\nDevon Ombres\\nCenter for American Progress\\nThe Center for American Progress is an independent nonpartisan policy institute that is dedicated to improving the lives of all Americans through bold, progressive ideas, as well as strong leadership and concerted action.', 'Best Practices For Incorporating AI Into The Classroom\\nBest practices for incorporating AI into the classroom can help teachers effectively integrate this technology into their teaching practices and provide students with a more personalized and engaging learning experience. However, this integration of technology into the classroom also presents a range of challenges, such as data privacy and ethics, the need for ongoing training and support, and the potential for unequal access to technology and digital skills.\\n This can help students become responsible and informed digital citizens who are equipped to navigate the challenges and opportunities of the digital age.\\nConclusion\\nIn conclusion, incorporating Artificial Intelligence into the classroom presents a unique opportunity for teachers and students alike. Benefits Of Incorporating AI Into The Classroom\\nOne of the key benefits of incorporating AI into the classroom is the ability to provide students with a more personalized learning experience. Many schools and universities do not have the resources to purchase and maintain the technology they need to incorporate AI into the classroom, and they may need to seek external funding or partnerships to support their efforts.'], 'revision_number': 3, 'max_revisions': 2}\n"
     ]
    }
   ],
   "source": [
    "thread = {\"configurable\": {\"thread_id\": \"1\"}}\n",
    "\n",
    "result = graph.invoke({\n",
    "    #'task': \"what is the difference between langchain and langsmith\",\n",
    "    'task': \"Write an Assay on AI use case in Education Exams assessment?\",\n",
    "    \"max_revisions\": 2,\n",
    "    \"revision_number\": 1,}, thread)\n",
    "\n",
    "print(result)"
   ]
  },
  {
   "cell_type": "code",
   "execution_count": 33,
   "id": "aa7da997",
   "metadata": {},
   "outputs": [
    {
     "name": "stdout",
     "output_type": "stream",
     "text": [
      "['AI agents are more than chatbots or content generators; they can take action, complete tasks and drive real-world '\n",
      " 'results. To better automate and enhance business operations, you can use AI agents to iteratively prompt language '\n",
      " 'models with revised context from previous outputs, mirroring and accelerating human processes. The AI agents analyze '\n",
      " 'data from multiple sources, including customer interactions, inventory and market trends, to make real-time '\n",
      " 'decisions. Key first steps for business leaders looking to adopt AI agents are: This helps validate that your pilot '\n",
      " 'projects are resulting in outcomes aligned with your business objectives before you scale AI agents across broader '\n",
      " 'functions. Overall, my advice to business leaders is simple: Start exploring AI agents now.',\n",
      " 'Beyond Bots: How AI Agents Are Driving the Next Wave of Enterprise Automation Unlike previous generations of '\n",
      " 'software that primarily addressed low-level, sequential tasks that could be robotically executed, new cognitive '\n",
      " 'architectures enable agents to dynamically automate end-to-end processes. Moreover, legacy RPA and iPaaS solutions '\n",
      " 'continue to be handcuffed to their deterministic architectures—even when they try to incorporate LLMs. Today, both '\n",
      " 'UiPath’s AI solution Autopilot and Zapier’s AI Actions only offer LLMs for sub-agentic design patterns like (1) '\n",
      " 'text-to-action, or (2) nodes for semantic search, synthesis, or one-shot generation. That being said, most '\n",
      " 'enterprise agents use an “agents on rails” architecture, which requires agents to be grounded in a workflow-specific '\n",
      " 'set of predefined actions, business context, and guardrails for each new process.',\n",
      " 'In the world of marketing, AI agents are responsible for managing everything from generating content to analyzing '\n",
      " 'campaign performance. Example: A digital agency uses AI agents to manage and optimize Google Ads campaigns, tweaking '\n",
      " 'bids and strategies based on real-time performance. Managing a supply chain is all about timing and efficiency, and '\n",
      " 'AI agents help make that process more streamlined. Example: A content marketing agency uses AI agents to generate '\n",
      " 'SEO-friendly blog posts for clients, allowing them to scale production without sacrificing quality. From marketing '\n",
      " 'and supply chain management to customer service and fraud detection, the impact of AI agents is profound. With '\n",
      " 'Integrail’s multi-agent platform, businesses can unlock the full potential of AI, automating even the most complex '\n",
      " 'workflows to improve both productivity and performance. ai (3)',\n",
      " 'Learn how companies, governments, and startups are using generative AI agents to enhance productivity, automate '\n",
      " 'processes, and modernize customer experience. Explore real-world examples of AI agents in customer service, employee '\n",
      " 'empowerment, code creation, data analysis, cybersecurity, and creative ideation and production.',\n",
      " 'In summary . AI agents have caused a revolution in the business world, offering groundbreaking solutions to boost '\n",
      " 'productivity and gain an edge over competitors.These intelligent systems have a significant impact on customer '\n",
      " 'interactions, operational efficiency, and decision-making processes.By using AI for business, companies can '\n",
      " 'streamline operations, offer personalised experiences, and make',\n",
      " '5 Benefits You Can Expect from Using AI in Business. 1. Increases in Efficiency and Productivity. AI is well-known '\n",
      " 'for its ability to enhance efficiency and productivity in the workplace by: Automating repetitive tasks. '\n",
      " 'Streamlining workflows. Providing data-driven insights.',\n",
      " 'The adoption of AI agents in enterprises is gaining momentum, driven by their potential to streamline operations and '\n",
      " 'enhance decision-making processes. To successfully integrate AI solutions into',\n",
      " 'Actionable Intelligence Delivered. Momentum AI is designed specifically to mobilize your sales and customer '\n",
      " 'conversations to automate your CRM and follow-up tasks so that you can spend more time effectively selling and '\n",
      " 'building customer relationships. This guide will cover the major tools provided as part of Call Summaries and how to '\n",
      " 'use them',\n",
      " '1. Start with a Clear Vision. One of the key factors to ensure AI initiatives find adoption is to start with '\n",
      " 'building a clear, strategic vision. AI-ready organizations do not think of AI as a plug-and-play solution; rather, '\n",
      " 'they understand that its implementation requires a deep knowledge of identifying the right opportunities where it '\n",
      " 'can add',\n",
      " 'AI adoption requires overcoming inertia and adjustment costs. Ultimately, the biggest barriers to AI adoption may be '\n",
      " 'inertia and adjustment costs. This was true with the internet, word processors, and even double-entry bookkeeping. '\n",
      " \"Both factors exist for good reasons, McElheran said, and shouldn't be discounted. Related Articles.\",\n",
      " 'Here are some important current AI trends to look out for in the coming year. Reality check: more realistic '\n",
      " 'expectations. Multimodal AI. Small (er) language models and open source advancements. GPU shortages and cloud costs. '\n",
      " 'Model optimization is getting more accessible. Customized local models and data pipelines.',\n",
      " 'jsbacContactjsbacContact\\n'\n",
      " '8 a.m. – 7 p.m. ET\\n'\n",
      " '8 a.m.\\xa0– 5 p.m. GMT\\n'\n",
      " 'Monday through Friday\\n'\n",
      " 'Please provide the consent below\\n'\n",
      " 'I have read, understood and accepted Gartner\\n'\n",
      " 'Separate Consent Letter\\n'\n",
      " ', whereby I agree (1) to provide Gartner with my personal information, and understand that information will be '\n",
      " 'transferred outside of mainland China and processed by Gartner group companies and other legitimate processing '\n",
      " 'parties and (2) to be contacted by Gartner group\\n'\n",
      " 'companies via internet, mobile/telephone and email, for the purposes of sales, marketing and research.\\n'\n",
      " ' Please provide the consent below\\n'\n",
      " 'I have read, understood and accepted Gartner\\n'\n",
      " 'Separate Consent Letter\\n'\n",
      " ', whereby I agree (1) to provide Gartner with my personal information, and understand that information will be '\n",
      " 'transferred outside of mainland China and processed by Gartner group companies and other legitimate processing '\n",
      " 'parties and (2) to be contacted by Gartner group\\n'\n",
      " 'companies via internet, mobile/telephone and email, for the purposes of sales, marketing and research.\\n'\n",
      " ' The critical technologies that fall into this category include the following:\\n'\n",
      " 'AI simulation is the combined application of AI and simulation technologies to jointly develop AI agents and the '\n",
      " 'simulated environments in which they can be trained, tested and sometimes deployed.\\n'\n",
      " ' Get Exclusive Content\\n'\n",
      " 'Subscribe to the Latest Insight\\n'\n",
      " 'By clicking the \"Continue\" button, you are agreeing to the\\n'\n",
      " 'Gartner Terms of Use\\n'\n",
      " 'and\\n'\n",
      " 'Privacy Policy.\\n'\n",
      " ' Listen now:\\xa0The AI Hype Cycle 2023: New Technologies on the Innovation Trigger\\n'\n",
      " 'Innovations that will fuel generative AI advancement\\n'\n",
      " '“Generative AI exploration is accelerating, thanks to the popularity of stable diffusion, midjourney, ChatGPT and '\n",
      " 'large language models.',\n",
      " 'One of the greatest benefits of AI in educational assessment is its ability to personalize learning, tailoring it to '\n",
      " 'the individual needs and capabilities of each student. ... Instead of using standardized tests that may not fully '\n",
      " \"reflect a student's abilities, AI can design dynamic assessments that adapt based on the student's responses\",\n",
      " 'The Benefits of AI-Enabled Assessments Efficiency and time-saving: AI automates many of the time-consuming tasks '\n",
      " 'involved in assessments, such as grading. Multiple-choice tests can be graded instantly, and even more complex tasks '\n",
      " 'like essays can be evaluated through AI-driven systems that assess content coherence, grammar, and relevance.',\n",
      " \"From researches it is observed that AI helps HEIs to improve quality of education by improving students' final \"\n",
      " 'outcomes. Assessment can take multiple forms conferring to the purpose of assessment within the learning environment '\n",
      " 'in the course. It could be diagnostic, formative, summative, or e-assessment. ... Competency-based assessment act as',\n",
      " 'AI can provide students with continuous assessment and feedback, provide collaborative learning, and apply learning '\n",
      " 'analytics to differentiate the learning process to adapt to the individual needs',\n",
      " 'Implementing timed exams limits the time available for students to consult external sources or use AI-generated '\n",
      " 'content. Ensure that the time allocated is reasonable for the scope of the assessment. Open-book exams with a twist '\n",
      " 'include questions that require higher-order thinking or apply concepts in novel ways. This makes it less '\n",
      " 'advantageous',\n",
      " 'Drawing on our diverse experiences as academics, researchers, psychometricians, teachers, and teacher educators '\n",
      " 'specializing in formative assessment, we examine the pedagogical practices in which teachers provide feedback, '\n",
      " 'facilitate peer- and self-assessments, and support students’ learning, and discuss how existing challenges to each '\n",
      " 'of these may be affected by applications of AI. Thus, although AI can potentially ease the workload of teachers by '\n",
      " 'automating some aspects of formative assessment (e.g., automatising scoring and tracing students’ learning '\n",
      " 'progress), it adds further burden through the need for professional development in its use (Engeness, 2021).',\n",
      " 'Information technologies, particularly artificial intelligence (AI), are revolutionizing modern education. AI '\n",
      " 'algorithms and educational robots are now integral to learning management and training systems, providing support '\n",
      " 'for a wide array of teaching and learning activities (Costa et al., 2017, García et al., 2007).Numerous applications '\n",
      " 'of AI in education (AIED) have emerged.',\n",
      " \"The U.S. Department of Education Office of Educational Technology's new policy report, Artificial Intelligence and \"\n",
      " 'the Future of Teaching and Learning: Insights and Recommendations, addresses the clear need for sharing knowledge, '\n",
      " 'engaging educators, and refining technology plans and policies for artificial intelligence (AI) use in education.The '\n",
      " 'report describes AI as a rapidly-advancing set',\n",
      " 'AI in Education: Innovative Approaches to Assessments for Improved Learning Outcomes | by IntegraSoftware | Medium '\n",
      " 'AI in Education: Innovative Approaches to Assessments for Improved Learning Outcomes Clear learning outcomes align '\n",
      " 'teaching methods and assessment strategies with educational goals, providing a roadmap for both educators and '\n",
      " 'students. Personalized Learning: AI-powered tools adapt to individual student needs, offering customized learning '\n",
      " 'paths and real-time feedback. AI integration can improve assessment effectiveness and fairness by providing '\n",
      " 'real-time feedback, adapting to individual learning needs, and analyzing large datasets for insights. Personalized '\n",
      " 'Learning Experiences: AI customizes educational content and assessment methods to each student’s unique needs, '\n",
      " 'promoting continuous improvement and engagement. The integration of AI in education offers creative possibilities, '\n",
      " 'from personalized learning experiences to real-time feedback and more accurate assessments.',\n",
      " \"As traditional assessment methods face challenges adapting to the digital age's demands, Artificial Intelligence \"\n",
      " '(AI) redefines how we evaluate learning outcomes. ... Development efforts should focus on user-friendly interfaces, '\n",
      " 'ensuring educators and students can easily interact with AI-powered assessment tools. Additionally, research can',\n",
      " 'By leveraging data on student performance, preferences, and learning styles, machine learning can personalize '\n",
      " 'learning paths, predict areas where students might struggle, and provide educators with valuable insights to improve '\n",
      " 'their instruction. In essence, machine learning in education empowers teachers to personalize learning, identify '\n",
      " 'struggling students early on, and create a more engaging and effective learning environment for all. Educators can '\n",
      " 'ensure ethical use by prioritizing student privacy, staying informed about machine learning applications, advocating '\n",
      " 'for transparent algorithms, and fostering open communication with students, parents, and school administrations.',\n",
      " 'CS 189 Spring 2020. Introduction to Machine LearningFinal ExamThe. xam is open book, open notes, and open web. '\n",
      " 'However, you may not consult or communicate wit. other people (besides your exam proctors).You will submit your '\n",
      " 'answers to the multiple-choice questions through Gradescope via the assignment \"Final Exam - Multiple Choice\"; '\n",
      " 'please',\n",
      " 'One of the greatest benefits of AI in educational assessment is its ability to personalize learning, tailoring it to '\n",
      " 'the individual needs and capabilities of each student. ... Instead of using standardized tests that may not fully '\n",
      " \"reflect a student's abilities, AI can design dynamic assessments that adapt based on the student's responses\",\n",
      " 'The Benefits of AI-Enabled Assessments Efficiency and time-saving: AI automates many of the time-consuming tasks '\n",
      " 'involved in assessments, such as grading. Multiple-choice tests can be graded instantly, and even more complex tasks '\n",
      " 'like essays can be evaluated through AI-driven systems that assess content coherence, grammar, and relevance.',\n",
      " \"From researches it is observed that AI helps HEIs to improve quality of education by improving students' final \"\n",
      " 'outcomes. Assessment can take multiple forms conferring to the purpose of assessment within the learning environment '\n",
      " 'in the course. It could be diagnostic, formative, summative, or e-assessment. ... Competency-based assessment act as',\n",
      " 'How can business schools use artificial intelligence (AI) to improve the assessment process in a way that boosts '\n",
      " 'student learning? Too often, said Tudela, schools that have introduced digital tools to the classroom have focused '\n",
      " 'too closely on “how do we stop, limit, prevent, or detect when students are doing bad things?” He suggested a better '\n",
      " 'question: How can schools use AI in assessments—and allow students to use AI in coursework—while removing “the value '\n",
      " 'that is gained from cheating activities?” Means hopes that improved AI learning tools allow schools to solve '\n",
      " '“Bloom’s 2 sigma problem,” which demonstrates that students who receive personalized tutoring outperform peers '\n",
      " 'educated in the classroom by two standard deviations.',\n",
      " 'Implementing timed exams limits the time available for students to consult external sources or use AI-generated '\n",
      " 'content. Ensure that the time allocated is reasonable for the scope of the assessment. Open-book exams with a twist '\n",
      " 'include questions that require higher-order thinking or apply concepts in novel ways. This makes it less '\n",
      " 'advantageous',\n",
      " 'Drawing on our diverse experiences as academics, researchers, psychometricians, teachers, and teacher educators '\n",
      " 'specializing in formative assessment, we examine the pedagogical practices in which teachers provide feedback, '\n",
      " 'facilitate peer- and self-assessments, and support students’ learning, and discuss how existing challenges to each '\n",
      " 'of these may be affected by applications of AI. Thus, although AI can potentially ease the workload of teachers by '\n",
      " 'automating some aspects of formative assessment (e.g., automatising scoring and tracing students’ learning '\n",
      " 'progress), it adds further burden through the need for professional development in its use (Engeness, 2021).',\n",
      " 'Educational assessment or educational evaluation [1] is the systematic process of documenting and using empirical '\n",
      " 'data on the knowledge, skill, attitudes, aptitude and beliefs to refine programs and improve student learning. [2] '\n",
      " 'Assessment data can be obtained by examining student work directly to assess the achievement of learning outcomes or '\n",
      " 'it is based on data from which one can make',\n",
      " 'Education makes use of many types of assessment. While your mind may jump to the word test when you hear assessment, '\n",
      " 'this is not always the case. Tests are one type of assessment, but they reach far beyond this one method. '\n",
      " 'Assessments can be a great indicator of student performance, understanding, and mastery. These measures guide '\n",
      " 'teaching',\n",
      " 'As we stand at the crossroads of technology and education, AI-powered tools offer a glimpse into the future of '\n",
      " 'eLearning assessments. Their advantages—efficiency, personalization, and integrity—are poised to redefine how we '\n",
      " 'measure and evaluate knowledge. While challenges and ethical considerations persist, the ongoing collaboration '\n",
      " 'between',\n",
      " 'AI-powered technologies, such as personalized learning algorithms and adaptive assessment tools, provide solutions '\n",
      " 'by customizing educational experiences for each student, increasing engagement',\n",
      " 'Acknowledgments\\n'\n",
      " 'Abby Javurek, Northwest Evaluation Association\\n'\n",
      " 'Â\\xa0Alina Von Davier, Duolingo\\n'\n",
      " 'Ashley Eden, New Meridian\\n'\n",
      " 'Bethany Little, Education Counsel\\n'\n",
      " 'Edward Metz, Institute of Education Sciences\\n'\n",
      " 'Elda Garcia, National Association of Testing Professionals\\n'\n",
      " 'Jack Buckley, Robox and the American Institutes for Research\\n'\n",
      " 'Â\\xa0James Pellegrino, University of Illinois at Chicago\\n'\n",
      " 'John Whitmer, Institute of Education Sciences\\n'\n",
      " 'Krasimir Staykov, Student Voice\\n'\n",
      " 'Kristopher John, New Meridian\\n'\n",
      " 'Laura Slover, Centerpoint Education Solutions\\n'\n",
      " 'Margaret Hor, Centerpoint Education Solutions\\n'\n",
      " 'Mark DeLoura, Games and Learning Inc.\\n'\n",
      " 'Mark Jutabha, WestEd\\n'\n",
      " 'Michael Rothman, independent consultant formerly of Eskolta School Research DesignÂ\\n'\n",
      " 'Michael Watson, New ClassroomsÂ\\n'\n",
      " 'Mohan Sivaloganathan, Our Turn\\n'\n",
      " 'Neil Heffernan, Worcester Polytechnic Institute\\n'\n",
      " 'Osonde Osoba, RAND Corporation\\n'\n",
      " 'Â\\xa0Roxanne Garza, UnidosUS\\n'\n",
      " 'Â\\xa0Sandi Jacobs, Sean Worley and Scott Palmer of Education Counsel\\n'\n",
      " 'Â\\xa0Terra Wallin, The Education Trust\\n'\n",
      " 'Â\\xa0Tim Langan, National Parents Union\\n'\n",
      " 'Â\\xa0Vivett Dukes, National Parents Union\\n'\n",
      " 'Endnotes\\n'\n",
      " 'Expand\\n'\n",
      " 'The positions of American Progress, and our policy experts, are independent, and the findings and conclusions '\n",
      " 'presented are those of American Progress alone. These systems are the backbone of tools such as Siri and Alexa, and '\n",
      " 'experts such as John Gabrieli, a neuroscientist at the Massachusetts Institute of Technology, and Yaacov Petscher, a '\n",
      " 'professor at Florida State University, have been exploring ways for voice-based AI tools to be used to diagnose '\n",
      " 'reading issues.13\\n'\n",
      " 'The benefits and challenges of AI\\n'\n",
      " 'Artificial intelligence can help students learn better and faster when paired with high-quality learning materials '\n",
      " 'and instruction. Center for American Progress\\n'\n",
      " 'Donate\\n'\n",
      " 'See all topics\\n'\n",
      " 'See all states\\n'\n",
      " 'See all topics\\n'\n",
      " 'Search\\n'\n",
      " 'Search\\n'\n",
      " 'Center for American Progress\\n'\n",
      " 'Future of Testing in Education: Artificial Intelligence\\n'\n",
      " 'Technology and artificial intelligence can vastly improve the types of assessments teachers use to guide students in '\n",
      " 'their learning.\\n'\n",
      " ' This approach makes testing more ubiquitous and useful for teachers because the methods are woven into the fabric '\n",
      " 'of learning and are invisible to students.3\\n'\n",
      " 'Stay informed\\n'\n",
      " 'on K-12 Education Policy\\n'\n",
      " 'Sign Up\\n'\n",
      " 'This site is protected by reCAPTCHA and the Google\\tPrivacy Policy and Terms of Service apply.\\n'\n",
      " ' Nov 22, 2023\\n'\n",
      " 'Leo Banks\\n'\n",
      " 'Nov 30, 2023\\n'\n",
      " 'Molly Weston Williamson\\n'\n",
      " 'Nov 17, 2023\\n'\n",
      " 'Patrick Gaspard, \\t\\t\\t\\t\\t\\t\\t\\t\\t\\t\\tAllison McManus\\n'\n",
      " 'Nov 27, 2023\\n'\n",
      " 'Devon Ombres\\n'\n",
      " 'Center for American Progress\\n'\n",
      " 'The Center for American Progress is an independent nonpartisan policy institute that is dedicated to improving the '\n",
      " 'lives of all Americans through bold, progressive ideas, as well as strong leadership and concerted action.',\n",
      " 'Best Practices For Incorporating AI Into The Classroom\\n'\n",
      " 'Best practices for incorporating AI into the classroom can help teachers effectively integrate this technology into '\n",
      " 'their teaching practices and provide students with a more personalized and engaging learning experience. However, '\n",
      " 'this integration of technology into the classroom also presents a range of challenges, such as data privacy and '\n",
      " 'ethics, the need for ongoing training and support, and the potential for unequal access to technology and digital '\n",
      " 'skills.\\n'\n",
      " ' This can help students become responsible and informed digital citizens who are equipped to navigate the challenges '\n",
      " 'and opportunities of the digital age.\\n'\n",
      " 'Conclusion\\n'\n",
      " 'In conclusion, incorporating Artificial Intelligence into the classroom presents a unique opportunity for teachers '\n",
      " 'and students alike. Benefits Of Incorporating AI Into The Classroom\\n'\n",
      " 'One of the key benefits of incorporating AI into the classroom is the ability to provide students with a more '\n",
      " 'personalized learning experience. Many schools and universities do not have the resources to purchase and maintain '\n",
      " 'the technology they need to incorporate AI into the classroom, and they may need to seek external funding or '\n",
      " 'partnerships to support their efforts.']\n"
     ]
    }
   ],
   "source": [
    "from pprint import pprint\n",
    "\n",
    "pprint(result['content'], width=120)"
   ]
  },
  {
   "cell_type": "markdown",
   "id": "4d1664b5-75e0-46b7-9c2b-4ac9171f4597",
   "metadata": {},
   "source": [
    "## Essay Writer Interface"
   ]
  },
  {
   "cell_type": "markdown",
   "id": "b0902cd8",
   "metadata": {},
   "source": [
    "#run notebook 'Test6_gradio.ipynb'"
   ]
  }
 ],
 "metadata": {
  "kernelspec": {
   "display_name": "Python 3",
   "language": "python",
   "name": "python3"
  },
  "language_info": {
   "codemirror_mode": {
    "name": "ipython",
    "version": 3
   },
   "file_extension": ".py",
   "mimetype": "text/x-python",
   "name": "python",
   "nbconvert_exporter": "python",
   "pygments_lexer": "ipython3",
   "version": "3.11.10"
  }
 },
 "nbformat": 4,
 "nbformat_minor": 5
}
