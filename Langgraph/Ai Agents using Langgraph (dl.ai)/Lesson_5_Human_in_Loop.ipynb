{
 "cells": [
  {
   "cell_type": "markdown",
   "id": "8ad976db-fb87-4a92-b0d2-06defc098339",
   "metadata": {},
   "source": [
    "# Lesson 5: Human in the Loop"
   ]
  },
  {
   "cell_type": "markdown",
   "id": "91d756c3-9c97-4155-9b56-8ecfed5f1876",
   "metadata": {},
   "source": [
    "Note: This notebook is running in a later version of langgraph that it was filmed with. The later version has a couple of key additions:\n",
    "- Additional state information is stored to memory and displayed when using `get_state()` or `get_state_history()`.\n",
    "- State is additionally stored every state transition while previously it was stored at an interrupt or at the end.\n",
    "These change the command output slightly, but are a useful addtion to the information available."
   ]
  },
  {
   "cell_type": "code",
   "execution_count": 1,
   "id": "f5762271-8736-4e94-9444-8c92bd0e8074",
   "metadata": {
    "height": 63
   },
   "outputs": [],
   "source": [
    "from dotenv import load_dotenv\n",
    "\n",
    "_ = load_dotenv()"
   ]
  },
  {
   "cell_type": "code",
   "execution_count": 2,
   "id": "d0168aee-bce9-4d60-b827-f86a88187e31",
   "metadata": {
    "height": 180
   },
   "outputs": [],
   "source": [
    "from langgraph.graph import StateGraph, END\n",
    "from typing import TypedDict, Annotated\n",
    "import operator\n",
    "from langchain_core.messages import AnyMessage, SystemMessage, HumanMessage, ToolMessage\n",
    "#from langchain_openai import ChatOpenAI\n",
    "from langchain_community.tools.tavily_search import TavilySearchResults\n",
    "from langgraph.checkpoint.sqlite import SqliteSaver\n",
    "from IPython.display import Image, display\n",
    "import sqlite3\n",
    "conn = sqlite3.connect(\"checkpoints.sqlite\", check_same_thread=False)\n",
    "memory = SqliteSaver(conn)\n",
    "#memory = SqliteSaver.from_conn_string(\":memory:\")"
   ]
  },
  {
   "cell_type": "code",
   "execution_count": 3,
   "id": "166dd307",
   "metadata": {},
   "outputs": [],
   "source": [
    "import os\n",
    "from langchain_groq import ChatGroq\n",
    "model = ChatGroq(model_name=\"llama3-groq-70b-8192-tool-use-preview\", api_key=os.environ.get(\"GROQ_API_KEY\"))"
   ]
  },
  {
   "cell_type": "code",
   "execution_count": 4,
   "id": "2589c5b6-6cc2-4594-9a17-dccdcf676054",
   "metadata": {
    "height": 571
   },
   "outputs": [],
   "source": [
    "from uuid import uuid4\n",
    "from langchain_core.messages import AnyMessage, SystemMessage, HumanMessage, AIMessage\n",
    "\n",
    "\"\"\"\n",
    "In previous examples we've annotated the `messages` state key\n",
    "with the default `operator.add` or `+` reducer, which always\n",
    "appends new messages to the end of the existing messages array.\n",
    "\n",
    "Now, to support replacing existing messages, we annotate the\n",
    "`messages` key with a customer reducer function, which replaces\n",
    "messages with the same `id`, and appends them otherwise.\n",
    "\"\"\"\n",
    "def reduce_messages(left: list[AnyMessage], right: list[AnyMessage]) -> list[AnyMessage]:\n",
    "    # assign ids to messages that don't have them\n",
    "    for message in right:\n",
    "        if not message.id:\n",
    "            message.id = str(uuid4())\n",
    "    # merge the new messages with the existing messages\n",
    "    merged = left.copy()\n",
    "    for message in right:\n",
    "        for i, existing in enumerate(merged):\n",
    "            # replace any existing messages with the same id\n",
    "            if existing.id == message.id:\n",
    "                merged[i] = message\n",
    "                break\n",
    "        else:\n",
    "            # append any new messages to the end\n",
    "            merged.append(message)\n",
    "    return merged\n",
    "\n",
    "class AgentState(TypedDict):\n",
    "    messages: Annotated[list[AnyMessage], reduce_messages]"
   ]
  },
  {
   "cell_type": "code",
   "execution_count": 5,
   "id": "a2ba84ec-c172-4de7-ac55-e3158a531b23",
   "metadata": {
    "height": 30
   },
   "outputs": [],
   "source": [
    "tool = TavilySearchResults(max_results=2)"
   ]
  },
  {
   "cell_type": "markdown",
   "id": "d58320dc-c542-4a3c-bcf1-088909f9b075",
   "metadata": {},
   "source": [
    "## Manual human approval"
   ]
  },
  {
   "cell_type": "code",
   "execution_count": 6,
   "id": "46a0e94e-d015-4106-b439-dbcd2fcb8bb0",
   "metadata": {
    "height": 656
   },
   "outputs": [],
   "source": [
    "class Agent:\n",
    "    def __init__(self, model, tools, system=\"\", checkpointer=None):\n",
    "        self.system = system\n",
    "        graph = StateGraph(AgentState)\n",
    "        graph.add_node(\"llm\", self.call_llm)\n",
    "        graph.add_node(\"action\", self.take_action)\n",
    "        \n",
    "        graph.add_conditional_edges(\"llm\", self.exists_action, {True: \"action\", False: END})\n",
    "        graph.add_edge(\"action\", \"llm\")\n",
    "        graph.set_entry_point(\"llm\")\n",
    "\n",
    "        self.graph = graph.compile(\n",
    "            checkpointer=checkpointer,\n",
    "            interrupt_before=[\"action\"]\n",
    "        )\n",
    "        display(Image(self.graph.get_graph().draw_mermaid_png()))\n",
    "        \n",
    "        self.tools = {t.name: t for t in tools}\n",
    "        self.model = model.bind_tools(tools)\n",
    "\n",
    "    def call_llm(self, state: AgentState):\n",
    "        messages = state['messages']\n",
    "        if self.system:\n",
    "            messages = [SystemMessage(content=self.system)] + messages\n",
    "        message = self.model.invoke(messages)\n",
    "        return {'messages': [message]}\n",
    "\n",
    "    def exists_action(self, state: AgentState):\n",
    "        print(state)\n",
    "        result = state['messages'][-1]\n",
    "        return len(result.tool_calls) > 0\n",
    "\n",
    "    def take_action(self, state: AgentState):\n",
    "        tool_calls = state['messages'][-1].tool_calls\n",
    "        results = []\n",
    "        for t in tool_calls:\n",
    "            print(f\"Calling: {t}\")\n",
    "            result = self.tools[t['name']].invoke(t['args'])\n",
    "            results.append(ToolMessage(tool_call_id=t['id'], name=t['name'], content=str(result)))\n",
    "        print(\"Back to the model!\")\n",
    "        return {'messages': results}"
   ]
  },
  {
   "cell_type": "code",
   "execution_count": 7,
   "id": "10084a02-2928-4945-9f7c-ad3f5b33caf7",
   "metadata": {
    "height": 146
   },
   "outputs": [
    {
     "data": {
      "image/jpeg": "[encoded data removed]",
      "text/plain": [
       "<IPython.core.display.Image object>"
      ]
     },
     "metadata": {},
     "output_type": "display_data"
    }
   ],
   "source": [
    "prompt = \"\"\"You are a smart research assistant. Use the search engine to look up information. \\\n",
    "You are allowed to make multiple calls (either together or in sequence). \\\n",
    "Only look up information when you are sure of what you want. \\\n",
    "If you need to look up some information before asking a follow up question, you are allowed to do that!\n",
    "\"\"\"\n",
    "#model = ChatOpenAI(model=\"gpt-3.5-turbo\")\n",
    "abot = Agent(model, [tool], system=prompt, checkpointer=memory)"
   ]
  },
  {
   "cell_type": "code",
   "execution_count": 8,
   "id": "714d1205-f8fc-4912-b148-2a45da99219c",
   "metadata": {
    "height": 112
   },
   "outputs": [
    {
     "name": "stdout",
     "output_type": "stream",
     "text": [
      "{'messages': [HumanMessage(content='What is the weather in sf?', additional_kwargs={}, response_metadata={}), AIMessage(content='', additional_kwargs={'tool_calls': [{'id': 'call_fwr5', 'function': {'arguments': '{\"query\": \"weather in sf\"}', 'name': 'tavily_search_results_json'}, 'type': 'function'}]}, response_metadata={'token_usage': {'completion_tokens': 32, 'prompt_tokens': 293, 'total_tokens': 325, 'completion_time': 0.099441301, 'prompt_time': 0.022065403, 'queue_time': 0.010820216999999997, 'total_time': 0.121506704}, 'model_name': 'llama3-groq-70b-8192-tool-use-preview', 'system_fingerprint': 'fp_ee4b521143', 'finish_reason': 'tool_calls', 'logprobs': None}, id='run-21415c53-fd87-4013-b63d-951908dd1630-0', tool_calls=[{'name': 'tavily_search_results_json', 'args': {'query': 'weather in sf'}, 'id': 'call_fwr5', 'type': 'tool_call'}], usage_metadata={'input_tokens': 293, 'output_tokens': 32, 'total_tokens': 325}), ToolMessage(content='[{\\'url\\': \\'https://www.weatherapi.com/\\', \\'content\\': \"{\\'location\\': {\\'name\\': \\'San Francisco\\', \\'region\\': \\'California\\', \\'country\\': \\'United States of America\\', \\'lat\\': 37.775, \\'lon\\': -122.4183, \\'tz_id\\': \\'America/Los_Angeles\\', \\'localtime_epoch\\': 1729330803, \\'localtime\\': \\'2024-10-19 02:40\\'}, \\'current\\': {\\'last_updated_epoch\\': 1729330200, \\'last_updated\\': \\'2024-10-19 02:30\\', \\'temp_c\\': 15.6, \\'temp_f\\': 60.1, \\'is_day\\': 0, \\'condition\\': {\\'text\\': \\'Partly cloudy\\', \\'icon\\': \\'//cdn.weatherapi.com/weather/64x64/night/116.png\\', \\'code\\': 1003}, \\'wind_mph\\': 3.8, \\'wind_kph\\': 6.1, \\'wind_degree\\': 25, \\'wind_dir\\': \\'NNE\\', \\'pressure_mb\\': 1018.0, \\'pressure_in\\': 30.06, \\'precip_mm\\': 0.0, \\'precip_in\\': 0.0, \\'humidity\\': 27, \\'cloud\\': 50, \\'feelslike_c\\': 15.6, \\'feelslike_f\\': 60.1, \\'windchill_c\\': 17.2, \\'windchill_f\\': 63.0, \\'heatindex_c\\': 17.2, \\'heatindex_f\\': 63.0, \\'dewpoint_c\\': 7.5, \\'dewpoint_f\\': 45.5, \\'vis_km\\': 16.0, \\'vis_miles\\': 9.0, \\'uv\\': 0.0, \\'gust_mph\\': 8.0, \\'gust_kph\\': 12.9}}\"}, {\\'url\\': \\'https://www.weather.gov/mtr/?os=av..&ref=app\\', \\'content\\': \\'Current Hazards. Current Outlooks; Daily Briefing; Submit Report; Detailed Hazards; ... 2024 at 6:50:34 am PDT Watches, Warnings & Advisories. Zoom Out. Gale Warning. Freeze Warning. Red Flag Warning. Small Craft Advisory. ... National Weather Service San Francisco Bay Area, CA 21 Grace Hopper Ave, Stop 5 Monterey, CA 93943-5505\\'}]', name='tavily_search_results_json', tool_call_id='call_fwr5'), AIMessage(content='The current weather in San Francisco, California, is partly cloudy with a temperature of 15.6°C (60.1°F). The wind is blowing from the northeast at 3.8 mph (6.1 kph). The humidity is at 27%, and the pressure is 1018.0 hPa (30.06 in).', additional_kwargs={}, response_metadata={'token_usage': {'completion_tokens': 71, 'prompt_tokens': 875, 'total_tokens': 946, 'completion_time': 0.224159647, 'prompt_time': 0.059461224, 'queue_time': 0.0016568, 'total_time': 0.283620871}, 'model_name': 'llama3-groq-70b-8192-tool-use-preview', 'system_fingerprint': 'fp_ee4b521143', 'finish_reason': 'stop', 'logprobs': None}, id='run-ce71f790-12c2-40f4-a416-d7c8df99cb81-0', usage_metadata={'input_tokens': 875, 'output_tokens': 71, 'total_tokens': 946}), HumanMessage(content='What about in la?', additional_kwargs={}, response_metadata={}), AIMessage(content='', additional_kwargs={'tool_calls': [{'id': 'call_a1dr', 'function': {'arguments': '{\"query\":\"weather in la\"}', 'name': 'tavily_search_results_json'}, 'type': 'function'}]}, response_metadata={'token_usage': {'completion_tokens': 29, 'prompt_tokens': 960, 'total_tokens': 989, 'completion_time': 0.089571221, 'prompt_time': 0.068865164, 'queue_time': 0.0006566469999999963, 'total_time': 0.158436385}, 'model_name': 'llama3-groq-70b-8192-tool-use-preview', 'system_fingerprint': 'fp_ee4b521143', 'finish_reason': 'tool_calls', 'logprobs': None}, id='run-ecbedce0-d7a6-47a6-a0eb-ef31984a80dc-0', tool_calls=[{'name': 'tavily_search_results_json', 'args': {'query': 'weather in la'}, 'id': 'call_a1dr', 'type': 'tool_call'}], usage_metadata={'input_tokens': 960, 'output_tokens': 29, 'total_tokens': 989}), ToolMessage(content='[{\\'url\\': \\'https://www.weatherapi.com/\\', \\'content\\': \"{\\'location\\': {\\'name\\': \\'Los Angeles\\', \\'region\\': \\'California\\', \\'country\\': \\'United States of America\\', \\'lat\\': 34.0522, \\'lon\\': -118.2428, \\'tz_id\\': \\'America/Los_Angeles\\', \\'localtime_epoch\\': 1729330809, \\'localtime\\': \\'2024-10-19 02:40\\'}, \\'current\\': {\\'last_updated_epoch\\': 1729330200, \\'last_updated\\': \\'2024-10-19 02:30\\', \\'temp_c\\': 16.1, \\'temp_f\\': 61.0, \\'is_day\\': 0, \\'condition\\': {\\'text\\': \\'Clear\\', \\'icon\\': \\'//cdn.weatherapi.com/weather/64x64/night/113.png\\', \\'code\\': 1000}, \\'wind_mph\\': 3.8, \\'wind_kph\\': 6.1, \\'wind_degree\\': 14, \\'wind_dir\\': \\'NNE\\', \\'pressure_mb\\': 1016.0, \\'pressure_in\\': 30.0, \\'precip_mm\\': 0.0, \\'precip_in\\': 0.0, \\'humidity\\': 67, \\'cloud\\': 0, \\'feelslike_c\\': 16.1, \\'feelslike_f\\': 61.0, \\'windchill_c\\': 18.0, \\'windchill_f\\': 64.4, \\'heatindex_c\\': 18.0, \\'heatindex_f\\': 64.4, \\'dewpoint_c\\': -6.9, \\'dewpoint_f\\': 19.6, \\'vis_km\\': 16.0, \\'vis_miles\\': 9.0, \\'uv\\': 0.0, \\'gust_mph\\': 7.9, \\'gust_kph\\': 12.6}}\"}, {\\'url\\': \\'https://www.easeweather.com/north-america/united-states/california/los-angeles-county/los-angeles/october\\', \\'content\\': \\'Until now, October 2024 in Los Angeles has been nearly identical to the historical average, with a temperature of 28.2 ° F (showing only a slight deviation of 0 ° F).. The forecast for the next days in Los Angeles predicts a temperature of 22.4 ° F, which is cooler than the historical average.. In general, the average temperature in Los Angeles at the beginning of October is 28.7 ° F.\\'}]', name='tavily_search_results_json', tool_call_id='call_a1dr'), AIMessage(content='The current weather in Los Angeles, California, is clear with a temperature of 16.1°C (61.0°F). The wind is blowing from the northeast at 3.8 mph (6.1 kph). The humidity is at 67%, and the pressure is 1016.0 hPa (30.0 in).', additional_kwargs={}, response_metadata={'token_usage': {'completion_tokens': 70, 'prompt_tokens': 1557, 'total_tokens': 1627, 'completion_time': 0.222359148, 'prompt_time': 0.097663503, 'queue_time': 0.0013591990000000054, 'total_time': 0.320022651}, 'model_name': 'llama3-groq-70b-8192-tool-use-preview', 'system_fingerprint': 'fp_ee4b521143', 'finish_reason': 'stop', 'logprobs': None}, id='run-d9398a26-0132-4a37-93ab-444f1f40fdf2-0', usage_metadata={'input_tokens': 1557, 'output_tokens': 70, 'total_tokens': 1627}), HumanMessage(content='Which one is warmer?', additional_kwargs={}, response_metadata={}), AIMessage(content='Los Angeles is warmer than San Francisco.', additional_kwargs={}, response_metadata={'token_usage': {'completion_tokens': 9, 'prompt_tokens': 1641, 'total_tokens': 1650, 'completion_time': 0.025785815, 'prompt_time': 0.10344667, 'queue_time': 0.001326222000000002, 'total_time': 0.129232485}, 'model_name': 'llama3-groq-70b-8192-tool-use-preview', 'system_fingerprint': 'fp_ee4b521143', 'finish_reason': 'stop', 'logprobs': None}, id='run-548cfaca-3036-493e-bbe7-fe82a9facca2-0', usage_metadata={'input_tokens': 1641, 'output_tokens': 9, 'total_tokens': 1650}), HumanMessage(content='What is the weather in sf?', additional_kwargs={}, response_metadata={}), AIMessage(content='The current weather in San Francisco, California, is partly cloudy with a temperature of 15.6°C (60.1°F). The wind is blowing from the northeast at 3.8 mph (6.1 kph). The humidity is at 27%, and the pressure is 1018.0 hPa (30.06 in).', additional_kwargs={}, response_metadata={'token_usage': {'completion_tokens': 71, 'prompt_tokens': 1666, 'total_tokens': 1737, 'completion_time': 0.22550526, 'prompt_time': 0.104829502, 'queue_time': 0.0011165890000000012, 'total_time': 0.330334762}, 'model_name': 'llama3-groq-70b-8192-tool-use-preview', 'system_fingerprint': 'fp_ee4b521143', 'finish_reason': 'stop', 'logprobs': None}, id='run-adc85999-279e-498c-bc2a-74e71fda3856-0', usage_metadata={'input_tokens': 1666, 'output_tokens': 71, 'total_tokens': 1737}), HumanMessage(content='What about in la?', additional_kwargs={}, response_metadata={}), AIMessage(content='The current weather in Los Angeles, California, is clear with a temperature of 16.1°C (61.0°F). The wind is blowing from the northeast at 3.8 mph (6.1 kph). The humidity is at 67%, and the pressure is 1016.0 hPa (30.0 in).', additional_kwargs={}, response_metadata={'token_usage': {'completion_tokens': 70, 'prompt_tokens': 1751, 'total_tokens': 1821, 'completion_time': 0.222943634, 'prompt_time': 0.124992318, 'queue_time': 0.0013619110000000073, 'total_time': 0.347935952}, 'model_name': 'llama3-groq-70b-8192-tool-use-preview', 'system_fingerprint': 'fp_ee4b521143', 'finish_reason': 'stop', 'logprobs': None}, id='run-53b2bc6e-3334-4dc5-9ceb-24e5ee893c6b-0', usage_metadata={'input_tokens': 1751, 'output_tokens': 70, 'total_tokens': 1821}), HumanMessage(content='Which one is warmer?', additional_kwargs={}, response_metadata={}), AIMessage(content='Los Angeles is warmer than San Francisco.', additional_kwargs={}, response_metadata={'token_usage': {'completion_tokens': 9, 'prompt_tokens': 1835, 'total_tokens': 1844, 'completion_time': 0.026054533, 'prompt_time': 0.138416058, 'queue_time': 0.001044619999999996, 'total_time': 0.164470591}, 'model_name': 'llama3-groq-70b-8192-tool-use-preview', 'system_fingerprint': 'fp_ee4b521143', 'finish_reason': 'stop', 'logprobs': None}, id='run-2677b0ce-9b09-427c-a995-5736eed5c054-0', usage_metadata={'input_tokens': 1835, 'output_tokens': 9, 'total_tokens': 1844}), HumanMessage(content='Whats the weather in SF?', additional_kwargs={}, response_metadata={}, id='4b46be4e-095e-4891-a032-b90ff26cad9f'), AIMessage(content='The current weather in San Francisco, California, is partly cloudy with a temperature of 15.6°C (60.1°F). The wind is blowing from the northeast at 3.8 mph (6.1 kph). The humidity is at 27%, and the pressure is 1018.0 hPa (30.06 in).', additional_kwargs={}, response_metadata={'token_usage': {'completion_tokens': 71, 'prompt_tokens': 1859, 'total_tokens': 1930, 'completion_time': 0.225846695, 'prompt_time': 0.117171994, 'queue_time': 0.0013663849999999977, 'total_time': 0.343018689}, 'model_name': 'llama3-groq-70b-8192-tool-use-preview', 'system_fingerprint': 'fp_ee4b521143', 'finish_reason': 'stop', 'logprobs': None}, id='run-84d15b12-401b-4342-a2fd-dd1888bf3b77-0', usage_metadata={'input_tokens': 1859, 'output_tokens': 71, 'total_tokens': 1930})]}\n",
      "{'messages': [AIMessage(content='The current weather in San Francisco, California, is partly cloudy with a temperature of 15.6°C (60.1°F). The wind is blowing from the northeast at 3.8 mph (6.1 kph). The humidity is at 27%, and the pressure is 1018.0 hPa (30.06 in).', additional_kwargs={}, response_metadata={'token_usage': {'completion_tokens': 71, 'prompt_tokens': 1859, 'total_tokens': 1930, 'completion_time': 0.225846695, 'prompt_time': 0.117171994, 'queue_time': 0.0013663849999999977, 'total_time': 0.343018689}, 'model_name': 'llama3-groq-70b-8192-tool-use-preview', 'system_fingerprint': 'fp_ee4b521143', 'finish_reason': 'stop', 'logprobs': None}, id='run-84d15b12-401b-4342-a2fd-dd1888bf3b77-0', usage_metadata={'input_tokens': 1859, 'output_tokens': 71, 'total_tokens': 1930})]}\n"
     ]
    }
   ],
   "source": [
    "messages = [HumanMessage(content=\"Whats the weather in SF?\")]\n",
    "thread = {\"configurable\": {\"thread_id\": \"1\"}}\n",
    "for event in abot.graph.stream({\"messages\": messages}, thread):\n",
    "    for v in event.values():\n",
    "        print(v)"
   ]
  },
  {
   "cell_type": "code",
   "execution_count": 9,
   "id": "83588e70-254f-4f83-a510-c8ae81e729b0",
   "metadata": {
    "height": 30
   },
   "outputs": [
    {
     "name": "stdout",
     "output_type": "stream",
     "text": [
      "StateSnapshot(values={'messages': [HumanMessage(content='What is the weather in sf?', additional_kwargs={}, response_metadata={}), AIMessage(content='', additional_kwargs={'tool_calls': [{'id': 'call_fwr5', 'function': {'arguments': '{\"query\": \"weather in sf\"}', 'name': 'tavily_search_results_json'}, 'type': 'function'}]}, response_metadata={'token_usage': {'completion_tokens': 32, 'prompt_tokens': 293, 'total_tokens': 325, 'completion_time': 0.099441301, 'prompt_time': 0.022065403, 'queue_time': 0.010820216999999997, 'total_time': 0.121506704}, 'model_name': 'llama3-groq-70b-8192-tool-use-preview', 'system_fingerprint': 'fp_ee4b521143', 'finish_reason': 'tool_calls', 'logprobs': None}, id='run-21415c53-fd87-4013-b63d-951908dd1630-0', tool_calls=[{'name': 'tavily_search_results_json', 'args': {'query': 'weather in sf'}, 'id': 'call_fwr5', 'type': 'tool_call'}], usage_metadata={'input_tokens': 293, 'output_tokens': 32, 'total_tokens': 325}), ToolMessage(content='[{\\'url\\': \\'https://www.weatherapi.com/\\', \\'content\\': \"{\\'location\\': {\\'name\\': \\'San Francisco\\', \\'region\\': \\'California\\', \\'country\\': \\'United States of America\\', \\'lat\\': 37.775, \\'lon\\': -122.4183, \\'tz_id\\': \\'America/Los_Angeles\\', \\'localtime_epoch\\': 1729330803, \\'localtime\\': \\'2024-10-19 02:40\\'}, \\'current\\': {\\'last_updated_epoch\\': 1729330200, \\'last_updated\\': \\'2024-10-19 02:30\\', \\'temp_c\\': 15.6, \\'temp_f\\': 60.1, \\'is_day\\': 0, \\'condition\\': {\\'text\\': \\'Partly cloudy\\', \\'icon\\': \\'//cdn.weatherapi.com/weather/64x64/night/116.png\\', \\'code\\': 1003}, \\'wind_mph\\': 3.8, \\'wind_kph\\': 6.1, \\'wind_degree\\': 25, \\'wind_dir\\': \\'NNE\\', \\'pressure_mb\\': 1018.0, \\'pressure_in\\': 30.06, \\'precip_mm\\': 0.0, \\'precip_in\\': 0.0, \\'humidity\\': 27, \\'cloud\\': 50, \\'feelslike_c\\': 15.6, \\'feelslike_f\\': 60.1, \\'windchill_c\\': 17.2, \\'windchill_f\\': 63.0, \\'heatindex_c\\': 17.2, \\'heatindex_f\\': 63.0, \\'dewpoint_c\\': 7.5, \\'dewpoint_f\\': 45.5, \\'vis_km\\': 16.0, \\'vis_miles\\': 9.0, \\'uv\\': 0.0, \\'gust_mph\\': 8.0, \\'gust_kph\\': 12.9}}\"}, {\\'url\\': \\'https://www.weather.gov/mtr/?os=av..&ref=app\\', \\'content\\': \\'Current Hazards. Current Outlooks; Daily Briefing; Submit Report; Detailed Hazards; ... 2024 at 6:50:34 am PDT Watches, Warnings & Advisories. Zoom Out. Gale Warning. Freeze Warning. Red Flag Warning. Small Craft Advisory. ... National Weather Service San Francisco Bay Area, CA 21 Grace Hopper Ave, Stop 5 Monterey, CA 93943-5505\\'}]', name='tavily_search_results_json', tool_call_id='call_fwr5'), AIMessage(content='The current weather in San Francisco, California, is partly cloudy with a temperature of 15.6°C (60.1°F). The wind is blowing from the northeast at 3.8 mph (6.1 kph). The humidity is at 27%, and the pressure is 1018.0 hPa (30.06 in).', additional_kwargs={}, response_metadata={'token_usage': {'completion_tokens': 71, 'prompt_tokens': 875, 'total_tokens': 946, 'completion_time': 0.224159647, 'prompt_time': 0.059461224, 'queue_time': 0.0016568, 'total_time': 0.283620871}, 'model_name': 'llama3-groq-70b-8192-tool-use-preview', 'system_fingerprint': 'fp_ee4b521143', 'finish_reason': 'stop', 'logprobs': None}, id='run-ce71f790-12c2-40f4-a416-d7c8df99cb81-0', usage_metadata={'input_tokens': 875, 'output_tokens': 71, 'total_tokens': 946}), HumanMessage(content='What about in la?', additional_kwargs={}, response_metadata={}), AIMessage(content='', additional_kwargs={'tool_calls': [{'id': 'call_a1dr', 'function': {'arguments': '{\"query\":\"weather in la\"}', 'name': 'tavily_search_results_json'}, 'type': 'function'}]}, response_metadata={'token_usage': {'completion_tokens': 29, 'prompt_tokens': 960, 'total_tokens': 989, 'completion_time': 0.089571221, 'prompt_time': 0.068865164, 'queue_time': 0.0006566469999999963, 'total_time': 0.158436385}, 'model_name': 'llama3-groq-70b-8192-tool-use-preview', 'system_fingerprint': 'fp_ee4b521143', 'finish_reason': 'tool_calls', 'logprobs': None}, id='run-ecbedce0-d7a6-47a6-a0eb-ef31984a80dc-0', tool_calls=[{'name': 'tavily_search_results_json', 'args': {'query': 'weather in la'}, 'id': 'call_a1dr', 'type': 'tool_call'}], usage_metadata={'input_tokens': 960, 'output_tokens': 29, 'total_tokens': 989}), ToolMessage(content='[{\\'url\\': \\'https://www.weatherapi.com/\\', \\'content\\': \"{\\'location\\': {\\'name\\': \\'Los Angeles\\', \\'region\\': \\'California\\', \\'country\\': \\'United States of America\\', \\'lat\\': 34.0522, \\'lon\\': -118.2428, \\'tz_id\\': \\'America/Los_Angeles\\', \\'localtime_epoch\\': 1729330809, \\'localtime\\': \\'2024-10-19 02:40\\'}, \\'current\\': {\\'last_updated_epoch\\': 1729330200, \\'last_updated\\': \\'2024-10-19 02:30\\', \\'temp_c\\': 16.1, \\'temp_f\\': 61.0, \\'is_day\\': 0, \\'condition\\': {\\'text\\': \\'Clear\\', \\'icon\\': \\'//cdn.weatherapi.com/weather/64x64/night/113.png\\', \\'code\\': 1000}, \\'wind_mph\\': 3.8, \\'wind_kph\\': 6.1, \\'wind_degree\\': 14, \\'wind_dir\\': \\'NNE\\', \\'pressure_mb\\': 1016.0, \\'pressure_in\\': 30.0, \\'precip_mm\\': 0.0, \\'precip_in\\': 0.0, \\'humidity\\': 67, \\'cloud\\': 0, \\'feelslike_c\\': 16.1, \\'feelslike_f\\': 61.0, \\'windchill_c\\': 18.0, \\'windchill_f\\': 64.4, \\'heatindex_c\\': 18.0, \\'heatindex_f\\': 64.4, \\'dewpoint_c\\': -6.9, \\'dewpoint_f\\': 19.6, \\'vis_km\\': 16.0, \\'vis_miles\\': 9.0, \\'uv\\': 0.0, \\'gust_mph\\': 7.9, \\'gust_kph\\': 12.6}}\"}, {\\'url\\': \\'https://www.easeweather.com/north-america/united-states/california/los-angeles-county/los-angeles/october\\', \\'content\\': \\'Until now, October 2024 in Los Angeles has been nearly identical to the historical average, with a temperature of 28.2 ° F (showing only a slight deviation of 0 ° F).. The forecast for the next days in Los Angeles predicts a temperature of 22.4 ° F, which is cooler than the historical average.. In general, the average temperature in Los Angeles at the beginning of October is 28.7 ° F.\\'}]', name='tavily_search_results_json', tool_call_id='call_a1dr'), AIMessage(content='The current weather in Los Angeles, California, is clear with a temperature of 16.1°C (61.0°F). The wind is blowing from the northeast at 3.8 mph (6.1 kph). The humidity is at 67%, and the pressure is 1016.0 hPa (30.0 in).', additional_kwargs={}, response_metadata={'token_usage': {'completion_tokens': 70, 'prompt_tokens': 1557, 'total_tokens': 1627, 'completion_time': 0.222359148, 'prompt_time': 0.097663503, 'queue_time': 0.0013591990000000054, 'total_time': 0.320022651}, 'model_name': 'llama3-groq-70b-8192-tool-use-preview', 'system_fingerprint': 'fp_ee4b521143', 'finish_reason': 'stop', 'logprobs': None}, id='run-d9398a26-0132-4a37-93ab-444f1f40fdf2-0', usage_metadata={'input_tokens': 1557, 'output_tokens': 70, 'total_tokens': 1627}), HumanMessage(content='Which one is warmer?', additional_kwargs={}, response_metadata={}), AIMessage(content='Los Angeles is warmer than San Francisco.', additional_kwargs={}, response_metadata={'token_usage': {'completion_tokens': 9, 'prompt_tokens': 1641, 'total_tokens': 1650, 'completion_time': 0.025785815, 'prompt_time': 0.10344667, 'queue_time': 0.001326222000000002, 'total_time': 0.129232485}, 'model_name': 'llama3-groq-70b-8192-tool-use-preview', 'system_fingerprint': 'fp_ee4b521143', 'finish_reason': 'stop', 'logprobs': None}, id='run-548cfaca-3036-493e-bbe7-fe82a9facca2-0', usage_metadata={'input_tokens': 1641, 'output_tokens': 9, 'total_tokens': 1650}), HumanMessage(content='What is the weather in sf?', additional_kwargs={}, response_metadata={}), AIMessage(content='The current weather in San Francisco, California, is partly cloudy with a temperature of 15.6°C (60.1°F). The wind is blowing from the northeast at 3.8 mph (6.1 kph). The humidity is at 27%, and the pressure is 1018.0 hPa (30.06 in).', additional_kwargs={}, response_metadata={'token_usage': {'completion_tokens': 71, 'prompt_tokens': 1666, 'total_tokens': 1737, 'completion_time': 0.22550526, 'prompt_time': 0.104829502, 'queue_time': 0.0011165890000000012, 'total_time': 0.330334762}, 'model_name': 'llama3-groq-70b-8192-tool-use-preview', 'system_fingerprint': 'fp_ee4b521143', 'finish_reason': 'stop', 'logprobs': None}, id='run-adc85999-279e-498c-bc2a-74e71fda3856-0', usage_metadata={'input_tokens': 1666, 'output_tokens': 71, 'total_tokens': 1737}), HumanMessage(content='What about in la?', additional_kwargs={}, response_metadata={}), AIMessage(content='The current weather in Los Angeles, California, is clear with a temperature of 16.1°C (61.0°F). The wind is blowing from the northeast at 3.8 mph (6.1 kph). The humidity is at 67%, and the pressure is 1016.0 hPa (30.0 in).', additional_kwargs={}, response_metadata={'token_usage': {'completion_tokens': 70, 'prompt_tokens': 1751, 'total_tokens': 1821, 'completion_time': 0.222943634, 'prompt_time': 0.124992318, 'queue_time': 0.0013619110000000073, 'total_time': 0.347935952}, 'model_name': 'llama3-groq-70b-8192-tool-use-preview', 'system_fingerprint': 'fp_ee4b521143', 'finish_reason': 'stop', 'logprobs': None}, id='run-53b2bc6e-3334-4dc5-9ceb-24e5ee893c6b-0', usage_metadata={'input_tokens': 1751, 'output_tokens': 70, 'total_tokens': 1821}), HumanMessage(content='Which one is warmer?', additional_kwargs={}, response_metadata={}), AIMessage(content='Los Angeles is warmer than San Francisco.', additional_kwargs={}, response_metadata={'token_usage': {'completion_tokens': 9, 'prompt_tokens': 1835, 'total_tokens': 1844, 'completion_time': 0.026054533, 'prompt_time': 0.138416058, 'queue_time': 0.001044619999999996, 'total_time': 0.164470591}, 'model_name': 'llama3-groq-70b-8192-tool-use-preview', 'system_fingerprint': 'fp_ee4b521143', 'finish_reason': 'stop', 'logprobs': None}, id='run-2677b0ce-9b09-427c-a995-5736eed5c054-0', usage_metadata={'input_tokens': 1835, 'output_tokens': 9, 'total_tokens': 1844}), HumanMessage(content='Whats the weather in SF?', additional_kwargs={}, response_metadata={}, id='4b46be4e-095e-4891-a032-b90ff26cad9f'), AIMessage(content='The current weather in San Francisco, California, is partly cloudy with a temperature of 15.6°C (60.1°F). The wind is blowing from the northeast at 3.8 mph (6.1 kph). The humidity is at 27%, and the pressure is 1018.0 hPa (30.06 in).', additional_kwargs={}, response_metadata={'token_usage': {'completion_tokens': 71, 'prompt_tokens': 1859, 'total_tokens': 1930, 'completion_time': 0.225846695, 'prompt_time': 0.117171994, 'queue_time': 0.0013663849999999977, 'total_time': 0.343018689}, 'model_name': 'llama3-groq-70b-8192-tool-use-preview', 'system_fingerprint': 'fp_ee4b521143', 'finish_reason': 'stop', 'logprobs': None}, id='run-84d15b12-401b-4342-a2fd-dd1888bf3b77-0', usage_metadata={'input_tokens': 1859, 'output_tokens': 71, 'total_tokens': 1930})]}, next=(), config={'configurable': {'thread_id': '1', 'checkpoint_ns': '', 'checkpoint_id': '1ef8dfe8-1c8f-6902-8017-b30fd08a702f'}}, metadata={'source': 'loop', 'writes': {'llm': {'messages': [AIMessage(content='The current weather in San Francisco, California, is partly cloudy with a temperature of 15.6°C (60.1°F). The wind is blowing from the northeast at 3.8 mph (6.1 kph). The humidity is at 27%, and the pressure is 1018.0 hPa (30.06 in).', additional_kwargs={}, response_metadata={'token_usage': {'completion_tokens': 71, 'prompt_tokens': 1859, 'total_tokens': 1930, 'completion_time': 0.225846695, 'prompt_time': 0.117171994, 'queue_time': 0.0013663849999999977, 'total_time': 0.343018689}, 'model_name': 'llama3-groq-70b-8192-tool-use-preview', 'system_fingerprint': 'fp_ee4b521143', 'finish_reason': 'stop', 'logprobs': None}, id='run-84d15b12-401b-4342-a2fd-dd1888bf3b77-0', usage_metadata={'input_tokens': 1859, 'output_tokens': 71, 'total_tokens': 1930})]}}, 'step': 23, 'parents': {}}, created_at='2024-10-19T09:42:51.041571+00:00', parent_config={'configurable': {'thread_id': '1', 'checkpoint_ns': '', 'checkpoint_id': '1ef8dfe8-13ab-62e3-8016-f3e17e5421a0'}}, tasks=())\n"
     ]
    }
   ],
   "source": [
    "print(abot.graph.get_state(thread))"
   ]
  },
  {
   "cell_type": "code",
   "execution_count": 10,
   "id": "6cb3ef4c-58b3-401b-b104-0d51e553d982",
   "metadata": {
    "height": 30
   },
   "outputs": [
    {
     "data": {
      "text/plain": [
       "()"
      ]
     },
     "execution_count": 10,
     "metadata": {},
     "output_type": "execute_result"
    }
   ],
   "source": [
    "abot.graph.get_state(thread).next"
   ]
  },
  {
   "cell_type": "markdown",
   "id": "f1f404d5-a3be-42c1-9990-b1e1ee011163",
   "metadata": {},
   "source": [
    "### continue after interrupt"
   ]
  },
  {
   "cell_type": "code",
   "execution_count": 11,
   "id": "dc3293b7-a50c-43c8-a022-8975e1e444b8",
   "metadata": {
    "height": 64
   },
   "outputs": [],
   "source": [
    "for event in abot.graph.stream(None, thread):\n",
    "    for v in event.values():\n",
    "        print(v)"
   ]
  },
  {
   "cell_type": "code",
   "execution_count": 12,
   "id": "0722c3d4-4cbf-43bf-81b0-50f634c4ce61",
   "metadata": {
    "height": 30
   },
   "outputs": [
    {
     "name": "stdout",
     "output_type": "stream",
     "text": [
      "StateSnapshot(values={'messages': [HumanMessage(content='What is the weather in sf?', additional_kwargs={}, response_metadata={}), AIMessage(content='', additional_kwargs={'tool_calls': [{'id': 'call_fwr5', 'function': {'arguments': '{\"query\": \"weather in sf\"}', 'name': 'tavily_search_results_json'}, 'type': 'function'}]}, response_metadata={'token_usage': {'completion_tokens': 32, 'prompt_tokens': 293, 'total_tokens': 325, 'completion_time': 0.099441301, 'prompt_time': 0.022065403, 'queue_time': 0.010820216999999997, 'total_time': 0.121506704}, 'model_name': 'llama3-groq-70b-8192-tool-use-preview', 'system_fingerprint': 'fp_ee4b521143', 'finish_reason': 'tool_calls', 'logprobs': None}, id='run-21415c53-fd87-4013-b63d-951908dd1630-0', tool_calls=[{'name': 'tavily_search_results_json', 'args': {'query': 'weather in sf'}, 'id': 'call_fwr5', 'type': 'tool_call'}], usage_metadata={'input_tokens': 293, 'output_tokens': 32, 'total_tokens': 325}), ToolMessage(content='[{\\'url\\': \\'https://www.weatherapi.com/\\', \\'content\\': \"{\\'location\\': {\\'name\\': \\'San Francisco\\', \\'region\\': \\'California\\', \\'country\\': \\'United States of America\\', \\'lat\\': 37.775, \\'lon\\': -122.4183, \\'tz_id\\': \\'America/Los_Angeles\\', \\'localtime_epoch\\': 1729330803, \\'localtime\\': \\'2024-10-19 02:40\\'}, \\'current\\': {\\'last_updated_epoch\\': 1729330200, \\'last_updated\\': \\'2024-10-19 02:30\\', \\'temp_c\\': 15.6, \\'temp_f\\': 60.1, \\'is_day\\': 0, \\'condition\\': {\\'text\\': \\'Partly cloudy\\', \\'icon\\': \\'//cdn.weatherapi.com/weather/64x64/night/116.png\\', \\'code\\': 1003}, \\'wind_mph\\': 3.8, \\'wind_kph\\': 6.1, \\'wind_degree\\': 25, \\'wind_dir\\': \\'NNE\\', \\'pressure_mb\\': 1018.0, \\'pressure_in\\': 30.06, \\'precip_mm\\': 0.0, \\'precip_in\\': 0.0, \\'humidity\\': 27, \\'cloud\\': 50, \\'feelslike_c\\': 15.6, \\'feelslike_f\\': 60.1, \\'windchill_c\\': 17.2, \\'windchill_f\\': 63.0, \\'heatindex_c\\': 17.2, \\'heatindex_f\\': 63.0, \\'dewpoint_c\\': 7.5, \\'dewpoint_f\\': 45.5, \\'vis_km\\': 16.0, \\'vis_miles\\': 9.0, \\'uv\\': 0.0, \\'gust_mph\\': 8.0, \\'gust_kph\\': 12.9}}\"}, {\\'url\\': \\'https://www.weather.gov/mtr/?os=av..&ref=app\\', \\'content\\': \\'Current Hazards. Current Outlooks; Daily Briefing; Submit Report; Detailed Hazards; ... 2024 at 6:50:34 am PDT Watches, Warnings & Advisories. Zoom Out. Gale Warning. Freeze Warning. Red Flag Warning. Small Craft Advisory. ... National Weather Service San Francisco Bay Area, CA 21 Grace Hopper Ave, Stop 5 Monterey, CA 93943-5505\\'}]', name='tavily_search_results_json', tool_call_id='call_fwr5'), AIMessage(content='The current weather in San Francisco, California, is partly cloudy with a temperature of 15.6°C (60.1°F). The wind is blowing from the northeast at 3.8 mph (6.1 kph). The humidity is at 27%, and the pressure is 1018.0 hPa (30.06 in).', additional_kwargs={}, response_metadata={'token_usage': {'completion_tokens': 71, 'prompt_tokens': 875, 'total_tokens': 946, 'completion_time': 0.224159647, 'prompt_time': 0.059461224, 'queue_time': 0.0016568, 'total_time': 0.283620871}, 'model_name': 'llama3-groq-70b-8192-tool-use-preview', 'system_fingerprint': 'fp_ee4b521143', 'finish_reason': 'stop', 'logprobs': None}, id='run-ce71f790-12c2-40f4-a416-d7c8df99cb81-0', usage_metadata={'input_tokens': 875, 'output_tokens': 71, 'total_tokens': 946}), HumanMessage(content='What about in la?', additional_kwargs={}, response_metadata={}), AIMessage(content='', additional_kwargs={'tool_calls': [{'id': 'call_a1dr', 'function': {'arguments': '{\"query\":\"weather in la\"}', 'name': 'tavily_search_results_json'}, 'type': 'function'}]}, response_metadata={'token_usage': {'completion_tokens': 29, 'prompt_tokens': 960, 'total_tokens': 989, 'completion_time': 0.089571221, 'prompt_time': 0.068865164, 'queue_time': 0.0006566469999999963, 'total_time': 0.158436385}, 'model_name': 'llama3-groq-70b-8192-tool-use-preview', 'system_fingerprint': 'fp_ee4b521143', 'finish_reason': 'tool_calls', 'logprobs': None}, id='run-ecbedce0-d7a6-47a6-a0eb-ef31984a80dc-0', tool_calls=[{'name': 'tavily_search_results_json', 'args': {'query': 'weather in la'}, 'id': 'call_a1dr', 'type': 'tool_call'}], usage_metadata={'input_tokens': 960, 'output_tokens': 29, 'total_tokens': 989}), ToolMessage(content='[{\\'url\\': \\'https://www.weatherapi.com/\\', \\'content\\': \"{\\'location\\': {\\'name\\': \\'Los Angeles\\', \\'region\\': \\'California\\', \\'country\\': \\'United States of America\\', \\'lat\\': 34.0522, \\'lon\\': -118.2428, \\'tz_id\\': \\'America/Los_Angeles\\', \\'localtime_epoch\\': 1729330809, \\'localtime\\': \\'2024-10-19 02:40\\'}, \\'current\\': {\\'last_updated_epoch\\': 1729330200, \\'last_updated\\': \\'2024-10-19 02:30\\', \\'temp_c\\': 16.1, \\'temp_f\\': 61.0, \\'is_day\\': 0, \\'condition\\': {\\'text\\': \\'Clear\\', \\'icon\\': \\'//cdn.weatherapi.com/weather/64x64/night/113.png\\', \\'code\\': 1000}, \\'wind_mph\\': 3.8, \\'wind_kph\\': 6.1, \\'wind_degree\\': 14, \\'wind_dir\\': \\'NNE\\', \\'pressure_mb\\': 1016.0, \\'pressure_in\\': 30.0, \\'precip_mm\\': 0.0, \\'precip_in\\': 0.0, \\'humidity\\': 67, \\'cloud\\': 0, \\'feelslike_c\\': 16.1, \\'feelslike_f\\': 61.0, \\'windchill_c\\': 18.0, \\'windchill_f\\': 64.4, \\'heatindex_c\\': 18.0, \\'heatindex_f\\': 64.4, \\'dewpoint_c\\': -6.9, \\'dewpoint_f\\': 19.6, \\'vis_km\\': 16.0, \\'vis_miles\\': 9.0, \\'uv\\': 0.0, \\'gust_mph\\': 7.9, \\'gust_kph\\': 12.6}}\"}, {\\'url\\': \\'https://www.easeweather.com/north-america/united-states/california/los-angeles-county/los-angeles/october\\', \\'content\\': \\'Until now, October 2024 in Los Angeles has been nearly identical to the historical average, with a temperature of 28.2 ° F (showing only a slight deviation of 0 ° F).. The forecast for the next days in Los Angeles predicts a temperature of 22.4 ° F, which is cooler than the historical average.. In general, the average temperature in Los Angeles at the beginning of October is 28.7 ° F.\\'}]', name='tavily_search_results_json', tool_call_id='call_a1dr'), AIMessage(content='The current weather in Los Angeles, California, is clear with a temperature of 16.1°C (61.0°F). The wind is blowing from the northeast at 3.8 mph (6.1 kph). The humidity is at 67%, and the pressure is 1016.0 hPa (30.0 in).', additional_kwargs={}, response_metadata={'token_usage': {'completion_tokens': 70, 'prompt_tokens': 1557, 'total_tokens': 1627, 'completion_time': 0.222359148, 'prompt_time': 0.097663503, 'queue_time': 0.0013591990000000054, 'total_time': 0.320022651}, 'model_name': 'llama3-groq-70b-8192-tool-use-preview', 'system_fingerprint': 'fp_ee4b521143', 'finish_reason': 'stop', 'logprobs': None}, id='run-d9398a26-0132-4a37-93ab-444f1f40fdf2-0', usage_metadata={'input_tokens': 1557, 'output_tokens': 70, 'total_tokens': 1627}), HumanMessage(content='Which one is warmer?', additional_kwargs={}, response_metadata={}), AIMessage(content='Los Angeles is warmer than San Francisco.', additional_kwargs={}, response_metadata={'token_usage': {'completion_tokens': 9, 'prompt_tokens': 1641, 'total_tokens': 1650, 'completion_time': 0.025785815, 'prompt_time': 0.10344667, 'queue_time': 0.001326222000000002, 'total_time': 0.129232485}, 'model_name': 'llama3-groq-70b-8192-tool-use-preview', 'system_fingerprint': 'fp_ee4b521143', 'finish_reason': 'stop', 'logprobs': None}, id='run-548cfaca-3036-493e-bbe7-fe82a9facca2-0', usage_metadata={'input_tokens': 1641, 'output_tokens': 9, 'total_tokens': 1650}), HumanMessage(content='What is the weather in sf?', additional_kwargs={}, response_metadata={}), AIMessage(content='The current weather in San Francisco, California, is partly cloudy with a temperature of 15.6°C (60.1°F). The wind is blowing from the northeast at 3.8 mph (6.1 kph). The humidity is at 27%, and the pressure is 1018.0 hPa (30.06 in).', additional_kwargs={}, response_metadata={'token_usage': {'completion_tokens': 71, 'prompt_tokens': 1666, 'total_tokens': 1737, 'completion_time': 0.22550526, 'prompt_time': 0.104829502, 'queue_time': 0.0011165890000000012, 'total_time': 0.330334762}, 'model_name': 'llama3-groq-70b-8192-tool-use-preview', 'system_fingerprint': 'fp_ee4b521143', 'finish_reason': 'stop', 'logprobs': None}, id='run-adc85999-279e-498c-bc2a-74e71fda3856-0', usage_metadata={'input_tokens': 1666, 'output_tokens': 71, 'total_tokens': 1737}), HumanMessage(content='What about in la?', additional_kwargs={}, response_metadata={}), AIMessage(content='The current weather in Los Angeles, California, is clear with a temperature of 16.1°C (61.0°F). The wind is blowing from the northeast at 3.8 mph (6.1 kph). The humidity is at 67%, and the pressure is 1016.0 hPa (30.0 in).', additional_kwargs={}, response_metadata={'token_usage': {'completion_tokens': 70, 'prompt_tokens': 1751, 'total_tokens': 1821, 'completion_time': 0.222943634, 'prompt_time': 0.124992318, 'queue_time': 0.0013619110000000073, 'total_time': 0.347935952}, 'model_name': 'llama3-groq-70b-8192-tool-use-preview', 'system_fingerprint': 'fp_ee4b521143', 'finish_reason': 'stop', 'logprobs': None}, id='run-53b2bc6e-3334-4dc5-9ceb-24e5ee893c6b-0', usage_metadata={'input_tokens': 1751, 'output_tokens': 70, 'total_tokens': 1821}), HumanMessage(content='Which one is warmer?', additional_kwargs={}, response_metadata={}), AIMessage(content='Los Angeles is warmer than San Francisco.', additional_kwargs={}, response_metadata={'token_usage': {'completion_tokens': 9, 'prompt_tokens': 1835, 'total_tokens': 1844, 'completion_time': 0.026054533, 'prompt_time': 0.138416058, 'queue_time': 0.001044619999999996, 'total_time': 0.164470591}, 'model_name': 'llama3-groq-70b-8192-tool-use-preview', 'system_fingerprint': 'fp_ee4b521143', 'finish_reason': 'stop', 'logprobs': None}, id='run-2677b0ce-9b09-427c-a995-5736eed5c054-0', usage_metadata={'input_tokens': 1835, 'output_tokens': 9, 'total_tokens': 1844}), HumanMessage(content='Whats the weather in SF?', additional_kwargs={}, response_metadata={}, id='4b46be4e-095e-4891-a032-b90ff26cad9f'), AIMessage(content='The current weather in San Francisco, California, is partly cloudy with a temperature of 15.6°C (60.1°F). The wind is blowing from the northeast at 3.8 mph (6.1 kph). The humidity is at 27%, and the pressure is 1018.0 hPa (30.06 in).', additional_kwargs={}, response_metadata={'token_usage': {'completion_tokens': 71, 'prompt_tokens': 1859, 'total_tokens': 1930, 'completion_time': 0.225846695, 'prompt_time': 0.117171994, 'queue_time': 0.0013663849999999977, 'total_time': 0.343018689}, 'model_name': 'llama3-groq-70b-8192-tool-use-preview', 'system_fingerprint': 'fp_ee4b521143', 'finish_reason': 'stop', 'logprobs': None}, id='run-84d15b12-401b-4342-a2fd-dd1888bf3b77-0', usage_metadata={'input_tokens': 1859, 'output_tokens': 71, 'total_tokens': 1930})]}, next=(), config={'configurable': {'thread_id': '1', 'checkpoint_ns': '', 'checkpoint_id': '1ef8dfe8-1c8f-6902-8017-b30fd08a702f'}}, metadata={'source': 'loop', 'writes': {'llm': {'messages': [AIMessage(content='The current weather in San Francisco, California, is partly cloudy with a temperature of 15.6°C (60.1°F). The wind is blowing from the northeast at 3.8 mph (6.1 kph). The humidity is at 27%, and the pressure is 1018.0 hPa (30.06 in).', additional_kwargs={}, response_metadata={'token_usage': {'completion_tokens': 71, 'prompt_tokens': 1859, 'total_tokens': 1930, 'completion_time': 0.225846695, 'prompt_time': 0.117171994, 'queue_time': 0.0013663849999999977, 'total_time': 0.343018689}, 'model_name': 'llama3-groq-70b-8192-tool-use-preview', 'system_fingerprint': 'fp_ee4b521143', 'finish_reason': 'stop', 'logprobs': None}, id='run-84d15b12-401b-4342-a2fd-dd1888bf3b77-0', usage_metadata={'input_tokens': 1859, 'output_tokens': 71, 'total_tokens': 1930})]}}, 'step': 23, 'parents': {}}, created_at='2024-10-19T09:42:51.041571+00:00', parent_config={'configurable': {'thread_id': '1', 'checkpoint_ns': '', 'checkpoint_id': '1ef8dfe8-13ab-62e3-8016-f3e17e5421a0'}}, tasks=())\n"
     ]
    }
   ],
   "source": [
    "print(abot.graph.get_state(thread))"
   ]
  },
  {
   "cell_type": "code",
   "execution_count": 13,
   "id": "6b2f82fe-3ec4-4917-be51-9fb10d1317fa",
   "metadata": {
    "height": 30
   },
   "outputs": [
    {
     "data": {
      "text/plain": [
       "()"
      ]
     },
     "execution_count": 13,
     "metadata": {},
     "output_type": "execute_result"
    }
   ],
   "source": [
    "abot.graph.get_state(thread).next"
   ]
  },
  {
   "cell_type": "code",
   "execution_count": 14,
   "id": "ee0fe1c7-77e2-499c-a2f9-1f739bb6ddf0",
   "metadata": {
    "height": 265
   },
   "outputs": [
    {
     "name": "stdout",
     "output_type": "stream",
     "text": [
      "{'messages': [HumanMessage(content='Which one is warmer?', additional_kwargs={}, response_metadata={}), AIMessage(content=\"I'm sorry but I do not have the capability to perform this task for you, I am happy to help you with any other queries you may have.\", additional_kwargs={}, response_metadata={'token_usage': {'completion_tokens': 32, 'prompt_tokens': 291, 'total_tokens': 323, 'completion_time': 0.099462469, 'prompt_time': 0.021699524, 'queue_time': 0.011361593, 'total_time': 0.121161993}, 'model_name': 'llama3-groq-70b-8192-tool-use-preview', 'system_fingerprint': 'fp_ee4b521143', 'finish_reason': 'stop', 'logprobs': None}, id='run-d8651cdf-638a-4f29-b5dc-8c7d419bc5cc-0', usage_metadata={'input_tokens': 291, 'output_tokens': 32, 'total_tokens': 323}), HumanMessage(content='Which one is warmer?', additional_kwargs={}, response_metadata={}), AIMessage(content=\"I'm sorry but I do not have the capability to perform this task for you, I am happy to help you with any other queries you may have.\", additional_kwargs={}, response_metadata={'token_usage': {'completion_tokens': 32, 'prompt_tokens': 337, 'total_tokens': 369, 'completion_time': 0.100487472, 'prompt_time': 0.028098478, 'queue_time': 0.0046581890000000035, 'total_time': 0.12858595}, 'model_name': 'llama3-groq-70b-8192-tool-use-preview', 'system_fingerprint': 'fp_ee4b521143', 'finish_reason': 'stop', 'logprobs': None}, id='run-7502713b-4c96-4ad1-91c4-6edb4f051e74-0', usage_metadata={'input_tokens': 337, 'output_tokens': 32, 'total_tokens': 369}), HumanMessage(content='Whats the weather in LA?', additional_kwargs={}, response_metadata={}, id='95be624c-4b99-4d04-beca-24f3cf0a9863'), AIMessage(content=\"I'm sorry but I do not have the capability to perform this task for you, I am happy to help you with any other queries you may have.\", additional_kwargs={}, response_metadata={'token_usage': {'completion_tokens': 32, 'prompt_tokens': 384, 'total_tokens': 416, 'completion_time': 0.099834933, 'prompt_time': 0.02674152, 'queue_time': 0.006121827, 'total_time': 0.126576453}, 'model_name': 'llama3-groq-70b-8192-tool-use-preview', 'system_fingerprint': 'fp_ee4b521143', 'finish_reason': 'stop', 'logprobs': None}, id='run-231619f7-04b7-4ae4-8312-5fcb82490a60-0', usage_metadata={'input_tokens': 384, 'output_tokens': 32, 'total_tokens': 416})]}\n",
      "{'messages': [AIMessage(content=\"I'm sorry but I do not have the capability to perform this task for you, I am happy to help you with any other queries you may have.\", additional_kwargs={}, response_metadata={'token_usage': {'completion_tokens': 32, 'prompt_tokens': 384, 'total_tokens': 416, 'completion_time': 0.099834933, 'prompt_time': 0.02674152, 'queue_time': 0.006121827, 'total_time': 0.126576453}, 'model_name': 'llama3-groq-70b-8192-tool-use-preview', 'system_fingerprint': 'fp_ee4b521143', 'finish_reason': 'stop', 'logprobs': None}, id='run-231619f7-04b7-4ae4-8312-5fcb82490a60-0', usage_metadata={'input_tokens': 384, 'output_tokens': 32, 'total_tokens': 416})]}\n"
     ]
    }
   ],
   "source": [
    "messages = [HumanMessage(\"Whats the weather in LA?\")]\n",
    "thread = {\"configurable\": {\"thread_id\": \"2\"}}\n",
    "for event in abot.graph.stream({\"messages\": messages}, thread):\n",
    "    for v in event.values():\n",
    "        print(v)\n",
    "\n",
    "while abot.graph.get_state(thread).next:\n",
    "    print(\"\\n\", abot.graph.get_state(thread),\"\\n\")\n",
    "    _input = input(\"proceed?\")\n",
    "    if _input != \"y\":\n",
    "        print(\"aborting\")\n",
    "        break\n",
    "    for event in abot.graph.stream(None, thread):\n",
    "        for v in event.values():\n",
    "            print(v)"
   ]
  },
  {
   "cell_type": "markdown",
   "id": "7bbe5689-54ab-49ca-9055-6e5216abd523",
   "metadata": {},
   "source": [
    "## Modify State\n",
    "Run until the interrupt and then modify the state."
   ]
  },
  {
   "cell_type": "code",
   "execution_count": 15,
   "id": "98f303b1-a4d0-408c-8cc0-515ff980717f",
   "metadata": {
    "height": 112
   },
   "outputs": [
    {
     "name": "stdout",
     "output_type": "stream",
     "text": [
      "{'messages': [HumanMessage(content='Whats the weather in LA?', additional_kwargs={}, response_metadata={}, id='39db021b-73ed-4d3b-90de-8bcef017c05f'), AIMessage(content='', additional_kwargs={'tool_calls': [{'id': 'call_v1rj', 'function': {'arguments': '{\"query\": \"current weather in LA\"}', 'name': 'tavily_search_results_json'}, 'type': 'function'}, {'id': 'call_3yem', 'function': {'arguments': '{\"query\": \"weather forecast for Los Angeles\"}', 'name': 'tavily_search_results_json'}, 'type': 'function'}]}, response_metadata={'token_usage': {'completion_tokens': 67, 'prompt_tokens': 292, 'total_tokens': 359, 'completion_time': 0.21566457, 'prompt_time': 0.021977499, 'queue_time': 0.011076098999999996, 'total_time': 0.237642069}, 'model_name': 'llama3-groq-70b-8192-tool-use-preview', 'system_fingerprint': 'fp_ee4b521143', 'finish_reason': 'tool_calls', 'logprobs': None}, id='run-1f76ec40-4668-42dc-8736-c89dccccc1ba-0', tool_calls=[{'name': 'tavily_search_results_json', 'args': {'query': 'current weather in LA'}, 'id': 'call_v1rj', 'type': 'tool_call'}, {'name': 'tavily_search_results_json', 'args': {'query': 'weather forecast for Los Angeles'}, 'id': 'call_3yem', 'type': 'tool_call'}], usage_metadata={'input_tokens': 292, 'output_tokens': 67, 'total_tokens': 359})]}\n",
      "{'messages': [AIMessage(content='', additional_kwargs={'tool_calls': [{'id': 'call_v1rj', 'function': {'arguments': '{\"query\": \"current weather in LA\"}', 'name': 'tavily_search_results_json'}, 'type': 'function'}, {'id': 'call_3yem', 'function': {'arguments': '{\"query\": \"weather forecast for Los Angeles\"}', 'name': 'tavily_search_results_json'}, 'type': 'function'}]}, response_metadata={'token_usage': {'completion_tokens': 67, 'prompt_tokens': 292, 'total_tokens': 359, 'completion_time': 0.21566457, 'prompt_time': 0.021977499, 'queue_time': 0.011076098999999996, 'total_time': 0.237642069}, 'model_name': 'llama3-groq-70b-8192-tool-use-preview', 'system_fingerprint': 'fp_ee4b521143', 'finish_reason': 'tool_calls', 'logprobs': None}, id='run-1f76ec40-4668-42dc-8736-c89dccccc1ba-0', tool_calls=[{'name': 'tavily_search_results_json', 'args': {'query': 'current weather in LA'}, 'id': 'call_v1rj', 'type': 'tool_call'}, {'name': 'tavily_search_results_json', 'args': {'query': 'weather forecast for Los Angeles'}, 'id': 'call_3yem', 'type': 'tool_call'}], usage_metadata={'input_tokens': 292, 'output_tokens': 67, 'total_tokens': 359})]}\n",
      "()\n"
     ]
    }
   ],
   "source": [
    "messages = [HumanMessage(\"Whats the weather in LA?\")]\n",
    "thread = {\"configurable\": {\"thread_id\": \"3\"}}\n",
    "for event in abot.graph.stream({\"messages\": messages}, thread):\n",
    "    for v in event.values():\n",
    "        print(v)"
   ]
  },
  {
   "cell_type": "code",
   "execution_count": 16,
   "id": "bf4dcb93-6298-4cfd-b3ce-61dfac7fb35f",
   "metadata": {
    "height": 30
   },
   "outputs": [
    {
     "data": {
      "text/plain": [
       "StateSnapshot(values={'messages': [HumanMessage(content='Whats the weather in LA?', additional_kwargs={}, response_metadata={}, id='39db021b-73ed-4d3b-90de-8bcef017c05f'), AIMessage(content='', additional_kwargs={'tool_calls': [{'id': 'call_v1rj', 'function': {'arguments': '{\"query\": \"current weather in LA\"}', 'name': 'tavily_search_results_json'}, 'type': 'function'}, {'id': 'call_3yem', 'function': {'arguments': '{\"query\": \"weather forecast for Los Angeles\"}', 'name': 'tavily_search_results_json'}, 'type': 'function'}]}, response_metadata={'token_usage': {'completion_tokens': 67, 'prompt_tokens': 292, 'total_tokens': 359, 'completion_time': 0.21566457, 'prompt_time': 0.021977499, 'queue_time': 0.011076098999999996, 'total_time': 0.237642069}, 'model_name': 'llama3-groq-70b-8192-tool-use-preview', 'system_fingerprint': 'fp_ee4b521143', 'finish_reason': 'tool_calls', 'logprobs': None}, id='run-1f76ec40-4668-42dc-8736-c89dccccc1ba-0', tool_calls=[{'name': 'tavily_search_results_json', 'args': {'query': 'current weather in LA'}, 'id': 'call_v1rj', 'type': 'tool_call'}, {'name': 'tavily_search_results_json', 'args': {'query': 'weather forecast for Los Angeles'}, 'id': 'call_3yem', 'type': 'tool_call'}], usage_metadata={'input_tokens': 292, 'output_tokens': 67, 'total_tokens': 359})]}, next=('action',), config={'configurable': {'thread_id': '3', 'checkpoint_ns': '', 'checkpoint_id': '1ef8dfe8-2895-69e4-8001-e5c69259266e'}}, metadata={'source': 'loop', 'writes': {'llm': {'messages': [AIMessage(content='', additional_kwargs={'tool_calls': [{'id': 'call_v1rj', 'function': {'arguments': '{\"query\": \"current weather in LA\"}', 'name': 'tavily_search_results_json'}, 'type': 'function'}, {'id': 'call_3yem', 'function': {'arguments': '{\"query\": \"weather forecast for Los Angeles\"}', 'name': 'tavily_search_results_json'}, 'type': 'function'}]}, response_metadata={'token_usage': {'completion_tokens': 67, 'prompt_tokens': 292, 'total_tokens': 359, 'completion_time': 0.21566457, 'prompt_time': 0.021977499, 'queue_time': 0.011076098999999996, 'total_time': 0.237642069}, 'model_name': 'llama3-groq-70b-8192-tool-use-preview', 'system_fingerprint': 'fp_ee4b521143', 'finish_reason': 'tool_calls', 'logprobs': None}, id='run-1f76ec40-4668-42dc-8736-c89dccccc1ba-0', tool_calls=[{'name': 'tavily_search_results_json', 'args': {'query': 'current weather in LA'}, 'id': 'call_v1rj', 'type': 'tool_call'}, {'name': 'tavily_search_results_json', 'args': {'query': 'weather forecast for Los Angeles'}, 'id': 'call_3yem', 'type': 'tool_call'}], usage_metadata={'input_tokens': 292, 'output_tokens': 67, 'total_tokens': 359})]}}, 'step': 1, 'parents': {}}, created_at='2024-10-19T09:42:52.302367+00:00', parent_config={'configurable': {'thread_id': '3', 'checkpoint_ns': '', 'checkpoint_id': '1ef8dfe8-22e5-65dc-8000-07694d8c07e8'}}, tasks=(PregelTask(id='54c77e73-7315-4d87-e516-b5c359a1e61f', name='action', path=('__pregel_pull', 'action'), error=None, interrupts=(), state=None, result=None),))"
      ]
     },
     "execution_count": 16,
     "metadata": {},
     "output_type": "execute_result"
    }
   ],
   "source": [
    "abot.graph.get_state(thread)"
   ]
  },
  {
   "cell_type": "code",
   "execution_count": 17,
   "id": "932883a4-c722-42bb-aec0-b4f41c5c81a4",
   "metadata": {
    "height": 30
   },
   "outputs": [],
   "source": [
    "current_values = abot.graph.get_state(thread)"
   ]
  },
  {
   "cell_type": "code",
   "execution_count": 18,
   "id": "ff362f49-dcf1-4ea1-a86c-e516e9ab897d",
   "metadata": {
    "height": 30
   },
   "outputs": [
    {
     "data": {
      "text/plain": [
       "AIMessage(content='', additional_kwargs={'tool_calls': [{'id': 'call_v1rj', 'function': {'arguments': '{\"query\": \"current weather in LA\"}', 'name': 'tavily_search_results_json'}, 'type': 'function'}, {'id': 'call_3yem', 'function': {'arguments': '{\"query\": \"weather forecast for Los Angeles\"}', 'name': 'tavily_search_results_json'}, 'type': 'function'}]}, response_metadata={'token_usage': {'completion_tokens': 67, 'prompt_tokens': 292, 'total_tokens': 359, 'completion_time': 0.21566457, 'prompt_time': 0.021977499, 'queue_time': 0.011076098999999996, 'total_time': 0.237642069}, 'model_name': 'llama3-groq-70b-8192-tool-use-preview', 'system_fingerprint': 'fp_ee4b521143', 'finish_reason': 'tool_calls', 'logprobs': None}, id='run-1f76ec40-4668-42dc-8736-c89dccccc1ba-0', tool_calls=[{'name': 'tavily_search_results_json', 'args': {'query': 'current weather in LA'}, 'id': 'call_v1rj', 'type': 'tool_call'}, {'name': 'tavily_search_results_json', 'args': {'query': 'weather forecast for Los Angeles'}, 'id': 'call_3yem', 'type': 'tool_call'}], usage_metadata={'input_tokens': 292, 'output_tokens': 67, 'total_tokens': 359})"
      ]
     },
     "execution_count": 18,
     "metadata": {},
     "output_type": "execute_result"
    }
   ],
   "source": [
    "current_values.values['messages'][-1]"
   ]
  },
  {
   "cell_type": "code",
   "execution_count": 19,
   "id": "a7e15a20-83d7-434c-8551-bce8dcc32be0",
   "metadata": {
    "height": 30
   },
   "outputs": [
    {
     "data": {
      "text/plain": [
       "[{'name': 'tavily_search_results_json',\n",
       "  'args': {'query': 'current weather in LA'},\n",
       "  'id': 'call_v1rj',\n",
       "  'type': 'tool_call'},\n",
       " {'name': 'tavily_search_results_json',\n",
       "  'args': {'query': 'weather forecast for Los Angeles'},\n",
       "  'id': 'call_3yem',\n",
       "  'type': 'tool_call'}]"
      ]
     },
     "execution_count": 19,
     "metadata": {},
     "output_type": "execute_result"
    }
   ],
   "source": [
    "current_values.values['messages'][-1].tool_calls"
   ]
  },
  {
   "cell_type": "code",
   "execution_count": 20,
   "id": "54ab2c74-f32e-490c-a85d-932d11444210",
   "metadata": {
    "height": 129
   },
   "outputs": [
    {
     "name": "stdout",
     "output_type": "stream",
     "text": [
      "call_v1rj\n"
     ]
    }
   ],
   "source": [
    "_id = current_values.values['messages'][-1].tool_calls[0]['id']\n",
    "print(_id)\n",
    "\n",
    "current_values.values['messages'][-1].tool_calls = [\n",
    "    {'name': 'tavily_search_results_json',\n",
    "  'args': {'query': 'current weather in Louisiana'},\n",
    "  'id': _id}\n",
    "]"
   ]
  },
  {
   "cell_type": "code",
   "execution_count": 21,
   "id": "a833d3ce-bd31-4319-811d-decff226b970",
   "metadata": {
    "height": 30
   },
   "outputs": [
    {
     "name": "stdout",
     "output_type": "stream",
     "text": [
      "{'messages': [HumanMessage(content='Whats the weather in LA?', additional_kwargs={}, response_metadata={}, id='39db021b-73ed-4d3b-90de-8bcef017c05f'), AIMessage(content='', additional_kwargs={'tool_calls': [{'id': 'call_v1rj', 'function': {'arguments': '{\"query\": \"current weather in LA\"}', 'name': 'tavily_search_results_json'}, 'type': 'function'}, {'id': 'call_3yem', 'function': {'arguments': '{\"query\": \"weather forecast for Los Angeles\"}', 'name': 'tavily_search_results_json'}, 'type': 'function'}]}, response_metadata={'token_usage': {'completion_tokens': 67, 'prompt_tokens': 292, 'total_tokens': 359, 'completion_time': 0.21566457, 'prompt_time': 0.021977499, 'queue_time': 0.011076098999999996, 'total_time': 0.237642069}, 'model_name': 'llama3-groq-70b-8192-tool-use-preview', 'system_fingerprint': 'fp_ee4b521143', 'finish_reason': 'tool_calls', 'logprobs': None}, id='run-1f76ec40-4668-42dc-8736-c89dccccc1ba-0', tool_calls=[{'name': 'tavily_search_results_json', 'args': {'query': 'current weather in Louisiana'}, 'id': 'call_v1rj'}], usage_metadata={'input_tokens': 292, 'output_tokens': 67, 'total_tokens': 359})]}\n"
     ]
    },
    {
     "data": {
      "text/plain": [
       "{'configurable': {'thread_id': '3',\n",
       "  'checkpoint_ns': '',\n",
       "  'checkpoint_id': '1ef8dfe8-2913-67b1-8002-db8b52c08886'}}"
      ]
     },
     "execution_count": 21,
     "metadata": {},
     "output_type": "execute_result"
    }
   ],
   "source": [
    "abot.graph.update_state(thread, current_values.values)"
   ]
  },
  {
   "cell_type": "code",
   "execution_count": 22,
   "id": "76e93cce-6eab-4c7c-ac64-e9993fdb30d6",
   "metadata": {
    "height": 30
   },
   "outputs": [
    {
     "data": {
      "text/plain": [
       "StateSnapshot(values={'messages': [HumanMessage(content='Whats the weather in LA?', additional_kwargs={}, response_metadata={}, id='39db021b-73ed-4d3b-90de-8bcef017c05f'), AIMessage(content='', additional_kwargs={'tool_calls': [{'id': 'call_v1rj', 'function': {'arguments': '{\"query\": \"current weather in LA\"}', 'name': 'tavily_search_results_json'}, 'type': 'function'}, {'id': 'call_3yem', 'function': {'arguments': '{\"query\": \"weather forecast for Los Angeles\"}', 'name': 'tavily_search_results_json'}, 'type': 'function'}]}, response_metadata={'token_usage': {'completion_tokens': 67, 'prompt_tokens': 292, 'total_tokens': 359, 'completion_time': 0.21566457, 'prompt_time': 0.021977499, 'queue_time': 0.011076098999999996, 'total_time': 0.237642069}, 'model_name': 'llama3-groq-70b-8192-tool-use-preview', 'system_fingerprint': 'fp_ee4b521143', 'finish_reason': 'tool_calls', 'logprobs': None}, id='run-1f76ec40-4668-42dc-8736-c89dccccc1ba-0', tool_calls=[{'name': 'tavily_search_results_json', 'args': {'query': 'current weather in Louisiana'}, 'id': 'call_v1rj', 'type': 'tool_call'}], usage_metadata={'input_tokens': 292, 'output_tokens': 67, 'total_tokens': 359})]}, next=('action',), config={'configurable': {'thread_id': '3', 'checkpoint_ns': '', 'checkpoint_id': '1ef8dfe8-2913-67b1-8002-db8b52c08886'}}, metadata={'source': 'update', 'step': 2, 'writes': {'llm': {'messages': [HumanMessage(content='Whats the weather in LA?', additional_kwargs={}, response_metadata={}, id='39db021b-73ed-4d3b-90de-8bcef017c05f'), AIMessage(content='', additional_kwargs={'tool_calls': [{'id': 'call_v1rj', 'function': {'arguments': '{\"query\": \"current weather in LA\"}', 'name': 'tavily_search_results_json'}, 'type': 'function'}, {'id': 'call_3yem', 'function': {'arguments': '{\"query\": \"weather forecast for Los Angeles\"}', 'name': 'tavily_search_results_json'}, 'type': 'function'}]}, response_metadata={'token_usage': {'completion_tokens': 67, 'prompt_tokens': 292, 'total_tokens': 359, 'completion_time': 0.21566457, 'prompt_time': 0.021977499, 'queue_time': 0.011076098999999996, 'total_time': 0.237642069}, 'model_name': 'llama3-groq-70b-8192-tool-use-preview', 'system_fingerprint': 'fp_ee4b521143', 'finish_reason': 'tool_calls', 'logprobs': None}, id='run-1f76ec40-4668-42dc-8736-c89dccccc1ba-0', tool_calls=[{'name': 'tavily_search_results_json', 'args': {'query': 'current weather in Louisiana'}, 'id': 'call_v1rj', 'type': 'tool_call'}], usage_metadata={'input_tokens': 292, 'output_tokens': 67, 'total_tokens': 359})]}}, 'parents': {}}, created_at='2024-10-19T09:42:52.353911+00:00', parent_config={'configurable': {'thread_id': '3', 'checkpoint_ns': '', 'checkpoint_id': '1ef8dfe8-2895-69e4-8001-e5c69259266e'}}, tasks=(PregelTask(id='07242a7b-55b3-b83d-e9b3-185e77c397c9', name='action', path=('__pregel_pull', 'action'), error=None, interrupts=(), state=None, result=None),))"
      ]
     },
     "execution_count": 22,
     "metadata": {},
     "output_type": "execute_result"
    }
   ],
   "source": [
    "abot.graph.get_state(thread)"
   ]
  },
  {
   "cell_type": "code",
   "execution_count": 23,
   "id": "fd2d0990-a932-423f-9ff3-5cada58c5f32",
   "metadata": {
    "height": 64
   },
   "outputs": [
    {
     "name": "stdout",
     "output_type": "stream",
     "text": [
      "Calling: {'name': 'tavily_search_results_json', 'args': {'query': 'current weather in Louisiana'}, 'id': 'call_v1rj', 'type': 'tool_call'}\n",
      "Back to the model!\n",
      "{'messages': [ToolMessage(content='[{\\'url\\': \\'https://www.weatherapi.com/\\', \\'content\\': \"{\\'location\\': {\\'name\\': \\'Louisiana\\', \\'region\\': \\'Missouri\\', \\'country\\': \\'USA United States of America\\', \\'lat\\': 39.4411, \\'lon\\': -91.0551, \\'tz_id\\': \\'America/Chicago\\', \\'localtime_epoch\\': 1729330925, \\'localtime\\': \\'2024-10-19 04:42\\'}, \\'current\\': {\\'last_updated_epoch\\': 1729330200, \\'last_updated\\': \\'2024-10-19 04:30\\', \\'temp_c\\': 7.2, \\'temp_f\\': 45.0, \\'is_day\\': 0, \\'condition\\': {\\'text\\': \\'Clear\\', \\'icon\\': \\'//cdn.weatherapi.com/weather/64x64/night/113.png\\', \\'code\\': 1000}, \\'wind_mph\\': 5.4, \\'wind_kph\\': 8.6, \\'wind_degree\\': 191, \\'wind_dir\\': \\'SSW\\', \\'pressure_mb\\': 1031.0, \\'pressure_in\\': 30.44, \\'precip_mm\\': 0.0, \\'precip_in\\': 0.0, \\'humidity\\': 74, \\'cloud\\': 0, \\'feelslike_c\\': 5.6, \\'feelslike_f\\': 42.0, \\'windchill_c\\': 6.0, \\'windchill_f\\': 42.7, \\'heatindex_c\\': 7.1, \\'heatindex_f\\': 44.7, \\'dewpoint_c\\': 4.8, \\'dewpoint_f\\': 40.7, \\'vis_km\\': 16.0, \\'vis_miles\\': 9.0, \\'uv\\': 0.0, \\'gust_mph\\': 11.3, \\'gust_kph\\': 18.1}}\"}, {\\'url\\': \\'https://en.climate-data.org/north-america/united-states-of-america/louisiana-943/r/october-10/\\', \\'content\\': \\'Are you planning a holiday with hopefully nice weather in Louisiana in October 2024? Here you can find all information about the weather in Louisiana in October: ... >>Louisiana weather by month // weather averages >>Louisiana weather in October // weather averages >>Current temperature and weather forecast for ... October: 19.8 (67.7) 15.1 (59\\'}]', name='tavily_search_results_json', id='da51773c-dbce-4047-8d06-a93e92f4f0f5', tool_call_id='call_v1rj')]}\n",
      "{'messages': [HumanMessage(content='Whats the weather in LA?', additional_kwargs={}, response_metadata={}, id='39db021b-73ed-4d3b-90de-8bcef017c05f'), AIMessage(content='', additional_kwargs={'tool_calls': [{'id': 'call_v1rj', 'function': {'arguments': '{\"query\": \"current weather in LA\"}', 'name': 'tavily_search_results_json'}, 'type': 'function'}, {'id': 'call_3yem', 'function': {'arguments': '{\"query\": \"weather forecast for Los Angeles\"}', 'name': 'tavily_search_results_json'}, 'type': 'function'}]}, response_metadata={'token_usage': {'completion_tokens': 67, 'prompt_tokens': 292, 'total_tokens': 359, 'completion_time': 0.21566457, 'prompt_time': 0.021977499, 'queue_time': 0.011076098999999996, 'total_time': 0.237642069}, 'model_name': 'llama3-groq-70b-8192-tool-use-preview', 'system_fingerprint': 'fp_ee4b521143', 'finish_reason': 'tool_calls', 'logprobs': None}, id='run-1f76ec40-4668-42dc-8736-c89dccccc1ba-0', tool_calls=[{'name': 'tavily_search_results_json', 'args': {'query': 'current weather in Louisiana'}, 'id': 'call_v1rj', 'type': 'tool_call'}], usage_metadata={'input_tokens': 292, 'output_tokens': 67, 'total_tokens': 359}), ToolMessage(content='[{\\'url\\': \\'https://www.weatherapi.com/\\', \\'content\\': \"{\\'location\\': {\\'name\\': \\'Louisiana\\', \\'region\\': \\'Missouri\\', \\'country\\': \\'USA United States of America\\', \\'lat\\': 39.4411, \\'lon\\': -91.0551, \\'tz_id\\': \\'America/Chicago\\', \\'localtime_epoch\\': 1729330925, \\'localtime\\': \\'2024-10-19 04:42\\'}, \\'current\\': {\\'last_updated_epoch\\': 1729330200, \\'last_updated\\': \\'2024-10-19 04:30\\', \\'temp_c\\': 7.2, \\'temp_f\\': 45.0, \\'is_day\\': 0, \\'condition\\': {\\'text\\': \\'Clear\\', \\'icon\\': \\'//cdn.weatherapi.com/weather/64x64/night/113.png\\', \\'code\\': 1000}, \\'wind_mph\\': 5.4, \\'wind_kph\\': 8.6, \\'wind_degree\\': 191, \\'wind_dir\\': \\'SSW\\', \\'pressure_mb\\': 1031.0, \\'pressure_in\\': 30.44, \\'precip_mm\\': 0.0, \\'precip_in\\': 0.0, \\'humidity\\': 74, \\'cloud\\': 0, \\'feelslike_c\\': 5.6, \\'feelslike_f\\': 42.0, \\'windchill_c\\': 6.0, \\'windchill_f\\': 42.7, \\'heatindex_c\\': 7.1, \\'heatindex_f\\': 44.7, \\'dewpoint_c\\': 4.8, \\'dewpoint_f\\': 40.7, \\'vis_km\\': 16.0, \\'vis_miles\\': 9.0, \\'uv\\': 0.0, \\'gust_mph\\': 11.3, \\'gust_kph\\': 18.1}}\"}, {\\'url\\': \\'https://en.climate-data.org/north-america/united-states-of-america/louisiana-943/r/october-10/\\', \\'content\\': \\'Are you planning a holiday with hopefully nice weather in Louisiana in October 2024? Here you can find all information about the weather in Louisiana in October: ... >>Louisiana weather by month // weather averages >>Louisiana weather in October // weather averages >>Current temperature and weather forecast for ... October: 19.8 (67.7) 15.1 (59\\'}]', name='tavily_search_results_json', id='da51773c-dbce-4047-8d06-a93e92f4f0f5', tool_call_id='call_v1rj'), AIMessage(content='The current weather in Louisiana is clear with a temperature of 7.2°C (45.0°F). The wind is blowing from the SSW at 5.4 mph (8.6 kph). The humidity is at 74%, and the pressure is 1031.0 mbar (30.44 in). For more detailed weather information and forecasts, you can visit the provided links.', additional_kwargs={}, response_metadata={'token_usage': {'completion_tokens': 83, 'prompt_tokens': 890, 'total_tokens': 973, 'completion_time': 0.264015637, 'prompt_time': 0.057929338, 'queue_time': 0.0007656759999999999, 'total_time': 0.321944975}, 'model_name': 'llama3-groq-70b-8192-tool-use-preview', 'system_fingerprint': 'fp_ee4b521143', 'finish_reason': 'stop', 'logprobs': None}, id='run-81d62e81-265a-4572-8a04-1f67101c7297-0', usage_metadata={'input_tokens': 890, 'output_tokens': 83, 'total_tokens': 973})]}\n",
      "{'messages': [AIMessage(content='The current weather in Louisiana is clear with a temperature of 7.2°C (45.0°F). The wind is blowing from the SSW at 5.4 mph (8.6 kph). The humidity is at 74%, and the pressure is 1031.0 mbar (30.44 in). For more detailed weather information and forecasts, you can visit the provided links.', additional_kwargs={}, response_metadata={'token_usage': {'completion_tokens': 83, 'prompt_tokens': 890, 'total_tokens': 973, 'completion_time': 0.264015637, 'prompt_time': 0.057929338, 'queue_time': 0.0007656759999999999, 'total_time': 0.321944975}, 'model_name': 'llama3-groq-70b-8192-tool-use-preview', 'system_fingerprint': 'fp_ee4b521143', 'finish_reason': 'stop', 'logprobs': None}, id='run-81d62e81-265a-4572-8a04-1f67101c7297-0', usage_metadata={'input_tokens': 890, 'output_tokens': 83, 'total_tokens': 973})]}\n"
     ]
    }
   ],
   "source": [
    "for event in abot.graph.stream(None, thread):\n",
    "    for v in event.values():\n",
    "        print(v)"
   ]
  },
  {
   "cell_type": "markdown",
   "id": "e75b870b-e0df-46f1-b29b-fb151ebcbcc3",
   "metadata": {},
   "source": [
    "## Time Travel"
   ]
  },
  {
   "cell_type": "code",
   "execution_count": 24,
   "id": "27cde654-64e2-48bc-80a9-0ed668ccb7dc",
   "metadata": {
    "height": 98
   },
   "outputs": [
    {
     "name": "stdout",
     "output_type": "stream",
     "text": [
      "StateSnapshot(values={'messages': [HumanMessage(content='Whats the weather in LA?', additional_kwargs={}, response_metadata={}, id='39db021b-73ed-4d3b-90de-8bcef017c05f'), AIMessage(content='', additional_kwargs={'tool_calls': [{'id': 'call_v1rj', 'function': {'arguments': '{\"query\": \"current weather in LA\"}', 'name': 'tavily_search_results_json'}, 'type': 'function'}, {'id': 'call_3yem', 'function': {'arguments': '{\"query\": \"weather forecast for Los Angeles\"}', 'name': 'tavily_search_results_json'}, 'type': 'function'}]}, response_metadata={'token_usage': {'completion_tokens': 67, 'prompt_tokens': 292, 'total_tokens': 359, 'completion_time': 0.21566457, 'prompt_time': 0.021977499, 'queue_time': 0.011076098999999996, 'total_time': 0.237642069}, 'model_name': 'llama3-groq-70b-8192-tool-use-preview', 'system_fingerprint': 'fp_ee4b521143', 'finish_reason': 'tool_calls', 'logprobs': None}, id='run-1f76ec40-4668-42dc-8736-c89dccccc1ba-0', tool_calls=[{'name': 'tavily_search_results_json', 'args': {'query': 'current weather in Louisiana'}, 'id': 'call_v1rj', 'type': 'tool_call'}], usage_metadata={'input_tokens': 292, 'output_tokens': 67, 'total_tokens': 359}), ToolMessage(content='[{\\'url\\': \\'https://www.weatherapi.com/\\', \\'content\\': \"{\\'location\\': {\\'name\\': \\'Louisiana\\', \\'region\\': \\'Missouri\\', \\'country\\': \\'USA United States of America\\', \\'lat\\': 39.4411, \\'lon\\': -91.0551, \\'tz_id\\': \\'America/Chicago\\', \\'localtime_epoch\\': 1729330925, \\'localtime\\': \\'2024-10-19 04:42\\'}, \\'current\\': {\\'last_updated_epoch\\': 1729330200, \\'last_updated\\': \\'2024-10-19 04:30\\', \\'temp_c\\': 7.2, \\'temp_f\\': 45.0, \\'is_day\\': 0, \\'condition\\': {\\'text\\': \\'Clear\\', \\'icon\\': \\'//cdn.weatherapi.com/weather/64x64/night/113.png\\', \\'code\\': 1000}, \\'wind_mph\\': 5.4, \\'wind_kph\\': 8.6, \\'wind_degree\\': 191, \\'wind_dir\\': \\'SSW\\', \\'pressure_mb\\': 1031.0, \\'pressure_in\\': 30.44, \\'precip_mm\\': 0.0, \\'precip_in\\': 0.0, \\'humidity\\': 74, \\'cloud\\': 0, \\'feelslike_c\\': 5.6, \\'feelslike_f\\': 42.0, \\'windchill_c\\': 6.0, \\'windchill_f\\': 42.7, \\'heatindex_c\\': 7.1, \\'heatindex_f\\': 44.7, \\'dewpoint_c\\': 4.8, \\'dewpoint_f\\': 40.7, \\'vis_km\\': 16.0, \\'vis_miles\\': 9.0, \\'uv\\': 0.0, \\'gust_mph\\': 11.3, \\'gust_kph\\': 18.1}}\"}, {\\'url\\': \\'https://en.climate-data.org/north-america/united-states-of-america/louisiana-943/r/october-10/\\', \\'content\\': \\'Are you planning a holiday with hopefully nice weather in Louisiana in October 2024? Here you can find all information about the weather in Louisiana in October: ... >>Louisiana weather by month // weather averages >>Louisiana weather in October // weather averages >>Current temperature and weather forecast for ... October: 19.8 (67.7) 15.1 (59\\'}]', name='tavily_search_results_json', id='da51773c-dbce-4047-8d06-a93e92f4f0f5', tool_call_id='call_v1rj'), AIMessage(content='The current weather in Louisiana is clear with a temperature of 7.2°C (45.0°F). The wind is blowing from the SSW at 5.4 mph (8.6 kph). The humidity is at 74%, and the pressure is 1031.0 mbar (30.44 in). For more detailed weather information and forecasts, you can visit the provided links.', additional_kwargs={}, response_metadata={'token_usage': {'completion_tokens': 83, 'prompt_tokens': 890, 'total_tokens': 973, 'completion_time': 0.264015637, 'prompt_time': 0.057929338, 'queue_time': 0.0007656759999999999, 'total_time': 0.321944975}, 'model_name': 'llama3-groq-70b-8192-tool-use-preview', 'system_fingerprint': 'fp_ee4b521143', 'finish_reason': 'stop', 'logprobs': None}, id='run-81d62e81-265a-4572-8a04-1f67101c7297-0', usage_metadata={'input_tokens': 890, 'output_tokens': 83, 'total_tokens': 973})]}, next=(), config={'configurable': {'thread_id': '3', 'checkpoint_ns': '', 'checkpoint_id': '1ef8dfe8-5c9e-6a44-8004-033a56c745d2'}}, metadata={'source': 'loop', 'writes': {'llm': {'messages': [AIMessage(content='The current weather in Louisiana is clear with a temperature of 7.2°C (45.0°F). The wind is blowing from the SSW at 5.4 mph (8.6 kph). The humidity is at 74%, and the pressure is 1031.0 mbar (30.44 in). For more detailed weather information and forecasts, you can visit the provided links.', additional_kwargs={}, response_metadata={'token_usage': {'completion_tokens': 83, 'prompt_tokens': 890, 'total_tokens': 973, 'completion_time': 0.264015637, 'prompt_time': 0.057929338, 'queue_time': 0.0007656759999999999, 'total_time': 0.321944975}, 'model_name': 'llama3-groq-70b-8192-tool-use-preview', 'system_fingerprint': 'fp_ee4b521143', 'finish_reason': 'stop', 'logprobs': None}, id='run-81d62e81-265a-4572-8a04-1f67101c7297-0', usage_metadata={'input_tokens': 890, 'output_tokens': 83, 'total_tokens': 973})]}}, 'step': 4, 'parents': {}}, created_at='2024-10-19T09:42:57.758657+00:00', parent_config={'configurable': {'thread_id': '3', 'checkpoint_ns': '', 'checkpoint_id': '1ef8dfe8-518a-6e2a-8003-69634cfc9619'}}, tasks=())\n",
      "--\n",
      "StateSnapshot(values={'messages': [HumanMessage(content='Whats the weather in LA?', additional_kwargs={}, response_metadata={}, id='39db021b-73ed-4d3b-90de-8bcef017c05f'), AIMessage(content='', additional_kwargs={'tool_calls': [{'id': 'call_v1rj', 'function': {'arguments': '{\"query\": \"current weather in LA\"}', 'name': 'tavily_search_results_json'}, 'type': 'function'}, {'id': 'call_3yem', 'function': {'arguments': '{\"query\": \"weather forecast for Los Angeles\"}', 'name': 'tavily_search_results_json'}, 'type': 'function'}]}, response_metadata={'token_usage': {'completion_tokens': 67, 'prompt_tokens': 292, 'total_tokens': 359, 'completion_time': 0.21566457, 'prompt_time': 0.021977499, 'queue_time': 0.011076098999999996, 'total_time': 0.237642069}, 'model_name': 'llama3-groq-70b-8192-tool-use-preview', 'system_fingerprint': 'fp_ee4b521143', 'finish_reason': 'tool_calls', 'logprobs': None}, id='run-1f76ec40-4668-42dc-8736-c89dccccc1ba-0', tool_calls=[{'name': 'tavily_search_results_json', 'args': {'query': 'current weather in Louisiana'}, 'id': 'call_v1rj', 'type': 'tool_call'}], usage_metadata={'input_tokens': 292, 'output_tokens': 67, 'total_tokens': 359}), ToolMessage(content='[{\\'url\\': \\'https://www.weatherapi.com/\\', \\'content\\': \"{\\'location\\': {\\'name\\': \\'Louisiana\\', \\'region\\': \\'Missouri\\', \\'country\\': \\'USA United States of America\\', \\'lat\\': 39.4411, \\'lon\\': -91.0551, \\'tz_id\\': \\'America/Chicago\\', \\'localtime_epoch\\': 1729330925, \\'localtime\\': \\'2024-10-19 04:42\\'}, \\'current\\': {\\'last_updated_epoch\\': 1729330200, \\'last_updated\\': \\'2024-10-19 04:30\\', \\'temp_c\\': 7.2, \\'temp_f\\': 45.0, \\'is_day\\': 0, \\'condition\\': {\\'text\\': \\'Clear\\', \\'icon\\': \\'//cdn.weatherapi.com/weather/64x64/night/113.png\\', \\'code\\': 1000}, \\'wind_mph\\': 5.4, \\'wind_kph\\': 8.6, \\'wind_degree\\': 191, \\'wind_dir\\': \\'SSW\\', \\'pressure_mb\\': 1031.0, \\'pressure_in\\': 30.44, \\'precip_mm\\': 0.0, \\'precip_in\\': 0.0, \\'humidity\\': 74, \\'cloud\\': 0, \\'feelslike_c\\': 5.6, \\'feelslike_f\\': 42.0, \\'windchill_c\\': 6.0, \\'windchill_f\\': 42.7, \\'heatindex_c\\': 7.1, \\'heatindex_f\\': 44.7, \\'dewpoint_c\\': 4.8, \\'dewpoint_f\\': 40.7, \\'vis_km\\': 16.0, \\'vis_miles\\': 9.0, \\'uv\\': 0.0, \\'gust_mph\\': 11.3, \\'gust_kph\\': 18.1}}\"}, {\\'url\\': \\'https://en.climate-data.org/north-america/united-states-of-america/louisiana-943/r/october-10/\\', \\'content\\': \\'Are you planning a holiday with hopefully nice weather in Louisiana in October 2024? Here you can find all information about the weather in Louisiana in October: ... >>Louisiana weather by month // weather averages >>Louisiana weather in October // weather averages >>Current temperature and weather forecast for ... October: 19.8 (67.7) 15.1 (59\\'}]', name='tavily_search_results_json', id='da51773c-dbce-4047-8d06-a93e92f4f0f5', tool_call_id='call_v1rj')]}, next=('llm',), config={'configurable': {'thread_id': '3', 'checkpoint_ns': '', 'checkpoint_id': '1ef8dfe8-518a-6e2a-8003-69634cfc9619'}}, metadata={'source': 'loop', 'writes': {'action': {'messages': [ToolMessage(content='[{\\'url\\': \\'https://www.weatherapi.com/\\', \\'content\\': \"{\\'location\\': {\\'name\\': \\'Louisiana\\', \\'region\\': \\'Missouri\\', \\'country\\': \\'USA United States of America\\', \\'lat\\': 39.4411, \\'lon\\': -91.0551, \\'tz_id\\': \\'America/Chicago\\', \\'localtime_epoch\\': 1729330925, \\'localtime\\': \\'2024-10-19 04:42\\'}, \\'current\\': {\\'last_updated_epoch\\': 1729330200, \\'last_updated\\': \\'2024-10-19 04:30\\', \\'temp_c\\': 7.2, \\'temp_f\\': 45.0, \\'is_day\\': 0, \\'condition\\': {\\'text\\': \\'Clear\\', \\'icon\\': \\'//cdn.weatherapi.com/weather/64x64/night/113.png\\', \\'code\\': 1000}, \\'wind_mph\\': 5.4, \\'wind_kph\\': 8.6, \\'wind_degree\\': 191, \\'wind_dir\\': \\'SSW\\', \\'pressure_mb\\': 1031.0, \\'pressure_in\\': 30.44, \\'precip_mm\\': 0.0, \\'precip_in\\': 0.0, \\'humidity\\': 74, \\'cloud\\': 0, \\'feelslike_c\\': 5.6, \\'feelslike_f\\': 42.0, \\'windchill_c\\': 6.0, \\'windchill_f\\': 42.7, \\'heatindex_c\\': 7.1, \\'heatindex_f\\': 44.7, \\'dewpoint_c\\': 4.8, \\'dewpoint_f\\': 40.7, \\'vis_km\\': 16.0, \\'vis_miles\\': 9.0, \\'uv\\': 0.0, \\'gust_mph\\': 11.3, \\'gust_kph\\': 18.1}}\"}, {\\'url\\': \\'https://en.climate-data.org/north-america/united-states-of-america/louisiana-943/r/october-10/\\', \\'content\\': \\'Are you planning a holiday with hopefully nice weather in Louisiana in October 2024? Here you can find all information about the weather in Louisiana in October: ... >>Louisiana weather by month // weather averages >>Louisiana weather in October // weather averages >>Current temperature and weather forecast for ... October: 19.8 (67.7) 15.1 (59\\'}]', name='tavily_search_results_json', id='da51773c-dbce-4047-8d06-a93e92f4f0f5', tool_call_id='call_v1rj')]}}, 'step': 3, 'parents': {}}, created_at='2024-10-19T09:42:56.597131+00:00', parent_config={'configurable': {'thread_id': '3', 'checkpoint_ns': '', 'checkpoint_id': '1ef8dfe8-2913-67b1-8002-db8b52c08886'}}, tasks=(PregelTask(id='31324e14-1625-6a3f-9bec-ed2b76605561', name='llm', path=('__pregel_pull', 'llm'), error=None, interrupts=(), state=None, result={'messages': [AIMessage(content='The current weather in Louisiana is clear with a temperature of 7.2°C (45.0°F). The wind is blowing from the SSW at 5.4 mph (8.6 kph). The humidity is at 74%, and the pressure is 1031.0 mbar (30.44 in). For more detailed weather information and forecasts, you can visit the provided links.', additional_kwargs={}, response_metadata={'token_usage': {'completion_tokens': 83, 'prompt_tokens': 890, 'total_tokens': 973, 'completion_time': 0.264015637, 'prompt_time': 0.057929338, 'queue_time': 0.0007656759999999999, 'total_time': 0.321944975}, 'model_name': 'llama3-groq-70b-8192-tool-use-preview', 'system_fingerprint': 'fp_ee4b521143', 'finish_reason': 'stop', 'logprobs': None}, id='run-81d62e81-265a-4572-8a04-1f67101c7297-0', usage_metadata={'input_tokens': 890, 'output_tokens': 83, 'total_tokens': 973})]}),))\n",
      "--\n",
      "StateSnapshot(values={'messages': [HumanMessage(content='Whats the weather in LA?', additional_kwargs={}, response_metadata={}, id='39db021b-73ed-4d3b-90de-8bcef017c05f'), AIMessage(content='', additional_kwargs={'tool_calls': [{'id': 'call_v1rj', 'function': {'arguments': '{\"query\": \"current weather in LA\"}', 'name': 'tavily_search_results_json'}, 'type': 'function'}, {'id': 'call_3yem', 'function': {'arguments': '{\"query\": \"weather forecast for Los Angeles\"}', 'name': 'tavily_search_results_json'}, 'type': 'function'}]}, response_metadata={'token_usage': {'completion_tokens': 67, 'prompt_tokens': 292, 'total_tokens': 359, 'completion_time': 0.21566457, 'prompt_time': 0.021977499, 'queue_time': 0.011076098999999996, 'total_time': 0.237642069}, 'model_name': 'llama3-groq-70b-8192-tool-use-preview', 'system_fingerprint': 'fp_ee4b521143', 'finish_reason': 'tool_calls', 'logprobs': None}, id='run-1f76ec40-4668-42dc-8736-c89dccccc1ba-0', tool_calls=[{'name': 'tavily_search_results_json', 'args': {'query': 'current weather in Louisiana'}, 'id': 'call_v1rj', 'type': 'tool_call'}], usage_metadata={'input_tokens': 292, 'output_tokens': 67, 'total_tokens': 359})]}, next=('action',), config={'configurable': {'thread_id': '3', 'checkpoint_ns': '', 'checkpoint_id': '1ef8dfe8-2913-67b1-8002-db8b52c08886'}}, metadata={'source': 'update', 'step': 2, 'writes': {'llm': {'messages': [HumanMessage(content='Whats the weather in LA?', additional_kwargs={}, response_metadata={}, id='39db021b-73ed-4d3b-90de-8bcef017c05f'), AIMessage(content='', additional_kwargs={'tool_calls': [{'id': 'call_v1rj', 'function': {'arguments': '{\"query\": \"current weather in LA\"}', 'name': 'tavily_search_results_json'}, 'type': 'function'}, {'id': 'call_3yem', 'function': {'arguments': '{\"query\": \"weather forecast for Los Angeles\"}', 'name': 'tavily_search_results_json'}, 'type': 'function'}]}, response_metadata={'token_usage': {'completion_tokens': 67, 'prompt_tokens': 292, 'total_tokens': 359, 'completion_time': 0.21566457, 'prompt_time': 0.021977499, 'queue_time': 0.011076098999999996, 'total_time': 0.237642069}, 'model_name': 'llama3-groq-70b-8192-tool-use-preview', 'system_fingerprint': 'fp_ee4b521143', 'finish_reason': 'tool_calls', 'logprobs': None}, id='run-1f76ec40-4668-42dc-8736-c89dccccc1ba-0', tool_calls=[{'name': 'tavily_search_results_json', 'args': {'query': 'current weather in Louisiana'}, 'id': 'call_v1rj', 'type': 'tool_call'}], usage_metadata={'input_tokens': 292, 'output_tokens': 67, 'total_tokens': 359})]}}, 'parents': {}}, created_at='2024-10-19T09:42:52.353911+00:00', parent_config={'configurable': {'thread_id': '3', 'checkpoint_ns': '', 'checkpoint_id': '1ef8dfe8-2895-69e4-8001-e5c69259266e'}}, tasks=(PregelTask(id='07242a7b-55b3-b83d-e9b3-185e77c397c9', name='action', path=('__pregel_pull', 'action'), error=None, interrupts=(), state=None, result={'messages': [ToolMessage(content='[{\\'url\\': \\'https://www.weatherapi.com/\\', \\'content\\': \"{\\'location\\': {\\'name\\': \\'Louisiana\\', \\'region\\': \\'Missouri\\', \\'country\\': \\'USA United States of America\\', \\'lat\\': 39.4411, \\'lon\\': -91.0551, \\'tz_id\\': \\'America/Chicago\\', \\'localtime_epoch\\': 1729330925, \\'localtime\\': \\'2024-10-19 04:42\\'}, \\'current\\': {\\'last_updated_epoch\\': 1729330200, \\'last_updated\\': \\'2024-10-19 04:30\\', \\'temp_c\\': 7.2, \\'temp_f\\': 45.0, \\'is_day\\': 0, \\'condition\\': {\\'text\\': \\'Clear\\', \\'icon\\': \\'//cdn.weatherapi.com/weather/64x64/night/113.png\\', \\'code\\': 1000}, \\'wind_mph\\': 5.4, \\'wind_kph\\': 8.6, \\'wind_degree\\': 191, \\'wind_dir\\': \\'SSW\\', \\'pressure_mb\\': 1031.0, \\'pressure_in\\': 30.44, \\'precip_mm\\': 0.0, \\'precip_in\\': 0.0, \\'humidity\\': 74, \\'cloud\\': 0, \\'feelslike_c\\': 5.6, \\'feelslike_f\\': 42.0, \\'windchill_c\\': 6.0, \\'windchill_f\\': 42.7, \\'heatindex_c\\': 7.1, \\'heatindex_f\\': 44.7, \\'dewpoint_c\\': 4.8, \\'dewpoint_f\\': 40.7, \\'vis_km\\': 16.0, \\'vis_miles\\': 9.0, \\'uv\\': 0.0, \\'gust_mph\\': 11.3, \\'gust_kph\\': 18.1}}\"}, {\\'url\\': \\'https://en.climate-data.org/north-america/united-states-of-america/louisiana-943/r/october-10/\\', \\'content\\': \\'Are you planning a holiday with hopefully nice weather in Louisiana in October 2024? Here you can find all information about the weather in Louisiana in October: ... >>Louisiana weather by month // weather averages >>Louisiana weather in October // weather averages >>Current temperature and weather forecast for ... October: 19.8 (67.7) 15.1 (59\\'}]', name='tavily_search_results_json', tool_call_id='call_v1rj')]}),))\n",
      "--\n",
      "StateSnapshot(values={'messages': [HumanMessage(content='Whats the weather in LA?', additional_kwargs={}, response_metadata={}, id='39db021b-73ed-4d3b-90de-8bcef017c05f'), AIMessage(content='', additional_kwargs={'tool_calls': [{'id': 'call_v1rj', 'function': {'arguments': '{\"query\": \"current weather in LA\"}', 'name': 'tavily_search_results_json'}, 'type': 'function'}, {'id': 'call_3yem', 'function': {'arguments': '{\"query\": \"weather forecast for Los Angeles\"}', 'name': 'tavily_search_results_json'}, 'type': 'function'}]}, response_metadata={'token_usage': {'completion_tokens': 67, 'prompt_tokens': 292, 'total_tokens': 359, 'completion_time': 0.21566457, 'prompt_time': 0.021977499, 'queue_time': 0.011076098999999996, 'total_time': 0.237642069}, 'model_name': 'llama3-groq-70b-8192-tool-use-preview', 'system_fingerprint': 'fp_ee4b521143', 'finish_reason': 'tool_calls', 'logprobs': None}, id='run-1f76ec40-4668-42dc-8736-c89dccccc1ba-0', tool_calls=[{'name': 'tavily_search_results_json', 'args': {'query': 'current weather in LA'}, 'id': 'call_v1rj', 'type': 'tool_call'}, {'name': 'tavily_search_results_json', 'args': {'query': 'weather forecast for Los Angeles'}, 'id': 'call_3yem', 'type': 'tool_call'}], usage_metadata={'input_tokens': 292, 'output_tokens': 67, 'total_tokens': 359})]}, next=('action',), config={'configurable': {'thread_id': '3', 'checkpoint_ns': '', 'checkpoint_id': '1ef8dfe8-2895-69e4-8001-e5c69259266e'}}, metadata={'source': 'loop', 'writes': {'llm': {'messages': [AIMessage(content='', additional_kwargs={'tool_calls': [{'id': 'call_v1rj', 'function': {'arguments': '{\"query\": \"current weather in LA\"}', 'name': 'tavily_search_results_json'}, 'type': 'function'}, {'id': 'call_3yem', 'function': {'arguments': '{\"query\": \"weather forecast for Los Angeles\"}', 'name': 'tavily_search_results_json'}, 'type': 'function'}]}, response_metadata={'token_usage': {'completion_tokens': 67, 'prompt_tokens': 292, 'total_tokens': 359, 'completion_time': 0.21566457, 'prompt_time': 0.021977499, 'queue_time': 0.011076098999999996, 'total_time': 0.237642069}, 'model_name': 'llama3-groq-70b-8192-tool-use-preview', 'system_fingerprint': 'fp_ee4b521143', 'finish_reason': 'tool_calls', 'logprobs': None}, id='run-1f76ec40-4668-42dc-8736-c89dccccc1ba-0', tool_calls=[{'name': 'tavily_search_results_json', 'args': {'query': 'current weather in LA'}, 'id': 'call_v1rj', 'type': 'tool_call'}, {'name': 'tavily_search_results_json', 'args': {'query': 'weather forecast for Los Angeles'}, 'id': 'call_3yem', 'type': 'tool_call'}], usage_metadata={'input_tokens': 292, 'output_tokens': 67, 'total_tokens': 359})]}}, 'step': 1, 'parents': {}}, created_at='2024-10-19T09:42:52.302367+00:00', parent_config={'configurable': {'thread_id': '3', 'checkpoint_ns': '', 'checkpoint_id': '1ef8dfe8-22e5-65dc-8000-07694d8c07e8'}}, tasks=(PregelTask(id='54c77e73-7315-4d87-e516-b5c359a1e61f', name='action', path=('__pregel_pull', 'action'), error=None, interrupts=(), state=None, result=None),))\n",
      "--\n",
      "StateSnapshot(values={'messages': [HumanMessage(content='Whats the weather in LA?', additional_kwargs={}, response_metadata={}, id='39db021b-73ed-4d3b-90de-8bcef017c05f')]}, next=('llm',), config={'configurable': {'thread_id': '3', 'checkpoint_ns': '', 'checkpoint_id': '1ef8dfe8-22e5-65dc-8000-07694d8c07e8'}}, metadata={'source': 'loop', 'writes': None, 'step': 0, 'parents': {}}, created_at='2024-10-19T09:42:51.705890+00:00', parent_config={'configurable': {'thread_id': '3', 'checkpoint_ns': '', 'checkpoint_id': '1ef8dfe8-22e2-69b7-bfff-d09a1a5d5f51'}}, tasks=(PregelTask(id='639e7004-36f8-fe8e-6011-0d72e087022d', name='llm', path=('__pregel_pull', 'llm'), error=None, interrupts=(), state=None, result={'messages': [AIMessage(content='', additional_kwargs={'tool_calls': [{'id': 'call_v1rj', 'function': {'arguments': '{\"query\": \"current weather in LA\"}', 'name': 'tavily_search_results_json'}, 'type': 'function'}, {'id': 'call_3yem', 'function': {'arguments': '{\"query\": \"weather forecast for Los Angeles\"}', 'name': 'tavily_search_results_json'}, 'type': 'function'}]}, response_metadata={'token_usage': {'completion_tokens': 67, 'prompt_tokens': 292, 'total_tokens': 359, 'completion_time': 0.21566457, 'prompt_time': 0.021977499, 'queue_time': 0.011076098999999996, 'total_time': 0.237642069}, 'model_name': 'llama3-groq-70b-8192-tool-use-preview', 'system_fingerprint': 'fp_ee4b521143', 'finish_reason': 'tool_calls', 'logprobs': None}, id='run-1f76ec40-4668-42dc-8736-c89dccccc1ba-0', tool_calls=[{'name': 'tavily_search_results_json', 'args': {'query': 'current weather in LA'}, 'id': 'call_v1rj', 'type': 'tool_call'}, {'name': 'tavily_search_results_json', 'args': {'query': 'weather forecast for Los Angeles'}, 'id': 'call_3yem', 'type': 'tool_call'}], usage_metadata={'input_tokens': 292, 'output_tokens': 67, 'total_tokens': 359})]}),))\n",
      "--\n",
      "StateSnapshot(values={'messages': []}, next=('__start__',), config={'configurable': {'thread_id': '3', 'checkpoint_ns': '', 'checkpoint_id': '1ef8dfe8-22e2-69b7-bfff-d09a1a5d5f51'}}, metadata={'source': 'input', 'writes': {'__start__': {'messages': [HumanMessage(content='Whats the weather in LA?', additional_kwargs={}, response_metadata={})]}}, 'step': -1, 'parents': {}}, created_at='2024-10-19T09:42:51.704766+00:00', parent_config=None, tasks=(PregelTask(id='d9ec5856-a5da-7545-8959-0a4efbcaa4ee', name='__start__', path=('__pregel_pull', '__start__'), error=None, interrupts=(), state=None, result={'messages': [HumanMessage(content='Whats the weather in LA?', additional_kwargs={}, response_metadata={}, id='39db021b-73ed-4d3b-90de-8bcef017c05f')]}),))\n",
      "--\n"
     ]
    }
   ],
   "source": [
    "states = []\n",
    "for state in abot.graph.get_state_history(thread):\n",
    "    print(state)\n",
    "    print('--')\n",
    "    states.append(state)"
   ]
  },
  {
   "cell_type": "markdown",
   "id": "449896c8-6ec6-4166-b640-9cd1530336a0",
   "metadata": {},
   "source": [
    "To fetch the same state as was filmed, the offset below is changed to `-3` from `-1`. This accounts for the initial state `__start__` and the first state that are now stored to state memory with the latest version of software."
   ]
  },
  {
   "cell_type": "code",
   "execution_count": 25,
   "id": "4871f644-b131-4065-b7ce-b82c20a41f11",
   "metadata": {
    "height": 30
   },
   "outputs": [],
   "source": [
    "to_replay = states[-3]"
   ]
  },
  {
   "cell_type": "code",
   "execution_count": 26,
   "id": "8c3d8070-3f36-4cf0-a677-508e54359c8f",
   "metadata": {
    "height": 30
   },
   "outputs": [
    {
     "data": {
      "text/plain": [
       "StateSnapshot(values={'messages': [HumanMessage(content='Whats the weather in LA?', additional_kwargs={}, response_metadata={}, id='39db021b-73ed-4d3b-90de-8bcef017c05f'), AIMessage(content='', additional_kwargs={'tool_calls': [{'id': 'call_v1rj', 'function': {'arguments': '{\"query\": \"current weather in LA\"}', 'name': 'tavily_search_results_json'}, 'type': 'function'}, {'id': 'call_3yem', 'function': {'arguments': '{\"query\": \"weather forecast for Los Angeles\"}', 'name': 'tavily_search_results_json'}, 'type': 'function'}]}, response_metadata={'token_usage': {'completion_tokens': 67, 'prompt_tokens': 292, 'total_tokens': 359, 'completion_time': 0.21566457, 'prompt_time': 0.021977499, 'queue_time': 0.011076098999999996, 'total_time': 0.237642069}, 'model_name': 'llama3-groq-70b-8192-tool-use-preview', 'system_fingerprint': 'fp_ee4b521143', 'finish_reason': 'tool_calls', 'logprobs': None}, id='run-1f76ec40-4668-42dc-8736-c89dccccc1ba-0', tool_calls=[{'name': 'tavily_search_results_json', 'args': {'query': 'current weather in LA'}, 'id': 'call_v1rj', 'type': 'tool_call'}, {'name': 'tavily_search_results_json', 'args': {'query': 'weather forecast for Los Angeles'}, 'id': 'call_3yem', 'type': 'tool_call'}], usage_metadata={'input_tokens': 292, 'output_tokens': 67, 'total_tokens': 359})]}, next=('action',), config={'configurable': {'thread_id': '3', 'checkpoint_ns': '', 'checkpoint_id': '1ef8dfe8-2895-69e4-8001-e5c69259266e'}}, metadata={'source': 'loop', 'writes': {'llm': {'messages': [AIMessage(content='', additional_kwargs={'tool_calls': [{'id': 'call_v1rj', 'function': {'arguments': '{\"query\": \"current weather in LA\"}', 'name': 'tavily_search_results_json'}, 'type': 'function'}, {'id': 'call_3yem', 'function': {'arguments': '{\"query\": \"weather forecast for Los Angeles\"}', 'name': 'tavily_search_results_json'}, 'type': 'function'}]}, response_metadata={'token_usage': {'completion_tokens': 67, 'prompt_tokens': 292, 'total_tokens': 359, 'completion_time': 0.21566457, 'prompt_time': 0.021977499, 'queue_time': 0.011076098999999996, 'total_time': 0.237642069}, 'model_name': 'llama3-groq-70b-8192-tool-use-preview', 'system_fingerprint': 'fp_ee4b521143', 'finish_reason': 'tool_calls', 'logprobs': None}, id='run-1f76ec40-4668-42dc-8736-c89dccccc1ba-0', tool_calls=[{'name': 'tavily_search_results_json', 'args': {'query': 'current weather in LA'}, 'id': 'call_v1rj', 'type': 'tool_call'}, {'name': 'tavily_search_results_json', 'args': {'query': 'weather forecast for Los Angeles'}, 'id': 'call_3yem', 'type': 'tool_call'}], usage_metadata={'input_tokens': 292, 'output_tokens': 67, 'total_tokens': 359})]}}, 'step': 1, 'parents': {}}, created_at='2024-10-19T09:42:52.302367+00:00', parent_config={'configurable': {'thread_id': '3', 'checkpoint_ns': '', 'checkpoint_id': '1ef8dfe8-22e5-65dc-8000-07694d8c07e8'}}, tasks=(PregelTask(id='54c77e73-7315-4d87-e516-b5c359a1e61f', name='action', path=('__pregel_pull', 'action'), error=None, interrupts=(), state=None, result=None),))"
      ]
     },
     "execution_count": 26,
     "metadata": {},
     "output_type": "execute_result"
    }
   ],
   "source": [
    "to_replay"
   ]
  },
  {
   "cell_type": "code",
   "execution_count": 27,
   "id": "98f3be1d-cc4c-41fa-9863-3e386e88e305",
   "metadata": {
    "height": 64
   },
   "outputs": [
    {
     "name": "stdout",
     "output_type": "stream",
     "text": [
      "Calling: {'name': 'tavily_search_results_json', 'args': {'query': 'current weather in LA'}, 'id': 'call_v1rj', 'type': 'tool_call'}\n",
      "Calling: {'name': 'tavily_search_results_json', 'args': {'query': 'weather forecast for Los Angeles'}, 'id': 'call_3yem', 'type': 'tool_call'}\n",
      "Back to the model!\n",
      "{'messages': [ToolMessage(content='[{\\'url\\': \\'https://www.weatherapi.com/\\', \\'content\\': \"{\\'location\\': {\\'name\\': \\'Los Angeles\\', \\'region\\': \\'California\\', \\'country\\': \\'United States of America\\', \\'lat\\': 34.0522, \\'lon\\': -118.2428, \\'tz_id\\': \\'America/Los_Angeles\\', \\'localtime_epoch\\': 1729330809, \\'localtime\\': \\'2024-10-19 02:40\\'}, \\'current\\': {\\'last_updated_epoch\\': 1729330200, \\'last_updated\\': \\'2024-10-19 02:30\\', \\'temp_c\\': 16.1, \\'temp_f\\': 61.0, \\'is_day\\': 0, \\'condition\\': {\\'text\\': \\'Clear\\', \\'icon\\': \\'//cdn.weatherapi.com/weather/64x64/night/113.png\\', \\'code\\': 1000}, \\'wind_mph\\': 3.8, \\'wind_kph\\': 6.1, \\'wind_degree\\': 14, \\'wind_dir\\': \\'NNE\\', \\'pressure_mb\\': 1016.0, \\'pressure_in\\': 30.0, \\'precip_mm\\': 0.0, \\'precip_in\\': 0.0, \\'humidity\\': 67, \\'cloud\\': 0, \\'feelslike_c\\': 16.1, \\'feelslike_f\\': 61.0, \\'windchill_c\\': 18.0, \\'windchill_f\\': 64.4, \\'heatindex_c\\': 18.0, \\'heatindex_f\\': 64.4, \\'dewpoint_c\\': -6.9, \\'dewpoint_f\\': 19.6, \\'vis_km\\': 16.0, \\'vis_miles\\': 9.0, \\'uv\\': 0.0, \\'gust_mph\\': 7.9, \\'gust_kph\\': 12.6}}\"}, {\\'url\\': \\'https://world-weather.info/forecast/usa/los_angeles/october-2024/\\', \\'content\\': \\'Detailed ⚡ Los Angeles Weather Forecast for October 2024 - day/night 🌡️ temperatures, precipitations - World-Weather.info. Add the current city. Search. Weather; Archive; Widgets °F. World; United States; California; ... 19 +77° +64° 20 +77° +64° 21\\'}]', name='tavily_search_results_json', id='07bed18b-5f6a-4e51-bfad-1a42e0704820', tool_call_id='call_v1rj'), ToolMessage(content='[{\\'url\\': \\'https://www.weatherapi.com/\\', \\'content\\': \"{\\'location\\': {\\'name\\': \\'Los Angeles\\', \\'region\\': \\'California\\', \\'country\\': \\'United States of America\\', \\'lat\\': 34.0522, \\'lon\\': -118.2428, \\'tz_id\\': \\'America/Los_Angeles\\', \\'localtime_epoch\\': 1729330809, \\'localtime\\': \\'2024-10-19 02:40\\'}, \\'current\\': {\\'last_updated_epoch\\': 1729330200, \\'last_updated\\': \\'2024-10-19 02:30\\', \\'temp_c\\': 16.1, \\'temp_f\\': 61.0, \\'is_day\\': 0, \\'condition\\': {\\'text\\': \\'Clear\\', \\'icon\\': \\'//cdn.weatherapi.com/weather/64x64/night/113.png\\', \\'code\\': 1000}, \\'wind_mph\\': 3.8, \\'wind_kph\\': 6.1, \\'wind_degree\\': 14, \\'wind_dir\\': \\'NNE\\', \\'pressure_mb\\': 1016.0, \\'pressure_in\\': 30.0, \\'precip_mm\\': 0.0, \\'precip_in\\': 0.0, \\'humidity\\': 67, \\'cloud\\': 0, \\'feelslike_c\\': 16.1, \\'feelslike_f\\': 61.0, \\'windchill_c\\': 18.0, \\'windchill_f\\': 64.4, \\'heatindex_c\\': 18.0, \\'heatindex_f\\': 64.4, \\'dewpoint_c\\': -6.9, \\'dewpoint_f\\': 19.6, \\'vis_km\\': 16.0, \\'vis_miles\\': 9.0, \\'uv\\': 0.0, \\'gust_mph\\': 7.9, \\'gust_kph\\': 12.6}}\"}, {\\'url\\': \\'https://www.weather.gov/lox/\\', \\'content\\': \\'Los Angeles, CA. Weather Forecast Office. NWS Forecast Office Los Angeles, CA. Weather.gov > Los Angeles, ... 2024 at 2:04:35 am PDT Watches, Warnings & Advisories. Zoom Out. High Wind Warning. Gale Warning. Freeze Warning. Red Flag Warning. ... National Weather Service Los Angeles, CA 520 North Elevar Street Oxnard, CA 93030 805-988-6610\\'}]', name='tavily_search_results_json', id='d4125f71-7d0c-4b50-8d4f-dee190bed497', tool_call_id='call_3yem')]}\n",
      "{'messages': [HumanMessage(content='Whats the weather in LA?', additional_kwargs={}, response_metadata={}, id='39db021b-73ed-4d3b-90de-8bcef017c05f'), AIMessage(content='', additional_kwargs={'tool_calls': [{'id': 'call_v1rj', 'function': {'arguments': '{\"query\": \"current weather in LA\"}', 'name': 'tavily_search_results_json'}, 'type': 'function'}, {'id': 'call_3yem', 'function': {'arguments': '{\"query\": \"weather forecast for Los Angeles\"}', 'name': 'tavily_search_results_json'}, 'type': 'function'}]}, response_metadata={'token_usage': {'completion_tokens': 67, 'prompt_tokens': 292, 'total_tokens': 359, 'completion_time': 0.21566457, 'prompt_time': 0.021977499, 'queue_time': 0.011076098999999996, 'total_time': 0.237642069}, 'model_name': 'llama3-groq-70b-8192-tool-use-preview', 'system_fingerprint': 'fp_ee4b521143', 'finish_reason': 'tool_calls', 'logprobs': None}, id='run-1f76ec40-4668-42dc-8736-c89dccccc1ba-0', tool_calls=[{'name': 'tavily_search_results_json', 'args': {'query': 'current weather in LA'}, 'id': 'call_v1rj', 'type': 'tool_call'}, {'name': 'tavily_search_results_json', 'args': {'query': 'weather forecast for Los Angeles'}, 'id': 'call_3yem', 'type': 'tool_call'}], usage_metadata={'input_tokens': 292, 'output_tokens': 67, 'total_tokens': 359}), ToolMessage(content='[{\\'url\\': \\'https://www.weatherapi.com/\\', \\'content\\': \"{\\'location\\': {\\'name\\': \\'Los Angeles\\', \\'region\\': \\'California\\', \\'country\\': \\'United States of America\\', \\'lat\\': 34.0522, \\'lon\\': -118.2428, \\'tz_id\\': \\'America/Los_Angeles\\', \\'localtime_epoch\\': 1729330809, \\'localtime\\': \\'2024-10-19 02:40\\'}, \\'current\\': {\\'last_updated_epoch\\': 1729330200, \\'last_updated\\': \\'2024-10-19 02:30\\', \\'temp_c\\': 16.1, \\'temp_f\\': 61.0, \\'is_day\\': 0, \\'condition\\': {\\'text\\': \\'Clear\\', \\'icon\\': \\'//cdn.weatherapi.com/weather/64x64/night/113.png\\', \\'code\\': 1000}, \\'wind_mph\\': 3.8, \\'wind_kph\\': 6.1, \\'wind_degree\\': 14, \\'wind_dir\\': \\'NNE\\', \\'pressure_mb\\': 1016.0, \\'pressure_in\\': 30.0, \\'precip_mm\\': 0.0, \\'precip_in\\': 0.0, \\'humidity\\': 67, \\'cloud\\': 0, \\'feelslike_c\\': 16.1, \\'feelslike_f\\': 61.0, \\'windchill_c\\': 18.0, \\'windchill_f\\': 64.4, \\'heatindex_c\\': 18.0, \\'heatindex_f\\': 64.4, \\'dewpoint_c\\': -6.9, \\'dewpoint_f\\': 19.6, \\'vis_km\\': 16.0, \\'vis_miles\\': 9.0, \\'uv\\': 0.0, \\'gust_mph\\': 7.9, \\'gust_kph\\': 12.6}}\"}, {\\'url\\': \\'https://world-weather.info/forecast/usa/los_angeles/october-2024/\\', \\'content\\': \\'Detailed ⚡ Los Angeles Weather Forecast for October 2024 - day/night 🌡️ temperatures, precipitations - World-Weather.info. Add the current city. Search. Weather; Archive; Widgets °F. World; United States; California; ... 19 +77° +64° 20 +77° +64° 21\\'}]', name='tavily_search_results_json', id='07bed18b-5f6a-4e51-bfad-1a42e0704820', tool_call_id='call_v1rj'), ToolMessage(content='[{\\'url\\': \\'https://www.weatherapi.com/\\', \\'content\\': \"{\\'location\\': {\\'name\\': \\'Los Angeles\\', \\'region\\': \\'California\\', \\'country\\': \\'United States of America\\', \\'lat\\': 34.0522, \\'lon\\': -118.2428, \\'tz_id\\': \\'America/Los_Angeles\\', \\'localtime_epoch\\': 1729330809, \\'localtime\\': \\'2024-10-19 02:40\\'}, \\'current\\': {\\'last_updated_epoch\\': 1729330200, \\'last_updated\\': \\'2024-10-19 02:30\\', \\'temp_c\\': 16.1, \\'temp_f\\': 61.0, \\'is_day\\': 0, \\'condition\\': {\\'text\\': \\'Clear\\', \\'icon\\': \\'//cdn.weatherapi.com/weather/64x64/night/113.png\\', \\'code\\': 1000}, \\'wind_mph\\': 3.8, \\'wind_kph\\': 6.1, \\'wind_degree\\': 14, \\'wind_dir\\': \\'NNE\\', \\'pressure_mb\\': 1016.0, \\'pressure_in\\': 30.0, \\'precip_mm\\': 0.0, \\'precip_in\\': 0.0, \\'humidity\\': 67, \\'cloud\\': 0, \\'feelslike_c\\': 16.1, \\'feelslike_f\\': 61.0, \\'windchill_c\\': 18.0, \\'windchill_f\\': 64.4, \\'heatindex_c\\': 18.0, \\'heatindex_f\\': 64.4, \\'dewpoint_c\\': -6.9, \\'dewpoint_f\\': 19.6, \\'vis_km\\': 16.0, \\'vis_miles\\': 9.0, \\'uv\\': 0.0, \\'gust_mph\\': 7.9, \\'gust_kph\\': 12.6}}\"}, {\\'url\\': \\'https://www.weather.gov/lox/\\', \\'content\\': \\'Los Angeles, CA. Weather Forecast Office. NWS Forecast Office Los Angeles, CA. Weather.gov > Los Angeles, ... 2024 at 2:04:35 am PDT Watches, Warnings & Advisories. Zoom Out. High Wind Warning. Gale Warning. Freeze Warning. Red Flag Warning. ... National Weather Service Los Angeles, CA 520 North Elevar Street Oxnard, CA 93030 805-988-6610\\'}]', name='tavily_search_results_json', id='d4125f71-7d0c-4b50-8d4f-dee190bed497', tool_call_id='call_3yem'), AIMessage(content='The current weather in Los Angeles is clear with a temperature of 61.0°F (16.1°C). The wind is blowing from the NNE at 3.8 mph (6.1 kph). There are no precipitation expected. The humidity is at 67%, and the visibility is 9 miles (16 km). For the weather forecast, you can check the detailed forecast for October 2024 on the provided links.', additional_kwargs={}, response_metadata={'token_usage': {'completion_tokens': 90, 'prompt_tokens': 1435, 'total_tokens': 1525, 'completion_time': 0.287125923, 'prompt_time': 0.090708912, 'queue_time': -0.029888277000000005, 'total_time': 0.377834835}, 'model_name': 'llama3-groq-70b-8192-tool-use-preview', 'system_fingerprint': 'fp_ee4b521143', 'finish_reason': 'stop', 'logprobs': None}, id='run-06d74165-9909-40d8-bc23-42773b12b7cc-0', usage_metadata={'input_tokens': 1435, 'output_tokens': 90, 'total_tokens': 1525})]}\n",
      "{'messages': [AIMessage(content='The current weather in Los Angeles is clear with a temperature of 61.0°F (16.1°C). The wind is blowing from the NNE at 3.8 mph (6.1 kph). There are no precipitation expected. The humidity is at 67%, and the visibility is 9 miles (16 km). For the weather forecast, you can check the detailed forecast for October 2024 on the provided links.', additional_kwargs={}, response_metadata={'token_usage': {'completion_tokens': 90, 'prompt_tokens': 1435, 'total_tokens': 1525, 'completion_time': 0.287125923, 'prompt_time': 0.090708912, 'queue_time': -0.029888277000000005, 'total_time': 0.377834835}, 'model_name': 'llama3-groq-70b-8192-tool-use-preview', 'system_fingerprint': 'fp_ee4b521143', 'finish_reason': 'stop', 'logprobs': None}, id='run-06d74165-9909-40d8-bc23-42773b12b7cc-0', usage_metadata={'input_tokens': 1435, 'output_tokens': 90, 'total_tokens': 1525})]}\n"
     ]
    }
   ],
   "source": [
    "for event in abot.graph.stream(None, to_replay.config):\n",
    "    for k, v in event.items():\n",
    "        print(v)"
   ]
  },
  {
   "cell_type": "markdown",
   "id": "005353dc-630b-4b40-ab19-56c57ac06611",
   "metadata": {},
   "source": [
    "## Go back in time and edit"
   ]
  },
  {
   "cell_type": "code",
   "execution_count": 28,
   "id": "0ad8a6cc-65d4-4ce7-87aa-4e67d7c23d7b",
   "metadata": {
    "height": 30
   },
   "outputs": [
    {
     "data": {
      "text/plain": [
       "StateSnapshot(values={'messages': [HumanMessage(content='Whats the weather in LA?', additional_kwargs={}, response_metadata={}, id='39db021b-73ed-4d3b-90de-8bcef017c05f'), AIMessage(content='', additional_kwargs={'tool_calls': [{'id': 'call_v1rj', 'function': {'arguments': '{\"query\": \"current weather in LA\"}', 'name': 'tavily_search_results_json'}, 'type': 'function'}, {'id': 'call_3yem', 'function': {'arguments': '{\"query\": \"weather forecast for Los Angeles\"}', 'name': 'tavily_search_results_json'}, 'type': 'function'}]}, response_metadata={'token_usage': {'completion_tokens': 67, 'prompt_tokens': 292, 'total_tokens': 359, 'completion_time': 0.21566457, 'prompt_time': 0.021977499, 'queue_time': 0.011076098999999996, 'total_time': 0.237642069}, 'model_name': 'llama3-groq-70b-8192-tool-use-preview', 'system_fingerprint': 'fp_ee4b521143', 'finish_reason': 'tool_calls', 'logprobs': None}, id='run-1f76ec40-4668-42dc-8736-c89dccccc1ba-0', tool_calls=[{'name': 'tavily_search_results_json', 'args': {'query': 'current weather in LA'}, 'id': 'call_v1rj', 'type': 'tool_call'}, {'name': 'tavily_search_results_json', 'args': {'query': 'weather forecast for Los Angeles'}, 'id': 'call_3yem', 'type': 'tool_call'}], usage_metadata={'input_tokens': 292, 'output_tokens': 67, 'total_tokens': 359})]}, next=('action',), config={'configurable': {'thread_id': '3', 'checkpoint_ns': '', 'checkpoint_id': '1ef8dfe8-2895-69e4-8001-e5c69259266e'}}, metadata={'source': 'loop', 'writes': {'llm': {'messages': [AIMessage(content='', additional_kwargs={'tool_calls': [{'id': 'call_v1rj', 'function': {'arguments': '{\"query\": \"current weather in LA\"}', 'name': 'tavily_search_results_json'}, 'type': 'function'}, {'id': 'call_3yem', 'function': {'arguments': '{\"query\": \"weather forecast for Los Angeles\"}', 'name': 'tavily_search_results_json'}, 'type': 'function'}]}, response_metadata={'token_usage': {'completion_tokens': 67, 'prompt_tokens': 292, 'total_tokens': 359, 'completion_time': 0.21566457, 'prompt_time': 0.021977499, 'queue_time': 0.011076098999999996, 'total_time': 0.237642069}, 'model_name': 'llama3-groq-70b-8192-tool-use-preview', 'system_fingerprint': 'fp_ee4b521143', 'finish_reason': 'tool_calls', 'logprobs': None}, id='run-1f76ec40-4668-42dc-8736-c89dccccc1ba-0', tool_calls=[{'name': 'tavily_search_results_json', 'args': {'query': 'current weather in LA'}, 'id': 'call_v1rj', 'type': 'tool_call'}, {'name': 'tavily_search_results_json', 'args': {'query': 'weather forecast for Los Angeles'}, 'id': 'call_3yem', 'type': 'tool_call'}], usage_metadata={'input_tokens': 292, 'output_tokens': 67, 'total_tokens': 359})]}}, 'step': 1, 'parents': {}}, created_at='2024-10-19T09:42:52.302367+00:00', parent_config={'configurable': {'thread_id': '3', 'checkpoint_ns': '', 'checkpoint_id': '1ef8dfe8-22e5-65dc-8000-07694d8c07e8'}}, tasks=(PregelTask(id='54c77e73-7315-4d87-e516-b5c359a1e61f', name='action', path=('__pregel_pull', 'action'), error=None, interrupts=(), state=None, result=None),))"
      ]
     },
     "execution_count": 28,
     "metadata": {},
     "output_type": "execute_result"
    }
   ],
   "source": [
    "to_replay"
   ]
  },
  {
   "cell_type": "code",
   "execution_count": 29,
   "id": "592b5e62-a203-433c-92a0-3783f490cde1",
   "metadata": {
    "height": 95
   },
   "outputs": [],
   "source": [
    "_id = to_replay.values['messages'][-1].tool_calls[0]['id']\n",
    "to_replay.values['messages'][-1].tool_calls = [{'name': 'tavily_search_results_json',\n",
    "  'args': {'query': 'current weather in LA, accuweather'},\n",
    "  'id': _id}]"
   ]
  },
  {
   "cell_type": "code",
   "execution_count": 30,
   "id": "14fa923c-7e4f-42d1-965f-0f8ccd50fbd7",
   "metadata": {
    "height": 44
   },
   "outputs": [
    {
     "name": "stdout",
     "output_type": "stream",
     "text": [
      "{'messages': [HumanMessage(content='Whats the weather in LA?', additional_kwargs={}, response_metadata={}, id='39db021b-73ed-4d3b-90de-8bcef017c05f'), AIMessage(content='', additional_kwargs={'tool_calls': [{'id': 'call_v1rj', 'function': {'arguments': '{\"query\": \"current weather in LA\"}', 'name': 'tavily_search_results_json'}, 'type': 'function'}, {'id': 'call_3yem', 'function': {'arguments': '{\"query\": \"weather forecast for Los Angeles\"}', 'name': 'tavily_search_results_json'}, 'type': 'function'}]}, response_metadata={'token_usage': {'completion_tokens': 67, 'prompt_tokens': 292, 'total_tokens': 359, 'completion_time': 0.21566457, 'prompt_time': 0.021977499, 'queue_time': 0.011076098999999996, 'total_time': 0.237642069}, 'model_name': 'llama3-groq-70b-8192-tool-use-preview', 'system_fingerprint': 'fp_ee4b521143', 'finish_reason': 'tool_calls', 'logprobs': None}, id='run-1f76ec40-4668-42dc-8736-c89dccccc1ba-0', tool_calls=[{'name': 'tavily_search_results_json', 'args': {'query': 'current weather in LA, accuweather'}, 'id': 'call_v1rj'}], usage_metadata={'input_tokens': 292, 'output_tokens': 67, 'total_tokens': 359})]}\n"
     ]
    }
   ],
   "source": [
    "branch_state = abot.graph.update_state(to_replay.config, to_replay.values)"
   ]
  },
  {
   "cell_type": "code",
   "execution_count": 31,
   "id": "570c6245-2837-4ac5-983b-95f61f3ac10d",
   "metadata": {
    "height": 81
   },
   "outputs": [
    {
     "name": "stdout",
     "output_type": "stream",
     "text": [
      "Calling: {'name': 'tavily_search_results_json', 'args': {'query': 'current weather in LA, accuweather'}, 'id': 'call_v1rj', 'type': 'tool_call'}\n",
      "Back to the model!\n",
      "{'messages': [ToolMessage(content='[{\\'url\\': \\'https://www.weatherapi.com/\\', \\'content\\': \"{\\'location\\': {\\'name\\': \\'Los Angeles\\', \\'region\\': \\'California\\', \\'country\\': \\'United States of America\\', \\'lat\\': 34.0522, \\'lon\\': -118.2428, \\'tz_id\\': \\'America/Los_Angeles\\', \\'localtime_epoch\\': 1729330941, \\'localtime\\': \\'2024-10-19 02:42\\'}, \\'current\\': {\\'last_updated_epoch\\': 1729330200, \\'last_updated\\': \\'2024-10-19 02:30\\', \\'temp_c\\': 16.1, \\'temp_f\\': 61.0, \\'is_day\\': 0, \\'condition\\': {\\'text\\': \\'Clear\\', \\'icon\\': \\'//cdn.weatherapi.com/weather/64x64/night/113.png\\', \\'code\\': 1000}, \\'wind_mph\\': 3.8, \\'wind_kph\\': 6.1, \\'wind_degree\\': 14, \\'wind_dir\\': \\'NNE\\', \\'pressure_mb\\': 1016.0, \\'pressure_in\\': 30.0, \\'precip_mm\\': 0.0, \\'precip_in\\': 0.0, \\'humidity\\': 67, \\'cloud\\': 0, \\'feelslike_c\\': 16.1, \\'feelslike_f\\': 61.0, \\'windchill_c\\': 18.0, \\'windchill_f\\': 64.4, \\'heatindex_c\\': 18.0, \\'heatindex_f\\': 64.4, \\'dewpoint_c\\': -6.9, \\'dewpoint_f\\': 19.6, \\'vis_km\\': 16.0, \\'vis_miles\\': 9.0, \\'uv\\': 0.0, \\'gust_mph\\': 7.9, \\'gust_kph\\': 12.6}}\"}, {\\'url\\': \\'https://www.accuweather.com/en/us/los-angeles/90012/current-weather/347625\\', \\'content\\': \\'Current weather in Los Angeles, CA. Check current conditions in Los Angeles, CA with radar, hourly, and more.\\'}]', name='tavily_search_results_json', id='382ac538-ae43-437f-bbc2-adefeef4ab21', tool_call_id='call_v1rj')]}\n",
      "{'messages': [HumanMessage(content='Whats the weather in LA?', additional_kwargs={}, response_metadata={}, id='39db021b-73ed-4d3b-90de-8bcef017c05f'), AIMessage(content='', additional_kwargs={'tool_calls': [{'id': 'call_v1rj', 'function': {'arguments': '{\"query\": \"current weather in LA\"}', 'name': 'tavily_search_results_json'}, 'type': 'function'}, {'id': 'call_3yem', 'function': {'arguments': '{\"query\": \"weather forecast for Los Angeles\"}', 'name': 'tavily_search_results_json'}, 'type': 'function'}]}, response_metadata={'token_usage': {'completion_tokens': 67, 'prompt_tokens': 292, 'total_tokens': 359, 'completion_time': 0.21566457, 'prompt_time': 0.021977499, 'queue_time': 0.011076098999999996, 'total_time': 0.237642069}, 'model_name': 'llama3-groq-70b-8192-tool-use-preview', 'system_fingerprint': 'fp_ee4b521143', 'finish_reason': 'tool_calls', 'logprobs': None}, id='run-1f76ec40-4668-42dc-8736-c89dccccc1ba-0', tool_calls=[{'name': 'tavily_search_results_json', 'args': {'query': 'current weather in LA, accuweather'}, 'id': 'call_v1rj', 'type': 'tool_call'}], usage_metadata={'input_tokens': 292, 'output_tokens': 67, 'total_tokens': 359}), ToolMessage(content='[{\\'url\\': \\'https://www.weatherapi.com/\\', \\'content\\': \"{\\'location\\': {\\'name\\': \\'Los Angeles\\', \\'region\\': \\'California\\', \\'country\\': \\'United States of America\\', \\'lat\\': 34.0522, \\'lon\\': -118.2428, \\'tz_id\\': \\'America/Los_Angeles\\', \\'localtime_epoch\\': 1729330941, \\'localtime\\': \\'2024-10-19 02:42\\'}, \\'current\\': {\\'last_updated_epoch\\': 1729330200, \\'last_updated\\': \\'2024-10-19 02:30\\', \\'temp_c\\': 16.1, \\'temp_f\\': 61.0, \\'is_day\\': 0, \\'condition\\': {\\'text\\': \\'Clear\\', \\'icon\\': \\'//cdn.weatherapi.com/weather/64x64/night/113.png\\', \\'code\\': 1000}, \\'wind_mph\\': 3.8, \\'wind_kph\\': 6.1, \\'wind_degree\\': 14, \\'wind_dir\\': \\'NNE\\', \\'pressure_mb\\': 1016.0, \\'pressure_in\\': 30.0, \\'precip_mm\\': 0.0, \\'precip_in\\': 0.0, \\'humidity\\': 67, \\'cloud\\': 0, \\'feelslike_c\\': 16.1, \\'feelslike_f\\': 61.0, \\'windchill_c\\': 18.0, \\'windchill_f\\': 64.4, \\'heatindex_c\\': 18.0, \\'heatindex_f\\': 64.4, \\'dewpoint_c\\': -6.9, \\'dewpoint_f\\': 19.6, \\'vis_km\\': 16.0, \\'vis_miles\\': 9.0, \\'uv\\': 0.0, \\'gust_mph\\': 7.9, \\'gust_kph\\': 12.6}}\"}, {\\'url\\': \\'https://www.accuweather.com/en/us/los-angeles/90012/current-weather/347625\\', \\'content\\': \\'Current weather in Los Angeles, CA. Check current conditions in Los Angeles, CA with radar, hourly, and more.\\'}]', name='tavily_search_results_json', id='382ac538-ae43-437f-bbc2-adefeef4ab21', tool_call_id='call_v1rj'), AIMessage(content='The current weather in Los Angeles, CA is clear with a temperature of 61.0°F (16.1°C). The wind is blowing from the NNE at 3.8 mph (6.1 kph). The humidity is at 67%, and the pressure is 30.0 in (1016.0 mb).', additional_kwargs={}, response_metadata={'token_usage': {'completion_tokens': 70, 'prompt_tokens': 819, 'total_tokens': 889, 'completion_time': 0.224230186, 'prompt_time': 0.053444047, 'queue_time': 0.0012345679999999984, 'total_time': 0.277674233}, 'model_name': 'llama3-groq-70b-8192-tool-use-preview', 'system_fingerprint': 'fp_ee4b521143', 'finish_reason': 'stop', 'logprobs': None}, id='run-bac07745-1096-44f2-807b-6de79e947aec-0', usage_metadata={'input_tokens': 819, 'output_tokens': 70, 'total_tokens': 889})]}\n",
      "{'messages': [AIMessage(content='The current weather in Los Angeles, CA is clear with a temperature of 61.0°F (16.1°C). The wind is blowing from the NNE at 3.8 mph (6.1 kph). The humidity is at 67%, and the pressure is 30.0 in (1016.0 mb).', additional_kwargs={}, response_metadata={'token_usage': {'completion_tokens': 70, 'prompt_tokens': 819, 'total_tokens': 889, 'completion_time': 0.224230186, 'prompt_time': 0.053444047, 'queue_time': 0.0012345679999999984, 'total_time': 0.277674233}, 'model_name': 'llama3-groq-70b-8192-tool-use-preview', 'system_fingerprint': 'fp_ee4b521143', 'finish_reason': 'stop', 'logprobs': None}, id='run-bac07745-1096-44f2-807b-6de79e947aec-0', usage_metadata={'input_tokens': 819, 'output_tokens': 70, 'total_tokens': 889})]}\n"
     ]
    }
   ],
   "source": [
    "for event in abot.graph.stream(None, branch_state):\n",
    "    for k, v in event.items():\n",
    "        if k != \"__end__\":\n",
    "            print(v)"
   ]
  },
  {
   "cell_type": "markdown",
   "id": "f1016ce7-368d-4922-9044-fcdfd47c273b",
   "metadata": {},
   "source": [
    "## Add message to a state at a given time"
   ]
  },
  {
   "cell_type": "code",
   "execution_count": 32,
   "id": "6b910915-b087-4d35-afff-0ec30a5852f1",
   "metadata": {
    "height": 30
   },
   "outputs": [
    {
     "data": {
      "text/plain": [
       "StateSnapshot(values={'messages': [HumanMessage(content='Whats the weather in LA?', additional_kwargs={}, response_metadata={}, id='39db021b-73ed-4d3b-90de-8bcef017c05f'), AIMessage(content='', additional_kwargs={'tool_calls': [{'id': 'call_v1rj', 'function': {'arguments': '{\"query\": \"current weather in LA\"}', 'name': 'tavily_search_results_json'}, 'type': 'function'}, {'id': 'call_3yem', 'function': {'arguments': '{\"query\": \"weather forecast for Los Angeles\"}', 'name': 'tavily_search_results_json'}, 'type': 'function'}]}, response_metadata={'token_usage': {'completion_tokens': 67, 'prompt_tokens': 292, 'total_tokens': 359, 'completion_time': 0.21566457, 'prompt_time': 0.021977499, 'queue_time': 0.011076098999999996, 'total_time': 0.237642069}, 'model_name': 'llama3-groq-70b-8192-tool-use-preview', 'system_fingerprint': 'fp_ee4b521143', 'finish_reason': 'tool_calls', 'logprobs': None}, id='run-1f76ec40-4668-42dc-8736-c89dccccc1ba-0', tool_calls=[{'name': 'tavily_search_results_json', 'args': {'query': 'current weather in LA, accuweather'}, 'id': 'call_v1rj'}], usage_metadata={'input_tokens': 292, 'output_tokens': 67, 'total_tokens': 359})]}, next=('action',), config={'configurable': {'thread_id': '3', 'checkpoint_ns': '', 'checkpoint_id': '1ef8dfe8-2895-69e4-8001-e5c69259266e'}}, metadata={'source': 'loop', 'writes': {'llm': {'messages': [AIMessage(content='', additional_kwargs={'tool_calls': [{'id': 'call_v1rj', 'function': {'arguments': '{\"query\": \"current weather in LA\"}', 'name': 'tavily_search_results_json'}, 'type': 'function'}, {'id': 'call_3yem', 'function': {'arguments': '{\"query\": \"weather forecast for Los Angeles\"}', 'name': 'tavily_search_results_json'}, 'type': 'function'}]}, response_metadata={'token_usage': {'completion_tokens': 67, 'prompt_tokens': 292, 'total_tokens': 359, 'completion_time': 0.21566457, 'prompt_time': 0.021977499, 'queue_time': 0.011076098999999996, 'total_time': 0.237642069}, 'model_name': 'llama3-groq-70b-8192-tool-use-preview', 'system_fingerprint': 'fp_ee4b521143', 'finish_reason': 'tool_calls', 'logprobs': None}, id='run-1f76ec40-4668-42dc-8736-c89dccccc1ba-0', tool_calls=[{'name': 'tavily_search_results_json', 'args': {'query': 'current weather in LA'}, 'id': 'call_v1rj', 'type': 'tool_call'}, {'name': 'tavily_search_results_json', 'args': {'query': 'weather forecast for Los Angeles'}, 'id': 'call_3yem', 'type': 'tool_call'}], usage_metadata={'input_tokens': 292, 'output_tokens': 67, 'total_tokens': 359})]}}, 'step': 1, 'parents': {}}, created_at='2024-10-19T09:42:52.302367+00:00', parent_config={'configurable': {'thread_id': '3', 'checkpoint_ns': '', 'checkpoint_id': '1ef8dfe8-22e5-65dc-8000-07694d8c07e8'}}, tasks=(PregelTask(id='54c77e73-7315-4d87-e516-b5c359a1e61f', name='action', path=('__pregel_pull', 'action'), error=None, interrupts=(), state=None, result=None),))"
      ]
     },
     "execution_count": 32,
     "metadata": {},
     "output_type": "execute_result"
    }
   ],
   "source": [
    "to_replay"
   ]
  },
  {
   "cell_type": "code",
   "execution_count": 33,
   "id": "c4feb6cc-5129-4a99-bb45-851bc07b5709",
   "metadata": {
    "height": 44
   },
   "outputs": [],
   "source": [
    "_id = to_replay.values['messages'][-1].tool_calls[0]['id']"
   ]
  },
  {
   "cell_type": "code",
   "execution_count": 34,
   "id": "e85a02b4-96cc-4b01-8792-397a774eb499",
   "metadata": {
    "height": 98
   },
   "outputs": [],
   "source": [
    "state_update = {\"messages\": [ToolMessage(\n",
    "    tool_call_id=_id,\n",
    "    name=\"tavily_search_results_json\",\n",
    "    content=\"54 degree celcius\",\n",
    ")]}"
   ]
  },
  {
   "cell_type": "code",
   "execution_count": 35,
   "id": "ae8b86a6-5e20-4252-b1d8-009b8318345a",
   "metadata": {
    "height": 81
   },
   "outputs": [],
   "source": [
    "branch_and_add = abot.graph.update_state(\n",
    "    to_replay.config, \n",
    "    state_update, \n",
    "    as_node=\"action\")"
   ]
  },
  {
   "cell_type": "code",
   "execution_count": 36,
   "id": "af925917-b746-48c9-ac74-62fefbe5246c",
   "metadata": {
    "height": 64
   },
   "outputs": [
    {
     "name": "stdout",
     "output_type": "stream",
     "text": [
      "{'messages': [HumanMessage(content='Whats the weather in LA?', additional_kwargs={}, response_metadata={}, id='39db021b-73ed-4d3b-90de-8bcef017c05f'), AIMessage(content='', additional_kwargs={'tool_calls': [{'id': 'call_v1rj', 'function': {'arguments': '{\"query\": \"current weather in LA\"}', 'name': 'tavily_search_results_json'}, 'type': 'function'}, {'id': 'call_3yem', 'function': {'arguments': '{\"query\": \"weather forecast for Los Angeles\"}', 'name': 'tavily_search_results_json'}, 'type': 'function'}]}, response_metadata={'token_usage': {'completion_tokens': 67, 'prompt_tokens': 292, 'total_tokens': 359, 'completion_time': 0.21566457, 'prompt_time': 0.021977499, 'queue_time': 0.011076098999999996, 'total_time': 0.237642069}, 'model_name': 'llama3-groq-70b-8192-tool-use-preview', 'system_fingerprint': 'fp_ee4b521143', 'finish_reason': 'tool_calls', 'logprobs': None}, id='run-1f76ec40-4668-42dc-8736-c89dccccc1ba-0', tool_calls=[{'name': 'tavily_search_results_json', 'args': {'query': 'current weather in LA'}, 'id': 'call_v1rj', 'type': 'tool_call'}, {'name': 'tavily_search_results_json', 'args': {'query': 'weather forecast for Los Angeles'}, 'id': 'call_3yem', 'type': 'tool_call'}], usage_metadata={'input_tokens': 292, 'output_tokens': 67, 'total_tokens': 359}), ToolMessage(content='54 degree celcius', name='tavily_search_results_json', id='07a79344-12f5-425c-910b-10bf4fed32d8', tool_call_id='call_v1rj'), AIMessage(content='The current weather in Los Angeles is 54 degrees Celsius.', additional_kwargs={}, response_metadata={'token_usage': {'completion_tokens': 13, 'prompt_tokens': 380, 'total_tokens': 393, 'completion_time': 0.039386269, 'prompt_time': 0.02645633, 'queue_time': 0.006374976999999997, 'total_time': 0.065842599}, 'model_name': 'llama3-groq-70b-8192-tool-use-preview', 'system_fingerprint': 'fp_ee4b521143', 'finish_reason': 'stop', 'logprobs': None}, id='run-2b963d31-0aaa-4d84-97d4-124d5ac2180d-0', usage_metadata={'input_tokens': 380, 'output_tokens': 13, 'total_tokens': 393})]}\n",
      "{'messages': [AIMessage(content='The current weather in Los Angeles is 54 degrees Celsius.', additional_kwargs={}, response_metadata={'token_usage': {'completion_tokens': 13, 'prompt_tokens': 380, 'total_tokens': 393, 'completion_time': 0.039386269, 'prompt_time': 0.02645633, 'queue_time': 0.006374976999999997, 'total_time': 0.065842599}, 'model_name': 'llama3-groq-70b-8192-tool-use-preview', 'system_fingerprint': 'fp_ee4b521143', 'finish_reason': 'stop', 'logprobs': None}, id='run-2b963d31-0aaa-4d84-97d4-124d5ac2180d-0', usage_metadata={'input_tokens': 380, 'output_tokens': 13, 'total_tokens': 393})]}\n"
     ]
    }
   ],
   "source": [
    "for event in abot.graph.stream(None, branch_and_add):\n",
    "    for k, v in event.items():\n",
    "        print(v)"
   ]
  },
  {
   "cell_type": "markdown",
   "id": "a6b1de51-f1dd-4719-89e6-01c21d2b304e",
   "metadata": {},
   "source": [
    "# Extra Practice"
   ]
  },
  {
   "cell_type": "markdown",
   "id": "31e06033-59fd-4d6b-8891-fb8bc2d7a037",
   "metadata": {},
   "source": [
    "## Build a small graph\n",
    "This is a small simple graph you can tinker with if you want more insight into controlling state memory."
   ]
  },
  {
   "cell_type": "code",
   "execution_count": 37,
   "id": "7614683e-1c13-4518-b464-263fb91be761",
   "metadata": {
    "height": 64
   },
   "outputs": [],
   "source": [
    "from dotenv import load_dotenv\n",
    "\n",
    "_ = load_dotenv()"
   ]
  },
  {
   "cell_type": "code",
   "execution_count": 38,
   "id": "efbef86a-75fe-416f-99ab-70b181d934dc",
   "metadata": {
    "height": 81
   },
   "outputs": [],
   "source": [
    "from langgraph.graph import StateGraph, END\n",
    "from typing import TypedDict, Annotated\n",
    "import operator\n",
    "from langgraph.checkpoint.sqlite import SqliteSaver"
   ]
  },
  {
   "cell_type": "markdown",
   "id": "67c972f7-5a14-49da-9d82-37105a6637ed",
   "metadata": {},
   "source": [
    "Define a simple 2 node graph with the following state:\n",
    "-`lnode`: last node\n",
    "-`scratch`: a scratchpad location\n",
    "-`count` : a counter that is incremented each step"
   ]
  },
  {
   "cell_type": "code",
   "execution_count": 39,
   "id": "b846f637-5e98-4a7d-9ca0-5144302b7cef",
   "metadata": {
    "height": 81
   },
   "outputs": [],
   "source": [
    "class AgentState(TypedDict):\n",
    "    lnode: str\n",
    "    scratch: str\n",
    "    count: Annotated[int, operator.add]"
   ]
  },
  {
   "cell_type": "code",
   "execution_count": 40,
   "id": "b8bb1c6d-41b7-4f5b-807b-ecbdec82d8d6",
   "metadata": {
    "height": 183
   },
   "outputs": [],
   "source": [
    "def node1(state: AgentState):\n",
    "    print(f\"node1, count:{state['count']}\")\n",
    "    return {\"lnode\": \"node_1\",\n",
    "            \"count\": 1,\n",
    "           }\n",
    "def node2(state: AgentState):\n",
    "    print(f\"node2, count:{state['count']}\")\n",
    "    return {\"lnode\": \"node_2\",\n",
    "            \"count\": 1,\n",
    "           }"
   ]
  },
  {
   "cell_type": "markdown",
   "id": "6adc403b-10d2-4a6c-bd21-c84bb8e0c8fc",
   "metadata": {},
   "source": [
    "The graph goes N1->N2->N1... but breaks after count reaches 3."
   ]
  },
  {
   "cell_type": "code",
   "execution_count": 41,
   "id": "b2c6d249-4793-41c5-8e80-40f1eedc4baf",
   "metadata": {
    "height": 47
   },
   "outputs": [],
   "source": [
    "def should_continue(state):\n",
    "    return state[\"count\"] < 3"
   ]
  },
  {
   "cell_type": "code",
   "execution_count": 42,
   "id": "4e3721d9-4508-48fa-9be0-93af20144072",
   "metadata": {
    "height": 180
   },
   "outputs": [
    {
     "data": {
      "text/plain": [
       "<langgraph.graph.state.StateGraph at 0x7f4874268d90>"
      ]
     },
     "execution_count": 42,
     "metadata": {},
     "output_type": "execute_result"
    }
   ],
   "source": [
    "builder = StateGraph(AgentState)\n",
    "builder.add_node(\"Node1\", node1)\n",
    "builder.add_node(\"Node2\", node2)\n",
    "\n",
    "builder.add_edge(\"Node1\", \"Node2\")\n",
    "builder.add_conditional_edges(\"Node2\", \n",
    "                              should_continue, \n",
    "                              {True: \"Node1\", False: END})\n",
    "builder.set_entry_point(\"Node1\")"
   ]
  },
  {
   "cell_type": "code",
   "execution_count": 43,
   "id": "8d35d70c-daeb-49c1-9b7c-90cc2a7ca142",
   "metadata": {
    "height": 47
   },
   "outputs": [],
   "source": [
    "memory = SqliteSaver(conn)\n",
    "#memory = SqliteSaver.from_conn_string(\":memory:\")\n",
    "graph = builder.compile(checkpointer=memory)"
   ]
  },
  {
   "cell_type": "markdown",
   "id": "c57051f5-f7fb-4be5-a2f5-21cb1aa4fecb",
   "metadata": {},
   "source": [
    "### Run it!\n",
    "Now, set the thread and run!"
   ]
  },
  {
   "cell_type": "code",
   "execution_count": 44,
   "id": "edba3a1a-84a7-45eb-a6ee-74a612b68d54",
   "metadata": {
    "height": 47
   },
   "outputs": [
    {
     "name": "stdout",
     "output_type": "stream",
     "text": [
      "node1, count:0\n",
      "node2, count:1\n",
      "node1, count:2\n",
      "node2, count:3\n"
     ]
    },
    {
     "data": {
      "text/plain": [
       "{'lnode': 'node_2', 'scratch': 'hi', 'count': 4}"
      ]
     },
     "execution_count": 44,
     "metadata": {},
     "output_type": "execute_result"
    }
   ],
   "source": [
    "thread = {\"configurable\": {\"thread_id\": str(1)}}\n",
    "graph.invoke({\"count\":0, \"scratch\":\"hi\"},thread)"
   ]
  },
  {
   "cell_type": "markdown",
   "id": "2ce7b035-bfdb-4642-8750-47d188277423",
   "metadata": {},
   "source": [
    "### Look at current state"
   ]
  },
  {
   "cell_type": "markdown",
   "id": "43324904-a6f4-4299-86de-e0218e4cb225",
   "metadata": {},
   "source": [
    "Get the current state. Note the `values` which are the AgentState. Note the `config` and the `thread_ts`. You will be using those to refer to snapshots below."
   ]
  },
  {
   "cell_type": "code",
   "execution_count": 45,
   "id": "f2513b41-31b2-46e6-84f6-0c519f697973",
   "metadata": {
    "height": 30
   },
   "outputs": [
    {
     "data": {
      "text/plain": [
       "StateSnapshot(values={'lnode': 'node_2', 'scratch': 'hi', 'count': 4}, next=(), config={'configurable': {'thread_id': '1', 'checkpoint_ns': '', 'checkpoint_id': '1ef8dfe8-ec0d-697a-801d-1082e20e13dd'}}, metadata={'source': 'loop', 'writes': {'Node2': {'lnode': 'node_2', 'count': 1}}, 'step': 29, 'parents': {}}, created_at='2024-10-19T09:43:12.798726+00:00', parent_config={'configurable': {'thread_id': '1', 'checkpoint_ns': '', 'checkpoint_id': '1ef8dfe8-ec09-6972-801c-6ed8dda25893'}}, tasks=())"
      ]
     },
     "execution_count": 45,
     "metadata": {},
     "output_type": "execute_result"
    }
   ],
   "source": [
    "graph.get_state(thread)"
   ]
  },
  {
   "cell_type": "markdown",
   "id": "7f7be4ae-24f0-4362-bd99-55ad38fe0112",
   "metadata": {},
   "source": [
    "View all the statesnapshots in memory. You can use the displayed `count` agentstate variable to help track what you see. Notice the most recent snapshots are returned by the iterator first. Also note that there is a handy `step` variable in the metadata that counts the number of steps in the graph execution. This is a bit detailed - but you can also notice that the *parent_config* is the *config* of the previous node. At initial startup, additional states are inserted into memory to create a parent. This is something to check when you branch or *time travel* below."
   ]
  },
  {
   "cell_type": "markdown",
   "id": "18647be0-c7c6-4ec5-9454-54a034fcd053",
   "metadata": {},
   "source": [
    "### Look at state history"
   ]
  },
  {
   "cell_type": "code",
   "execution_count": 46,
   "id": "686fa197-c97f-4ae6-82d2-938bbe5542c1",
   "metadata": {
    "height": 47
   },
   "outputs": [
    {
     "name": "stdout",
     "output_type": "stream",
     "text": [
      "StateSnapshot(values={'lnode': 'node_2', 'scratch': 'hi', 'count': 4}, next=(), config={'configurable': {'thread_id': '1', 'checkpoint_ns': '', 'checkpoint_id': '1ef8dfe8-ec0d-697a-801d-1082e20e13dd'}}, metadata={'source': 'loop', 'writes': {'Node2': {'lnode': 'node_2', 'count': 1}}, 'step': 29, 'parents': {}}, created_at='2024-10-19T09:43:12.798726+00:00', parent_config={'configurable': {'thread_id': '1', 'checkpoint_ns': '', 'checkpoint_id': '1ef8dfe8-ec09-6972-801c-6ed8dda25893'}}, tasks=()) \n",
      "\n",
      "StateSnapshot(values={'lnode': 'node_1', 'scratch': 'hi', 'count': 3}, next=('Node2',), config={'configurable': {'thread_id': '1', 'checkpoint_ns': '', 'checkpoint_id': '1ef8dfe8-ec09-6972-801c-6ed8dda25893'}}, metadata={'source': 'loop', 'writes': {'Node1': {'lnode': 'node_1', 'count': 1}}, 'step': 28, 'parents': {}}, created_at='2024-10-19T09:43:12.797103+00:00', parent_config={'configurable': {'thread_id': '1', 'checkpoint_ns': '', 'checkpoint_id': '1ef8dfe8-ec08-6350-801b-d23366e0d764'}}, tasks=(PregelTask(id='74c3533b-d986-1a47-25cc-0c29f2f2da34', name='Node2', path=('__pregel_pull', 'Node2'), error=None, interrupts=(), state=None, result={'lnode': 'node_2', 'count': 1}),)) \n",
      "\n",
      "StateSnapshot(values={'lnode': 'node_2', 'scratch': 'hi', 'count': 2}, next=('Node1',), config={'configurable': {'thread_id': '1', 'checkpoint_ns': '', 'checkpoint_id': '1ef8dfe8-ec08-6350-801b-d23366e0d764'}}, metadata={'source': 'loop', 'writes': {'Node2': {'lnode': 'node_2', 'count': 1}}, 'step': 27, 'parents': {}}, created_at='2024-10-19T09:43:12.796539+00:00', parent_config={'configurable': {'thread_id': '1', 'checkpoint_ns': '', 'checkpoint_id': '1ef8dfe8-ec06-6cb1-801a-7b187fa91369'}}, tasks=(PregelTask(id='250307ce-9d8a-47d6-70c1-7cd120f0e1e1', name='Node1', path=('__pregel_pull', 'Node1'), error=None, interrupts=(), state=None, result={'lnode': 'node_1', 'count': 1}),)) \n",
      "\n",
      "StateSnapshot(values={'lnode': 'node_1', 'scratch': 'hi', 'count': 1}, next=('Node2',), config={'configurable': {'thread_id': '1', 'checkpoint_ns': '', 'checkpoint_id': '1ef8dfe8-ec06-6cb1-801a-7b187fa91369'}}, metadata={'source': 'loop', 'writes': {'Node1': {'lnode': 'node_1', 'count': 1}}, 'step': 26, 'parents': {}}, created_at='2024-10-19T09:43:12.795957+00:00', parent_config={'configurable': {'thread_id': '1', 'checkpoint_ns': '', 'checkpoint_id': '1ef8dfe8-ec05-644e-8019-ad22ee529841'}}, tasks=(PregelTask(id='d78ae858-2db5-8cf5-643e-14fc4e0e9347', name='Node2', path=('__pregel_pull', 'Node2'), error=None, interrupts=(), state=None, result={'lnode': 'node_2', 'count': 1}),)) \n",
      "\n",
      "StateSnapshot(values={'scratch': 'hi', 'count': 0}, next=('Node1',), config={'configurable': {'thread_id': '1', 'checkpoint_ns': '', 'checkpoint_id': '1ef8dfe8-ec05-644e-8019-ad22ee529841'}}, metadata={'source': 'loop', 'writes': None, 'step': 25, 'parents': {}}, created_at='2024-10-19T09:43:12.795337+00:00', parent_config={'configurable': {'thread_id': '1', 'checkpoint_ns': '', 'checkpoint_id': '1ef8dfe8-ec03-6c2d-8018-5dd355c79c48'}}, tasks=(PregelTask(id='485adc02-7dae-a4e4-a521-08aa4ea4610e', name='Node1', path=('__pregel_pull', 'Node1'), error=None, interrupts=(), state=None, result={'lnode': 'node_1', 'count': 1}),)) \n",
      "\n",
      "StateSnapshot(values={'count': 0}, next=('__start__',), config={'configurable': {'thread_id': '1', 'checkpoint_ns': '', 'checkpoint_id': '1ef8dfe8-ec03-6c2d-8018-5dd355c79c48'}}, metadata={'source': 'input', 'writes': {'__start__': {'count': 0, 'scratch': 'hi'}}, 'step': 24, 'parents': {}}, created_at='2024-10-19T09:43:12.794719+00:00', parent_config={'configurable': {'thread_id': '1', 'checkpoint_ns': '', 'checkpoint_id': '1ef8dfe8-1c8f-6902-8017-b30fd08a702f'}}, tasks=(PregelTask(id='64e66c73-923e-715a-edf4-a19800b19099', name='__start__', path=('__pregel_pull', '__start__'), error=None, interrupts=(), state=None, result={'scratch': 'hi', 'count': 0}),)) \n",
      "\n",
      "StateSnapshot(values={'count': 0}, next=(), config={'configurable': {'thread_id': '1', 'checkpoint_ns': '', 'checkpoint_id': '1ef8dfe8-1c8f-6902-8017-b30fd08a702f'}}, metadata={'source': 'loop', 'writes': {'llm': {'messages': [AIMessage(content='The current weather in San Francisco, California, is partly cloudy with a temperature of 15.6°C (60.1°F). The wind is blowing from the northeast at 3.8 mph (6.1 kph). The humidity is at 27%, and the pressure is 1018.0 hPa (30.06 in).', additional_kwargs={}, response_metadata={'token_usage': {'completion_tokens': 71, 'prompt_tokens': 1859, 'total_tokens': 1930, 'completion_time': 0.225846695, 'prompt_time': 0.117171994, 'queue_time': 0.0013663849999999977, 'total_time': 0.343018689}, 'model_name': 'llama3-groq-70b-8192-tool-use-preview', 'system_fingerprint': 'fp_ee4b521143', 'finish_reason': 'stop', 'logprobs': None}, id='run-84d15b12-401b-4342-a2fd-dd1888bf3b77-0', usage_metadata={'input_tokens': 1859, 'output_tokens': 71, 'total_tokens': 1930})]}}, 'step': 23, 'parents': {}}, created_at='2024-10-19T09:42:51.041571+00:00', parent_config={'configurable': {'thread_id': '1', 'checkpoint_ns': '', 'checkpoint_id': '1ef8dfe8-13ab-62e3-8016-f3e17e5421a0'}}, tasks=()) \n",
      "\n",
      "StateSnapshot(values={'count': 0}, next=(), config={'configurable': {'thread_id': '1', 'checkpoint_ns': '', 'checkpoint_id': '1ef8dfe8-13ab-62e3-8016-f3e17e5421a0'}}, metadata={'source': 'loop', 'writes': None, 'step': 22, 'parents': {}}, created_at='2024-10-19T09:42:50.109182+00:00', parent_config={'configurable': {'thread_id': '1', 'checkpoint_ns': '', 'checkpoint_id': '1ef8dfe8-13a7-6ced-8015-73aa34f4665c'}}, tasks=()) \n",
      "\n",
      "StateSnapshot(values={'count': 0}, next=('__start__',), config={'configurable': {'thread_id': '1', 'checkpoint_ns': '', 'checkpoint_id': '1ef8dfe8-13a7-6ced-8015-73aa34f4665c'}}, metadata={'source': 'input', 'writes': {'__start__': {'messages': [HumanMessage(content='Whats the weather in SF?', additional_kwargs={}, response_metadata={})]}}, 'step': 21, 'parents': {}}, created_at='2024-10-19T09:42:50.107804+00:00', parent_config={'configurable': {'thread_id': '1', 'checkpoint_ns': '', 'checkpoint_id': '1ef8dfe4-21f5-6e22-8014-c82f9d74294d'}}, tasks=(PregelTask(id='16c1ce23-a431-83d3-d91c-243042dab92d', name='__start__', path=('__pregel_pull', '__start__'), error=None, interrupts=(), state=None, result={}),)) \n",
      "\n",
      "StateSnapshot(values={'count': 0}, next=(), config={'configurable': {'thread_id': '1', 'checkpoint_ns': '', 'checkpoint_id': '1ef8dfe4-21f5-6e22-8014-c82f9d74294d'}}, metadata={'source': 'loop', 'writes': {'llm': {'messages': [AIMessage(content='Los Angeles is warmer than San Francisco.', additional_kwargs={}, response_metadata={'token_usage': {'completion_tokens': 9, 'prompt_tokens': 1835, 'total_tokens': 1844, 'completion_time': 0.026054533, 'prompt_time': 0.138416058, 'queue_time': 0.001044619999999996, 'total_time': 0.164470591}, 'model_name': 'llama3-groq-70b-8192-tool-use-preview', 'system_fingerprint': 'fp_ee4b521143', 'finish_reason': 'stop', 'logprobs': None}, id='run-2677b0ce-9b09-427c-a995-5736eed5c054-0', usage_metadata={'input_tokens': 1835, 'output_tokens': 9, 'total_tokens': 1844})]}}, 'step': 20, 'parents': {}}, created_at='2024-10-19T09:41:04.233555+00:00', parent_config={'configurable': {'thread_id': '1', 'checkpoint_ns': '', 'checkpoint_id': '1ef8dfe4-1d07-67f7-8013-eb6169fc7331'}}, tasks=()) \n",
      "\n",
      "StateSnapshot(values={'count': 0}, next=(), config={'configurable': {'thread_id': '1', 'checkpoint_ns': '', 'checkpoint_id': '1ef8dfe4-1d07-67f7-8013-eb6169fc7331'}}, metadata={'source': 'loop', 'writes': None, 'step': 19, 'parents': {}}, created_at='2024-10-19T09:41:03.716503+00:00', parent_config={'configurable': {'thread_id': '1', 'checkpoint_ns': '', 'checkpoint_id': '1ef8dfe4-1cfe-6ab9-8012-51f1c296346a'}}, tasks=()) \n",
      "\n",
      "StateSnapshot(values={'count': 0}, next=('__start__',), config={'configurable': {'thread_id': '1', 'checkpoint_ns': '', 'checkpoint_id': '1ef8dfe4-1cfe-6ab9-8012-51f1c296346a'}}, metadata={'source': 'input', 'writes': {'__start__': {'messages': [HumanMessage(content='Which one is warmer?', additional_kwargs={}, response_metadata={})]}}, 'step': 18, 'parents': {}}, created_at='2024-10-19T09:41:03.712839+00:00', parent_config={'configurable': {'thread_id': '1', 'checkpoint_ns': '', 'checkpoint_id': '1ef8dfe4-1cab-61dd-8011-d92101055c31'}}, tasks=(PregelTask(id='0e8176bb-28f8-c782-05b1-b882bc1a9985', name='__start__', path=('__pregel_pull', '__start__'), error=None, interrupts=(), state=None, result={}),)) \n",
      "\n",
      "StateSnapshot(values={'count': 0}, next=(), config={'configurable': {'thread_id': '1', 'checkpoint_ns': '', 'checkpoint_id': '1ef8dfe4-1cab-61dd-8011-d92101055c31'}}, metadata={'source': 'loop', 'writes': {'llm': {'messages': [AIMessage(content='The current weather in Los Angeles, California, is clear with a temperature of 16.1°C (61.0°F). The wind is blowing from the northeast at 3.8 mph (6.1 kph). The humidity is at 67%, and the pressure is 1016.0 hPa (30.0 in).', additional_kwargs={}, response_metadata={'token_usage': {'completion_tokens': 70, 'prompt_tokens': 1751, 'total_tokens': 1821, 'completion_time': 0.222943634, 'prompt_time': 0.124992318, 'queue_time': 0.0013619110000000073, 'total_time': 0.347935952}, 'model_name': 'llama3-groq-70b-8192-tool-use-preview', 'system_fingerprint': 'fp_ee4b521143', 'finish_reason': 'stop', 'logprobs': None}, id='run-53b2bc6e-3334-4dc5-9ceb-24e5ee893c6b-0', usage_metadata={'input_tokens': 1751, 'output_tokens': 70, 'total_tokens': 1821})]}}, 'step': 17, 'parents': {}}, created_at='2024-10-19T09:41:03.678640+00:00', parent_config={'configurable': {'thread_id': '1', 'checkpoint_ns': '', 'checkpoint_id': '1ef8dfe4-1601-6b84-8010-ee9a4d83df4d'}}, tasks=()) \n",
      "\n",
      "StateSnapshot(values={'count': 0}, next=(), config={'configurable': {'thread_id': '1', 'checkpoint_ns': '', 'checkpoint_id': '1ef8dfe4-1601-6b84-8010-ee9a4d83df4d'}}, metadata={'source': 'loop', 'writes': None, 'step': 16, 'parents': {}}, created_at='2024-10-19T09:41:02.980172+00:00', parent_config={'configurable': {'thread_id': '1', 'checkpoint_ns': '', 'checkpoint_id': '1ef8dfe4-1600-6053-800f-b2f2d310e603'}}, tasks=()) \n",
      "\n",
      "StateSnapshot(values={'count': 0}, next=('__start__',), config={'configurable': {'thread_id': '1', 'checkpoint_ns': '', 'checkpoint_id': '1ef8dfe4-1600-6053-800f-b2f2d310e603'}}, metadata={'source': 'input', 'writes': {'__start__': {'messages': [HumanMessage(content='What about in la?', additional_kwargs={}, response_metadata={})]}}, 'step': 15, 'parents': {}}, created_at='2024-10-19T09:41:02.979474+00:00', parent_config={'configurable': {'thread_id': '1', 'checkpoint_ns': '', 'checkpoint_id': '1ef8dfe4-15e0-6ecb-800e-16cd67c0235b'}}, tasks=(PregelTask(id='af00fb5d-9171-6b7c-7665-6a1afc7edda9', name='__start__', path=('__pregel_pull', '__start__'), error=None, interrupts=(), state=None, result={}),)) \n",
      "\n",
      "StateSnapshot(values={'count': 0}, next=(), config={'configurable': {'thread_id': '1', 'checkpoint_ns': '', 'checkpoint_id': '1ef8dfe4-15e0-6ecb-800e-16cd67c0235b'}}, metadata={'source': 'loop', 'writes': {'llm': {'messages': [AIMessage(content='The current weather in San Francisco, California, is partly cloudy with a temperature of 15.6°C (60.1°F). The wind is blowing from the northeast at 3.8 mph (6.1 kph). The humidity is at 27%, and the pressure is 1018.0 hPa (30.06 in).', additional_kwargs={}, response_metadata={'token_usage': {'completion_tokens': 71, 'prompt_tokens': 1666, 'total_tokens': 1737, 'completion_time': 0.22550526, 'prompt_time': 0.104829502, 'queue_time': 0.0011165890000000012, 'total_time': 0.330334762}, 'model_name': 'llama3-groq-70b-8192-tool-use-preview', 'system_fingerprint': 'fp_ee4b521143', 'finish_reason': 'stop', 'logprobs': None}, id='run-adc85999-279e-498c-bc2a-74e71fda3856-0', usage_metadata={'input_tokens': 1666, 'output_tokens': 71, 'total_tokens': 1737})]}}, 'step': 14, 'parents': {}}, created_at='2024-10-19T09:41:02.966713+00:00', parent_config={'configurable': {'thread_id': '1', 'checkpoint_ns': '', 'checkpoint_id': '1ef8dfe4-0d69-6616-800d-62e98963f776'}}, tasks=()) \n",
      "\n",
      "StateSnapshot(values={'count': 0}, next=(), config={'configurable': {'thread_id': '1', 'checkpoint_ns': '', 'checkpoint_id': '1ef8dfe4-0d69-6616-800d-62e98963f776'}}, metadata={'source': 'loop', 'writes': None, 'step': 13, 'parents': {}}, created_at='2024-10-19T09:41:02.078903+00:00', parent_config={'configurable': {'thread_id': '1', 'checkpoint_ns': '', 'checkpoint_id': '1ef8dfe4-0d66-6119-800c-2a0872ceeb81'}}, tasks=()) \n",
      "\n",
      "StateSnapshot(values={'count': 0}, next=('__start__',), config={'configurable': {'thread_id': '1', 'checkpoint_ns': '', 'checkpoint_id': '1ef8dfe4-0d66-6119-800c-2a0872ceeb81'}}, metadata={'source': 'input', 'writes': {'__start__': {'messages': [HumanMessage(content='What is the weather in sf?', additional_kwargs={}, response_metadata={})]}}, 'step': 12, 'parents': {}}, created_at='2024-10-19T09:41:02.077544+00:00', parent_config={'configurable': {'thread_id': '1', 'checkpoint_ns': '', 'checkpoint_id': '1ef8dfe2-3ec9-680e-800b-c0ce086769cc'}}, tasks=(PregelTask(id='104408fa-2394-ac87-8a40-0937d7fb2160', name='__start__', path=('__pregel_pull', '__start__'), error=None, interrupts=(), state=None, result={}),)) \n",
      "\n",
      "StateSnapshot(values={'count': 0}, next=(), config={'configurable': {'thread_id': '1', 'checkpoint_ns': '', 'checkpoint_id': '1ef8dfe2-3ec9-680e-800b-c0ce086769cc'}}, metadata={'source': 'loop', 'writes': {'llm': {'messages': [AIMessage(content='Los Angeles is warmer than San Francisco.', additional_kwargs={}, response_metadata={'token_usage': {'completion_tokens': 9, 'prompt_tokens': 1641, 'total_tokens': 1650, 'completion_time': 0.025785815, 'prompt_time': 0.10344667, 'queue_time': 0.001326222000000002, 'total_time': 0.129232485}, 'model_name': 'llama3-groq-70b-8192-tool-use-preview', 'system_fingerprint': 'fp_ee4b521143', 'finish_reason': 'stop', 'logprobs': None}, id='run-548cfaca-3036-493e-bbe7-fe82a9facca2-0', usage_metadata={'input_tokens': 1641, 'output_tokens': 9, 'total_tokens': 1650})]}}, 'step': 11, 'parents': {}}, created_at='2024-10-19T09:40:13.569156+00:00', parent_config={'configurable': {'thread_id': '1', 'checkpoint_ns': '', 'checkpoint_id': '1ef8dfe2-3a4f-6129-800a-f08547dc4ee9'}}, tasks=()) \n",
      "\n",
      "StateSnapshot(values={'count': 0}, next=(), config={'configurable': {'thread_id': '1', 'checkpoint_ns': '', 'checkpoint_id': '1ef8dfe2-3a4f-6129-800a-f08547dc4ee9'}}, metadata={'source': 'loop', 'writes': None, 'step': 10, 'parents': {}}, created_at='2024-10-19T09:40:13.099637+00:00', parent_config={'configurable': {'thread_id': '1', 'checkpoint_ns': '', 'checkpoint_id': '1ef8dfe2-3a4d-6747-8009-1dc42e36d4a5'}}, tasks=()) \n",
      "\n",
      "StateSnapshot(values={'count': 0}, next=('__start__',), config={'configurable': {'thread_id': '1', 'checkpoint_ns': '', 'checkpoint_id': '1ef8dfe2-3a4d-6747-8009-1dc42e36d4a5'}}, metadata={'source': 'input', 'writes': {'__start__': {'messages': [HumanMessage(content='Which one is warmer?', additional_kwargs={}, response_metadata={})]}}, 'step': 9, 'parents': {}}, created_at='2024-10-19T09:40:13.098974+00:00', parent_config={'configurable': {'thread_id': '1', 'checkpoint_ns': '', 'checkpoint_id': '1ef8dfe2-399b-6979-8008-1027166160d4'}}, tasks=(PregelTask(id='62973c30-7163-dbc1-7507-483a62e6a43a', name='__start__', path=('__pregel_pull', '__start__'), error=None, interrupts=(), state=None, result={}),)) \n",
      "\n",
      "StateSnapshot(values={'count': 0}, next=(), config={'configurable': {'thread_id': '1', 'checkpoint_ns': '', 'checkpoint_id': '1ef8dfe2-399b-6979-8008-1027166160d4'}}, metadata={'source': 'loop', 'writes': {'llm': {'messages': [AIMessage(content='The current weather in Los Angeles, California, is clear with a temperature of 16.1°C (61.0°F). The wind is blowing from the northeast at 3.8 mph (6.1 kph). The humidity is at 67%, and the pressure is 1016.0 hPa (30.0 in).', additional_kwargs={}, response_metadata={'token_usage': {'completion_tokens': 70, 'prompt_tokens': 1557, 'total_tokens': 1627, 'completion_time': 0.222359148, 'prompt_time': 0.097663503, 'queue_time': 0.0013591990000000054, 'total_time': 0.320022651}, 'model_name': 'llama3-groq-70b-8192-tool-use-preview', 'system_fingerprint': 'fp_ee4b521143', 'finish_reason': 'stop', 'logprobs': None}, id='run-d9398a26-0132-4a37-93ab-444f1f40fdf2-0', usage_metadata={'input_tokens': 1557, 'output_tokens': 70, 'total_tokens': 1627})]}}, 'step': 8, 'parents': {}}, created_at='2024-10-19T09:40:13.026112+00:00', parent_config={'configurable': {'thread_id': '1', 'checkpoint_ns': '', 'checkpoint_id': '1ef8dfe2-3349-6334-8007-aba313017864'}}, tasks=()) \n",
      "\n",
      "StateSnapshot(values={'count': 0}, next=(), config={'configurable': {'thread_id': '1', 'checkpoint_ns': '', 'checkpoint_id': '1ef8dfe2-3349-6334-8007-aba313017864'}}, metadata={'source': 'loop', 'writes': {'action': {'messages': [ToolMessage(content='[{\\'url\\': \\'https://www.weatherapi.com/\\', \\'content\\': \"{\\'location\\': {\\'name\\': \\'Los Angeles\\', \\'region\\': \\'California\\', \\'country\\': \\'United States of America\\', \\'lat\\': 34.0522, \\'lon\\': -118.2428, \\'tz_id\\': \\'America/Los_Angeles\\', \\'localtime_epoch\\': 1729330809, \\'localtime\\': \\'2024-10-19 02:40\\'}, \\'current\\': {\\'last_updated_epoch\\': 1729330200, \\'last_updated\\': \\'2024-10-19 02:30\\', \\'temp_c\\': 16.1, \\'temp_f\\': 61.0, \\'is_day\\': 0, \\'condition\\': {\\'text\\': \\'Clear\\', \\'icon\\': \\'//cdn.weatherapi.com/weather/64x64/night/113.png\\', \\'code\\': 1000}, \\'wind_mph\\': 3.8, \\'wind_kph\\': 6.1, \\'wind_degree\\': 14, \\'wind_dir\\': \\'NNE\\', \\'pressure_mb\\': 1016.0, \\'pressure_in\\': 30.0, \\'precip_mm\\': 0.0, \\'precip_in\\': 0.0, \\'humidity\\': 67, \\'cloud\\': 0, \\'feelslike_c\\': 16.1, \\'feelslike_f\\': 61.0, \\'windchill_c\\': 18.0, \\'windchill_f\\': 64.4, \\'heatindex_c\\': 18.0, \\'heatindex_f\\': 64.4, \\'dewpoint_c\\': -6.9, \\'dewpoint_f\\': 19.6, \\'vis_km\\': 16.0, \\'vis_miles\\': 9.0, \\'uv\\': 0.0, \\'gust_mph\\': 7.9, \\'gust_kph\\': 12.6}}\"}, {\\'url\\': \\'https://www.easeweather.com/north-america/united-states/california/los-angeles-county/los-angeles/october\\', \\'content\\': \\'Until now, October 2024 in Los Angeles has been nearly identical to the historical average, with a temperature of 28.2 ° F (showing only a slight deviation of 0 ° F).. The forecast for the next days in Los Angeles predicts a temperature of 22.4 ° F, which is cooler than the historical average.. In general, the average temperature in Los Angeles at the beginning of October is 28.7 ° F.\\'}]', name='tavily_search_results_json', tool_call_id='call_a1dr')]}}, 'step': 7, 'parents': {}}, created_at='2024-10-19T09:40:12.363226+00:00', parent_config={'configurable': {'thread_id': '1', 'checkpoint_ns': '', 'checkpoint_id': '1ef8dfe2-068b-6eff-8006-164ba0f6b00e'}}, tasks=()) \n",
      "\n",
      "StateSnapshot(values={'count': 0}, next=(), config={'configurable': {'thread_id': '1', 'checkpoint_ns': '', 'checkpoint_id': '1ef8dfe2-068b-6eff-8006-164ba0f6b00e'}}, metadata={'source': 'loop', 'writes': {'llm': {'messages': [AIMessage(content='', additional_kwargs={'tool_calls': [{'id': 'call_a1dr', 'function': {'arguments': '{\"query\":\"weather in la\"}', 'name': 'tavily_search_results_json'}, 'type': 'function'}]}, response_metadata={'token_usage': {'completion_tokens': 29, 'prompt_tokens': 960, 'total_tokens': 989, 'completion_time': 0.089571221, 'prompt_time': 0.068865164, 'queue_time': 0.0006566469999999963, 'total_time': 0.158436385}, 'model_name': 'llama3-groq-70b-8192-tool-use-preview', 'system_fingerprint': 'fp_ee4b521143', 'finish_reason': 'tool_calls', 'logprobs': None}, id='run-ecbedce0-d7a6-47a6-a0eb-ef31984a80dc-0', tool_calls=[{'name': 'tavily_search_results_json', 'args': {'query': 'weather in la'}, 'id': 'call_a1dr', 'type': 'tool_call'}], usage_metadata={'input_tokens': 960, 'output_tokens': 29, 'total_tokens': 989})]}}, 'step': 6, 'parents': {}}, created_at='2024-10-19T09:40:07.671967+00:00', parent_config={'configurable': {'thread_id': '1', 'checkpoint_ns': '', 'checkpoint_id': '1ef8dfe2-01d1-6c0d-8005-bec04f0d4bc5'}}, tasks=()) \n",
      "\n",
      "StateSnapshot(values={'count': 0}, next=(), config={'configurable': {'thread_id': '1', 'checkpoint_ns': '', 'checkpoint_id': '1ef8dfe2-01d1-6c0d-8005-bec04f0d4bc5'}}, metadata={'source': 'loop', 'writes': None, 'step': 5, 'parents': {}}, created_at='2024-10-19T09:40:07.176278+00:00', parent_config={'configurable': {'thread_id': '1', 'checkpoint_ns': '', 'checkpoint_id': '1ef8dfe2-01cf-6830-8004-3dcf266b5297'}}, tasks=()) \n",
      "\n",
      "StateSnapshot(values={'count': 0}, next=('__start__',), config={'configurable': {'thread_id': '1', 'checkpoint_ns': '', 'checkpoint_id': '1ef8dfe2-01cf-6830-8004-3dcf266b5297'}}, metadata={'source': 'input', 'writes': {'__start__': {'messages': [HumanMessage(content='What about in la?', additional_kwargs={}, response_metadata={})]}}, 'step': 4, 'parents': {}}, created_at='2024-10-19T09:40:07.175360+00:00', parent_config={'configurable': {'thread_id': '1', 'checkpoint_ns': '', 'checkpoint_id': '1ef8dfe2-019f-6acc-8003-01bcd9ade939'}}, tasks=(PregelTask(id='5d41d308-8e13-120f-9954-ef22e95a73bd', name='__start__', path=('__pregel_pull', '__start__'), error=None, interrupts=(), state=None, result={}),)) \n",
      "\n",
      "StateSnapshot(values={'count': 0}, next=(), config={'configurable': {'thread_id': '1', 'checkpoint_ns': '', 'checkpoint_id': '1ef8dfe2-019f-6acc-8003-01bcd9ade939'}}, metadata={'source': 'loop', 'writes': {'llm': {'messages': [AIMessage(content='The current weather in San Francisco, California, is partly cloudy with a temperature of 15.6°C (60.1°F). The wind is blowing from the northeast at 3.8 mph (6.1 kph). The humidity is at 27%, and the pressure is 1018.0 hPa (30.06 in).', additional_kwargs={}, response_metadata={'token_usage': {'completion_tokens': 71, 'prompt_tokens': 875, 'total_tokens': 946, 'completion_time': 0.224159647, 'prompt_time': 0.059461224, 'queue_time': 0.0016568, 'total_time': 0.283620871}, 'model_name': 'llama3-groq-70b-8192-tool-use-preview', 'system_fingerprint': 'fp_ee4b521143', 'finish_reason': 'stop', 'logprobs': None}, id='run-ce71f790-12c2-40f4-a416-d7c8df99cb81-0', usage_metadata={'input_tokens': 875, 'output_tokens': 71, 'total_tokens': 946})]}}, 'step': 3, 'parents': {}}, created_at='2024-10-19T09:40:07.155764+00:00', parent_config={'configurable': {'thread_id': '1', 'checkpoint_ns': '', 'checkpoint_id': '1ef8dfe1-f6f5-61b5-8002-d2953ea56d7e'}}, tasks=()) \n",
      "\n",
      "StateSnapshot(values={'count': 0}, next=(), config={'configurable': {'thread_id': '1', 'checkpoint_ns': '', 'checkpoint_id': '1ef8dfe1-f6f5-61b5-8002-d2953ea56d7e'}}, metadata={'source': 'loop', 'writes': {'action': {'messages': [ToolMessage(content='[{\\'url\\': \\'https://www.weatherapi.com/\\', \\'content\\': \"{\\'location\\': {\\'name\\': \\'San Francisco\\', \\'region\\': \\'California\\', \\'country\\': \\'United States of America\\', \\'lat\\': 37.775, \\'lon\\': -122.4183, \\'tz_id\\': \\'America/Los_Angeles\\', \\'localtime_epoch\\': 1729330803, \\'localtime\\': \\'2024-10-19 02:40\\'}, \\'current\\': {\\'last_updated_epoch\\': 1729330200, \\'last_updated\\': \\'2024-10-19 02:30\\', \\'temp_c\\': 15.6, \\'temp_f\\': 60.1, \\'is_day\\': 0, \\'condition\\': {\\'text\\': \\'Partly cloudy\\', \\'icon\\': \\'//cdn.weatherapi.com/weather/64x64/night/116.png\\', \\'code\\': 1003}, \\'wind_mph\\': 3.8, \\'wind_kph\\': 6.1, \\'wind_degree\\': 25, \\'wind_dir\\': \\'NNE\\', \\'pressure_mb\\': 1018.0, \\'pressure_in\\': 30.06, \\'precip_mm\\': 0.0, \\'precip_in\\': 0.0, \\'humidity\\': 27, \\'cloud\\': 50, \\'feelslike_c\\': 15.6, \\'feelslike_f\\': 60.1, \\'windchill_c\\': 17.2, \\'windchill_f\\': 63.0, \\'heatindex_c\\': 17.2, \\'heatindex_f\\': 63.0, \\'dewpoint_c\\': 7.5, \\'dewpoint_f\\': 45.5, \\'vis_km\\': 16.0, \\'vis_miles\\': 9.0, \\'uv\\': 0.0, \\'gust_mph\\': 8.0, \\'gust_kph\\': 12.9}}\"}, {\\'url\\': \\'https://www.weather.gov/mtr/?os=av..&ref=app\\', \\'content\\': \\'Current Hazards. Current Outlooks; Daily Briefing; Submit Report; Detailed Hazards; ... 2024 at 6:50:34 am PDT Watches, Warnings & Advisories. Zoom Out. Gale Warning. Freeze Warning. Red Flag Warning. Small Craft Advisory. ... National Weather Service San Francisco Bay Area, CA 21 Grace Hopper Ave, Stop 5 Monterey, CA 93943-5505\\'}]', name='tavily_search_results_json', tool_call_id='call_fwr5')]}}, 'step': 2, 'parents': {}}, created_at='2024-10-19T09:40:06.037315+00:00', parent_config={'configurable': {'thread_id': '1', 'checkpoint_ns': '', 'checkpoint_id': '1ef8dfe1-9e7c-67ab-8001-63b94fc21d0f'}}, tasks=()) \n",
      "\n",
      "StateSnapshot(values={'count': 0}, next=(), config={'configurable': {'thread_id': '1', 'checkpoint_ns': '', 'checkpoint_id': '1ef8dfe1-9e7c-67ab-8001-63b94fc21d0f'}}, metadata={'source': 'loop', 'writes': {'llm': {'messages': [AIMessage(content='', additional_kwargs={'tool_calls': [{'id': 'call_fwr5', 'function': {'arguments': '{\"query\": \"weather in sf\"}', 'name': 'tavily_search_results_json'}, 'type': 'function'}]}, response_metadata={'token_usage': {'completion_tokens': 32, 'prompt_tokens': 293, 'total_tokens': 325, 'completion_time': 0.099441301, 'prompt_time': 0.022065403, 'queue_time': 0.010820216999999997, 'total_time': 0.121506704}, 'model_name': 'llama3-groq-70b-8192-tool-use-preview', 'system_fingerprint': 'fp_ee4b521143', 'finish_reason': 'tool_calls', 'logprobs': None}, id='run-21415c53-fd87-4013-b63d-951908dd1630-0', tool_calls=[{'name': 'tavily_search_results_json', 'args': {'query': 'weather in sf'}, 'id': 'call_fwr5', 'type': 'tool_call'}], usage_metadata={'input_tokens': 293, 'output_tokens': 32, 'total_tokens': 325})]}}, 'step': 1, 'parents': {}}, created_at='2024-10-19T09:39:56.760447+00:00', parent_config={'configurable': {'thread_id': '1', 'checkpoint_ns': '', 'checkpoint_id': '1ef8dfe1-983b-6d31-8000-5ef02e238007'}}, tasks=()) \n",
      "\n",
      "StateSnapshot(values={'count': 0}, next=(), config={'configurable': {'thread_id': '1', 'checkpoint_ns': '', 'checkpoint_id': '1ef8dfe1-983b-6d31-8000-5ef02e238007'}}, metadata={'source': 'loop', 'writes': None, 'step': 0, 'parents': {}}, created_at='2024-10-19T09:39:56.104822+00:00', parent_config={'configurable': {'thread_id': '1', 'checkpoint_ns': '', 'checkpoint_id': '1ef8dfe1-9838-61cb-bfff-ede6eb4b6a6e'}}, tasks=()) \n",
      "\n",
      "StateSnapshot(values={'count': 0}, next=('__start__',), config={'configurable': {'thread_id': '1', 'checkpoint_ns': '', 'checkpoint_id': '1ef8dfe1-9838-61cb-bfff-ede6eb4b6a6e'}}, metadata={'source': 'input', 'writes': {'__start__': {'messages': [HumanMessage(content='What is the weather in sf?', additional_kwargs={}, response_metadata={})]}}, 'step': -1, 'parents': {}}, created_at='2024-10-19T09:39:56.103308+00:00', parent_config=None, tasks=(PregelTask(id='4e200a53-c434-0e4a-a50f-46619fbc73cf', name='__start__', path=('__pregel_pull', '__start__'), error=None, interrupts=(), state=None, result={}),)) \n",
      "\n"
     ]
    }
   ],
   "source": [
    "for state in graph.get_state_history(thread):\n",
    "    print(state, \"\\n\")"
   ]
  },
  {
   "cell_type": "markdown",
   "id": "dd7850ff-0748-43d7-8956-074fa9fd819f",
   "metadata": {},
   "source": [
    "Store just the `config` into an list. Note the sequence of counts on the right. `get_state_history` returns the most recent snapshots first."
   ]
  },
  {
   "cell_type": "code",
   "execution_count": 47,
   "id": "9f68e604-4f53-46c0-8f06-e7726ec9dcf6",
   "metadata": {
    "height": 81
   },
   "outputs": [
    {
     "name": "stdout",
     "output_type": "stream",
     "text": [
      "{'configurable': {'thread_id': '1', 'checkpoint_ns': '', 'checkpoint_id': '1ef8dfe8-ec0d-697a-801d-1082e20e13dd'}} 4\n",
      "{'configurable': {'thread_id': '1', 'checkpoint_ns': '', 'checkpoint_id': '1ef8dfe8-ec09-6972-801c-6ed8dda25893'}} 3\n",
      "{'configurable': {'thread_id': '1', 'checkpoint_ns': '', 'checkpoint_id': '1ef8dfe8-ec08-6350-801b-d23366e0d764'}} 2\n",
      "{'configurable': {'thread_id': '1', 'checkpoint_ns': '', 'checkpoint_id': '1ef8dfe8-ec06-6cb1-801a-7b187fa91369'}} 1\n",
      "{'configurable': {'thread_id': '1', 'checkpoint_ns': '', 'checkpoint_id': '1ef8dfe8-ec05-644e-8019-ad22ee529841'}} 0\n",
      "{'configurable': {'thread_id': '1', 'checkpoint_ns': '', 'checkpoint_id': '1ef8dfe8-ec03-6c2d-8018-5dd355c79c48'}} 0\n",
      "{'configurable': {'thread_id': '1', 'checkpoint_ns': '', 'checkpoint_id': '1ef8dfe8-1c8f-6902-8017-b30fd08a702f'}} 0\n",
      "{'configurable': {'thread_id': '1', 'checkpoint_ns': '', 'checkpoint_id': '1ef8dfe8-13ab-62e3-8016-f3e17e5421a0'}} 0\n",
      "{'configurable': {'thread_id': '1', 'checkpoint_ns': '', 'checkpoint_id': '1ef8dfe8-13a7-6ced-8015-73aa34f4665c'}} 0\n",
      "{'configurable': {'thread_id': '1', 'checkpoint_ns': '', 'checkpoint_id': '1ef8dfe4-21f5-6e22-8014-c82f9d74294d'}} 0\n",
      "{'configurable': {'thread_id': '1', 'checkpoint_ns': '', 'checkpoint_id': '1ef8dfe4-1d07-67f7-8013-eb6169fc7331'}} 0\n",
      "{'configurable': {'thread_id': '1', 'checkpoint_ns': '', 'checkpoint_id': '1ef8dfe4-1cfe-6ab9-8012-51f1c296346a'}} 0\n",
      "{'configurable': {'thread_id': '1', 'checkpoint_ns': '', 'checkpoint_id': '1ef8dfe4-1cab-61dd-8011-d92101055c31'}} 0\n",
      "{'configurable': {'thread_id': '1', 'checkpoint_ns': '', 'checkpoint_id': '1ef8dfe4-1601-6b84-8010-ee9a4d83df4d'}} 0\n",
      "{'configurable': {'thread_id': '1', 'checkpoint_ns': '', 'checkpoint_id': '1ef8dfe4-1600-6053-800f-b2f2d310e603'}} 0\n",
      "{'configurable': {'thread_id': '1', 'checkpoint_ns': '', 'checkpoint_id': '1ef8dfe4-15e0-6ecb-800e-16cd67c0235b'}} 0\n",
      "{'configurable': {'thread_id': '1', 'checkpoint_ns': '', 'checkpoint_id': '1ef8dfe4-0d69-6616-800d-62e98963f776'}} 0\n",
      "{'configurable': {'thread_id': '1', 'checkpoint_ns': '', 'checkpoint_id': '1ef8dfe4-0d66-6119-800c-2a0872ceeb81'}} 0\n",
      "{'configurable': {'thread_id': '1', 'checkpoint_ns': '', 'checkpoint_id': '1ef8dfe2-3ec9-680e-800b-c0ce086769cc'}} 0\n",
      "{'configurable': {'thread_id': '1', 'checkpoint_ns': '', 'checkpoint_id': '1ef8dfe2-3a4f-6129-800a-f08547dc4ee9'}} 0\n",
      "{'configurable': {'thread_id': '1', 'checkpoint_ns': '', 'checkpoint_id': '1ef8dfe2-3a4d-6747-8009-1dc42e36d4a5'}} 0\n",
      "{'configurable': {'thread_id': '1', 'checkpoint_ns': '', 'checkpoint_id': '1ef8dfe2-399b-6979-8008-1027166160d4'}} 0\n",
      "{'configurable': {'thread_id': '1', 'checkpoint_ns': '', 'checkpoint_id': '1ef8dfe2-3349-6334-8007-aba313017864'}} 0\n",
      "{'configurable': {'thread_id': '1', 'checkpoint_ns': '', 'checkpoint_id': '1ef8dfe2-068b-6eff-8006-164ba0f6b00e'}} 0\n",
      "{'configurable': {'thread_id': '1', 'checkpoint_ns': '', 'checkpoint_id': '1ef8dfe2-01d1-6c0d-8005-bec04f0d4bc5'}} 0\n",
      "{'configurable': {'thread_id': '1', 'checkpoint_ns': '', 'checkpoint_id': '1ef8dfe2-01cf-6830-8004-3dcf266b5297'}} 0\n",
      "{'configurable': {'thread_id': '1', 'checkpoint_ns': '', 'checkpoint_id': '1ef8dfe2-019f-6acc-8003-01bcd9ade939'}} 0\n",
      "{'configurable': {'thread_id': '1', 'checkpoint_ns': '', 'checkpoint_id': '1ef8dfe1-f6f5-61b5-8002-d2953ea56d7e'}} 0\n",
      "{'configurable': {'thread_id': '1', 'checkpoint_ns': '', 'checkpoint_id': '1ef8dfe1-9e7c-67ab-8001-63b94fc21d0f'}} 0\n",
      "{'configurable': {'thread_id': '1', 'checkpoint_ns': '', 'checkpoint_id': '1ef8dfe1-983b-6d31-8000-5ef02e238007'}} 0\n",
      "{'configurable': {'thread_id': '1', 'checkpoint_ns': '', 'checkpoint_id': '1ef8dfe1-9838-61cb-bfff-ede6eb4b6a6e'}} 0\n"
     ]
    }
   ],
   "source": [
    "states = []\n",
    "for state in graph.get_state_history(thread):\n",
    "    states.append(state.config)\n",
    "    print(state.config, state.values['count'])"
   ]
  },
  {
   "cell_type": "markdown",
   "id": "90790095-4080-4e76-b538-47caac7d9699",
   "metadata": {},
   "source": [
    "Grab an early state."
   ]
  },
  {
   "cell_type": "code",
   "execution_count": 48,
   "id": "e1db574e-f158-44cf-b921-f1f4466c314d",
   "metadata": {
    "height": 30
   },
   "outputs": [
    {
     "data": {
      "text/plain": [
       "{'configurable': {'thread_id': '1',\n",
       "  'checkpoint_ns': '',\n",
       "  'checkpoint_id': '1ef8dfe1-9e7c-67ab-8001-63b94fc21d0f'}}"
      ]
     },
     "execution_count": 48,
     "metadata": {},
     "output_type": "execute_result"
    }
   ],
   "source": [
    "states[-3]"
   ]
  },
  {
   "cell_type": "markdown",
   "id": "2cc233eb-f388-4ecd-bfb5-dac3568d37ce",
   "metadata": {},
   "source": [
    "This is the state after Node1 completed for the first time. Note `next` is `Node2`and `count` is 1."
   ]
  },
  {
   "cell_type": "code",
   "execution_count": 49,
   "id": "240f5039-7916-4c2a-88d5-d363b2898e70",
   "metadata": {
    "height": 30
   },
   "outputs": [
    {
     "data": {
      "text/plain": [
       "StateSnapshot(values={'count': 0}, next=(), config={'configurable': {'thread_id': '1', 'checkpoint_ns': '', 'checkpoint_id': '1ef8dfe1-9e7c-67ab-8001-63b94fc21d0f'}}, metadata={'source': 'loop', 'writes': {'llm': {'messages': [AIMessage(content='', additional_kwargs={'tool_calls': [{'id': 'call_fwr5', 'function': {'arguments': '{\"query\": \"weather in sf\"}', 'name': 'tavily_search_results_json'}, 'type': 'function'}]}, response_metadata={'token_usage': {'completion_tokens': 32, 'prompt_tokens': 293, 'total_tokens': 325, 'completion_time': 0.099441301, 'prompt_time': 0.022065403, 'queue_time': 0.010820216999999997, 'total_time': 0.121506704}, 'model_name': 'llama3-groq-70b-8192-tool-use-preview', 'system_fingerprint': 'fp_ee4b521143', 'finish_reason': 'tool_calls', 'logprobs': None}, id='run-21415c53-fd87-4013-b63d-951908dd1630-0', tool_calls=[{'name': 'tavily_search_results_json', 'args': {'query': 'weather in sf'}, 'id': 'call_fwr5', 'type': 'tool_call'}], usage_metadata={'input_tokens': 293, 'output_tokens': 32, 'total_tokens': 325})]}}, 'step': 1, 'parents': {}}, created_at='2024-10-19T09:39:56.760447+00:00', parent_config={'configurable': {'thread_id': '1', 'checkpoint_ns': '', 'checkpoint_id': '1ef8dfe1-983b-6d31-8000-5ef02e238007'}}, tasks=())"
      ]
     },
     "execution_count": 49,
     "metadata": {},
     "output_type": "execute_result"
    }
   ],
   "source": [
    "graph.get_state(states[-3])"
   ]
  },
  {
   "cell_type": "markdown",
   "id": "4872468e-4d23-4840-ae14-c06c1ab4f161",
   "metadata": {},
   "source": [
    "### Go Back in Time\n",
    "Use that state in `invoke` to go back in time. Notice it uses states[-3] as *current_state* and continues to node2,"
   ]
  },
  {
   "cell_type": "code",
   "execution_count": 50,
   "id": "e3049179-b901-4557-a9c4-78afb3d53d27",
   "metadata": {
    "height": 30
   },
   "outputs": [
    {
     "data": {
      "text/plain": [
       "{'count': 0}"
      ]
     },
     "execution_count": 50,
     "metadata": {},
     "output_type": "execute_result"
    }
   ],
   "source": [
    "graph.invoke(None, states[-3])"
   ]
  },
  {
   "cell_type": "markdown",
   "id": "5bf7789a-df3d-4c7e-8899-d96a99d45717",
   "metadata": {},
   "source": [
    "Notice the new states are now in state history. Notice the counts on the far right."
   ]
  },
  {
   "cell_type": "code",
   "execution_count": 51,
   "id": "37fa44ec-9bd1-484b-a415-cc5f50b6e799",
   "metadata": {
    "height": 64
   },
   "outputs": [
    {
     "name": "stdout",
     "output_type": "stream",
     "text": [
      "{'configurable': {'thread_id': '1', 'checkpoint_ns': '', 'checkpoint_id': '1ef8dfe8-ec0d-697a-801d-1082e20e13dd'}} 4\n",
      "{'configurable': {'thread_id': '1', 'checkpoint_ns': '', 'checkpoint_id': '1ef8dfe8-ec09-6972-801c-6ed8dda25893'}} 3\n",
      "{'configurable': {'thread_id': '1', 'checkpoint_ns': '', 'checkpoint_id': '1ef8dfe8-ec08-6350-801b-d23366e0d764'}} 2\n",
      "{'configurable': {'thread_id': '1', 'checkpoint_ns': '', 'checkpoint_id': '1ef8dfe8-ec06-6cb1-801a-7b187fa91369'}} 1\n",
      "{'configurable': {'thread_id': '1', 'checkpoint_ns': '', 'checkpoint_id': '1ef8dfe8-ec05-644e-8019-ad22ee529841'}} 0\n",
      "{'configurable': {'thread_id': '1', 'checkpoint_ns': '', 'checkpoint_id': '1ef8dfe8-ec03-6c2d-8018-5dd355c79c48'}} 0\n",
      "{'configurable': {'thread_id': '1', 'checkpoint_ns': '', 'checkpoint_id': '1ef8dfe8-1c8f-6902-8017-b30fd08a702f'}} 0\n",
      "{'configurable': {'thread_id': '1', 'checkpoint_ns': '', 'checkpoint_id': '1ef8dfe8-13ab-62e3-8016-f3e17e5421a0'}} 0\n",
      "{'configurable': {'thread_id': '1', 'checkpoint_ns': '', 'checkpoint_id': '1ef8dfe8-13a7-6ced-8015-73aa34f4665c'}} 0\n",
      "{'configurable': {'thread_id': '1', 'checkpoint_ns': '', 'checkpoint_id': '1ef8dfe4-21f5-6e22-8014-c82f9d74294d'}} 0\n",
      "{'configurable': {'thread_id': '1', 'checkpoint_ns': '', 'checkpoint_id': '1ef8dfe4-1d07-67f7-8013-eb6169fc7331'}} 0\n",
      "{'configurable': {'thread_id': '1', 'checkpoint_ns': '', 'checkpoint_id': '1ef8dfe4-1cfe-6ab9-8012-51f1c296346a'}} 0\n",
      "{'configurable': {'thread_id': '1', 'checkpoint_ns': '', 'checkpoint_id': '1ef8dfe4-1cab-61dd-8011-d92101055c31'}} 0\n",
      "{'configurable': {'thread_id': '1', 'checkpoint_ns': '', 'checkpoint_id': '1ef8dfe4-1601-6b84-8010-ee9a4d83df4d'}} 0\n",
      "{'configurable': {'thread_id': '1', 'checkpoint_ns': '', 'checkpoint_id': '1ef8dfe4-1600-6053-800f-b2f2d310e603'}} 0\n",
      "{'configurable': {'thread_id': '1', 'checkpoint_ns': '', 'checkpoint_id': '1ef8dfe4-15e0-6ecb-800e-16cd67c0235b'}} 0\n",
      "{'configurable': {'thread_id': '1', 'checkpoint_ns': '', 'checkpoint_id': '1ef8dfe4-0d69-6616-800d-62e98963f776'}} 0\n",
      "{'configurable': {'thread_id': '1', 'checkpoint_ns': '', 'checkpoint_id': '1ef8dfe4-0d66-6119-800c-2a0872ceeb81'}} 0\n",
      "{'configurable': {'thread_id': '1', 'checkpoint_ns': '', 'checkpoint_id': '1ef8dfe2-3ec9-680e-800b-c0ce086769cc'}} 0\n",
      "{'configurable': {'thread_id': '1', 'checkpoint_ns': '', 'checkpoint_id': '1ef8dfe2-3a4f-6129-800a-f08547dc4ee9'}} 0\n",
      "{'configurable': {'thread_id': '1', 'checkpoint_ns': '', 'checkpoint_id': '1ef8dfe2-3a4d-6747-8009-1dc42e36d4a5'}} 0\n",
      "{'configurable': {'thread_id': '1', 'checkpoint_ns': '', 'checkpoint_id': '1ef8dfe2-399b-6979-8008-1027166160d4'}} 0\n",
      "{'configurable': {'thread_id': '1', 'checkpoint_ns': '', 'checkpoint_id': '1ef8dfe2-3349-6334-8007-aba313017864'}} 0\n",
      "{'configurable': {'thread_id': '1', 'checkpoint_ns': '', 'checkpoint_id': '1ef8dfe2-068b-6eff-8006-164ba0f6b00e'}} 0\n",
      "{'configurable': {'thread_id': '1', 'checkpoint_ns': '', 'checkpoint_id': '1ef8dfe2-01d1-6c0d-8005-bec04f0d4bc5'}} 0\n",
      "{'configurable': {'thread_id': '1', 'checkpoint_ns': '', 'checkpoint_id': '1ef8dfe2-01cf-6830-8004-3dcf266b5297'}} 0\n",
      "{'configurable': {'thread_id': '1', 'checkpoint_ns': '', 'checkpoint_id': '1ef8dfe2-019f-6acc-8003-01bcd9ade939'}} 0\n",
      "{'configurable': {'thread_id': '1', 'checkpoint_ns': '', 'checkpoint_id': '1ef8dfe1-f6f5-61b5-8002-d2953ea56d7e'}} 0\n",
      "{'configurable': {'thread_id': '1', 'checkpoint_ns': '', 'checkpoint_id': '1ef8dfe1-9e7c-67ab-8001-63b94fc21d0f'}} 0\n",
      "{'configurable': {'thread_id': '1', 'checkpoint_ns': '', 'checkpoint_id': '1ef8dfe1-983b-6d31-8000-5ef02e238007'}} 0\n",
      "{'configurable': {'thread_id': '1', 'checkpoint_ns': '', 'checkpoint_id': '1ef8dfe1-9838-61cb-bfff-ede6eb4b6a6e'}} 0\n"
     ]
    }
   ],
   "source": [
    "thread = {\"configurable\": {\"thread_id\": str(1)}}\n",
    "for state in graph.get_state_history(thread):\n",
    "    print(state.config, state.values['count'])"
   ]
  },
  {
   "cell_type": "markdown",
   "id": "d3c8d305-6752-4cf6-a8cb-7babf3bbd643",
   "metadata": {},
   "source": [
    "You can see the details below. Lots of text, but try to find the node that start the new branch. Notice the parent *config* is not the previous entry in the stack, but is the entry from state[-3]."
   ]
  },
  {
   "cell_type": "code",
   "execution_count": 52,
   "id": "07d25697-fcf0-4a26-9485-3e195b0af225",
   "metadata": {
    "height": 64
   },
   "outputs": [
    {
     "name": "stdout",
     "output_type": "stream",
     "text": [
      "StateSnapshot(values={'lnode': 'node_2', 'scratch': 'hi', 'count': 4}, next=(), config={'configurable': {'thread_id': '1', 'checkpoint_ns': '', 'checkpoint_id': '1ef8dfe8-ec0d-697a-801d-1082e20e13dd'}}, metadata={'source': 'loop', 'writes': {'Node2': {'lnode': 'node_2', 'count': 1}}, 'step': 29, 'parents': {}}, created_at='2024-10-19T09:43:12.798726+00:00', parent_config={'configurable': {'thread_id': '1', 'checkpoint_ns': '', 'checkpoint_id': '1ef8dfe8-ec09-6972-801c-6ed8dda25893'}}, tasks=()) \n",
      "\n",
      "StateSnapshot(values={'lnode': 'node_1', 'scratch': 'hi', 'count': 3}, next=('Node2',), config={'configurable': {'thread_id': '1', 'checkpoint_ns': '', 'checkpoint_id': '1ef8dfe8-ec09-6972-801c-6ed8dda25893'}}, metadata={'source': 'loop', 'writes': {'Node1': {'lnode': 'node_1', 'count': 1}}, 'step': 28, 'parents': {}}, created_at='2024-10-19T09:43:12.797103+00:00', parent_config={'configurable': {'thread_id': '1', 'checkpoint_ns': '', 'checkpoint_id': '1ef8dfe8-ec08-6350-801b-d23366e0d764'}}, tasks=(PregelTask(id='74c3533b-d986-1a47-25cc-0c29f2f2da34', name='Node2', path=('__pregel_pull', 'Node2'), error=None, interrupts=(), state=None, result={'lnode': 'node_2', 'count': 1}),)) \n",
      "\n",
      "StateSnapshot(values={'lnode': 'node_2', 'scratch': 'hi', 'count': 2}, next=('Node1',), config={'configurable': {'thread_id': '1', 'checkpoint_ns': '', 'checkpoint_id': '1ef8dfe8-ec08-6350-801b-d23366e0d764'}}, metadata={'source': 'loop', 'writes': {'Node2': {'lnode': 'node_2', 'count': 1}}, 'step': 27, 'parents': {}}, created_at='2024-10-19T09:43:12.796539+00:00', parent_config={'configurable': {'thread_id': '1', 'checkpoint_ns': '', 'checkpoint_id': '1ef8dfe8-ec06-6cb1-801a-7b187fa91369'}}, tasks=(PregelTask(id='250307ce-9d8a-47d6-70c1-7cd120f0e1e1', name='Node1', path=('__pregel_pull', 'Node1'), error=None, interrupts=(), state=None, result={'lnode': 'node_1', 'count': 1}),)) \n",
      "\n",
      "StateSnapshot(values={'lnode': 'node_1', 'scratch': 'hi', 'count': 1}, next=('Node2',), config={'configurable': {'thread_id': '1', 'checkpoint_ns': '', 'checkpoint_id': '1ef8dfe8-ec06-6cb1-801a-7b187fa91369'}}, metadata={'source': 'loop', 'writes': {'Node1': {'lnode': 'node_1', 'count': 1}}, 'step': 26, 'parents': {}}, created_at='2024-10-19T09:43:12.795957+00:00', parent_config={'configurable': {'thread_id': '1', 'checkpoint_ns': '', 'checkpoint_id': '1ef8dfe8-ec05-644e-8019-ad22ee529841'}}, tasks=(PregelTask(id='d78ae858-2db5-8cf5-643e-14fc4e0e9347', name='Node2', path=('__pregel_pull', 'Node2'), error=None, interrupts=(), state=None, result={'lnode': 'node_2', 'count': 1}),)) \n",
      "\n",
      "StateSnapshot(values={'scratch': 'hi', 'count': 0}, next=('Node1',), config={'configurable': {'thread_id': '1', 'checkpoint_ns': '', 'checkpoint_id': '1ef8dfe8-ec05-644e-8019-ad22ee529841'}}, metadata={'source': 'loop', 'writes': None, 'step': 25, 'parents': {}}, created_at='2024-10-19T09:43:12.795337+00:00', parent_config={'configurable': {'thread_id': '1', 'checkpoint_ns': '', 'checkpoint_id': '1ef8dfe8-ec03-6c2d-8018-5dd355c79c48'}}, tasks=(PregelTask(id='485adc02-7dae-a4e4-a521-08aa4ea4610e', name='Node1', path=('__pregel_pull', 'Node1'), error=None, interrupts=(), state=None, result={'lnode': 'node_1', 'count': 1}),)) \n",
      "\n",
      "StateSnapshot(values={'count': 0}, next=('__start__',), config={'configurable': {'thread_id': '1', 'checkpoint_ns': '', 'checkpoint_id': '1ef8dfe8-ec03-6c2d-8018-5dd355c79c48'}}, metadata={'source': 'input', 'writes': {'__start__': {'count': 0, 'scratch': 'hi'}}, 'step': 24, 'parents': {}}, created_at='2024-10-19T09:43:12.794719+00:00', parent_config={'configurable': {'thread_id': '1', 'checkpoint_ns': '', 'checkpoint_id': '1ef8dfe8-1c8f-6902-8017-b30fd08a702f'}}, tasks=(PregelTask(id='64e66c73-923e-715a-edf4-a19800b19099', name='__start__', path=('__pregel_pull', '__start__'), error=None, interrupts=(), state=None, result={'scratch': 'hi', 'count': 0}),)) \n",
      "\n",
      "StateSnapshot(values={'count': 0}, next=(), config={'configurable': {'thread_id': '1', 'checkpoint_ns': '', 'checkpoint_id': '1ef8dfe8-1c8f-6902-8017-b30fd08a702f'}}, metadata={'source': 'loop', 'writes': {'llm': {'messages': [AIMessage(content='The current weather in San Francisco, California, is partly cloudy with a temperature of 15.6°C (60.1°F). The wind is blowing from the northeast at 3.8 mph (6.1 kph). The humidity is at 27%, and the pressure is 1018.0 hPa (30.06 in).', additional_kwargs={}, response_metadata={'token_usage': {'completion_tokens': 71, 'prompt_tokens': 1859, 'total_tokens': 1930, 'completion_time': 0.225846695, 'prompt_time': 0.117171994, 'queue_time': 0.0013663849999999977, 'total_time': 0.343018689}, 'model_name': 'llama3-groq-70b-8192-tool-use-preview', 'system_fingerprint': 'fp_ee4b521143', 'finish_reason': 'stop', 'logprobs': None}, id='run-84d15b12-401b-4342-a2fd-dd1888bf3b77-0', usage_metadata={'input_tokens': 1859, 'output_tokens': 71, 'total_tokens': 1930})]}}, 'step': 23, 'parents': {}}, created_at='2024-10-19T09:42:51.041571+00:00', parent_config={'configurable': {'thread_id': '1', 'checkpoint_ns': '', 'checkpoint_id': '1ef8dfe8-13ab-62e3-8016-f3e17e5421a0'}}, tasks=()) \n",
      "\n",
      "StateSnapshot(values={'count': 0}, next=(), config={'configurable': {'thread_id': '1', 'checkpoint_ns': '', 'checkpoint_id': '1ef8dfe8-13ab-62e3-8016-f3e17e5421a0'}}, metadata={'source': 'loop', 'writes': None, 'step': 22, 'parents': {}}, created_at='2024-10-19T09:42:50.109182+00:00', parent_config={'configurable': {'thread_id': '1', 'checkpoint_ns': '', 'checkpoint_id': '1ef8dfe8-13a7-6ced-8015-73aa34f4665c'}}, tasks=()) \n",
      "\n",
      "StateSnapshot(values={'count': 0}, next=('__start__',), config={'configurable': {'thread_id': '1', 'checkpoint_ns': '', 'checkpoint_id': '1ef8dfe8-13a7-6ced-8015-73aa34f4665c'}}, metadata={'source': 'input', 'writes': {'__start__': {'messages': [HumanMessage(content='Whats the weather in SF?', additional_kwargs={}, response_metadata={})]}}, 'step': 21, 'parents': {}}, created_at='2024-10-19T09:42:50.107804+00:00', parent_config={'configurable': {'thread_id': '1', 'checkpoint_ns': '', 'checkpoint_id': '1ef8dfe4-21f5-6e22-8014-c82f9d74294d'}}, tasks=(PregelTask(id='16c1ce23-a431-83d3-d91c-243042dab92d', name='__start__', path=('__pregel_pull', '__start__'), error=None, interrupts=(), state=None, result={}),)) \n",
      "\n",
      "StateSnapshot(values={'count': 0}, next=(), config={'configurable': {'thread_id': '1', 'checkpoint_ns': '', 'checkpoint_id': '1ef8dfe4-21f5-6e22-8014-c82f9d74294d'}}, metadata={'source': 'loop', 'writes': {'llm': {'messages': [AIMessage(content='Los Angeles is warmer than San Francisco.', additional_kwargs={}, response_metadata={'token_usage': {'completion_tokens': 9, 'prompt_tokens': 1835, 'total_tokens': 1844, 'completion_time': 0.026054533, 'prompt_time': 0.138416058, 'queue_time': 0.001044619999999996, 'total_time': 0.164470591}, 'model_name': 'llama3-groq-70b-8192-tool-use-preview', 'system_fingerprint': 'fp_ee4b521143', 'finish_reason': 'stop', 'logprobs': None}, id='run-2677b0ce-9b09-427c-a995-5736eed5c054-0', usage_metadata={'input_tokens': 1835, 'output_tokens': 9, 'total_tokens': 1844})]}}, 'step': 20, 'parents': {}}, created_at='2024-10-19T09:41:04.233555+00:00', parent_config={'configurable': {'thread_id': '1', 'checkpoint_ns': '', 'checkpoint_id': '1ef8dfe4-1d07-67f7-8013-eb6169fc7331'}}, tasks=()) \n",
      "\n",
      "StateSnapshot(values={'count': 0}, next=(), config={'configurable': {'thread_id': '1', 'checkpoint_ns': '', 'checkpoint_id': '1ef8dfe4-1d07-67f7-8013-eb6169fc7331'}}, metadata={'source': 'loop', 'writes': None, 'step': 19, 'parents': {}}, created_at='2024-10-19T09:41:03.716503+00:00', parent_config={'configurable': {'thread_id': '1', 'checkpoint_ns': '', 'checkpoint_id': '1ef8dfe4-1cfe-6ab9-8012-51f1c296346a'}}, tasks=()) \n",
      "\n",
      "StateSnapshot(values={'count': 0}, next=('__start__',), config={'configurable': {'thread_id': '1', 'checkpoint_ns': '', 'checkpoint_id': '1ef8dfe4-1cfe-6ab9-8012-51f1c296346a'}}, metadata={'source': 'input', 'writes': {'__start__': {'messages': [HumanMessage(content='Which one is warmer?', additional_kwargs={}, response_metadata={})]}}, 'step': 18, 'parents': {}}, created_at='2024-10-19T09:41:03.712839+00:00', parent_config={'configurable': {'thread_id': '1', 'checkpoint_ns': '', 'checkpoint_id': '1ef8dfe4-1cab-61dd-8011-d92101055c31'}}, tasks=(PregelTask(id='0e8176bb-28f8-c782-05b1-b882bc1a9985', name='__start__', path=('__pregel_pull', '__start__'), error=None, interrupts=(), state=None, result={}),)) \n",
      "\n",
      "StateSnapshot(values={'count': 0}, next=(), config={'configurable': {'thread_id': '1', 'checkpoint_ns': '', 'checkpoint_id': '1ef8dfe4-1cab-61dd-8011-d92101055c31'}}, metadata={'source': 'loop', 'writes': {'llm': {'messages': [AIMessage(content='The current weather in Los Angeles, California, is clear with a temperature of 16.1°C (61.0°F). The wind is blowing from the northeast at 3.8 mph (6.1 kph). The humidity is at 67%, and the pressure is 1016.0 hPa (30.0 in).', additional_kwargs={}, response_metadata={'token_usage': {'completion_tokens': 70, 'prompt_tokens': 1751, 'total_tokens': 1821, 'completion_time': 0.222943634, 'prompt_time': 0.124992318, 'queue_time': 0.0013619110000000073, 'total_time': 0.347935952}, 'model_name': 'llama3-groq-70b-8192-tool-use-preview', 'system_fingerprint': 'fp_ee4b521143', 'finish_reason': 'stop', 'logprobs': None}, id='run-53b2bc6e-3334-4dc5-9ceb-24e5ee893c6b-0', usage_metadata={'input_tokens': 1751, 'output_tokens': 70, 'total_tokens': 1821})]}}, 'step': 17, 'parents': {}}, created_at='2024-10-19T09:41:03.678640+00:00', parent_config={'configurable': {'thread_id': '1', 'checkpoint_ns': '', 'checkpoint_id': '1ef8dfe4-1601-6b84-8010-ee9a4d83df4d'}}, tasks=()) \n",
      "\n",
      "StateSnapshot(values={'count': 0}, next=(), config={'configurable': {'thread_id': '1', 'checkpoint_ns': '', 'checkpoint_id': '1ef8dfe4-1601-6b84-8010-ee9a4d83df4d'}}, metadata={'source': 'loop', 'writes': None, 'step': 16, 'parents': {}}, created_at='2024-10-19T09:41:02.980172+00:00', parent_config={'configurable': {'thread_id': '1', 'checkpoint_ns': '', 'checkpoint_id': '1ef8dfe4-1600-6053-800f-b2f2d310e603'}}, tasks=()) \n",
      "\n",
      "StateSnapshot(values={'count': 0}, next=('__start__',), config={'configurable': {'thread_id': '1', 'checkpoint_ns': '', 'checkpoint_id': '1ef8dfe4-1600-6053-800f-b2f2d310e603'}}, metadata={'source': 'input', 'writes': {'__start__': {'messages': [HumanMessage(content='What about in la?', additional_kwargs={}, response_metadata={})]}}, 'step': 15, 'parents': {}}, created_at='2024-10-19T09:41:02.979474+00:00', parent_config={'configurable': {'thread_id': '1', 'checkpoint_ns': '', 'checkpoint_id': '1ef8dfe4-15e0-6ecb-800e-16cd67c0235b'}}, tasks=(PregelTask(id='af00fb5d-9171-6b7c-7665-6a1afc7edda9', name='__start__', path=('__pregel_pull', '__start__'), error=None, interrupts=(), state=None, result={}),)) \n",
      "\n",
      "StateSnapshot(values={'count': 0}, next=(), config={'configurable': {'thread_id': '1', 'checkpoint_ns': '', 'checkpoint_id': '1ef8dfe4-15e0-6ecb-800e-16cd67c0235b'}}, metadata={'source': 'loop', 'writes': {'llm': {'messages': [AIMessage(content='The current weather in San Francisco, California, is partly cloudy with a temperature of 15.6°C (60.1°F). The wind is blowing from the northeast at 3.8 mph (6.1 kph). The humidity is at 27%, and the pressure is 1018.0 hPa (30.06 in).', additional_kwargs={}, response_metadata={'token_usage': {'completion_tokens': 71, 'prompt_tokens': 1666, 'total_tokens': 1737, 'completion_time': 0.22550526, 'prompt_time': 0.104829502, 'queue_time': 0.0011165890000000012, 'total_time': 0.330334762}, 'model_name': 'llama3-groq-70b-8192-tool-use-preview', 'system_fingerprint': 'fp_ee4b521143', 'finish_reason': 'stop', 'logprobs': None}, id='run-adc85999-279e-498c-bc2a-74e71fda3856-0', usage_metadata={'input_tokens': 1666, 'output_tokens': 71, 'total_tokens': 1737})]}}, 'step': 14, 'parents': {}}, created_at='2024-10-19T09:41:02.966713+00:00', parent_config={'configurable': {'thread_id': '1', 'checkpoint_ns': '', 'checkpoint_id': '1ef8dfe4-0d69-6616-800d-62e98963f776'}}, tasks=()) \n",
      "\n",
      "StateSnapshot(values={'count': 0}, next=(), config={'configurable': {'thread_id': '1', 'checkpoint_ns': '', 'checkpoint_id': '1ef8dfe4-0d69-6616-800d-62e98963f776'}}, metadata={'source': 'loop', 'writes': None, 'step': 13, 'parents': {}}, created_at='2024-10-19T09:41:02.078903+00:00', parent_config={'configurable': {'thread_id': '1', 'checkpoint_ns': '', 'checkpoint_id': '1ef8dfe4-0d66-6119-800c-2a0872ceeb81'}}, tasks=()) \n",
      "\n",
      "StateSnapshot(values={'count': 0}, next=('__start__',), config={'configurable': {'thread_id': '1', 'checkpoint_ns': '', 'checkpoint_id': '1ef8dfe4-0d66-6119-800c-2a0872ceeb81'}}, metadata={'source': 'input', 'writes': {'__start__': {'messages': [HumanMessage(content='What is the weather in sf?', additional_kwargs={}, response_metadata={})]}}, 'step': 12, 'parents': {}}, created_at='2024-10-19T09:41:02.077544+00:00', parent_config={'configurable': {'thread_id': '1', 'checkpoint_ns': '', 'checkpoint_id': '1ef8dfe2-3ec9-680e-800b-c0ce086769cc'}}, tasks=(PregelTask(id='104408fa-2394-ac87-8a40-0937d7fb2160', name='__start__', path=('__pregel_pull', '__start__'), error=None, interrupts=(), state=None, result={}),)) \n",
      "\n",
      "StateSnapshot(values={'count': 0}, next=(), config={'configurable': {'thread_id': '1', 'checkpoint_ns': '', 'checkpoint_id': '1ef8dfe2-3ec9-680e-800b-c0ce086769cc'}}, metadata={'source': 'loop', 'writes': {'llm': {'messages': [AIMessage(content='Los Angeles is warmer than San Francisco.', additional_kwargs={}, response_metadata={'token_usage': {'completion_tokens': 9, 'prompt_tokens': 1641, 'total_tokens': 1650, 'completion_time': 0.025785815, 'prompt_time': 0.10344667, 'queue_time': 0.001326222000000002, 'total_time': 0.129232485}, 'model_name': 'llama3-groq-70b-8192-tool-use-preview', 'system_fingerprint': 'fp_ee4b521143', 'finish_reason': 'stop', 'logprobs': None}, id='run-548cfaca-3036-493e-bbe7-fe82a9facca2-0', usage_metadata={'input_tokens': 1641, 'output_tokens': 9, 'total_tokens': 1650})]}}, 'step': 11, 'parents': {}}, created_at='2024-10-19T09:40:13.569156+00:00', parent_config={'configurable': {'thread_id': '1', 'checkpoint_ns': '', 'checkpoint_id': '1ef8dfe2-3a4f-6129-800a-f08547dc4ee9'}}, tasks=()) \n",
      "\n",
      "StateSnapshot(values={'count': 0}, next=(), config={'configurable': {'thread_id': '1', 'checkpoint_ns': '', 'checkpoint_id': '1ef8dfe2-3a4f-6129-800a-f08547dc4ee9'}}, metadata={'source': 'loop', 'writes': None, 'step': 10, 'parents': {}}, created_at='2024-10-19T09:40:13.099637+00:00', parent_config={'configurable': {'thread_id': '1', 'checkpoint_ns': '', 'checkpoint_id': '1ef8dfe2-3a4d-6747-8009-1dc42e36d4a5'}}, tasks=()) \n",
      "\n",
      "StateSnapshot(values={'count': 0}, next=('__start__',), config={'configurable': {'thread_id': '1', 'checkpoint_ns': '', 'checkpoint_id': '1ef8dfe2-3a4d-6747-8009-1dc42e36d4a5'}}, metadata={'source': 'input', 'writes': {'__start__': {'messages': [HumanMessage(content='Which one is warmer?', additional_kwargs={}, response_metadata={})]}}, 'step': 9, 'parents': {}}, created_at='2024-10-19T09:40:13.098974+00:00', parent_config={'configurable': {'thread_id': '1', 'checkpoint_ns': '', 'checkpoint_id': '1ef8dfe2-399b-6979-8008-1027166160d4'}}, tasks=(PregelTask(id='62973c30-7163-dbc1-7507-483a62e6a43a', name='__start__', path=('__pregel_pull', '__start__'), error=None, interrupts=(), state=None, result={}),)) \n",
      "\n",
      "StateSnapshot(values={'count': 0}, next=(), config={'configurable': {'thread_id': '1', 'checkpoint_ns': '', 'checkpoint_id': '1ef8dfe2-399b-6979-8008-1027166160d4'}}, metadata={'source': 'loop', 'writes': {'llm': {'messages': [AIMessage(content='The current weather in Los Angeles, California, is clear with a temperature of 16.1°C (61.0°F). The wind is blowing from the northeast at 3.8 mph (6.1 kph). The humidity is at 67%, and the pressure is 1016.0 hPa (30.0 in).', additional_kwargs={}, response_metadata={'token_usage': {'completion_tokens': 70, 'prompt_tokens': 1557, 'total_tokens': 1627, 'completion_time': 0.222359148, 'prompt_time': 0.097663503, 'queue_time': 0.0013591990000000054, 'total_time': 0.320022651}, 'model_name': 'llama3-groq-70b-8192-tool-use-preview', 'system_fingerprint': 'fp_ee4b521143', 'finish_reason': 'stop', 'logprobs': None}, id='run-d9398a26-0132-4a37-93ab-444f1f40fdf2-0', usage_metadata={'input_tokens': 1557, 'output_tokens': 70, 'total_tokens': 1627})]}}, 'step': 8, 'parents': {}}, created_at='2024-10-19T09:40:13.026112+00:00', parent_config={'configurable': {'thread_id': '1', 'checkpoint_ns': '', 'checkpoint_id': '1ef8dfe2-3349-6334-8007-aba313017864'}}, tasks=()) \n",
      "\n",
      "StateSnapshot(values={'count': 0}, next=(), config={'configurable': {'thread_id': '1', 'checkpoint_ns': '', 'checkpoint_id': '1ef8dfe2-3349-6334-8007-aba313017864'}}, metadata={'source': 'loop', 'writes': {'action': {'messages': [ToolMessage(content='[{\\'url\\': \\'https://www.weatherapi.com/\\', \\'content\\': \"{\\'location\\': {\\'name\\': \\'Los Angeles\\', \\'region\\': \\'California\\', \\'country\\': \\'United States of America\\', \\'lat\\': 34.0522, \\'lon\\': -118.2428, \\'tz_id\\': \\'America/Los_Angeles\\', \\'localtime_epoch\\': 1729330809, \\'localtime\\': \\'2024-10-19 02:40\\'}, \\'current\\': {\\'last_updated_epoch\\': 1729330200, \\'last_updated\\': \\'2024-10-19 02:30\\', \\'temp_c\\': 16.1, \\'temp_f\\': 61.0, \\'is_day\\': 0, \\'condition\\': {\\'text\\': \\'Clear\\', \\'icon\\': \\'//cdn.weatherapi.com/weather/64x64/night/113.png\\', \\'code\\': 1000}, \\'wind_mph\\': 3.8, \\'wind_kph\\': 6.1, \\'wind_degree\\': 14, \\'wind_dir\\': \\'NNE\\', \\'pressure_mb\\': 1016.0, \\'pressure_in\\': 30.0, \\'precip_mm\\': 0.0, \\'precip_in\\': 0.0, \\'humidity\\': 67, \\'cloud\\': 0, \\'feelslike_c\\': 16.1, \\'feelslike_f\\': 61.0, \\'windchill_c\\': 18.0, \\'windchill_f\\': 64.4, \\'heatindex_c\\': 18.0, \\'heatindex_f\\': 64.4, \\'dewpoint_c\\': -6.9, \\'dewpoint_f\\': 19.6, \\'vis_km\\': 16.0, \\'vis_miles\\': 9.0, \\'uv\\': 0.0, \\'gust_mph\\': 7.9, \\'gust_kph\\': 12.6}}\"}, {\\'url\\': \\'https://www.easeweather.com/north-america/united-states/california/los-angeles-county/los-angeles/october\\', \\'content\\': \\'Until now, October 2024 in Los Angeles has been nearly identical to the historical average, with a temperature of 28.2 ° F (showing only a slight deviation of 0 ° F).. The forecast for the next days in Los Angeles predicts a temperature of 22.4 ° F, which is cooler than the historical average.. In general, the average temperature in Los Angeles at the beginning of October is 28.7 ° F.\\'}]', name='tavily_search_results_json', tool_call_id='call_a1dr')]}}, 'step': 7, 'parents': {}}, created_at='2024-10-19T09:40:12.363226+00:00', parent_config={'configurable': {'thread_id': '1', 'checkpoint_ns': '', 'checkpoint_id': '1ef8dfe2-068b-6eff-8006-164ba0f6b00e'}}, tasks=()) \n",
      "\n",
      "StateSnapshot(values={'count': 0}, next=(), config={'configurable': {'thread_id': '1', 'checkpoint_ns': '', 'checkpoint_id': '1ef8dfe2-068b-6eff-8006-164ba0f6b00e'}}, metadata={'source': 'loop', 'writes': {'llm': {'messages': [AIMessage(content='', additional_kwargs={'tool_calls': [{'id': 'call_a1dr', 'function': {'arguments': '{\"query\":\"weather in la\"}', 'name': 'tavily_search_results_json'}, 'type': 'function'}]}, response_metadata={'token_usage': {'completion_tokens': 29, 'prompt_tokens': 960, 'total_tokens': 989, 'completion_time': 0.089571221, 'prompt_time': 0.068865164, 'queue_time': 0.0006566469999999963, 'total_time': 0.158436385}, 'model_name': 'llama3-groq-70b-8192-tool-use-preview', 'system_fingerprint': 'fp_ee4b521143', 'finish_reason': 'tool_calls', 'logprobs': None}, id='run-ecbedce0-d7a6-47a6-a0eb-ef31984a80dc-0', tool_calls=[{'name': 'tavily_search_results_json', 'args': {'query': 'weather in la'}, 'id': 'call_a1dr', 'type': 'tool_call'}], usage_metadata={'input_tokens': 960, 'output_tokens': 29, 'total_tokens': 989})]}}, 'step': 6, 'parents': {}}, created_at='2024-10-19T09:40:07.671967+00:00', parent_config={'configurable': {'thread_id': '1', 'checkpoint_ns': '', 'checkpoint_id': '1ef8dfe2-01d1-6c0d-8005-bec04f0d4bc5'}}, tasks=()) \n",
      "\n",
      "StateSnapshot(values={'count': 0}, next=(), config={'configurable': {'thread_id': '1', 'checkpoint_ns': '', 'checkpoint_id': '1ef8dfe2-01d1-6c0d-8005-bec04f0d4bc5'}}, metadata={'source': 'loop', 'writes': None, 'step': 5, 'parents': {}}, created_at='2024-10-19T09:40:07.176278+00:00', parent_config={'configurable': {'thread_id': '1', 'checkpoint_ns': '', 'checkpoint_id': '1ef8dfe2-01cf-6830-8004-3dcf266b5297'}}, tasks=()) \n",
      "\n",
      "StateSnapshot(values={'count': 0}, next=('__start__',), config={'configurable': {'thread_id': '1', 'checkpoint_ns': '', 'checkpoint_id': '1ef8dfe2-01cf-6830-8004-3dcf266b5297'}}, metadata={'source': 'input', 'writes': {'__start__': {'messages': [HumanMessage(content='What about in la?', additional_kwargs={}, response_metadata={})]}}, 'step': 4, 'parents': {}}, created_at='2024-10-19T09:40:07.175360+00:00', parent_config={'configurable': {'thread_id': '1', 'checkpoint_ns': '', 'checkpoint_id': '1ef8dfe2-019f-6acc-8003-01bcd9ade939'}}, tasks=(PregelTask(id='5d41d308-8e13-120f-9954-ef22e95a73bd', name='__start__', path=('__pregel_pull', '__start__'), error=None, interrupts=(), state=None, result={}),)) \n",
      "\n",
      "StateSnapshot(values={'count': 0}, next=(), config={'configurable': {'thread_id': '1', 'checkpoint_ns': '', 'checkpoint_id': '1ef8dfe2-019f-6acc-8003-01bcd9ade939'}}, metadata={'source': 'loop', 'writes': {'llm': {'messages': [AIMessage(content='The current weather in San Francisco, California, is partly cloudy with a temperature of 15.6°C (60.1°F). The wind is blowing from the northeast at 3.8 mph (6.1 kph). The humidity is at 27%, and the pressure is 1018.0 hPa (30.06 in).', additional_kwargs={}, response_metadata={'token_usage': {'completion_tokens': 71, 'prompt_tokens': 875, 'total_tokens': 946, 'completion_time': 0.224159647, 'prompt_time': 0.059461224, 'queue_time': 0.0016568, 'total_time': 0.283620871}, 'model_name': 'llama3-groq-70b-8192-tool-use-preview', 'system_fingerprint': 'fp_ee4b521143', 'finish_reason': 'stop', 'logprobs': None}, id='run-ce71f790-12c2-40f4-a416-d7c8df99cb81-0', usage_metadata={'input_tokens': 875, 'output_tokens': 71, 'total_tokens': 946})]}}, 'step': 3, 'parents': {}}, created_at='2024-10-19T09:40:07.155764+00:00', parent_config={'configurable': {'thread_id': '1', 'checkpoint_ns': '', 'checkpoint_id': '1ef8dfe1-f6f5-61b5-8002-d2953ea56d7e'}}, tasks=()) \n",
      "\n",
      "StateSnapshot(values={'count': 0}, next=(), config={'configurable': {'thread_id': '1', 'checkpoint_ns': '', 'checkpoint_id': '1ef8dfe1-f6f5-61b5-8002-d2953ea56d7e'}}, metadata={'source': 'loop', 'writes': {'action': {'messages': [ToolMessage(content='[{\\'url\\': \\'https://www.weatherapi.com/\\', \\'content\\': \"{\\'location\\': {\\'name\\': \\'San Francisco\\', \\'region\\': \\'California\\', \\'country\\': \\'United States of America\\', \\'lat\\': 37.775, \\'lon\\': -122.4183, \\'tz_id\\': \\'America/Los_Angeles\\', \\'localtime_epoch\\': 1729330803, \\'localtime\\': \\'2024-10-19 02:40\\'}, \\'current\\': {\\'last_updated_epoch\\': 1729330200, \\'last_updated\\': \\'2024-10-19 02:30\\', \\'temp_c\\': 15.6, \\'temp_f\\': 60.1, \\'is_day\\': 0, \\'condition\\': {\\'text\\': \\'Partly cloudy\\', \\'icon\\': \\'//cdn.weatherapi.com/weather/64x64/night/116.png\\', \\'code\\': 1003}, \\'wind_mph\\': 3.8, \\'wind_kph\\': 6.1, \\'wind_degree\\': 25, \\'wind_dir\\': \\'NNE\\', \\'pressure_mb\\': 1018.0, \\'pressure_in\\': 30.06, \\'precip_mm\\': 0.0, \\'precip_in\\': 0.0, \\'humidity\\': 27, \\'cloud\\': 50, \\'feelslike_c\\': 15.6, \\'feelslike_f\\': 60.1, \\'windchill_c\\': 17.2, \\'windchill_f\\': 63.0, \\'heatindex_c\\': 17.2, \\'heatindex_f\\': 63.0, \\'dewpoint_c\\': 7.5, \\'dewpoint_f\\': 45.5, \\'vis_km\\': 16.0, \\'vis_miles\\': 9.0, \\'uv\\': 0.0, \\'gust_mph\\': 8.0, \\'gust_kph\\': 12.9}}\"}, {\\'url\\': \\'https://www.weather.gov/mtr/?os=av..&ref=app\\', \\'content\\': \\'Current Hazards. Current Outlooks; Daily Briefing; Submit Report; Detailed Hazards; ... 2024 at 6:50:34 am PDT Watches, Warnings & Advisories. Zoom Out. Gale Warning. Freeze Warning. Red Flag Warning. Small Craft Advisory. ... National Weather Service San Francisco Bay Area, CA 21 Grace Hopper Ave, Stop 5 Monterey, CA 93943-5505\\'}]', name='tavily_search_results_json', tool_call_id='call_fwr5')]}}, 'step': 2, 'parents': {}}, created_at='2024-10-19T09:40:06.037315+00:00', parent_config={'configurable': {'thread_id': '1', 'checkpoint_ns': '', 'checkpoint_id': '1ef8dfe1-9e7c-67ab-8001-63b94fc21d0f'}}, tasks=()) \n",
      "\n",
      "StateSnapshot(values={'count': 0}, next=(), config={'configurable': {'thread_id': '1', 'checkpoint_ns': '', 'checkpoint_id': '1ef8dfe1-9e7c-67ab-8001-63b94fc21d0f'}}, metadata={'source': 'loop', 'writes': {'llm': {'messages': [AIMessage(content='', additional_kwargs={'tool_calls': [{'id': 'call_fwr5', 'function': {'arguments': '{\"query\": \"weather in sf\"}', 'name': 'tavily_search_results_json'}, 'type': 'function'}]}, response_metadata={'token_usage': {'completion_tokens': 32, 'prompt_tokens': 293, 'total_tokens': 325, 'completion_time': 0.099441301, 'prompt_time': 0.022065403, 'queue_time': 0.010820216999999997, 'total_time': 0.121506704}, 'model_name': 'llama3-groq-70b-8192-tool-use-preview', 'system_fingerprint': 'fp_ee4b521143', 'finish_reason': 'tool_calls', 'logprobs': None}, id='run-21415c53-fd87-4013-b63d-951908dd1630-0', tool_calls=[{'name': 'tavily_search_results_json', 'args': {'query': 'weather in sf'}, 'id': 'call_fwr5', 'type': 'tool_call'}], usage_metadata={'input_tokens': 293, 'output_tokens': 32, 'total_tokens': 325})]}}, 'step': 1, 'parents': {}}, created_at='2024-10-19T09:39:56.760447+00:00', parent_config={'configurable': {'thread_id': '1', 'checkpoint_ns': '', 'checkpoint_id': '1ef8dfe1-983b-6d31-8000-5ef02e238007'}}, tasks=()) \n",
      "\n",
      "StateSnapshot(values={'count': 0}, next=(), config={'configurable': {'thread_id': '1', 'checkpoint_ns': '', 'checkpoint_id': '1ef8dfe1-983b-6d31-8000-5ef02e238007'}}, metadata={'source': 'loop', 'writes': None, 'step': 0, 'parents': {}}, created_at='2024-10-19T09:39:56.104822+00:00', parent_config={'configurable': {'thread_id': '1', 'checkpoint_ns': '', 'checkpoint_id': '1ef8dfe1-9838-61cb-bfff-ede6eb4b6a6e'}}, tasks=()) \n",
      "\n",
      "StateSnapshot(values={'count': 0}, next=('__start__',), config={'configurable': {'thread_id': '1', 'checkpoint_ns': '', 'checkpoint_id': '1ef8dfe1-9838-61cb-bfff-ede6eb4b6a6e'}}, metadata={'source': 'input', 'writes': {'__start__': {'messages': [HumanMessage(content='What is the weather in sf?', additional_kwargs={}, response_metadata={})]}}, 'step': -1, 'parents': {}}, created_at='2024-10-19T09:39:56.103308+00:00', parent_config=None, tasks=(PregelTask(id='4e200a53-c434-0e4a-a50f-46619fbc73cf', name='__start__', path=('__pregel_pull', '__start__'), error=None, interrupts=(), state=None, result={}),)) \n",
      "\n"
     ]
    }
   ],
   "source": [
    "thread = {\"configurable\": {\"thread_id\": str(1)}}\n",
    "for state in graph.get_state_history(thread):\n",
    "    print(state,\"\\n\")"
   ]
  },
  {
   "cell_type": "markdown",
   "id": "d4653f91-761c-4185-8ca2-83de758308c7",
   "metadata": {},
   "source": [
    "### Modify State\n",
    "Let's start by starting a fresh thread and running to clean out history."
   ]
  },
  {
   "cell_type": "code",
   "execution_count": 53,
   "id": "0eaf346c-ce22-4b6a-b18f-d200dfd991de",
   "metadata": {
    "height": 47
   },
   "outputs": [
    {
     "name": "stdout",
     "output_type": "stream",
     "text": [
      "node1, count:0\n",
      "node2, count:1\n",
      "node1, count:2\n",
      "node2, count:3\n"
     ]
    },
    {
     "data": {
      "text/plain": [
       "{'lnode': 'node_2', 'scratch': 'hi', 'count': 4}"
      ]
     },
     "execution_count": 53,
     "metadata": {},
     "output_type": "execute_result"
    }
   ],
   "source": [
    "thread2 = {\"configurable\": {\"thread_id\": str(2)}}\n",
    "graph.invoke({\"count\":0, \"scratch\":\"hi\"},thread2)"
   ]
  },
  {
   "cell_type": "code",
   "execution_count": 54,
   "id": "90fc1797-25e6-4931-b173-2e520b71c372",
   "metadata": {
    "height": 64
   },
   "outputs": [
    {
     "data": {
      "image/jpeg": "[encoded data removed]",
      "text/plain": [
       "<IPython.core.display.Image object>"
      ]
     },
     "execution_count": 54,
     "metadata": {},
     "output_type": "execute_result"
    }
   ],
   "source": [
    "from IPython.display import Image\n",
    "\n",
    "Image(graph.get_graph().draw_mermaid_png())"
   ]
  },
  {
   "cell_type": "code",
   "execution_count": 55,
   "id": "4ede9215-3133-4ad9-8dd5-6a8288ebe055",
   "metadata": {
    "height": 81
   },
   "outputs": [
    {
     "name": "stdout",
     "output_type": "stream",
     "text": [
      "{'configurable': {'thread_id': '2', 'checkpoint_ns': '', 'checkpoint_id': '1ef8dfe8-ee33-6e8d-800d-9be499f70ebf'}} 4\n",
      "{'configurable': {'thread_id': '2', 'checkpoint_ns': '', 'checkpoint_id': '1ef8dfe8-ee32-637f-800c-0ef25feb2d14'}} 3\n",
      "{'configurable': {'thread_id': '2', 'checkpoint_ns': '', 'checkpoint_id': '1ef8dfe8-ee31-6393-800b-bfda45475933'}} 2\n",
      "{'configurable': {'thread_id': '2', 'checkpoint_ns': '', 'checkpoint_id': '1ef8dfe8-ee2f-6bf2-800a-65dcc4e4ef90'}} 1\n",
      "{'configurable': {'thread_id': '2', 'checkpoint_ns': '', 'checkpoint_id': '1ef8dfe8-ee2e-6544-8009-4734a62f1f13'}} 0\n",
      "{'configurable': {'thread_id': '2', 'checkpoint_ns': '', 'checkpoint_id': '1ef8dfe8-ee2d-6088-8008-53dc15545696'}} 0\n",
      "{'configurable': {'thread_id': '2', 'checkpoint_ns': '', 'checkpoint_id': '1ef8dfe8-2291-630f-8007-d6ce87addc73'}} 0\n",
      "{'configurable': {'thread_id': '2', 'checkpoint_ns': '', 'checkpoint_id': '1ef8dfe8-1d0c-6d5f-8006-bb1b283341c8'}} 0\n",
      "{'configurable': {'thread_id': '2', 'checkpoint_ns': '', 'checkpoint_id': '1ef8dfe8-1d0b-610f-8005-96623733080f'}} 0\n",
      "{'configurable': {'thread_id': '2', 'checkpoint_ns': '', 'checkpoint_id': '1ef8dfe4-2675-65e9-8004-30c810968827'}} 0\n",
      "{'configurable': {'thread_id': '2', 'checkpoint_ns': '', 'checkpoint_id': '1ef8dfe4-2211-6a62-8003-e47530cb81d9'}} 0\n",
      "{'configurable': {'thread_id': '2', 'checkpoint_ns': '', 'checkpoint_id': '1ef8dfe4-2210-638d-8002-6e17e93e2e2b'}} 0\n",
      "{'configurable': {'thread_id': '2', 'checkpoint_ns': '', 'checkpoint_id': '1ef8dfe2-4412-676d-8001-f4b01bc29966'}} 0\n",
      "{'configurable': {'thread_id': '2', 'checkpoint_ns': '', 'checkpoint_id': '1ef8dfe2-3f9c-699b-8000-a784b6d978f6'}} 0\n",
      "{'configurable': {'thread_id': '2', 'checkpoint_ns': '', 'checkpoint_id': '1ef8dfe2-3f93-6446-bfff-33bc69b8be1f'}} 0\n"
     ]
    }
   ],
   "source": [
    "states2 = []\n",
    "for state in graph.get_state_history(thread2):\n",
    "    states2.append(state.config)\n",
    "    print(state.config, state.values['count'])   "
   ]
  },
  {
   "cell_type": "markdown",
   "id": "23ab2c5f-cb1d-4851-8925-ce0af1f12a40",
   "metadata": {},
   "source": [
    "Start by grabbing a state."
   ]
  },
  {
   "cell_type": "code",
   "execution_count": 56,
   "id": "65313f6a-c7a9-49e3-aab2-0eb905e74a91",
   "metadata": {
    "height": 47
   },
   "outputs": [
    {
     "data": {
      "text/plain": [
       "StateSnapshot(values={'count': 0}, next=(), config={'configurable': {'thread_id': '2', 'checkpoint_ns': '', 'checkpoint_id': '1ef8dfe2-4412-676d-8001-f4b01bc29966'}}, metadata={'source': 'loop', 'writes': {'llm': {'messages': [AIMessage(content=\"I'm sorry but I do not have the capability to perform this task for you, I am happy to help you with any other queries you may have.\", additional_kwargs={}, response_metadata={'token_usage': {'completion_tokens': 32, 'prompt_tokens': 291, 'total_tokens': 323, 'completion_time': 0.099462469, 'prompt_time': 0.021699524, 'queue_time': 0.011361593, 'total_time': 0.121161993}, 'model_name': 'llama3-groq-70b-8192-tool-use-preview', 'system_fingerprint': 'fp_ee4b521143', 'finish_reason': 'stop', 'logprobs': None}, id='run-d8651cdf-638a-4f29-b5dc-8c7d419bc5cc-0', usage_metadata={'input_tokens': 291, 'output_tokens': 32, 'total_tokens': 323})]}}, 'step': 1, 'parents': {}}, created_at='2024-10-19T09:40:14.123334+00:00', parent_config={'configurable': {'thread_id': '2', 'checkpoint_ns': '', 'checkpoint_id': '1ef8dfe2-3f9c-699b-8000-a784b6d978f6'}}, tasks=())"
      ]
     },
     "execution_count": 56,
     "metadata": {},
     "output_type": "execute_result"
    }
   ],
   "source": [
    "save_state = graph.get_state(states2[-3])\n",
    "save_state"
   ]
  },
  {
   "cell_type": "markdown",
   "id": "c81b354b-8c2d-4150-9150-ac9d8486af02",
   "metadata": {},
   "source": [
    "Now modify the values. One subtle item to note: Recall when agent state was defined, `count` used `operator.add` to indicate that values are *added* to the current value. Here, `-3` will be added to the current count value rather than replace it."
   ]
  },
  {
   "cell_type": "code",
   "execution_count": 57,
   "id": "dae6527b-912f-4f86-a07b-1fae684aaa77",
   "metadata": {
    "height": 64
   },
   "outputs": [
    {
     "data": {
      "text/plain": [
       "StateSnapshot(values={'count': -3, 'scratch': 'hello'}, next=(), config={'configurable': {'thread_id': '2', 'checkpoint_ns': '', 'checkpoint_id': '1ef8dfe2-4412-676d-8001-f4b01bc29966'}}, metadata={'source': 'loop', 'writes': {'llm': {'messages': [AIMessage(content=\"I'm sorry but I do not have the capability to perform this task for you, I am happy to help you with any other queries you may have.\", additional_kwargs={}, response_metadata={'token_usage': {'completion_tokens': 32, 'prompt_tokens': 291, 'total_tokens': 323, 'completion_time': 0.099462469, 'prompt_time': 0.021699524, 'queue_time': 0.011361593, 'total_time': 0.121161993}, 'model_name': 'llama3-groq-70b-8192-tool-use-preview', 'system_fingerprint': 'fp_ee4b521143', 'finish_reason': 'stop', 'logprobs': None}, id='run-d8651cdf-638a-4f29-b5dc-8c7d419bc5cc-0', usage_metadata={'input_tokens': 291, 'output_tokens': 32, 'total_tokens': 323})]}}, 'step': 1, 'parents': {}}, created_at='2024-10-19T09:40:14.123334+00:00', parent_config={'configurable': {'thread_id': '2', 'checkpoint_ns': '', 'checkpoint_id': '1ef8dfe2-3f9c-699b-8000-a784b6d978f6'}}, tasks=())"
      ]
     },
     "execution_count": 57,
     "metadata": {},
     "output_type": "execute_result"
    }
   ],
   "source": [
    "save_state.values[\"count\"] = -3\n",
    "save_state.values[\"scratch\"] = \"hello\"\n",
    "save_state"
   ]
  },
  {
   "cell_type": "markdown",
   "id": "904bb1eb-2e39-472f-ae56-d8e95e2f1ab6",
   "metadata": {},
   "source": [
    "Now update the state. This creates a new entry at the *top*, or *latest* entry in memory. This will become the current state."
   ]
  },
  {
   "cell_type": "code",
   "execution_count": 58,
   "id": "bcd78670-b119-45fa-934b-2ce2d477b4c2",
   "metadata": {
    "height": 30
   },
   "outputs": [
    {
     "data": {
      "text/plain": [
       "{'configurable': {'thread_id': '2',\n",
       "  'checkpoint_ns': '',\n",
       "  'checkpoint_id': '1ef8dfe8-fa14-6a13-800e-3a42bcd7a919'}}"
      ]
     },
     "execution_count": 58,
     "metadata": {},
     "output_type": "execute_result"
    }
   ],
   "source": [
    "graph.update_state(thread2,save_state.values)"
   ]
  },
  {
   "cell_type": "markdown",
   "id": "1bb3beed-1c44-4364-bde9-b29ea5e8ca30",
   "metadata": {},
   "source": [
    "Current state is at the top. You can match the `thread_ts`.\n",
    "Notice the `parent_config`, `thread_ts` of the new node - it is the previous node."
   ]
  },
  {
   "cell_type": "code",
   "execution_count": 59,
   "id": "231c7011-afe4-44bf-9e19-16220004912f",
   "metadata": {
    "height": 95
   },
   "outputs": [
    {
     "name": "stdout",
     "output_type": "stream",
     "text": [
      "StateSnapshot(values={'lnode': 'node_2', 'scratch': 'hello', 'count': 1}, next=('Node1',), config={'configurable': {'thread_id': '2', 'checkpoint_ns': '', 'checkpoint_id': '1ef8dfe8-fa14-6a13-800e-3a42bcd7a919'}}, metadata={'source': 'update', 'step': 14, 'writes': {'Node2': {'count': -3, 'scratch': 'hello'}}, 'parents': {}}, created_at='2024-10-19T09:43:14.269614+00:00', parent_config={'configurable': {'thread_id': '2', 'checkpoint_ns': '', 'checkpoint_id': '1ef8dfe8-ee33-6e8d-800d-9be499f70ebf'}}, tasks=(PregelTask(id='8c269ca5-0718-8901-12e5-33c82d08c057', name='Node1', path=('__pregel_pull', 'Node1'), error=None, interrupts=(), state=None, result=None),)) \n",
      "\n",
      "StateSnapshot(values={'lnode': 'node_2', 'scratch': 'hi', 'count': 4}, next=(), config={'configurable': {'thread_id': '2', 'checkpoint_ns': '', 'checkpoint_id': '1ef8dfe8-ee33-6e8d-800d-9be499f70ebf'}}, metadata={'source': 'loop', 'writes': {'Node2': {'lnode': 'node_2', 'count': 1}}, 'step': 13, 'parents': {}}, created_at='2024-10-19T09:43:13.024153+00:00', parent_config={'configurable': {'thread_id': '2', 'checkpoint_ns': '', 'checkpoint_id': '1ef8dfe8-ee32-637f-800c-0ef25feb2d14'}}, tasks=()) \n",
      "\n",
      "StateSnapshot(values={'lnode': 'node_1', 'scratch': 'hi', 'count': 3}, next=('Node2',), config={'configurable': {'thread_id': '2', 'checkpoint_ns': '', 'checkpoint_id': '1ef8dfe8-ee32-637f-800c-0ef25feb2d14'}}, metadata={'source': 'loop', 'writes': {'Node1': {'lnode': 'node_1', 'count': 1}}, 'step': 12, 'parents': {}}, created_at='2024-10-19T09:43:13.023462+00:00', parent_config={'configurable': {'thread_id': '2', 'checkpoint_ns': '', 'checkpoint_id': '1ef8dfe8-ee31-6393-800b-bfda45475933'}}, tasks=(PregelTask(id='55c78eb8-9b4a-0d03-5ad3-d963ff442c97', name='Node2', path=('__pregel_pull', 'Node2'), error=None, interrupts=(), state=None, result={'lnode': 'node_2', 'count': 1}),)) \n",
      "\n"
     ]
    }
   ],
   "source": [
    "for i, state in enumerate(graph.get_state_history(thread2)):\n",
    "    if i >= 3:  #print latest 3\n",
    "        break\n",
    "    print(state, '\\n')"
   ]
  },
  {
   "cell_type": "markdown",
   "id": "62d34cd8-99b6-4224-b345-fe8475f2a602",
   "metadata": {},
   "source": [
    "### Try again with `as_node`\n",
    "When writing using `update_state()`, you want to define to the graph logic which node should be assumed as the writer. What this does is allow th graph logic to find the node on the graph. After writing the values, the `next()` value is computed by travesing the graph using the new state. In this case, the state we have was written by `Node1`. The graph can then compute the next state as being `Node2`. Note that in some graphs, this may involve going through conditional edges!  Let's try this out."
   ]
  },
  {
   "cell_type": "code",
   "execution_count": 60,
   "id": "7bfda2f6-5887-40fa-a733-a4357ad857d8",
   "metadata": {
    "height": 44
   },
   "outputs": [
    {
     "data": {
      "text/plain": [
       "{'configurable': {'thread_id': '2',\n",
       "  'checkpoint_ns': '',\n",
       "  'checkpoint_id': '1ef8dfe8-fa4d-6042-800f-f998b8462764'}}"
      ]
     },
     "execution_count": 60,
     "metadata": {},
     "output_type": "execute_result"
    }
   ],
   "source": [
    "graph.update_state(thread2,save_state.values, as_node=\"Node1\")"
   ]
  },
  {
   "cell_type": "code",
   "execution_count": 61,
   "id": "0788ac0f-5f64-49b2-b335-3094bbb19143",
   "metadata": {
    "height": 95
   },
   "outputs": [
    {
     "name": "stdout",
     "output_type": "stream",
     "text": [
      "StateSnapshot(values={'lnode': 'node_2', 'scratch': 'hello', 'count': -2}, next=('Node2',), config={'configurable': {'thread_id': '2', 'checkpoint_ns': '', 'checkpoint_id': '1ef8dfe8-fa4d-6042-800f-f998b8462764'}}, metadata={'source': 'update', 'step': 15, 'writes': {'Node1': {'count': -3, 'scratch': 'hello'}}, 'parents': {}}, created_at='2024-10-19T09:43:14.292721+00:00', parent_config={'configurable': {'thread_id': '2', 'checkpoint_ns': '', 'checkpoint_id': '1ef8dfe8-fa14-6a13-800e-3a42bcd7a919'}}, tasks=(PregelTask(id='6f84bc19-d912-1cf5-f192-628ccd46173e', name='Node2', path=('__pregel_pull', 'Node2'), error=None, interrupts=(), state=None, result=None),)) \n",
      "\n",
      "StateSnapshot(values={'lnode': 'node_2', 'scratch': 'hello', 'count': 1}, next=('Node1',), config={'configurable': {'thread_id': '2', 'checkpoint_ns': '', 'checkpoint_id': '1ef8dfe8-fa14-6a13-800e-3a42bcd7a919'}}, metadata={'source': 'update', 'step': 14, 'writes': {'Node2': {'count': -3, 'scratch': 'hello'}}, 'parents': {}}, created_at='2024-10-19T09:43:14.269614+00:00', parent_config={'configurable': {'thread_id': '2', 'checkpoint_ns': '', 'checkpoint_id': '1ef8dfe8-ee33-6e8d-800d-9be499f70ebf'}}, tasks=(PregelTask(id='8c269ca5-0718-8901-12e5-33c82d08c057', name='Node1', path=('__pregel_pull', 'Node1'), error=None, interrupts=(), state=None, result=None),)) \n",
      "\n",
      "StateSnapshot(values={'lnode': 'node_2', 'scratch': 'hi', 'count': 4}, next=(), config={'configurable': {'thread_id': '2', 'checkpoint_ns': '', 'checkpoint_id': '1ef8dfe8-ee33-6e8d-800d-9be499f70ebf'}}, metadata={'source': 'loop', 'writes': {'Node2': {'lnode': 'node_2', 'count': 1}}, 'step': 13, 'parents': {}}, created_at='2024-10-19T09:43:13.024153+00:00', parent_config={'configurable': {'thread_id': '2', 'checkpoint_ns': '', 'checkpoint_id': '1ef8dfe8-ee32-637f-800c-0ef25feb2d14'}}, tasks=()) \n",
      "\n"
     ]
    }
   ],
   "source": [
    "for i, state in enumerate(graph.get_state_history(thread2)):\n",
    "    if i >= 3:  #print latest 3\n",
    "        break\n",
    "    print(state, '\\n')"
   ]
  },
  {
   "cell_type": "markdown",
   "id": "18a8f52e-d1a6-46a0-a519-6fda0cb91624",
   "metadata": {},
   "source": [
    "`invoke` will run from the current state if not given a particular `thread_ts`. This is now the entry that was just added."
   ]
  },
  {
   "cell_type": "code",
   "execution_count": 62,
   "id": "9650d355-07c1-4a7d-a21d-4231673a7ee9",
   "metadata": {
    "height": 30
   },
   "outputs": [
    {
     "name": "stdout",
     "output_type": "stream",
     "text": [
      "node2, count:-2\n",
      "node1, count:-1\n",
      "node2, count:0\n",
      "node1, count:1\n",
      "node2, count:2\n"
     ]
    },
    {
     "data": {
      "text/plain": [
       "{'lnode': 'node_2', 'scratch': 'hello', 'count': 3}"
      ]
     },
     "execution_count": 62,
     "metadata": {},
     "output_type": "execute_result"
    }
   ],
   "source": [
    "graph.invoke(None,thread2)"
   ]
  },
  {
   "cell_type": "markdown",
   "id": "c59d3069-8fe7-4a05-9bfd-8e3a2e4590ad",
   "metadata": {},
   "source": [
    "Print out the state history, notice the `scratch` value change on the latest entries."
   ]
  },
  {
   "cell_type": "code",
   "execution_count": 63,
   "id": "35088704-2b18-4d44-ba0e-dccbfde6ed9e",
   "metadata": {
    "height": 47
   },
   "outputs": [
    {
     "name": "stdout",
     "output_type": "stream",
     "text": [
      "StateSnapshot(values={'lnode': 'node_2', 'scratch': 'hello', 'count': 3}, next=(), config={'configurable': {'thread_id': '2', 'checkpoint_ns': '', 'checkpoint_id': '1ef8dfe8-fa7e-6378-8014-0d94a8464162'}}, metadata={'source': 'loop', 'writes': {'Node2': {'lnode': 'node_2', 'count': 1}}, 'step': 20, 'parents': {}}, created_at='2024-10-19T09:43:14.312881+00:00', parent_config={'configurable': {'thread_id': '2', 'checkpoint_ns': '', 'checkpoint_id': '1ef8dfe8-fa7d-6080-8013-2fdc29e51a62'}}, tasks=()) \n",
      "\n",
      "StateSnapshot(values={'lnode': 'node_1', 'scratch': 'hello', 'count': 2}, next=('Node2',), config={'configurable': {'thread_id': '2', 'checkpoint_ns': '', 'checkpoint_id': '1ef8dfe8-fa7d-6080-8013-2fdc29e51a62'}}, metadata={'source': 'loop', 'writes': {'Node1': {'lnode': 'node_1', 'count': 1}}, 'step': 19, 'parents': {}}, created_at='2024-10-19T09:43:14.312396+00:00', parent_config={'configurable': {'thread_id': '2', 'checkpoint_ns': '', 'checkpoint_id': '1ef8dfe8-fa7c-60e1-8012-708808a9fa22'}}, tasks=(PregelTask(id='c6e46517-b89d-837e-57d7-189b0c83ac0b', name='Node2', path=('__pregel_pull', 'Node2'), error=None, interrupts=(), state=None, result={'lnode': 'node_2', 'count': 1}),)) \n",
      "\n",
      "StateSnapshot(values={'lnode': 'node_2', 'scratch': 'hello', 'count': 1}, next=('Node1',), config={'configurable': {'thread_id': '2', 'checkpoint_ns': '', 'checkpoint_id': '1ef8dfe8-fa7c-60e1-8012-708808a9fa22'}}, metadata={'source': 'loop', 'writes': {'Node2': {'lnode': 'node_2', 'count': 1}}, 'step': 18, 'parents': {}}, created_at='2024-10-19T09:43:14.311997+00:00', parent_config={'configurable': {'thread_id': '2', 'checkpoint_ns': '', 'checkpoint_id': '1ef8dfe8-fa7a-6d08-8011-b170d76e9e5b'}}, tasks=(PregelTask(id='70da302c-05c8-3ab1-d245-405f8f8101dc', name='Node1', path=('__pregel_pull', 'Node1'), error=None, interrupts=(), state=None, result={'lnode': 'node_1', 'count': 1}),)) \n",
      "\n",
      "StateSnapshot(values={'lnode': 'node_1', 'scratch': 'hello', 'count': 0}, next=('Node2',), config={'configurable': {'thread_id': '2', 'checkpoint_ns': '', 'checkpoint_id': '1ef8dfe8-fa7a-6d08-8011-b170d76e9e5b'}}, metadata={'source': 'loop', 'writes': {'Node1': {'lnode': 'node_1', 'count': 1}}, 'step': 17, 'parents': {}}, created_at='2024-10-19T09:43:14.311488+00:00', parent_config={'configurable': {'thread_id': '2', 'checkpoint_ns': '', 'checkpoint_id': '1ef8dfe8-fa79-6a51-8010-cae7522d5a9d'}}, tasks=(PregelTask(id='226d7425-fb94-7622-88db-022a61b93133', name='Node2', path=('__pregel_pull', 'Node2'), error=None, interrupts=(), state=None, result={'lnode': 'node_2', 'count': 1}),)) \n",
      "\n",
      "StateSnapshot(values={'lnode': 'node_2', 'scratch': 'hello', 'count': -1}, next=('Node1',), config={'configurable': {'thread_id': '2', 'checkpoint_ns': '', 'checkpoint_id': '1ef8dfe8-fa79-6a51-8010-cae7522d5a9d'}}, metadata={'source': 'loop', 'writes': {'Node2': {'lnode': 'node_2', 'count': 1}}, 'step': 16, 'parents': {}}, created_at='2024-10-19T09:43:14.311005+00:00', parent_config={'configurable': {'thread_id': '2', 'checkpoint_ns': '', 'checkpoint_id': '1ef8dfe8-fa4d-6042-800f-f998b8462764'}}, tasks=(PregelTask(id='a8b580dd-ec47-9f0c-7c85-863ffed74219', name='Node1', path=('__pregel_pull', 'Node1'), error=None, interrupts=(), state=None, result={'lnode': 'node_1', 'count': 1}),)) \n",
      "\n",
      "StateSnapshot(values={'lnode': 'node_2', 'scratch': 'hello', 'count': -2}, next=('Node2',), config={'configurable': {'thread_id': '2', 'checkpoint_ns': '', 'checkpoint_id': '1ef8dfe8-fa4d-6042-800f-f998b8462764'}}, metadata={'source': 'update', 'step': 15, 'writes': {'Node1': {'count': -3, 'scratch': 'hello'}}, 'parents': {}}, created_at='2024-10-19T09:43:14.292721+00:00', parent_config={'configurable': {'thread_id': '2', 'checkpoint_ns': '', 'checkpoint_id': '1ef8dfe8-fa14-6a13-800e-3a42bcd7a919'}}, tasks=(PregelTask(id='6f84bc19-d912-1cf5-f192-628ccd46173e', name='Node2', path=('__pregel_pull', 'Node2'), error=None, interrupts=(), state=None, result={'lnode': 'node_2', 'count': 1}),)) \n",
      "\n",
      "StateSnapshot(values={'lnode': 'node_2', 'scratch': 'hello', 'count': 1}, next=('Node1',), config={'configurable': {'thread_id': '2', 'checkpoint_ns': '', 'checkpoint_id': '1ef8dfe8-fa14-6a13-800e-3a42bcd7a919'}}, metadata={'source': 'update', 'step': 14, 'writes': {'Node2': {'count': -3, 'scratch': 'hello'}}, 'parents': {}}, created_at='2024-10-19T09:43:14.269614+00:00', parent_config={'configurable': {'thread_id': '2', 'checkpoint_ns': '', 'checkpoint_id': '1ef8dfe8-ee33-6e8d-800d-9be499f70ebf'}}, tasks=(PregelTask(id='8c269ca5-0718-8901-12e5-33c82d08c057', name='Node1', path=('__pregel_pull', 'Node1'), error=None, interrupts=(), state=None, result=None),)) \n",
      "\n",
      "StateSnapshot(values={'lnode': 'node_2', 'scratch': 'hi', 'count': 4}, next=(), config={'configurable': {'thread_id': '2', 'checkpoint_ns': '', 'checkpoint_id': '1ef8dfe8-ee33-6e8d-800d-9be499f70ebf'}}, metadata={'source': 'loop', 'writes': {'Node2': {'lnode': 'node_2', 'count': 1}}, 'step': 13, 'parents': {}}, created_at='2024-10-19T09:43:13.024153+00:00', parent_config={'configurable': {'thread_id': '2', 'checkpoint_ns': '', 'checkpoint_id': '1ef8dfe8-ee32-637f-800c-0ef25feb2d14'}}, tasks=()) \n",
      "\n",
      "StateSnapshot(values={'lnode': 'node_1', 'scratch': 'hi', 'count': 3}, next=('Node2',), config={'configurable': {'thread_id': '2', 'checkpoint_ns': '', 'checkpoint_id': '1ef8dfe8-ee32-637f-800c-0ef25feb2d14'}}, metadata={'source': 'loop', 'writes': {'Node1': {'lnode': 'node_1', 'count': 1}}, 'step': 12, 'parents': {}}, created_at='2024-10-19T09:43:13.023462+00:00', parent_config={'configurable': {'thread_id': '2', 'checkpoint_ns': '', 'checkpoint_id': '1ef8dfe8-ee31-6393-800b-bfda45475933'}}, tasks=(PregelTask(id='55c78eb8-9b4a-0d03-5ad3-d963ff442c97', name='Node2', path=('__pregel_pull', 'Node2'), error=None, interrupts=(), state=None, result={'lnode': 'node_2', 'count': 1}),)) \n",
      "\n",
      "StateSnapshot(values={'lnode': 'node_2', 'scratch': 'hi', 'count': 2}, next=('Node1',), config={'configurable': {'thread_id': '2', 'checkpoint_ns': '', 'checkpoint_id': '1ef8dfe8-ee31-6393-800b-bfda45475933'}}, metadata={'source': 'loop', 'writes': {'Node2': {'lnode': 'node_2', 'count': 1}}, 'step': 11, 'parents': {}}, created_at='2024-10-19T09:43:13.023055+00:00', parent_config={'configurable': {'thread_id': '2', 'checkpoint_ns': '', 'checkpoint_id': '1ef8dfe8-ee2f-6bf2-800a-65dcc4e4ef90'}}, tasks=(PregelTask(id='996189d3-cd6b-4cb2-71e2-30f5bb25c696', name='Node1', path=('__pregel_pull', 'Node1'), error=None, interrupts=(), state=None, result={'lnode': 'node_1', 'count': 1}),)) \n",
      "\n",
      "StateSnapshot(values={'lnode': 'node_1', 'scratch': 'hi', 'count': 1}, next=('Node2',), config={'configurable': {'thread_id': '2', 'checkpoint_ns': '', 'checkpoint_id': '1ef8dfe8-ee2f-6bf2-800a-65dcc4e4ef90'}}, metadata={'source': 'loop', 'writes': {'Node1': {'lnode': 'node_1', 'count': 1}}, 'step': 10, 'parents': {}}, created_at='2024-10-19T09:43:13.022451+00:00', parent_config={'configurable': {'thread_id': '2', 'checkpoint_ns': '', 'checkpoint_id': '1ef8dfe8-ee2e-6544-8009-4734a62f1f13'}}, tasks=(PregelTask(id='e8a72a7f-a0af-d01f-9ab8-28b2c763ee1b', name='Node2', path=('__pregel_pull', 'Node2'), error=None, interrupts=(), state=None, result={'lnode': 'node_2', 'count': 1}),)) \n",
      "\n",
      "StateSnapshot(values={'scratch': 'hi', 'count': 0}, next=('Node1',), config={'configurable': {'thread_id': '2', 'checkpoint_ns': '', 'checkpoint_id': '1ef8dfe8-ee2e-6544-8009-4734a62f1f13'}}, metadata={'source': 'loop', 'writes': None, 'step': 9, 'parents': {}}, created_at='2024-10-19T09:43:13.021871+00:00', parent_config={'configurable': {'thread_id': '2', 'checkpoint_ns': '', 'checkpoint_id': '1ef8dfe8-ee2d-6088-8008-53dc15545696'}}, tasks=(PregelTask(id='f1f99fd1-a8f4-ca60-2fe2-21aa22ea85e6', name='Node1', path=('__pregel_pull', 'Node1'), error=None, interrupts=(), state=None, result={'lnode': 'node_1', 'count': 1}),)) \n",
      "\n",
      "StateSnapshot(values={'count': 0}, next=('__start__',), config={'configurable': {'thread_id': '2', 'checkpoint_ns': '', 'checkpoint_id': '1ef8dfe8-ee2d-6088-8008-53dc15545696'}}, metadata={'source': 'input', 'writes': {'__start__': {'count': 0, 'scratch': 'hi'}}, 'step': 8, 'parents': {}}, created_at='2024-10-19T09:43:13.021341+00:00', parent_config={'configurable': {'thread_id': '2', 'checkpoint_ns': '', 'checkpoint_id': '1ef8dfe8-2291-630f-8007-d6ce87addc73'}}, tasks=(PregelTask(id='a1e9a471-a62c-8590-e5ff-bf1b15a70542', name='__start__', path=('__pregel_pull', '__start__'), error=None, interrupts=(), state=None, result={'scratch': 'hi', 'count': 0}),)) \n",
      "\n",
      "StateSnapshot(values={'count': 0}, next=(), config={'configurable': {'thread_id': '2', 'checkpoint_ns': '', 'checkpoint_id': '1ef8dfe8-2291-630f-8007-d6ce87addc73'}}, metadata={'source': 'loop', 'writes': {'llm': {'messages': [AIMessage(content=\"I'm sorry but I do not have the capability to perform this task for you, I am happy to help you with any other queries you may have.\", additional_kwargs={}, response_metadata={'token_usage': {'completion_tokens': 32, 'prompt_tokens': 384, 'total_tokens': 416, 'completion_time': 0.099834933, 'prompt_time': 0.02674152, 'queue_time': 0.006121827, 'total_time': 0.126576453}, 'model_name': 'llama3-groq-70b-8192-tool-use-preview', 'system_fingerprint': 'fp_ee4b521143', 'finish_reason': 'stop', 'logprobs': None}, id='run-231619f7-04b7-4ae4-8312-5fcb82490a60-0', usage_metadata={'input_tokens': 384, 'output_tokens': 32, 'total_tokens': 416})]}}, 'step': 7, 'parents': {}}, created_at='2024-10-19T09:42:51.671360+00:00', parent_config={'configurable': {'thread_id': '2', 'checkpoint_ns': '', 'checkpoint_id': '1ef8dfe8-1d0c-6d5f-8006-bb1b283341c8'}}, tasks=()) \n",
      "\n",
      "StateSnapshot(values={'count': 0}, next=(), config={'configurable': {'thread_id': '2', 'checkpoint_ns': '', 'checkpoint_id': '1ef8dfe8-1d0c-6d5f-8006-bb1b283341c8'}}, metadata={'source': 'loop', 'writes': None, 'step': 6, 'parents': {}}, created_at='2024-10-19T09:42:51.092906+00:00', parent_config={'configurable': {'thread_id': '2', 'checkpoint_ns': '', 'checkpoint_id': '1ef8dfe8-1d0b-610f-8005-96623733080f'}}, tasks=()) \n",
      "\n",
      "StateSnapshot(values={'count': 0}, next=('__start__',), config={'configurable': {'thread_id': '2', 'checkpoint_ns': '', 'checkpoint_id': '1ef8dfe8-1d0b-610f-8005-96623733080f'}}, metadata={'source': 'input', 'writes': {'__start__': {'messages': [HumanMessage(content='Whats the weather in LA?', additional_kwargs={}, response_metadata={})]}}, 'step': 5, 'parents': {}}, created_at='2024-10-19T09:42:51.092184+00:00', parent_config={'configurable': {'thread_id': '2', 'checkpoint_ns': '', 'checkpoint_id': '1ef8dfe4-2675-65e9-8004-30c810968827'}}, tasks=(PregelTask(id='85661132-47bb-b03c-a4c3-aee3256f920c', name='__start__', path=('__pregel_pull', '__start__'), error=None, interrupts=(), state=None, result={}),)) \n",
      "\n",
      "StateSnapshot(values={'count': 0}, next=(), config={'configurable': {'thread_id': '2', 'checkpoint_ns': '', 'checkpoint_id': '1ef8dfe4-2675-65e9-8004-30c810968827'}}, metadata={'source': 'loop', 'writes': {'llm': {'messages': [AIMessage(content=\"I'm sorry but I do not have the capability to perform this task for you, I am happy to help you with any other queries you may have.\", additional_kwargs={}, response_metadata={'token_usage': {'completion_tokens': 32, 'prompt_tokens': 337, 'total_tokens': 369, 'completion_time': 0.100487472, 'prompt_time': 0.028098478, 'queue_time': 0.0046581890000000035, 'total_time': 0.12858595}, 'model_name': 'llama3-groq-70b-8192-tool-use-preview', 'system_fingerprint': 'fp_ee4b521143', 'finish_reason': 'stop', 'logprobs': None}, id='run-7502713b-4c96-4ad1-91c4-6edb4f051e74-0', usage_metadata={'input_tokens': 337, 'output_tokens': 32, 'total_tokens': 369})]}}, 'step': 4, 'parents': {}}, created_at='2024-10-19T09:41:04.705210+00:00', parent_config={'configurable': {'thread_id': '2', 'checkpoint_ns': '', 'checkpoint_id': '1ef8dfe4-2211-6a62-8003-e47530cb81d9'}}, tasks=()) \n",
      "\n",
      "StateSnapshot(values={'count': 0}, next=(), config={'configurable': {'thread_id': '2', 'checkpoint_ns': '', 'checkpoint_id': '1ef8dfe4-2211-6a62-8003-e47530cb81d9'}}, metadata={'source': 'loop', 'writes': None, 'step': 3, 'parents': {}}, created_at='2024-10-19T09:41:04.244988+00:00', parent_config={'configurable': {'thread_id': '2', 'checkpoint_ns': '', 'checkpoint_id': '1ef8dfe4-2210-638d-8002-6e17e93e2e2b'}}, tasks=()) \n",
      "\n",
      "StateSnapshot(values={'count': 0}, next=('__start__',), config={'configurable': {'thread_id': '2', 'checkpoint_ns': '', 'checkpoint_id': '1ef8dfe4-2210-638d-8002-6e17e93e2e2b'}}, metadata={'source': 'input', 'writes': {'__start__': {'messages': [HumanMessage(content='Which one is warmer?', additional_kwargs={}, response_metadata={})]}}, 'step': 2, 'parents': {}}, created_at='2024-10-19T09:41:04.244404+00:00', parent_config={'configurable': {'thread_id': '2', 'checkpoint_ns': '', 'checkpoint_id': '1ef8dfe2-4412-676d-8001-f4b01bc29966'}}, tasks=(PregelTask(id='c3ad2c2b-90e1-36c7-8e1a-76add6b98488', name='__start__', path=('__pregel_pull', '__start__'), error=None, interrupts=(), state=None, result={}),)) \n",
      "\n",
      "StateSnapshot(values={'count': 0}, next=(), config={'configurable': {'thread_id': '2', 'checkpoint_ns': '', 'checkpoint_id': '1ef8dfe2-4412-676d-8001-f4b01bc29966'}}, metadata={'source': 'loop', 'writes': {'llm': {'messages': [AIMessage(content=\"I'm sorry but I do not have the capability to perform this task for you, I am happy to help you with any other queries you may have.\", additional_kwargs={}, response_metadata={'token_usage': {'completion_tokens': 32, 'prompt_tokens': 291, 'total_tokens': 323, 'completion_time': 0.099462469, 'prompt_time': 0.021699524, 'queue_time': 0.011361593, 'total_time': 0.121161993}, 'model_name': 'llama3-groq-70b-8192-tool-use-preview', 'system_fingerprint': 'fp_ee4b521143', 'finish_reason': 'stop', 'logprobs': None}, id='run-d8651cdf-638a-4f29-b5dc-8c7d419bc5cc-0', usage_metadata={'input_tokens': 291, 'output_tokens': 32, 'total_tokens': 323})]}}, 'step': 1, 'parents': {}}, created_at='2024-10-19T09:40:14.123334+00:00', parent_config={'configurable': {'thread_id': '2', 'checkpoint_ns': '', 'checkpoint_id': '1ef8dfe2-3f9c-699b-8000-a784b6d978f6'}}, tasks=()) \n",
      "\n",
      "StateSnapshot(values={'count': 0}, next=(), config={'configurable': {'thread_id': '2', 'checkpoint_ns': '', 'checkpoint_id': '1ef8dfe2-3f9c-699b-8000-a784b6d978f6'}}, metadata={'source': 'loop', 'writes': None, 'step': 0, 'parents': {}}, created_at='2024-10-19T09:40:13.655632+00:00', parent_config={'configurable': {'thread_id': '2', 'checkpoint_ns': '', 'checkpoint_id': '1ef8dfe2-3f93-6446-bfff-33bc69b8be1f'}}, tasks=()) \n",
      "\n",
      "StateSnapshot(values={'count': 0}, next=('__start__',), config={'configurable': {'thread_id': '2', 'checkpoint_ns': '', 'checkpoint_id': '1ef8dfe2-3f93-6446-bfff-33bc69b8be1f'}}, metadata={'source': 'input', 'writes': {'__start__': {'messages': [HumanMessage(content='Which one is warmer?', additional_kwargs={}, response_metadata={})]}}, 'step': -1, 'parents': {}}, created_at='2024-10-19T09:40:13.651843+00:00', parent_config=None, tasks=(PregelTask(id='2a2ffb63-226a-65c7-7207-ab40b5732cf6', name='__start__', path=('__pregel_pull', '__start__'), error=None, interrupts=(), state=None, result={}),)) \n",
      "\n"
     ]
    }
   ],
   "source": [
    "for state in graph.get_state_history(thread2):\n",
    "    print(state,\"\\n\")"
   ]
  },
  {
   "cell_type": "markdown",
   "id": "a5ea1bba-cf12-4493-948b-08b300054742",
   "metadata": {},
   "source": [
    "Continue to experiment!"
   ]
  }
 ],
 "metadata": {
  "kernelspec": {
   "display_name": "Python 3",
   "language": "python",
   "name": "python3"
  },
  "language_info": {
   "codemirror_mode": {
    "name": "ipython",
    "version": 3
   },
   "file_extension": ".py",
   "mimetype": "text/x-python",
   "name": "python",
   "nbconvert_exporter": "python",
   "pygments_lexer": "ipython3",
   "version": "3.11.10"
  }
 },
 "nbformat": 4,
 "nbformat_minor": 5
}
