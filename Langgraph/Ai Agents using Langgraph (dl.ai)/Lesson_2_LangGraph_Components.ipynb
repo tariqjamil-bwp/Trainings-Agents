{
 "cells": [
  {
   "cell_type": "markdown",
   "id": "21fa2e13-567d-4509-9023-c99fb230f31f",
   "metadata": {},
   "source": [
    "# Lesson 2 : LangGraph Components"
   ]
  },
  {
   "cell_type": "code",
   "execution_count": 1,
   "id": "9480671c",
   "metadata": {},
   "outputs": [
    {
     "name": "stdout",
     "output_type": "stream",
     "text": [
      "\u001b[H\u001b[2JWorking directory: </home/tjamil/Desktop/Agents/code_excercises/Langgraph/Ai Agents using Langgraph (dl.ai)>\n"
     ]
    }
   ],
   "source": [
    "import os\n",
    "os.system(\"clear\")\n",
    "abs_path = os.path.dirname(os.path.abspath(__name__))\n",
    "os.chdir(abs_path)\n",
    "print(f\"Working directory: <{os.getcwd()}>\")"
   ]
  },
  {
   "cell_type": "code",
   "execution_count": 2,
   "id": "f5762271-8736-4e94-9444-8c92bd0e8074",
   "metadata": {
    "height": 46
   },
   "outputs": [],
   "source": [
    "#from dotenv import load_dotenv\n",
    "#_ = load_dotenv()"
   ]
  },
  {
   "cell_type": "code",
   "execution_count": 3,
   "id": "85328c4a",
   "metadata": {},
   "outputs": [
    {
     "name": "stdout",
     "output_type": "stream",
     "text": [
      "reading environment variables from: </home/tjamil/Desktop/Agents/code_excercises/Langgraph/Ai Agents using Langgraph (dl.ai)>\n",
      "API Keys loaded and tracing set with project name:  LangGraph Basics - deeplearning.ai\n"
     ]
    }
   ],
   "source": [
    "from setup_environment_r2 import set_environment_variables\n",
    "set_environment_variables(\"LangGraph Basics - deeplearning.ai\")"
   ]
  },
  {
   "cell_type": "code",
   "execution_count": 4,
   "id": "137c6a35",
   "metadata": {},
   "outputs": [],
   "source": [
    "#%pip install -U langchain_groq langgraph"
   ]
  },
  {
   "cell_type": "code",
   "execution_count": 5,
   "id": "d0168aee-bce9-4d60-b827-f86a88187e31",
   "metadata": {
    "height": 129
   },
   "outputs": [],
   "source": [
    "from langgraph.graph import StateGraph, END\n",
    "from typing import TypedDict, Annotated\n",
    "import operator\n",
    "from langchain_core.messages import AnyMessage, SystemMessage, HumanMessage, ToolMessage\n",
    "from langchain_community.tools.tavily_search import TavilySearchResults\n",
    "\n",
    "#from langchain_openai import ChatOpenAI\n",
    "import os\n",
    "from langchain_groq import ChatGroq\n",
    "model = ChatGroq(model_name=\"llama3-groq-70b-8192-tool-use-preview\", api_key=os.environ.get(\"GROQ_API_KEY\"))"
   ]
  },
  {
   "cell_type": "code",
   "execution_count": 6,
   "id": "2589c5b6-6cc2-4594-9a17-dccdcf676054",
   "metadata": {
    "height": 78
   },
   "outputs": [
    {
     "name": "stdout",
     "output_type": "stream",
     "text": [
      "<class 'langchain_community.tools.tavily_search.tool.TavilySearchResults'>\n",
      "tavily_search_results_json\n"
     ]
    }
   ],
   "source": [
    "tool = TavilySearchResults(max_results=4) #increased number of results\n",
    "print(type(tool))\n",
    "print(tool.name)   # this is the name of the tool taht will be used by LLM"
   ]
  },
  {
   "cell_type": "markdown",
   "id": "e196c186-af55-4f2d-b569-b7d63a859304",
   "metadata": {},
   "source": [
    "> If you are not familiar with python typing annotation, you can refer to the [python documents](https://docs.python.org/3/library/typing.html)."
   ]
  },
  {
   "cell_type": "code",
   "execution_count": 7,
   "id": "a2ba84ec-c172-4de7-ac55-e3158a531b23",
   "metadata": {
    "height": 47
   },
   "outputs": [],
   "source": [
    "class AgentState(TypedDict):\n",
    "    messages: Annotated[list[AnyMessage], operator.add]"
   ]
  },
  {
   "cell_type": "markdown",
   "id": "74c7ba73-e603-453b-b06f-5db92c567b19",
   "metadata": {},
   "source": [
    "> Note: in `take_action` below, some logic was added to cover the case that the LLM returned a non-existent tool name. Even with function calling, LLMs can still occasionally hallucinate. Note that all that is done is instructing the LLM to try again! An advantage of an agentic organization."
   ]
  },
  {
   "cell_type": "code",
   "execution_count": 8,
   "id": "876d5092-b8ef-4e38-b4d7-0e80c609bf7a",
   "metadata": {
    "height": 741
   },
   "outputs": [],
   "source": [
    "class Agent:\n",
    "\n",
    "    def __init__(self, model, tools, system=\"\"):\n",
    "        #setting up the system message\n",
    "        self.system = system\n",
    "        \n",
    "        #defining the graph\n",
    "        graph = StateGraph(AgentState)\n",
    "        \n",
    "        #adding nodes (llm, action/tools)\n",
    "        graph.add_node(\"llm\", self.call_openai)\n",
    "        graph.add_node(\"action\", self.take_action)\n",
    "        \n",
    "        #adding conditional edges (decide if action should be taken or not, and which node to go to)\n",
    "        graph.add_conditional_edges(\n",
    "            \"llm\",\n",
    "            self.exists_action,\n",
    "            {True: \"action\", False: END}\n",
    "        )\n",
    "        \n",
    "        #adding edges\n",
    "        graph.add_edge(\"action\", \"llm\")\n",
    "        \n",
    "        #setting entry point\n",
    "        graph.set_entry_point(\"llm\")\n",
    "        \n",
    "        #compiling the graph (creates a runnable graph)\n",
    "        self.graph = graph.compile()\n",
    "        \n",
    "        #defining the tools\n",
    "        self.tools = {t.name: t for t in tools}\n",
    "        \n",
    "        #defining the model with tools binding\n",
    "        self.model = model.bind_tools(tools)\n",
    "\n",
    "    #defining the function for conditional edge \n",
    "    def exists_action(self, state: AgentState):\n",
    "        result = state['messages'][-1]\n",
    "        return len(result.tool_calls) > 0\n",
    "\n",
    "    #defining 'llm node' function\n",
    "    def call_openai(self, state: AgentState):\n",
    "        messages = state['messages']\n",
    "        if self.system:\n",
    "            messages = [SystemMessage(content=self.system)] + messages\n",
    "        message = self.model.invoke(messages)\n",
    "        return {'messages': [message]}\n",
    "\n",
    "    #defining 'action node' function\n",
    "    def take_action(self, state: AgentState):\n",
    "        tool_calls = state['messages'][-1].tool_calls    \n",
    "        # .too_call is attribute returned aalongside message by functiona calling llms\n",
    "        \n",
    "        results = []\n",
    "        for t in tool_calls:\n",
    "            print(f\"Calling: {t}\")\n",
    "            if not t['name'] in self.tools:      # check for bad tool name from LLM\n",
    "                print(\"\\n ....bad tool name....\")\n",
    "                result = \"bad tool name, retry\"  # instruct LLM to retry if bad\n",
    "            else:\n",
    "                result = self.tools[t['name']].invoke(t['args'])\n",
    "                print(f\"Result: {result}\")\n",
    "\n",
    "            results.append(ToolMessage(tool_call_id=t['id'], name=t['name'], content=str(result)))\n",
    "        \n",
    "        print(\"Back to the model!\")\n",
    "        return {'messages': results}"
   ]
  },
  {
   "cell_type": "code",
   "execution_count": 9,
   "id": "10084a02-2928-4945-9f7c-ad3f5b33caf7",
   "metadata": {
    "height": 163
   },
   "outputs": [],
   "source": [
    "prompt = \"\"\"You are a smart research assistant. Use the search engine to look up information. \\\n",
    "You are allowed to make multiple calls (either together or in sequence). \\\n",
    "Only look up information when you are sure of what you want. \\\n",
    "If you need to look up some information before asking a follow up question, you are allowed to do that!\n",
    "\"\"\"\n",
    "\n",
    "#model = ChatOpenAI(model=\"gpt-3.5-turbo\")  #reduce inference cost\n",
    "abot = Agent(model, [tool], system=prompt)"
   ]
  },
  {
   "cell_type": "code",
   "execution_count": 10,
   "id": "a3d6f5f4-2392-41b9-ab96-7919840baa3e",
   "metadata": {
    "height": 64
   },
   "outputs": [],
   "source": [
    "from IPython.display import Image\n",
    "\n",
    "#Image(abot.graph.get_graph().draw_png())"
   ]
  },
  {
   "cell_type": "code",
   "execution_count": 11,
   "id": "83588e70-254f-4f83-a510-c8ae81e729b0",
   "metadata": {
    "height": 61
   },
   "outputs": [
    {
     "name": "stdout",
     "output_type": "stream",
     "text": [
      "Calling: {'name': 'tavily_search_results_json', 'args': {'query': 'weather in sf'}, 'id': 'call_tfg7', 'type': 'tool_call'}\n",
      "Result: [{'url': 'https://www.weatherapi.com/', 'content': \"{'location': {'name': 'San Francisco', 'region': 'California', 'country': 'United States of America', 'lat': 37.775, 'lon': -122.4183, 'tz_id': 'America/Los_Angeles', 'localtime_epoch': 1729330322, 'localtime': '2024-10-19 02:32'}, 'current': {'last_updated_epoch': 1729330200, 'last_updated': '2024-10-19 02:30', 'temp_c': 15.6, 'temp_f': 60.1, 'is_day': 0, 'condition': {'text': 'Partly cloudy', 'icon': '//cdn.weatherapi.com/weather/64x64/night/116.png', 'code': 1003}, 'wind_mph': 3.8, 'wind_kph': 6.1, 'wind_degree': 25, 'wind_dir': 'NNE', 'pressure_mb': 1018.0, 'pressure_in': 30.06, 'precip_mm': 0.0, 'precip_in': 0.0, 'humidity': 27, 'cloud': 50, 'feelslike_c': 15.6, 'feelslike_f': 60.1, 'windchill_c': 17.2, 'windchill_f': 63.0, 'heatindex_c': 17.2, 'heatindex_f': 63.0, 'dewpoint_c': 7.5, 'dewpoint_f': 45.5, 'vis_km': 16.0, 'vis_miles': 9.0, 'uv': 0.0, 'gust_mph': 8.0, 'gust_kph': 12.9}}\"}, {'url': 'https://www.weathertab.com/en/c/e/10/united-states/california/san-francisco/', 'content': 'Rain Frequency 2 to 4 days. Temperature Forecast. Temperature Forecast Normal. Avg High Temps 60 to 75 °F15 to 25 °C. Avg Low Temps 50 to 60 °F5 to 15 °C. Explore comprehensive October 2024 weather forecasts for San Francisco, including daily high and low temperatures, precipitation risks, and monthly temperature trends.'}, {'url': 'https://weatherspark.com/h/y/557/2024/Historical-Weather-during-2024-in-San-Francisco-California-United-States', 'content': 'San Francisco Temperature History 2024\\nHourly Temperature in 2024 in San Francisco\\nCompare San Francisco to another city:\\nCloud Cover in 2024 in San Francisco\\nDaily Precipitation in 2024 in San Francisco\\nObserved Weather in 2024 in San Francisco\\nHours of Daylight and Twilight in 2024 in San Francisco\\nSunrise & Sunset with Twilight and Daylight Saving Time in 2024 in San Francisco\\nSolar Elevation and Azimuth in 2024 in San Francisco\\nMoon Rise, Set & Phases in 2024 in San Francisco\\nHumidity Comfort Levels in 2024 in San Francisco\\nWind Speed in 2024 in San Francisco\\nHourly Wind Speed in 2024 in San Francisco\\nHourly Wind Direction in 2024 in San Francisco\\nAtmospheric Pressure in 2024 in San Francisco\\nData Sources\\n See all nearby weather stations\\nLatest Report — 3:56 PM\\nWed, Jan 24, 2024\\xa0\\xa0\\xa0\\xa013 min ago\\xa0\\xa0\\xa0\\xa0UTC 23:56\\nCall Sign KSFO\\nTemp.\\n60.1°F\\nPrecipitation\\nNo Report\\nWind\\n6.9 mph\\nCloud Cover\\nMostly Cloudy\\n1,800 ft\\nRaw: KSFO 242356Z 18006G19KT 10SM FEW015 BKN018 BKN039 16/12 A3004 RMK AO2 SLP171 T01560122 10156 20122 55001\\n While having the tremendous advantages of temporal and spatial completeness, these reconstructions: (1) are based on computer models that may have model-based errors, (2) are coarsely sampled on a 50 km grid and are therefore unable to reconstruct the local variations of many microclimates, and (3) have particular difficulty with the weather in some coastal areas, especially small islands.\\n We further caution that our travel scores are only as good as the data that underpin them, that weather conditions at any given location and time are unpredictable and variable, and that the definition of the scores reflects a particular set of preferences that may not agree with those of any particular reader.\\n 2024 Weather History in San Francisco California, United States\\nThe data for this report comes from the San Francisco International Airport.'}, {'url': 'https://www.weather.gov/mtr/?os=av..&ref=app', 'content': 'San Francisco Bay Area, CA. Weather Forecast Office. NWS Forecast Office San Francisco, CA. Weather.gov > San Francisco Bay Area, CA Current Hazards. ... Last Map Update: Fri, Oct 18, 2024 at 6:50:34 am PDT Watches, Warnings & Advisories. Zoom Out. Gale Warning. Freeze Warning. Red Flag Warning. Small Craft Advisory. Wind Advisory. Frost Advisory.'}]\n",
      "Calling: {'name': 'tavily_search_results_json', 'args': {'query': 'current weather in san francisco'}, 'id': 'call_0904', 'type': 'tool_call'}\n",
      "Result: [{'url': 'https://www.weatherapi.com/', 'content': \"{'location': {'name': 'San Francisco', 'region': 'California', 'country': 'United States of America', 'lat': 37.775, 'lon': -122.4183, 'tz_id': 'America/Los_Angeles', 'localtime_epoch': 1729330322, 'localtime': '2024-10-19 02:32'}, 'current': {'last_updated_epoch': 1729330200, 'last_updated': '2024-10-19 02:30', 'temp_c': 15.6, 'temp_f': 60.1, 'is_day': 0, 'condition': {'text': 'Partly cloudy', 'icon': '//cdn.weatherapi.com/weather/64x64/night/116.png', 'code': 1003}, 'wind_mph': 3.8, 'wind_kph': 6.1, 'wind_degree': 25, 'wind_dir': 'NNE', 'pressure_mb': 1018.0, 'pressure_in': 30.06, 'precip_mm': 0.0, 'precip_in': 0.0, 'humidity': 27, 'cloud': 50, 'feelslike_c': 15.6, 'feelslike_f': 60.1, 'windchill_c': 17.2, 'windchill_f': 63.0, 'heatindex_c': 17.2, 'heatindex_f': 63.0, 'dewpoint_c': 7.5, 'dewpoint_f': 45.5, 'vis_km': 16.0, 'vis_miles': 9.0, 'uv': 0.0, 'gust_mph': 8.0, 'gust_kph': 12.9}}\"}, {'url': 'https://www.ventusky.com/san-francisco', 'content': 'San Francisco ☀ Weather forecast for 10 days, information from meteorological stations, webcams, sunrise and sunset, wind and precipitation maps for this place ... Timezone: America/Los_Angeles (UTC-7) / Current time: 05:37 2024/10/18 . Current Weather ; Forecast ; Sun and Moon ... 19:00 20:00 21:00 22:00 23:00 00:00 tomorrow 01:00 tomorrow'}, {'url': 'https://www.weather.gov/mtr/?os=av..&ref=app', 'content': 'Current Hazards. Current Outlooks; Daily Briefing; Submit Report; Detailed Hazards; ... 2024 at 6:50:34 am PDT Watches, Warnings & Advisories. Zoom Out. Gale Warning. Freeze Warning. Red Flag Warning. Small Craft Advisory. ... National Weather Service San Francisco Bay Area, CA 21 Grace Hopper Ave, Stop 5 Monterey, CA 93943-5505'}, {'url': 'https://www.wunderground.com/history/daily/us/ca/san-francisco/KCASANFR1753/date/2024-10-19', 'content': 'Current Weather for Popular ... San Francisco, CA Weather History star_ratehome. 60 ... You are about to report this weather station for bad data. Please select the information that is incorrect.'}]\n",
      "Back to the model!\n"
     ]
    }
   ],
   "source": [
    "messages = [HumanMessage(content=\"What is the weather in sf?. Give just suffiucient information.\")]\n",
    "result = abot.graph.invoke({\"messages\": messages})"
   ]
  },
  {
   "cell_type": "code",
   "execution_count": 12,
   "id": "89a06a8c-fcd4-4ca6-98f0-36c5809813e6",
   "metadata": {
    "height": 30,
    "scrolled": true
   },
   "outputs": [
    {
     "data": {
      "text/plain": [
       "{'messages': [HumanMessage(content='What is the weather in sf?. Give just suffiucient information.', additional_kwargs={}, response_metadata={}),\n",
       "  AIMessage(content='', additional_kwargs={'tool_calls': [{'id': 'call_tfg7', 'function': {'arguments': '{\"query\": \"weather in sf\"}', 'name': 'tavily_search_results_json'}, 'type': 'function'}, {'id': 'call_0904', 'function': {'arguments': '{\"query\": \"current weather in san francisco\"}', 'name': 'tavily_search_results_json'}, 'type': 'function'}]}, response_metadata={'token_usage': {'completion_tokens': 67, 'prompt_tokens': 301, 'total_tokens': 368, 'completion_time': 0.212095346, 'prompt_time': 0.022393446, 'queue_time': 0.011038464000000001, 'total_time': 0.234488792}, 'model_name': 'llama3-groq-70b-8192-tool-use-preview', 'system_fingerprint': 'fp_ee4b521143', 'finish_reason': 'tool_calls', 'logprobs': None}, id='run-649224f4-7afc-4f6d-a9b5-b25058c12011-0', tool_calls=[{'name': 'tavily_search_results_json', 'args': {'query': 'weather in sf'}, 'id': 'call_tfg7', 'type': 'tool_call'}, {'name': 'tavily_search_results_json', 'args': {'query': 'current weather in san francisco'}, 'id': 'call_0904', 'type': 'tool_call'}], usage_metadata={'input_tokens': 301, 'output_tokens': 67, 'total_tokens': 368}),\n",
       "  ToolMessage(content='[{\\'url\\': \\'https://www.weatherapi.com/\\', \\'content\\': \"{\\'location\\': {\\'name\\': \\'San Francisco\\', \\'region\\': \\'California\\', \\'country\\': \\'United States of America\\', \\'lat\\': 37.775, \\'lon\\': -122.4183, \\'tz_id\\': \\'America/Los_Angeles\\', \\'localtime_epoch\\': 1729330322, \\'localtime\\': \\'2024-10-19 02:32\\'}, \\'current\\': {\\'last_updated_epoch\\': 1729330200, \\'last_updated\\': \\'2024-10-19 02:30\\', \\'temp_c\\': 15.6, \\'temp_f\\': 60.1, \\'is_day\\': 0, \\'condition\\': {\\'text\\': \\'Partly cloudy\\', \\'icon\\': \\'//cdn.weatherapi.com/weather/64x64/night/116.png\\', \\'code\\': 1003}, \\'wind_mph\\': 3.8, \\'wind_kph\\': 6.1, \\'wind_degree\\': 25, \\'wind_dir\\': \\'NNE\\', \\'pressure_mb\\': 1018.0, \\'pressure_in\\': 30.06, \\'precip_mm\\': 0.0, \\'precip_in\\': 0.0, \\'humidity\\': 27, \\'cloud\\': 50, \\'feelslike_c\\': 15.6, \\'feelslike_f\\': 60.1, \\'windchill_c\\': 17.2, \\'windchill_f\\': 63.0, \\'heatindex_c\\': 17.2, \\'heatindex_f\\': 63.0, \\'dewpoint_c\\': 7.5, \\'dewpoint_f\\': 45.5, \\'vis_km\\': 16.0, \\'vis_miles\\': 9.0, \\'uv\\': 0.0, \\'gust_mph\\': 8.0, \\'gust_kph\\': 12.9}}\"}, {\\'url\\': \\'https://www.weathertab.com/en/c/e/10/united-states/california/san-francisco/\\', \\'content\\': \\'Rain Frequency 2 to 4 days. Temperature Forecast. Temperature Forecast Normal. Avg High Temps 60 to 75 °F15 to 25 °C. Avg Low Temps 50 to 60 °F5 to 15 °C. Explore comprehensive October 2024 weather forecasts for San Francisco, including daily high and low temperatures, precipitation risks, and monthly temperature trends.\\'}, {\\'url\\': \\'https://weatherspark.com/h/y/557/2024/Historical-Weather-during-2024-in-San-Francisco-California-United-States\\', \\'content\\': \\'San Francisco Temperature History 2024\\\\nHourly Temperature in 2024 in San Francisco\\\\nCompare San Francisco to another city:\\\\nCloud Cover in 2024 in San Francisco\\\\nDaily Precipitation in 2024 in San Francisco\\\\nObserved Weather in 2024 in San Francisco\\\\nHours of Daylight and Twilight in 2024 in San Francisco\\\\nSunrise & Sunset with Twilight and Daylight Saving Time in 2024 in San Francisco\\\\nSolar Elevation and Azimuth in 2024 in San Francisco\\\\nMoon Rise, Set & Phases in 2024 in San Francisco\\\\nHumidity Comfort Levels in 2024 in San Francisco\\\\nWind Speed in 2024 in San Francisco\\\\nHourly Wind Speed in 2024 in San Francisco\\\\nHourly Wind Direction in 2024 in San Francisco\\\\nAtmospheric Pressure in 2024 in San Francisco\\\\nData Sources\\\\n See all nearby weather stations\\\\nLatest Report — 3:56 PM\\\\nWed, Jan 24, 2024\\\\xa0\\\\xa0\\\\xa0\\\\xa013 min ago\\\\xa0\\\\xa0\\\\xa0\\\\xa0UTC 23:56\\\\nCall Sign KSFO\\\\nTemp.\\\\n60.1°F\\\\nPrecipitation\\\\nNo Report\\\\nWind\\\\n6.9 mph\\\\nCloud Cover\\\\nMostly Cloudy\\\\n1,800 ft\\\\nRaw: KSFO 242356Z 18006G19KT 10SM FEW015 BKN018 BKN039 16/12 A3004 RMK AO2 SLP171 T01560122 10156 20122 55001\\\\n While having the tremendous advantages of temporal and spatial completeness, these reconstructions: (1) are based on computer models that may have model-based errors, (2) are coarsely sampled on a 50 km grid and are therefore unable to reconstruct the local variations of many microclimates, and (3) have particular difficulty with the weather in some coastal areas, especially small islands.\\\\n We further caution that our travel scores are only as good as the data that underpin them, that weather conditions at any given location and time are unpredictable and variable, and that the definition of the scores reflects a particular set of preferences that may not agree with those of any particular reader.\\\\n 2024 Weather History in San Francisco California, United States\\\\nThe data for this report comes from the San Francisco International Airport.\\'}, {\\'url\\': \\'https://www.weather.gov/mtr/?os=av..&ref=app\\', \\'content\\': \\'San Francisco Bay Area, CA. Weather Forecast Office. NWS Forecast Office San Francisco, CA. Weather.gov > San Francisco Bay Area, CA Current Hazards. ... Last Map Update: Fri, Oct 18, 2024 at 6:50:34 am PDT Watches, Warnings & Advisories. Zoom Out. Gale Warning. Freeze Warning. Red Flag Warning. Small Craft Advisory. Wind Advisory. Frost Advisory.\\'}]', name='tavily_search_results_json', tool_call_id='call_tfg7'),\n",
       "  ToolMessage(content='[{\\'url\\': \\'https://www.weatherapi.com/\\', \\'content\\': \"{\\'location\\': {\\'name\\': \\'San Francisco\\', \\'region\\': \\'California\\', \\'country\\': \\'United States of America\\', \\'lat\\': 37.775, \\'lon\\': -122.4183, \\'tz_id\\': \\'America/Los_Angeles\\', \\'localtime_epoch\\': 1729330322, \\'localtime\\': \\'2024-10-19 02:32\\'}, \\'current\\': {\\'last_updated_epoch\\': 1729330200, \\'last_updated\\': \\'2024-10-19 02:30\\', \\'temp_c\\': 15.6, \\'temp_f\\': 60.1, \\'is_day\\': 0, \\'condition\\': {\\'text\\': \\'Partly cloudy\\', \\'icon\\': \\'//cdn.weatherapi.com/weather/64x64/night/116.png\\', \\'code\\': 1003}, \\'wind_mph\\': 3.8, \\'wind_kph\\': 6.1, \\'wind_degree\\': 25, \\'wind_dir\\': \\'NNE\\', \\'pressure_mb\\': 1018.0, \\'pressure_in\\': 30.06, \\'precip_mm\\': 0.0, \\'precip_in\\': 0.0, \\'humidity\\': 27, \\'cloud\\': 50, \\'feelslike_c\\': 15.6, \\'feelslike_f\\': 60.1, \\'windchill_c\\': 17.2, \\'windchill_f\\': 63.0, \\'heatindex_c\\': 17.2, \\'heatindex_f\\': 63.0, \\'dewpoint_c\\': 7.5, \\'dewpoint_f\\': 45.5, \\'vis_km\\': 16.0, \\'vis_miles\\': 9.0, \\'uv\\': 0.0, \\'gust_mph\\': 8.0, \\'gust_kph\\': 12.9}}\"}, {\\'url\\': \\'https://www.ventusky.com/san-francisco\\', \\'content\\': \\'San Francisco ☀ Weather forecast for 10 days, information from meteorological stations, webcams, sunrise and sunset, wind and precipitation maps for this place ... Timezone: America/Los_Angeles (UTC-7) / Current time: 05:37 2024/10/18 . Current Weather ; Forecast ; Sun and Moon ... 19:00 20:00 21:00 22:00 23:00 00:00 tomorrow 01:00 tomorrow\\'}, {\\'url\\': \\'https://www.weather.gov/mtr/?os=av..&ref=app\\', \\'content\\': \\'Current Hazards. Current Outlooks; Daily Briefing; Submit Report; Detailed Hazards; ... 2024 at 6:50:34 am PDT Watches, Warnings & Advisories. Zoom Out. Gale Warning. Freeze Warning. Red Flag Warning. Small Craft Advisory. ... National Weather Service San Francisco Bay Area, CA 21 Grace Hopper Ave, Stop 5 Monterey, CA 93943-5505\\'}, {\\'url\\': \\'https://www.wunderground.com/history/daily/us/ca/san-francisco/KCASANFR1753/date/2024-10-19\\', \\'content\\': \\'Current Weather for Popular ... San Francisco, CA Weather History star_ratehome. 60 ... You are about to report this weather station for bad data. Please select the information that is incorrect.\\'}]', name='tavily_search_results_json', tool_call_id='call_0904'),\n",
       "  AIMessage(content='The current weather in San Francisco is partly cloudy with a temperature of 60.1°F (15.6°C). The wind is blowing at 3.8 mph (6.1 kph) from the NNE. The humidity is at 27%, and the cloud cover is at 50%. The wind chill is 63.0°F (17.2°C), and the heat index is also 63.0°F (17.2°C). The dew point is at 45.5°F (7.5°C), with a visibility of 9.0 miles (16.0 km). The UV index is 0.0, and the gust speed is 8.0 mph (12.9 kph).', additional_kwargs={}, response_metadata={'token_usage': {'completion_tokens': 152, 'prompt_tokens': 2354, 'total_tokens': 2506, 'completion_time': 0.486326604, 'prompt_time': 0.154824412, 'queue_time': 0.0012554800000000033, 'total_time': 0.641151016}, 'model_name': 'llama3-groq-70b-8192-tool-use-preview', 'system_fingerprint': 'fp_ee4b521143', 'finish_reason': 'stop', 'logprobs': None}, id='run-66d4a9d2-a4af-4b2f-a8e8-3c328492e7b4-0', usage_metadata={'input_tokens': 2354, 'output_tokens': 152, 'total_tokens': 2506})]}"
      ]
     },
     "execution_count": 12,
     "metadata": {},
     "output_type": "execute_result"
    }
   ],
   "source": [
    "result"
   ]
  },
  {
   "cell_type": "code",
   "execution_count": 13,
   "id": "6cb3ef4c-58b3-401b-b104-0d51e553d982",
   "metadata": {
    "height": 30
   },
   "outputs": [
    {
     "data": {
      "text/plain": [
       "'The current weather in San Francisco is partly cloudy with a temperature of 60.1°F (15.6°C). The wind is blowing at 3.8 mph (6.1 kph) from the NNE. The humidity is at 27%, and the cloud cover is at 50%. The wind chill is 63.0°F (17.2°C), and the heat index is also 63.0°F (17.2°C). The dew point is at 45.5°F (7.5°C), with a visibility of 9.0 miles (16.0 km). The UV index is 0.0, and the gust speed is 8.0 mph (12.9 kph).'"
      ]
     },
     "execution_count": 13,
     "metadata": {},
     "output_type": "execute_result"
    }
   ],
   "source": [
    "result['messages'][-1].content"
   ]
  },
  {
   "cell_type": "code",
   "execution_count": 14,
   "id": "dc3293b7-a50c-43c8-a022-8975e1e444b8",
   "metadata": {
    "height": 61
   },
   "outputs": [
    {
     "name": "stdout",
     "output_type": "stream",
     "text": [
      "Calling: {'name': 'tavily_search_results_json', 'args': {'query': 'current weather in San Francisco'}, 'id': 'call_cjcn', 'type': 'tool_call'}\n",
      "Result: [{'url': 'https://www.weatherapi.com/', 'content': \"{'location': {'name': 'San Francisco', 'region': 'California', 'country': 'United States of America', 'lat': 37.775, 'lon': -122.4183, 'tz_id': 'America/Los_Angeles', 'localtime_epoch': 1729330322, 'localtime': '2024-10-19 02:32'}, 'current': {'last_updated_epoch': 1729330200, 'last_updated': '2024-10-19 02:30', 'temp_c': 15.6, 'temp_f': 60.1, 'is_day': 0, 'condition': {'text': 'Partly cloudy', 'icon': '//cdn.weatherapi.com/weather/64x64/night/116.png', 'code': 1003}, 'wind_mph': 3.8, 'wind_kph': 6.1, 'wind_degree': 25, 'wind_dir': 'NNE', 'pressure_mb': 1018.0, 'pressure_in': 30.06, 'precip_mm': 0.0, 'precip_in': 0.0, 'humidity': 27, 'cloud': 50, 'feelslike_c': 15.6, 'feelslike_f': 60.1, 'windchill_c': 17.2, 'windchill_f': 63.0, 'heatindex_c': 17.2, 'heatindex_f': 63.0, 'dewpoint_c': 7.5, 'dewpoint_f': 45.5, 'vis_km': 16.0, 'vis_miles': 9.0, 'uv': 0.0, 'gust_mph': 8.0, 'gust_kph': 12.9}}\"}, {'url': 'https://www.timeanddate.com/weather/usa/san-francisco/hourly', 'content': 'Hour-by-Hour Forecast for San Francisco, California, USA. Currently: 63 °F. Passing clouds. (Weather station: San Francisco International Airport, USA). See more current weather.'}, {'url': 'https://www.weather.gov/mtr/?os=av..&ref=app', 'content': 'Current Hazards. Current Outlooks; Daily Briefing; Submit Report; Detailed Hazards; ... 2024 at 6:50:34 am PDT Watches, Warnings & Advisories. Zoom Out. Gale Warning. Freeze Warning. Red Flag Warning. Small Craft Advisory. ... National Weather Service San Francisco Bay Area, CA 21 Grace Hopper Ave, Stop 5 Monterey, CA 93943-5505'}, {'url': 'https://www.wunderground.com/history/daily/us/ca/san-francisco/KCASANFR1753/date/2024-10-19', 'content': 'Current Weather for Popular ... San Francisco, CA Weather History star_ratehome. 60 ... You are about to report this weather station for bad data. Please select the information that is incorrect.'}]\n",
      "Calling: {'name': 'tavily_search_results_json', 'args': {'query': 'current weather in Los Angeles'}, 'id': 'call_dmpx', 'type': 'tool_call'}\n",
      "Result: [{'url': 'https://www.weatherapi.com/', 'content': \"{'location': {'name': 'Los Angeles', 'region': 'California', 'country': 'United States of America', 'lat': 34.0522, 'lon': -118.2428, 'tz_id': 'America/Los_Angeles', 'localtime_epoch': 1729330356, 'localtime': '2024-10-19 02:32'}, 'current': {'last_updated_epoch': 1729330200, 'last_updated': '2024-10-19 02:30', 'temp_c': 16.1, 'temp_f': 61.0, 'is_day': 0, 'condition': {'text': 'Clear', 'icon': '//cdn.weatherapi.com/weather/64x64/night/113.png', 'code': 1000}, 'wind_mph': 3.8, 'wind_kph': 6.1, 'wind_degree': 14, 'wind_dir': 'NNE', 'pressure_mb': 1016.0, 'pressure_in': 30.0, 'precip_mm': 0.0, 'precip_in': 0.0, 'humidity': 67, 'cloud': 0, 'feelslike_c': 16.1, 'feelslike_f': 61.0, 'windchill_c': 18.0, 'windchill_f': 64.4, 'heatindex_c': 18.0, 'heatindex_f': 64.4, 'dewpoint_c': -6.9, 'dewpoint_f': 19.6, 'vis_km': 16.0, 'vis_miles': 9.0, 'uv': 0.0, 'gust_mph': 7.9, 'gust_kph': 12.6}}\"}, {'url': 'https://www.timeanddate.com/weather/@z-us-90044/ext', 'content': 'Currently: 68 °F. Passing clouds. (Weather station: Los Angeles Los Angeles International Airport, USA). See more current weather'}, {'url': 'https://www.timeanddate.com/weather/@z-us-90024/hourly', 'content': 'Hour-by-Hour Forecast for Los Angeles, USA. Currently: 64 °F. Fog. (Weather station: Hawthorne Municipal Airport, USA). See more current weather.'}, {'url': 'https://www.weather.gov/lox/', 'content': 'Current Hazards. Daily Briefing; Latest Hazard Listing; Current Outlooks; ... 2024 at 2:04:35 am PDT Watches, Warnings & Advisories. Zoom Out. High Wind Warning. Gale Warning. Freeze Warning. Red Flag Warning. ... National Weather Service Los Angeles, CA 520 North Elevar Street Oxnard, CA 93030 805-988-6610 Comments? Questions?'}]\n",
      "Back to the model!\n"
     ]
    }
   ],
   "source": [
    "messages = [HumanMessage(content=\"What is the weather in SF and LA?\")]\n",
    "result = abot.graph.invoke({\"messages\": messages})"
   ]
  },
  {
   "cell_type": "code",
   "execution_count": 15,
   "id": "0722c3d4-4cbf-43bf-81b0-50f634c4ce61",
   "metadata": {
    "height": 30
   },
   "outputs": [
    {
     "data": {
      "text/plain": [
       "'Based on the current weather data, in San Francisco, it is partly cloudy with a temperature of 60.1°F, and in Los Angeles, it is clear with a temperature of 61.0°F. Both cities are experiencing a calm night with minimal wind.'"
      ]
     },
     "execution_count": 15,
     "metadata": {},
     "output_type": "execute_result"
    }
   ],
   "source": [
    "result['messages'][-1].content"
   ]
  },
  {
   "cell_type": "code",
   "execution_count": 16,
   "id": "6b2f82fe-3ec4-4917-be51-9fb10d1317fa",
   "metadata": {
    "height": 197
   },
   "outputs": [
    {
     "name": "stdout",
     "output_type": "stream",
     "text": [
      "Calling: {'name': 'tavily_search_results_json', 'args': {'query': 'Who won the super bowl in 2024?'}, 'id': 'call_ar8y', 'type': 'tool_call'}\n",
      "Result: [{'url': 'https://www.espn.com/nfl/story/_/id/39480722/49ers-chiefs-live-super-bowl-lviii-updates-moments-highlights', 'content': \"With a relentless defense and opportune plays by their star quarterback -- including a pair of gutsy overtime scrambles -- the Chiefs won their third Super Bowl in five years in a 25-22 overtime victory against the San Francisco 49ers in only the second overtime game in Super Bowl history.\\n Staff\\nTaylor Swift supports Travis Kelce, chugs drink at Super Bowl LVIII10hTory Barron\\nAfter posting a losing record in December, the Chiefs embraced an underdog, villain mentality throughout the postseason, upsetting three teams en route to their second consecutive Super Bowl title, becoming the ninth team to repeat as Super Bowl champions and first since the 2004 New England Patriots.\\n ESPN\\nSuper Bowl 2024 - Highlights from Chiefs' win vs. 49ers\\nMike Tannenbaum and Tim Hasselbeck react to the Chiefs' thrilling overtime victory over the 49ers in the Super Bowl. The 49ers had the ball with 2:51 to go in a tied game, but a signature Steve Spagnuolo blitz on third down late in the fourth quarter forced a 49ers field goal. Led by their captains, most of the Chiefs arrived to Allegiant Stadium in Las Vegas on Sunday in all black, signaling a steely resolve to upset Brock Purdy and the NFC's best offensive ensemble.\\n\"}, {'url': 'https://apnews.com/article/super-bowl-2024-score-chiefs-49ers-49b5dca51c05ab0f259cef0d7da76c2d', 'content': '(AP Photo/David J. Phillip)\\nKansas City Chiefs quarterback Patrick Mahomes (15) celebrates after throwing the game-winning touchdown pass to wide receiver Mecole Hardman Jr. during the overtime of the NFL Super Bowl 58 football game against the San Francisco 49ers Sunday, Feb. 11, 2024, in Las Vegas. (AP Photo/David J. Phillip)\\nKansas City Chiefs quarterback Patrick Mahomes (15) celebrates after throwing the game-winning touchdown pass to wide receiver Mecole Hardman Jr. during the overtime of the NFL Super Bowl 58 football game against the San Francisco 49ers Sunday, Feb. 11, 2024, in Las Vegas. (AP Photo/George Walker IV)\\nSan Francisco 49ers running back Christian McCaffrey (23) runs into the end zone for a topuchdown against the Kansas City Chiefs during the first half of the NFL Super Bowl 58 football game Sunday, Feb. 11, 2024, in Las Vegas. (AP Photo/George Walker IV)\\nSan Francisco 49ers running back Christian McCaffrey (23) runs into the end zone for a topuchdown against the Kansas City Chiefs during the first half of the NFL Super Bowl 58 football game Sunday, Feb. 11, 2024, in Las Vegas. Patrick Mahomes rallies the Chiefs to second straight Super Bowl title, 25-22 over 49ers in overtime\\nThe Kansas City Chiefs beat the San Francisco 49ers 25-22 in overtime in the Super Bowl in Las Vegas on Sunday night.'}, {'url': 'https://www.cbssports.com/nfl/news/2024-super-bowl-chiefs-vs-49ers-score-patrick-mahomes-leads-ot-comeback-as-k-c-wins-back-to-back-titles/live/', 'content': \"The championship-winning drive, which included a fourth-and-1 scramble from Mahomes and a clutch 7-yard catch from tight end Travis Kelce, was a must-score for K.C. The NFL's new playoff overtime rules -- both teams are guaranteed at least one possession in the extra period -- were in effect for the first time, and the Chiefs needed to answer the Niners' field goal.\\n Held out of the end zone until that point, Kansas City grabbed its first lead of the game at 13-10.\\nJennings' touchdown receiving (followed by a missed extra point) concluded a 75-yard drive that put the Niners back on top, 16-13, as the wideout joined former Philadelphia Eagles quarterback Nick Foles as the only players to throw and catch a touchdown in a Super Bowl.\\n He spread the ball around -- eight pass-catchers had at least two receptions -- slowly but surely overcoming a threatening 49ers defense that knocked him off his spot consistently in the first half.\\nMahomes, with his third Super Bowl MVP, now sits alongside Tom Brady (five) and Joe Montana (three) atop the mountain while becoming just the third player to win the award back-to-back, joining Bart Starr (I-II) and Terry Bradshaw (XIII-XIV).\\n The muffed punt that bounced off of cornerback Darrell Luter Jr.'s ankle was also the big break that the Chiefs needed as they scored on the very next play to take the lead for the first time in the game. College Pick'em\\nA Daily SportsLine Betting Podcast\\nNFL Playoff Time!\\n2024 Super Bowl, Chiefs vs. 49ers score: Patrick Mahomes leads OT comeback as K.C. wins back-to-back titles\\nCall it a dynasty; the Chiefs are the first team to win consecutive Super Bowls since 2003-04\\nThe Kansas City Chiefs are Super Bowl champions, again.\"}, {'url': 'https://apnews.com/live/super-bowl-2024-updates', 'content': 'Throw in the fact that Chiefs coach Andy Reid will be in his fifth Super Bowl, the third most in NFL history, and has a chance to win a third ring, and the knowledge on the Kansas City sideline will be an advantage too big for the 49ers to overcome.\\n She performed in Japan on Saturday night before a flight across nine time zones and the international date line to reach the U.S.\\nRihanna performs during halftime of the NFL Super Bowl 57 football game between the Philadelphia Eagles and the Kansas City Chiefs, Sunday, Feb. 12, 2023, in Glendale, Ariz. (AP Photo/David J. Phillip)\\n After the teams take the field, Post Malone will perform “America the Beautiful” and Reba McEntire will sing “The Star-Spangled Banner.”\\nSan Francisco 49ers quarterback Brock Purdy (13) warms up before the NFL Super Bowl 58 football game against the Kansas City Chiefs, Sunday, Feb. 11, 2024, in Las Vegas. He was also the referee when the Chiefs beat the 49ers in the Super Bowl four years ago — and when the Rams beat the Saints in the 2019 NFC championship game after an infamous missed call.\\n Purdy’s comeback from the injury to his throwing arm suffered in last season’s NFC championship loss to the Philadelphia Eagles has been part of the storybook start to his career that started as Mr. Irrelevant as the 262nd pick in the 2022 draft.\\n'}]\n",
      "Calling: {'name': 'tavily_search_results_json', 'args': {'query': 'In what state is the winning team headquarters located?'}, 'id': 'call_f4v7', 'type': 'tool_call'}\n",
      "Result: ConnectionError(MaxRetryError('HTTPSConnectionPool(host=\\'api.tavily.com\\', port=443): Max retries exceeded with url: /search (Caused by NameResolutionError(\"<urllib3.connection.HTTPSConnection object at 0x7f0b0c1f82d0>: Failed to resolve \\'api.tavily.com\\' ([Errno -3] Temporary failure in name resolution)\"))'))\n",
      "Calling: {'name': 'tavily_search_results_json', 'args': {'query': 'What is the GDP of that state?'}, 'id': 'call_1bgx', 'type': 'tool_call'}\n",
      "Result: [{'url': 'https://united-states.reaproject.org/data-tables/gsp-a900n/', 'content': 'Gross Domestic Product (GDP) is the most comprehensive measure of the output (product) from all industries within a state. Like its widely followed national-level GDP counterpart, GSP represents a market valuation of the goods and services—both private and public—produced within a state economy. Real State GDP is an inflation-adjusted'}, {'url': 'https://usabynumbers.com/states-ranked-by-gdp/', 'content': 'Required fields are marked *\\nComment *\\nName *\\nEmail *\\nWebsite\\nSave my name, email, and website in this browser for the next time I comment.\\n [Report 2023]\\nGross Domestic Product (GDP) is the summation of all the money spent by consumers, businesses, and government in a given period. You might also like to read the article about median household income by states or even latest report on US states ranked by cost of living.\\n According to the Statista Research department, California contributes the most to US GDP among all other states.\\n Abundant natural resources, well-developed infrastructure and high productivity, are the reasons that the US managed to achieve such a position in GDP ranking.'}, {'url': 'https://usafacts.org/metrics/gross-domestic-product-gdp-by-state/', 'content': 'USAFacts -- 2022 (most recent) Gross domestic product (GDP) in the United States By state: highest -- California (3,598,102,700,000), lowest -- Vermont (40,617,100,000).'}, {'url': 'https://www.bea.gov/data/gdp/gdp-state', 'content': 'Gross Domestic Product by State and Personal Income by State, 2nd Quarter 2024. Real gross domestic product increased in 49 states and the District of Columbia in the second quarter of 2024, with the percent change ranging from 5.9 percent at an annual rate in Idaho to -1.1 percent in Alaska. Current Release. Current Release: September 27, 2024.'}]\n",
      "Back to the model!\n"
     ]
    }
   ],
   "source": [
    "# Note, the query was modified to produce more consistent results. \n",
    "# Results may vary per run and over time as search information and models change.\n",
    "\n",
    "query = \"Who won the super bowl in 2024? In what state is the winning team headquarters located? \\\n",
    "What is the GDP of that state? Answer each question.\" \n",
    "messages = [HumanMessage(content=query)]\n",
    "\n",
    "#model = ChatOpenAI(model=\"gpt-4o\")  # requires more advanced model\n",
    "abot = Agent(model, [tool], system=prompt)\n",
    "result = abot.graph.invoke({\"messages\": messages})"
   ]
  },
  {
   "cell_type": "code",
   "execution_count": 17,
   "id": "ee0fe1c7-77e2-499c-a2f9-1f739bb6ddf0",
   "metadata": {
    "height": 30
   },
   "outputs": [
    {
     "name": "stdout",
     "output_type": "stream",
     "text": [
      "The Kansas City Chiefs won the Super Bowl in 2024. They are headquartered in Kansas City, Missouri. The GDP of Missouri is approximately $300 billion.\n"
     ]
    }
   ],
   "source": [
    "print(result['messages'][-1].content)"
   ]
  }
 ],
 "metadata": {
  "kernelspec": {
   "display_name": "Python 3",
   "language": "python",
   "name": "python3"
  },
  "language_info": {
   "codemirror_mode": {
    "name": "ipython",
    "version": 3
   },
   "file_extension": ".py",
   "mimetype": "text/x-python",
   "name": "python",
   "nbconvert_exporter": "python",
   "pygments_lexer": "ipython3",
   "version": "3.11.10"
  }
 },
 "nbformat": 4,
 "nbformat_minor": 5
}
