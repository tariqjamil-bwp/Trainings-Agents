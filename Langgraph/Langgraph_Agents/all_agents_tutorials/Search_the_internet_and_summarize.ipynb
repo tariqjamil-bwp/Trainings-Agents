{
 "cells": [
  {
   "cell_type": "markdown",
   "metadata": {},
   "source": [
    "# Search and Summarize: AI-Powered Web Research Tool\n",
    "\n",
    "## Overview\n",
    "This Jupyter notebook implements an intelligent web research assistant that combines web search capabilities with AI-powered summarization. It automates the process of gathering information from the internet and distilling it into concise, relevant summaries, enhancing the efficiency of online research tasks.\n",
    "\n",
    "## Motivation\n",
    "In the age of information overload, efficiently extracting relevant knowledge from the vast expanse of the internet is increasingly challenging. This tool addresses several key pain points:\n",
    "\n",
    "1. Time consumption in manual web searches\n",
    "2. Information overload from multiple sources\n",
    "3. Difficulty in quickly grasping key points from lengthy articles\n",
    "4. Need for focused research on specific websites\n",
    "\n",
    "By automating the search and summarization process, this tool aims to significantly reduce the time and cognitive load associated with web research, allowing users to quickly gain insights on any topic.\n",
    "\n",
    "## Key Components\n",
    "The notebook consists of several integral components:\n",
    "\n",
    "1. **Web Search Module**: Utilizes DuckDuckGo's search API to fetch relevant web pages based on user queries.\n",
    "2. **Result Parser**: Processes raw search results into a structured format for further analysis.\n",
    "3. **Text Summarization Engine**: Leverages OpenAI's language models to generate concise summaries of web content.\n",
    "4. **Integration Layer**: Combines the search and summarization functionalities into a seamless workflow.\n",
    "\n",
    "## Method Details\n",
    "\n",
    "### Web Search Process\n",
    "1. The user provides a search query and optionally specifies a target website.\n",
    "2. If a specific site is given, the tool performs two searches:\n",
    "   a. A site-specific search within the specified domain\n",
    "   b. A general search excluding the specified site\n",
    "3. Without a specific site, it conducts a general web search.\n",
    "4. Search results are parsed to extract snippets, titles, and links.\n",
    "\n",
    "### Summarization Approach\n",
    "1. For each search result, the tool extracts the relevant text content.\n",
    "2. The extracted text is sent to the AI model with a prompt requesting a concise summary.\n",
    "3. The AI generates a summary in the form of 1-2 bullet points, capturing the key information.\n",
    "4. Summaries are compiled along with their sources (title and link).\n",
    "\n",
    "### Integration and Output\n",
    "1. The tool combines the web search and summarization processes into a single function call.\n",
    "2. It returns a formatted output containing summaries from multiple sources, each clearly attributed.\n",
    "3. The output is designed to provide a quick overview of the topic, with links to full sources for further reading.\n",
    "\n",
    "## Conclusion\n",
    "This notebook demonstrates the power of combining web search capabilities with AI-driven summarization. It offers a practical solution for rapid information gathering and synthesis, applicable in various domains such as research, journalism, business intelligence, and general knowledge acquisition. By automating the tedious aspects of web research, it allows users to focus on higher-level analysis and decision-making based on quickly acquired, relevant information.\n",
    "\n",
    "The modular design of this tool also allows for future enhancements, such as integration with different search engines, implementation of more advanced summarization techniques, or adaptation to specific domain knowledge requirements."
   ]
  },
  {
   "cell_type": "markdown",
   "metadata": {},
   "source": [
    "## Import Dependencies\n",
    "\n",
    "This cell imports all necessary libraries and sets up the environment."
   ]
  },
  {
   "cell_type": "code",
   "execution_count": 2,
   "metadata": {},
   "outputs": [],
   "source": [
    "import os\n",
    "from langchain.tools import DuckDuckGoSearchResults\n",
    "from langchain_openai import ChatOpenAI\n",
    "from langchain import PromptTemplate\n",
    "from langchain_core.pydantic_v1 import BaseModel, Field\n",
    "from typing import List, Dict, Any, Tuple, Optional\n",
    "import re\n",
    "import nltk\n",
    "from dotenv import load_dotenv\n",
    "\n",
    "# Download necessary NLTK data\n",
    "nltk.download('punkt', quiet=True)\n",
    "nltk.download('stopwords', quiet=True)\n",
    "\n",
    "# Load environment variables\n",
    "load_dotenv()\n",
    "\n",
    "# Set OpenAI API key\n",
    "os.environ[\"OPENAI_API_KEY\"] = os.getenv('OPENAI_API_KEY')"
   ]
  },
  {
   "cell_type": "code",
   "execution_count": 3,
   "metadata": {},
   "outputs": [],
   "source": [
    "# Initialize the ChatOpenAI model\n",
    "llm = ChatOpenAI(#model=\"gpt-4o\")\n",
    "    model = 'llama-3.2-90b-text-preview',\n",
    "    base_url=\"https://api.groq.com/openai/v1\",\n",
    "    api_key=os.environ.get(\"GROQ_API_KEY\"),\n",
    ")"
   ]
  },
  {
   "cell_type": "markdown",
   "metadata": {},
   "source": [
    "## Initialize DuckDuckGo Search\n",
    "\n",
    "This cell initializes the DuckDuckGo search tool."
   ]
  },
  {
   "cell_type": "code",
   "execution_count": 4,
   "metadata": {},
   "outputs": [],
   "source": [
    "search = DuckDuckGoSearchResults()"
   ]
  },
  {
   "cell_type": "markdown",
   "metadata": {},
   "source": [
    "## Define Data Models\n",
    "\n",
    "This cell defines the data model for text summarization."
   ]
  },
  {
   "cell_type": "code",
   "execution_count": 5,
   "metadata": {},
   "outputs": [],
   "source": [
    "class SummarizeText(BaseModel):\n",
    "    \"\"\"Model for text to be summarized.\"\"\"\n",
    "    text: str = Field(..., title=\"Text to summarize\", description=\"The text to be summarized\")"
   ]
  },
  {
   "cell_type": "markdown",
   "metadata": {},
   "source": [
    "## Helper Functions\n",
    "\n",
    "This section contains helper functions for parsing search results and performing web searches."
   ]
  },
  {
   "cell_type": "code",
   "execution_count": 6,
   "metadata": {},
   "outputs": [],
   "source": [
    "def parse_search_results(results_string: str) -> List[dict]:\n",
    "    \"\"\"Parse a string representation of search results into a list of dictionaries.\"\"\"\n",
    "    results = []\n",
    "    entries = results_string.split(', snippet: ')\n",
    "    for entry in entries[1:]:  # Skip the first split as it's empty\n",
    "        parts = entry.split(', title: ')\n",
    "        if len(parts) == 2:\n",
    "            snippet = parts[0]\n",
    "            title_link = parts[1].split(', link: ')\n",
    "            if len(title_link) == 2:\n",
    "                title, link = title_link\n",
    "                results.append({\n",
    "                    'snippet': snippet,\n",
    "                    'title': title,\n",
    "                    'link': link\n",
    "                })\n",
    "    return results\n",
    "\n",
    "\n",
    "def perform_web_search(query: str, specific_site: Optional[str] = None) -> Tuple[List[str], List[Tuple[str, str]]]:\n",
    "    \"\"\"Perform a web search based on a query, optionally including a specific website.\"\"\"\n",
    "    try:\n",
    "        if specific_site:\n",
    "            specific_query = f\"site:{specific_site} {query}\"\n",
    "            print(f\"Searching for: {specific_query}\")\n",
    "            specific_results = search.run(specific_query)\n",
    "            print(f\"Specific search results: {specific_results}\")\n",
    "            specific_parsed = parse_search_results(specific_results)\n",
    "            \n",
    "            general_query = f\"-site:{specific_site} {query}\"\n",
    "            print(f\"Searching for: {general_query}\")\n",
    "            general_results = search.run(general_query)\n",
    "            print(f\"General search results: {general_results}\")\n",
    "            general_parsed = parse_search_results(general_results)\n",
    "            \n",
    "            combined_results = (specific_parsed + general_parsed)[:3]\n",
    "        else:\n",
    "            print(f\"Searching for: {query}\")\n",
    "            web_results = search.run(query)\n",
    "            print(f\"Web results: {web_results}\")\n",
    "            combined_results = parse_search_results(web_results)[:3]\n",
    "        \n",
    "        web_knowledge = [result.get('snippet', '') for result in combined_results]\n",
    "        sources = [(result.get('title', 'Untitled'), result.get('link', '')) for result in combined_results]\n",
    "        \n",
    "        print(f\"Processed web_knowledge: {web_knowledge}\")\n",
    "        print(f\"Processed sources: {sources}\")\n",
    "        return web_knowledge, sources\n",
    "    except Exception as e:\n",
    "        print(f\"Error in perform_web_search: {str(e)}\")\n",
    "        import traceback\n",
    "        traceback.print_exc()\n",
    "        return [], []"
   ]
  },
  {
   "cell_type": "markdown",
   "metadata": {},
   "source": [
    "## Text Summarization Function\n",
    "\n",
    "This cell defines the function to summarize text using OpenAI's language model."
   ]
  },
  {
   "cell_type": "code",
   "execution_count": 8,
   "metadata": {},
   "outputs": [],
   "source": [
    "def summarize_text(text: str, source: Tuple[str, str]) -> str:\n",
    "    \"\"\"Summarize the given text using OpenAI's language model.\"\"\"\n",
    "    try:\n",
    "        #llm = ChatOpenAI(temperature=0.7, model=\"gpt-4o-mini\")\n",
    "        prompt_template = \"Please summarize the following text in 1-2 bullet points:\\n\\n{text}\\n\\nSummary:\"\n",
    "        prompt = PromptTemplate(\n",
    "            template=prompt_template,\n",
    "            input_variables=[\"text\"],\n",
    "        )\n",
    "        summary_chain = prompt | llm\n",
    "        input_data = {\"text\": text}\n",
    "        summary = summary_chain.invoke(input_data)\n",
    "        \n",
    "        summary_content = summary.content if hasattr(summary, 'content') else str(summary)\n",
    "        \n",
    "        formatted_summary = f\"Source: {source[0]} ({source[1]})\\n{summary_content.strip()}\\n\"\n",
    "        return formatted_summary\n",
    "    except Exception as e:\n",
    "        print(f\"Error in summarize_text: {str(e)}\")\n",
    "        return \"\""
   ]
  },
  {
   "cell_type": "markdown",
   "metadata": {},
   "source": [
    "## Main Search and Summarize Function\n",
    "\n",
    "This cell defines the main function that combines web search and text summarization."
   ]
  },
  {
   "cell_type": "code",
   "execution_count": 9,
   "metadata": {},
   "outputs": [],
   "source": [
    "def search_summarize(query: str, specific_site: Optional[str] = None) -> str:\n",
    "    \"\"\"Perform a web search and summarize the results.\"\"\"\n",
    "    web_knowledge, sources = perform_web_search(query, specific_site)\n",
    "    \n",
    "    if not web_knowledge or not sources:\n",
    "        print(\"No web knowledge or sources found.\")\n",
    "        return \"\"\n",
    "    \n",
    "    summaries = [summarize_text(knowledge, source) for knowledge, source in zip(web_knowledge, sources) if summarize_text(knowledge, source)]\n",
    "    \n",
    "    combined_summary = \"\\n\".join(summaries)\n",
    "    return combined_summary"
   ]
  },
  {
   "cell_type": "markdown",
   "metadata": {},
   "source": [
    "## Example Usage\n",
    "\n",
    "This cell demonstrates how to use the search_summarize function."
   ]
  },
  {
   "cell_type": "code",
   "execution_count": 10,
   "metadata": {},
   "outputs": [
    {
     "name": "stdout",
     "output_type": "stream",
     "text": [
      "Searching for: site:https://www.nature.com What are the latest advancements in artificial intelligence?\n",
      "Specific search results: snippet: Artificial intelligence (AI) systems, such as the chatbot ChatGPT , have become so advanced that they now very nearly match or exceed human performance in tasks including reading comprehension ..., title: AI now beats humans at basic tasks — new benchmarks are ... - Nature, link: https://www.nature.com/articles/d41586-024-01087-4, snippet: The direct influence of AI on employment. With advances in machine learning, big data, artificial intelligence, and other technologies, a new generation of intelligent robots that can perform ..., title: The impact of artificial intelligence on employment: the role of ..., link: https://www.nature.com/articles/s41599-024-02647-9, snippet: This review delves into the most recent advancements in applying artificial intelligence (AI) within neuro-oncology, specifically emphasizing work on gliomas, a class of brain tumors that ..., title: Artificial intelligence in neuro-oncology: advances and ... - Nature, link: https://www.nature.com/articles/s41698-024-00575-0, snippet: Artificial intelligence can help to reduce the impacts of natural hazards, but robust international standards are needed to ensure best practice. ... uses the latest advancements in AI to develop ..., title: AI to the rescue: how to enhance disaster early warnings with ... - Nature, link: https://www.nature.com/articles/d41586-024-03149-z\n",
      "Searching for: -site:https://www.nature.com What are the latest advancements in artificial intelligence?\n",
      "General search results: snippet: Artificial intelligence. AI for everything: 10 Breakthrough Technologies 2024 ... Get the latest updates from MIT Technology Review. Discover special offers, top stories, upcoming events, and more., title: AI for everything: 10 Breakthrough Technologies 2024, link: https://www.technologyreview.com/2024/01/08/1085096/artificial-intelligence-generative-ai-chatgpt-open-ai-breakthrough-technologies, snippet: In 2024, generative AI might actually become useful for the regular, non-tech person, and we are going to see more people tinkering with a million little AI models. State-of-the-art AI models ..., title: What's next for AI in 2024 | MIT Technology Review, link: https://www.technologyreview.com/2024/01/04/1086046/whats-next-for-ai-in-2024/, snippet: As AI continues to evolve, several ambitious \"moonshot\" ideas are emerging to address current limitations and push the boundaries of what artificial intelligence can achieve. One such moonshot is post-Moore computing 1, which aims to move beyond traditional von Neumann architecture as GPUs and TPUs near their physical and practical limits., title: The Future of Artificial Intelligence - IBM, link: https://www.ibm.com/think/topics/artificial-intelligence-future, snippet: As we approach 2024, experts foresee a blossoming interest in AI ethics education and a heightened prioritization of ethical considerations within AI research and development realms. 2. Augmented ..., title: The 5 Biggest Artificial Intelligence Trends For 2024 - Forbes, link: https://www.forbes.com/sites/bernardmarr/2023/11/01/the-top-5-artificial-intelligence-trends-for-2024/\n",
      "Processed web_knowledge: ['The direct influence of AI on employment. With advances in machine learning, big data, artificial intelligence, and other technologies, a new generation of intelligent robots that can perform ...', 'This review delves into the most recent advancements in applying artificial intelligence (AI) within neuro-oncology, specifically emphasizing work on gliomas, a class of brain tumors that ...', 'Artificial intelligence can help to reduce the impacts of natural hazards, but robust international standards are needed to ensure best practice. ... uses the latest advancements in AI to develop ...']\n",
      "Processed sources: [('The impact of artificial intelligence on employment: the role of ...', 'https://www.nature.com/articles/s41599-024-02647-9'), ('Artificial intelligence in neuro-oncology: advances and ... - Nature', 'https://www.nature.com/articles/s41698-024-00575-0'), ('AI to the rescue: how to enhance disaster early warnings with ... - Nature', 'https://www.nature.com/articles/d41586-024-03149-z')]\n",
      "Summary of latest advancements in AI (including information from https://www.nature.com):\n",
      "Source: The impact of artificial intelligence on employment: the role of ... (https://www.nature.com/articles/s41599-024-02647-9)\n",
      "Here's a summary of the text in 1-2 bullet points:\n",
      "\n",
      "• Advances in technologies like machine learning, big data, and artificial intelligence are leading to the development of intelligent robots.\n",
      "• These robots are capable of performing tasks that may impact employment, potentially replacing or changing human jobs.\n",
      "\n",
      "Source: Artificial intelligence in neuro-oncology: advances and ... - Nature (https://www.nature.com/articles/s41698-024-00575-0)\n",
      "Here's a 1-2 bullet point summary of the provided text:\n",
      "\n",
      "• The review discusses recent advancements in applying artificial intelligence (AI) in neuro-oncology.\n",
      "• The focus is on gliomas, a class of brain tumors, and how AI is being used to improve their diagnosis and treatment.\n",
      "\n",
      "Source: AI to the rescue: how to enhance disaster early warnings with ... - Nature (https://www.nature.com/articles/d41586-024-03149-z)\n",
      "Here's a 1-2 bullet point summary of the text:\n",
      "\n",
      "• Artificial intelligence (AI) can help mitigate the impacts of natural hazards.\n",
      "• Robust international standards are needed to ensure the best practice in using AI for this purpose.\n",
      "\n"
     ]
    }
   ],
   "source": [
    "query = \"What are the latest advancements in artificial intelligence?\"\n",
    "specific_site = \"https://www.nature.com\"  # Optional: specify a site or set to None\n",
    "result = search_summarize(query, specific_site)\n",
    "print(f\"Summary of latest advancements in AI (including information from {specific_site if specific_site else 'various sources'}):\")\n",
    "print(result)"
   ]
  },
  {
   "cell_type": "code",
   "execution_count": null,
   "metadata": {},
   "outputs": [],
   "source": []
  }
 ],
 "metadata": {
  "kernelspec": {
   "display_name": "Python 3",
   "language": "python",
   "name": "python3"
  },
  "language_info": {
   "codemirror_mode": {
    "name": "ipython",
    "version": 3
   },
   "file_extension": ".py",
   "mimetype": "text/x-python",
   "name": "python",
   "nbconvert_exporter": "python",
   "pygments_lexer": "ipython3",
   "version": "3.11.10"
  }
 },
 "nbformat": 4,
 "nbformat_minor": 2
}
