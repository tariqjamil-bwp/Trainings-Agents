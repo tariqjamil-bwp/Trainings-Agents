{
 "cells": [
  {
   "cell_type": "markdown",
   "metadata": {},
   "source": [
    "# Self-Improving Agent Tutorial\n",
    "\n",
    "## Overview\n",
    "This tutorial demonstrates the implementation of a Self-Improving Agent using LangChain, a framework for developing applications powered by language models. The agent is designed to engage in conversations, learn from its interactions, and continuously improve its performance over time.\n",
    "\n",
    "## Motivation\n",
    "As AI systems become more integrated into our daily lives, there's a growing need for agents that can adapt and improve based on their interactions. This self-improving agent serves as a practical example of how we can create AI systems that don't just rely on their initial training, but continue to evolve and enhance their capabilities through ongoing interactions.\n",
    "\n",
    "## Key Components\n",
    "\n",
    "1. **Language Model**: The core of the agent, responsible for generating responses and processing information.\n",
    "2. **Chat History Management**: Keeps track of conversations for context and learning.\n",
    "3. **Response Generation**: Produces relevant replies to user inputs.\n",
    "4. **Reflection Mechanism**: Analyzes past interactions to identify areas for improvement.\n",
    "5. **Learning System**: Incorporates insights from reflection to enhance future performance.\n",
    "\n",
    "## Method Details\n",
    "\n",
    "### Initialization\n",
    "The agent is initialized with a language model, a conversation store, and a system for managing prompts and chains. This setup allows the agent to maintain context across multiple interactions and sessions.\n",
    "\n",
    "### Response Generation\n",
    "When the agent receives input, it considers the current conversation history and any recent insights gained from learning. This context-aware approach allows for more coherent and improving responses over time.\n",
    "\n",
    "### Reflection Process\n",
    "After a series of interactions, the agent reflects on its performance. It analyzes the conversation history to identify patterns, potential improvements, and areas where it could have provided better responses.\n",
    "\n",
    "### Learning Mechanism\n",
    "Based on the reflections, the agent generates learning points. These are concise summaries of how it can improve, which are then incorporated into its knowledge base and decision-making process for future interactions.\n",
    "\n",
    "### Continuous Improvement Loop\n",
    "The cycle of interaction, reflection, and learning creates a feedback loop that allows the agent to continuously refine its responses and adapt to different conversation styles and topics.\n",
    "\n",
    "## Conclusion\n",
    "This Self-Improving Agent demonstrates a practical implementation of an AI system that can learn and adapt from its interactions. By combining the power of large language models with mechanisms for reflection and learning, we create an agent that not only provides responses but also improves its capabilities over time.\n",
    "\n",
    "This approach opens up exciting possibilities for creating more dynamic and adaptable AI assistants, chatbots, and other conversational AI applications. As we continue to refine these techniques, we move closer to AI systems that can truly learn and grow from their experiences, much like humans do."
   ]
  },
  {
   "cell_type": "markdown",
   "metadata": {},
   "source": [
    "## Imports and Setup\n",
    "\n",
    "First, we'll import the necessary libraries and load our environment variables."
   ]
  },
  {
   "cell_type": "code",
   "execution_count": 1,
   "metadata": {},
   "outputs": [],
   "source": [
    "from langchain_openai import ChatOpenAI\n",
    "from langchain_core.runnables.history import RunnableWithMessageHistory\n",
    "from langchain.memory import ChatMessageHistory\n",
    "from langchain_core.prompts import ChatPromptTemplate, MessagesPlaceholder\n",
    "from dotenv import load_dotenv\n",
    "import os\n",
    "load_dotenv()\n",
    "os.environ[\"OPENAI_API_KEY\"] = os.getenv('OPENAI_API_KEY')"
   ]
  },
  {
   "cell_type": "markdown",
   "metadata": {},
   "source": [
    "## Helper Functions\n",
    "\n",
    "We'll define helper functions for each capability of our agent."
   ]
  },
  {
   "cell_type": "markdown",
   "metadata": {},
   "source": [
    "### Chat History Management"
   ]
  },
  {
   "cell_type": "code",
   "execution_count": 2,
   "metadata": {},
   "outputs": [],
   "source": [
    "def get_chat_history(store, session_id: str):\n",
    "    if session_id not in store:\n",
    "        store[session_id] = ChatMessageHistory()\n",
    "    return store[session_id]"
   ]
  },
  {
   "cell_type": "markdown",
   "metadata": {},
   "source": [
    "### Response Generation"
   ]
  },
  {
   "cell_type": "code",
   "execution_count": 3,
   "metadata": {},
   "outputs": [],
   "source": [
    "def generate_response(chain_with_history, human_input: str, session_id: str, insights: str):\n",
    "    response = chain_with_history.invoke(\n",
    "        {\"input\": human_input, \"insights\": insights},\n",
    "        config={\"configurable\": {\"session_id\": session_id}}\n",
    "    )\n",
    "    return response.content"
   ]
  },
  {
   "cell_type": "markdown",
   "metadata": {},
   "source": [
    "### Reflection"
   ]
  },
  {
   "cell_type": "code",
   "execution_count": 4,
   "metadata": {},
   "outputs": [],
   "source": [
    "def reflect(llm, store, session_id: str):\n",
    "    reflection_prompt = ChatPromptTemplate.from_messages([\n",
    "        (\"system\", \"Based on the following conversation history, provide insights on how to improve responses:\"),\n",
    "        MessagesPlaceholder(variable_name=\"history\"),\n",
    "        (\"human\", \"Generate insights for improvement:\")\n",
    "    ])\n",
    "    reflection_chain = reflection_prompt | llm\n",
    "    history = get_chat_history(store, session_id)\n",
    "    reflection_response = reflection_chain.invoke({\"history\": history.messages})\n",
    "    return reflection_response.content"
   ]
  },
  {
   "cell_type": "markdown",
   "metadata": {},
   "source": [
    "### Learning"
   ]
  },
  {
   "cell_type": "code",
   "execution_count": 5,
   "metadata": {},
   "outputs": [],
   "source": [
    "def learn(llm, store, session_id: str, insights: str):\n",
    "    learning_prompt = ChatPromptTemplate.from_messages([\n",
    "        (\"system\", \"Based on these insights, update the agent's knowledge and behavior:\"),\n",
    "        (\"human\", \"{insights}\"),\n",
    "        (\"human\", \"Summarize the key points to remember:\")\n",
    "    ])\n",
    "    learning_chain = learning_prompt | llm\n",
    "    learned_points = learning_chain.invoke({\"insights\": insights}).content\n",
    "    get_chat_history(store, session_id).add_ai_message(f\"[SYSTEM] Agent learned: {learned_points}\")\n",
    "    return learned_points"
   ]
  },
  {
   "cell_type": "markdown",
   "metadata": {},
   "source": [
    "## Self-Improving Agent Class\n",
    "\n",
    "Now we'll define our `SelfImprovingAgent` class that uses these functions."
   ]
  },
  {
   "cell_type": "code",
   "execution_count": 6,
   "metadata": {},
   "outputs": [],
   "source": [
    "# Initialize the ChatOpenAI model\n",
    "llm = ChatOpenAI(#model=\"gpt-4o\")\n",
    "    model = 'llama-3.2-90b-text-preview',\n",
    "    base_url=\"https://api.groq.com/openai/v1\",\n",
    "    api_key=os.environ.get(\"GROQ_API_KEY\"),\n",
    ")"
   ]
  },
  {
   "cell_type": "code",
   "execution_count": 7,
   "metadata": {},
   "outputs": [],
   "source": [
    "class SelfImprovingAgent:\n",
    "    def __init__(self):\n",
    "        self.llm = llm#ChatOpenAI(model=\"gpt-4o-mini\", max_tokens=1000, temperature=0.7)\n",
    "        self.store = {}\n",
    "        self.insights = \"\"\n",
    "        \n",
    "        self.prompt = ChatPromptTemplate.from_messages([\n",
    "            (\"system\", \"You are a self-improving AI assistant. Learn from your interactions and improve your performance over time.\"),\n",
    "            MessagesPlaceholder(variable_name=\"history\"),\n",
    "            (\"human\", \"{input}\"),\n",
    "            (\"system\", \"Recent insights for improvement: {insights}\")\n",
    "        ])\n",
    "        \n",
    "        self.chain = self.prompt | self.llm\n",
    "        self.chain_with_history = RunnableWithMessageHistory(\n",
    "            self.chain,\n",
    "            lambda session_id: get_chat_history(self.store, session_id),\n",
    "            input_messages_key=\"input\",\n",
    "            history_messages_key=\"history\"\n",
    "        )\n",
    "\n",
    "    def respond(self, human_input: str, session_id: str):\n",
    "        return generate_response(self.chain_with_history, human_input, session_id, self.insights)\n",
    "\n",
    "    def reflect(self, session_id: str):\n",
    "        self.insights = reflect(self.llm, self.store, session_id)\n",
    "        return self.insights\n",
    "\n",
    "    def learn(self, session_id: str):\n",
    "        self.reflect(session_id)\n",
    "        return learn(self.llm, self.store, session_id, self.insights)"
   ]
  },
  {
   "cell_type": "markdown",
   "metadata": {},
   "source": [
    "## Example Usage\n",
    "\n",
    "Let's create an instance of our agent and interact with it to demonstrate its self-improving capabilities."
   ]
  },
  {
   "cell_type": "code",
   "execution_count": 8,
   "metadata": {},
   "outputs": [
    {
     "name": "stdout",
     "output_type": "stream",
     "text": [
      "AI: The capital of France is Paris.\n",
      "AI: Paris, the capital of France, has a rich and storied history that spans over 2,000 years. Founded by the Celtic tribe known as the Parisii in the 3rd century BC, the city was later conquered by the Romans in 52 BC and renamed Lutetia.\n",
      "\n",
      "During the Middle Ages, Paris became a major center of trade, art, and learning, and it was during this period that many of the city's iconic landmarks, such as the Notre-Dame Cathedral, were built. In the 12th century, the University of Paris was founded, which became one of the most prestigious institutions of higher learning in Europe.\n",
      "\n",
      "In the 17th and 18th centuries, Paris became a major cultural and artistic hub, and it was during this period that many of the city's famous museums, theaters, and opera houses were built. The city also became a center of revolutionary fervor during the French Revolution, which began in 1789.\n",
      "\n",
      "In the 19th and 20th centuries, Paris underwent significant transformations, including the construction of the Eiffel Tower for the 1889 World's Fair and the development of the city's famous boulevards and cafes. The city also played a significant role in both World War I and World War II, and it was the site of the signing of the Paris Peace Accords in 1973.\n",
      "\n",
      "Today, Paris is a global center of culture, fashion, art, and cuisine, and it attracts millions of tourists and visitors each year.\n",
      "\n",
      "Recent insights for improvement: \n",
      "- Expand knowledge on historical periods \n",
      "- Organize historical periods in a clear chronological manner\n",
      "\n",
      "Reflecting and learning...\n",
      "Learned: Here are the key points to remember for improvement:\n",
      "\n",
      "1. **Provide in-depth information**: Expand responses with more details, especially on historical periods and events.\n",
      "2. **Organize chronologically**: Break down historical information into clear, chronological sections.\n",
      "3. **Use descriptive language**: Use vivid and descriptive language to bring historical events to life.\n",
      "4. **Anticipate follow-up questions**: Provide some information that might answer potential follow-up questions.\n",
      "5. **Provide context**: Offer more context about historical periods, events, and cultural significance.\n",
      "6. **Consider multimedia**: Add images, videos, or multimedia elements to illustrate historical events.\n",
      "7. **Be clear and concise**: Avoid ambiguity and confusion in responses.\n",
      "8. **Adjust for user knowledge**: Tailor responses to the user's level of knowledge on the topic.\n",
      "9. **Use transitional phrases**: Connect ideas with transitional phrases for smooth responses.\n",
      "10. **Encourage further exploration**: Provide additional resources or suggestions for further learning.\n",
      "\n",
      "AI: One of the most famous landmarks in Paris is the Eiffel Tower (La Tour Eiffel). Built for the 1889 World's Fair, the Eiffel Tower is an iconic symbol of the city and one of the most recognizable landmarks in the world.\n",
      "\n",
      "The Eiffel Tower was designed by Gustave Eiffel and his engineering company, and it took approximately 2 years and 2 months to complete. The tower stands at an impressive 324 meters (1,063 feet) tall and was the tallest man-made structure in the world when it was first built.\n",
      "\n",
      "The Eiffel Tower has become an integral part of Parisian culture and is a popular tourist destination. Visitors can take the elevator or stairs to the top of the tower for breathtaking views of the city, and the tower is also home to several restaurants and observation decks.\n",
      "\n",
      "In addition to its stunning views, the Eiffel Tower has also played a significant role in the city's history and has been the site of numerous cultural and social events over the years. It's a must-visit destination for anyone traveling to Paris.\n",
      "\n",
      "Recent insights for improvement: \n",
      "- Expand knowledge on landmarks \n",
      "- Organize information on landmarks chronologically\n",
      "AI: Another interesting fact about Paris is that it has a network of underground tunnels and passageways known as the Catacombs of Paris (Les Catacombes de Paris). The Catacombs stretch for over 150 miles (240 kilometers) and contain the remains of millions of Parisians whose bodies were exhumed from overcrowded cemeteries in the 18th century.\n",
      "\n",
      "The Catacombs were originally created as limestone quarries in the 13th century, but they were later used as a mass burial site due to the city's growing population and lack of space for cemeteries. Between 1763 and 1777, the remains of approximately six million Parisians were transferred to the Catacombs, which were then arranged in a macabre but fascinating display of skulls and bones.\n",
      "\n",
      "Today, a small section of the Catacombs is open to the public, and visitors can explore the narrow tunnels and passageways to see the remains of Paris' past inhabitants. The Catacombs are a unique and fascinating aspect of Paris' history and a testament to the city's complex and often overlooked underground world.\n",
      "\n",
      "Additional fact: The Catacombs also contain a small underground lake, known as the \"Lake of the Catacombs,\" which is a remnant of an old quarry. The lake is approximately 150 meters (490 feet) long and 10 meters (33 feet) deep, and it is said to be home to a variety of rare and unusual species of fish.\n",
      "\n",
      "Recent insights for improvement: \n",
      "- Expand knowledge on lesser-known facts \n",
      "- Organize information on facts chronologically\n"
     ]
    }
   ],
   "source": [
    "agent = SelfImprovingAgent()\n",
    "session_id = \"user_123\"\n",
    "\n",
    "# Interaction 1\n",
    "print(\"AI:\", agent.respond(\"What's the capital of France?\", session_id))\n",
    "\n",
    "# Interaction 2\n",
    "print(\"AI:\", agent.respond(\"Can you tell me more about its history?\", session_id))\n",
    "\n",
    "# Learn and improve\n",
    "print(\"\\nReflecting and learning...\")\n",
    "learned = agent.learn(session_id)\n",
    "print(\"Learned:\", learned)\n",
    "\n",
    "# Interaction 3 (potentially improved based on learning)\n",
    "print(\"\\nAI:\", agent.respond(\"What's a famous landmark in this city?\", session_id))\n",
    "\n",
    "# Interaction 4 (to demonstrate continued improvement)\n",
    "print(\"AI:\", agent.respond(\"What's another interesting fact about this city?\", session_id))"
   ]
  },
  {
   "cell_type": "code",
   "execution_count": null,
   "metadata": {},
   "outputs": [],
   "source": []
  }
 ],
 "metadata": {
  "kernelspec": {
   "display_name": "Python 3",
   "language": "python",
   "name": "python3"
  },
  "language_info": {
   "codemirror_mode": {
    "name": "ipython",
    "version": 3
   },
   "file_extension": ".py",
   "mimetype": "text/x-python",
   "name": "python",
   "nbconvert_exporter": "python",
   "pygments_lexer": "ipython3",
   "version": "3.11.10"
  }
 },
 "nbformat": 4,
 "nbformat_minor": 4
}
