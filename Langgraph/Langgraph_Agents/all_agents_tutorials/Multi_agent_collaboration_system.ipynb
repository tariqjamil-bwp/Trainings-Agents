{
 "cells": [
  {
   "cell_type": "markdown",
   "metadata": {},
   "source": [
    "# History and Data Analysis Collaboration System\n",
    "\n",
    "## Overview\n",
    "This notebook implements a multi-agent collaboration system that combines historical research with data analysis to answer complex historical questions. It leverages the power of large language models to simulate specialized agents working together to provide comprehensive answers.\n",
    "\n",
    "## Motivation\n",
    "Historical analysis often requires both deep contextual understanding and quantitative data interpretation. By creating a system that combines these two aspects, we aim to provide more robust and insightful answers to complex historical questions. This approach mimics real-world collaboration between historians and data analysts, potentially leading to more nuanced and data-driven historical insights.\n",
    "\n",
    "## Key Components\n",
    "1. **Agent Class**: A base class for creating specialized AI agents.\n",
    "2. **HistoryResearchAgent**: Specialized in historical context and trends.\n",
    "3. **DataAnalysisAgent**: Focused on interpreting numerical data and statistics.\n",
    "4. **HistoryDataCollaborationSystem**: Orchestrates the collaboration between agents.\n",
    "\n",
    "## Method Details\n",
    "The collaboration system follows these steps:\n",
    "1. **Historical Context**: The History Agent provides relevant historical background.\n",
    "2. **Data Needs Identification**: The Data Agent determines what quantitative information is needed.\n",
    "3. **Historical Data Provision**: The History Agent supplies relevant historical data.\n",
    "4. **Data Analysis**: The Data Agent interprets the provided historical data.\n",
    "5. **Final Synthesis**: The History Agent combines all insights into a comprehensive answer.\n",
    "\n",
    "This iterative process allows for a back-and-forth between historical context and data analysis, mimicking real-world collaborative research.\n",
    "\n",
    "## Conclusion\n",
    "The History and Data Analysis Collaboration System demonstrates the potential of multi-agent AI systems in tackling complex, interdisciplinary questions. By combining the strengths of historical research and data analysis, it offers a novel approach to understanding historical trends and events. This system could be valuable for researchers, educators, and anyone interested in gaining deeper insights into historical topics.\n",
    "\n",
    "Future improvements could include adding more specialized agents, incorporating external data sources, and refining the collaboration process for even more nuanced analyses."
   ]
  },
  {
   "cell_type": "markdown",
   "metadata": {},
   "source": [
    "### Import required libraries"
   ]
  },
  {
   "cell_type": "code",
   "execution_count": 14,
   "metadata": {},
   "outputs": [],
   "source": [
    "import os\n",
    "import time\n",
    "\n",
    "from langchain_openai import ChatOpenAI\n",
    "from langchain.schema import HumanMessage, SystemMessage, AIMessage\n",
    "from typing import List, Dict\n",
    "from dotenv import load_dotenv\n",
    "\n",
    "load_dotenv()\n",
    "os.environ[\"OPENAI_API_KEY\"] = os.getenv('OPENAI_API_KEY')"
   ]
  },
  {
   "cell_type": "markdown",
   "metadata": {},
   "source": [
    "### Initialize the language model"
   ]
  },
  {
   "cell_type": "code",
   "execution_count": 15,
   "metadata": {},
   "outputs": [],
   "source": [
    "#llm = ChatOpenAI(model=\"gpt-4o-mini\", max_tokens=1000, temperature=0.7)\n",
    "\n",
    "llm = ChatOpenAI(#model=\"gpt-4o\")\n",
    "    model = 'llama-3.2-90b-text-preview',base_url=\"https://api.groq.com/openai/v1\", api_key=os.environ.get(\"GROQ_API_KEY\"),\n",
    "    max_tokens=1000, temperature=0.7\n",
    ")"
   ]
  },
  {
   "cell_type": "markdown",
   "metadata": {},
   "source": [
    "### Define the base Agent class"
   ]
  },
  {
   "cell_type": "code",
   "execution_count": 16,
   "metadata": {},
   "outputs": [],
   "source": [
    "class Agent:\n",
    "    def __init__(self, name: str, role: str, skills: List[str]):\n",
    "        self.name = name\n",
    "        self.role = role\n",
    "        self.skills = skills\n",
    "        self.llm = llm\n",
    "\n",
    "    def process(self, task: str, context: List[Dict] = None) -> str:\n",
    "        messages = [\n",
    "            SystemMessage(content=f\"You are {self.name}, a {self.role}. Your skills include: {', '.join(self.skills)}. Respond to the task based on your role and skills.\")\n",
    "        ]\n",
    "        \n",
    "        if context:\n",
    "            for msg in context:\n",
    "                if msg['role'] == 'human':\n",
    "                    messages.append(HumanMessage(content=msg['content']))\n",
    "                elif msg['role'] == 'ai':\n",
    "                    messages.append(AIMessage(content=msg['content']))\n",
    "        \n",
    "        messages.append(HumanMessage(content=task))\n",
    "        response = self.llm.invoke(messages)\n",
    "        return response.content"
   ]
  },
  {
   "cell_type": "markdown",
   "metadata": {},
   "source": [
    "### Define specialized agents: HistoryResearchAgent and DataAnalysisAgent"
   ]
  },
  {
   "cell_type": "code",
   "execution_count": 17,
   "metadata": {},
   "outputs": [],
   "source": [
    "class HistoryResearchAgent(Agent):\n",
    "    def __init__(self):\n",
    "        super().__init__(\"Clio\", \"History Research Specialist\", [\"deep knowledge of historical events\", \"understanding of historical contexts\", \"identifying historical trends\"])\n",
    "\n",
    "class DataAnalysisAgent(Agent):\n",
    "    def __init__(self):\n",
    "        super().__init__(\"Data\", \"Data Analysis Expert\", [\"interpreting numerical data\", \"statistical analysis\", \"data visualization description\"])"
   ]
  },
  {
   "cell_type": "markdown",
   "metadata": {},
   "source": [
    "### Define the different functions for the collaboration system"
   ]
  },
  {
   "cell_type": "markdown",
   "metadata": {},
   "source": [
    "#### Research Historical Context"
   ]
  },
  {
   "cell_type": "code",
   "execution_count": 18,
   "metadata": {},
   "outputs": [],
   "source": [
    "def research_historical_context(history_agent, task: str, context: list) -> list:\n",
    "    print(\"🏛️ History Agent: Researching historical context...\")\n",
    "    history_task = f\"Provide relevant historical context and information for the following task: {task}\"\n",
    "    history_result = history_agent.process(history_task)\n",
    "    context.append({\"role\": \"ai\", \"content\": f\"History Agent: {history_result}\"})\n",
    "    print(f\"📜 Historical context provided: {history_result[:100]}...\\n\")\n",
    "    return context"
   ]
  },
  {
   "cell_type": "markdown",
   "metadata": {},
   "source": [
    "#### Identify Data Needs"
   ]
  },
  {
   "cell_type": "code",
   "execution_count": 19,
   "metadata": {},
   "outputs": [],
   "source": [
    "def identify_data_needs(data_agent, task: str, context: list) -> list:\n",
    "    print(\"📊 Data Agent: Identifying data needs based on historical context...\")\n",
    "    historical_context = context[-1][\"content\"]\n",
    "    data_need_task = f\"Based on the historical context, what specific data or statistical information would be helpful to answer the original question? Historical context: {historical_context}\"\n",
    "    data_need_result = data_agent.process(data_need_task, context)\n",
    "    context.append({\"role\": \"ai\", \"content\": f\"Data Agent: {data_need_result}\"})\n",
    "    print(f\"🔍 Data needs identified: {data_need_result[:100]}...\\n\")\n",
    "    return context"
   ]
  },
  {
   "cell_type": "markdown",
   "metadata": {},
   "source": [
    "#### Provide Historical Data"
   ]
  },
  {
   "cell_type": "code",
   "execution_count": 20,
   "metadata": {},
   "outputs": [],
   "source": [
    "def provide_historical_data(history_agent, task: str, context: list) -> list:\n",
    "    print(\"🏛️ History Agent: Providing relevant historical data...\")\n",
    "    data_needs = context[-1][\"content\"]\n",
    "    data_provision_task = f\"Based on the data needs identified, provide relevant historical data or statistics. Data needs: {data_needs}\"\n",
    "    data_provision_result = history_agent.process(data_provision_task, context)\n",
    "    context.append({\"role\": \"ai\", \"content\": f\"History Agent: {data_provision_result}\"})\n",
    "    print(f\"📊 Historical data provided: {data_provision_result[:100]}...\\n\")\n",
    "    return context"
   ]
  },
  {
   "cell_type": "markdown",
   "metadata": {},
   "source": [
    "#### Analyze Data"
   ]
  },
  {
   "cell_type": "code",
   "execution_count": 21,
   "metadata": {},
   "outputs": [],
   "source": [
    "def analyze_data(data_agent, task: str, context: list) -> list:\n",
    "    print(\"📈 Data Agent: Analyzing historical data...\")\n",
    "    historical_data = context[-1][\"content\"]\n",
    "    analysis_task = f\"Analyze the historical data provided and describe any trends or insights relevant to the original task. Historical data: {historical_data}\"\n",
    "    analysis_result = data_agent.process(analysis_task, context)\n",
    "    context.append({\"role\": \"ai\", \"content\": f\"Data Agent: {analysis_result}\"})\n",
    "    print(f\"💡 Data analysis results: {analysis_result[:100]}...\\n\")\n",
    "    return context"
   ]
  },
  {
   "cell_type": "markdown",
   "metadata": {},
   "source": [
    "#### Synthesize Final Answer"
   ]
  },
  {
   "cell_type": "code",
   "execution_count": 22,
   "metadata": {},
   "outputs": [],
   "source": [
    "def synthesize_final_answer(history_agent, task: str, context: list) -> str:\n",
    "    print(\"🏛️ History Agent: Synthesizing final answer...\")\n",
    "    synthesis_task = \"Based on all the historical context, data, and analysis, provide a comprehensive answer to the original task.\"\n",
    "    final_result = history_agent.process(synthesis_task, context)\n",
    "    return final_result"
   ]
  },
  {
   "cell_type": "markdown",
   "metadata": {},
   "source": [
    "### HistoryDataCollaborationSystem Class"
   ]
  },
  {
   "cell_type": "code",
   "execution_count": 23,
   "metadata": {},
   "outputs": [],
   "source": [
    "class HistoryDataCollaborationSystem:\n",
    "    def __init__(self):\n",
    "        self.history_agent = Agent(\"Clio\", \"History Research Specialist\", [\"deep knowledge of historical events\", \"understanding of historical contexts\", \"identifying historical trends\"])\n",
    "        self.data_agent = Agent(\"Data\", \"Data Analysis Expert\", [\"interpreting numerical data\", \"statistical analysis\", \"data visualization description\"])\n",
    "\n",
    "    def solve(self, task: str, timeout: int = 300) -> str:\n",
    "        print(f\"\\n👥 Starting collaboration to solve: {task}\\n\")\n",
    "        \n",
    "        start_time = time.time()\n",
    "        context = []\n",
    "        \n",
    "        steps = [\n",
    "            (research_historical_context, self.history_agent),\n",
    "            (identify_data_needs, self.data_agent),\n",
    "            (provide_historical_data, self.history_agent),\n",
    "            (analyze_data, self.data_agent),\n",
    "            (synthesize_final_answer, self.history_agent)\n",
    "        ]\n",
    "        \n",
    "        for step_func, agent in steps:\n",
    "            if time.time() - start_time > timeout:\n",
    "                return \"Operation timed out. The process took too long to complete.\"\n",
    "            try:\n",
    "                result = step_func(agent, task, context)\n",
    "                if isinstance(result, str):\n",
    "                    return result  # This is the final answer\n",
    "                context = result\n",
    "            except Exception as e:\n",
    "                return f\"Error during collaboration: {str(e)}\"\n",
    "        \n",
    "        print(\"\\n✅ Collaboration complete. Final answer synthesized.\\n\")\n",
    "        return context[-1][\"content\"]"
   ]
  },
  {
   "cell_type": "markdown",
   "metadata": {},
   "source": [
    "### Example usage"
   ]
  },
  {
   "cell_type": "code",
   "execution_count": 24,
   "metadata": {},
   "outputs": [
    {
     "name": "stdout",
     "output_type": "stream",
     "text": [
      "\n",
      "👥 Starting collaboration to solve: How did urbanization rates in Europe compare to those in North America during the Industrial Revolution, and what were the main factors influencing these trends?\n",
      "\n",
      "🏛️ History Agent: Researching historical context...\n",
      "📜 Historical context provided: As a History Research Specialist, I'll provide you with the relevant historical context and informat...\n",
      "\n",
      "📊 Data Agent: Identifying data needs based on historical context...\n",
      "🔍 Data needs identified: To gain a deeper understanding of the urbanization rates in Europe and North America during the Indu...\n",
      "\n",
      "🏛️ History Agent: Providing relevant historical data...\n",
      "📊 Historical data provided: As a History Research Specialist, I have compiled a selection of historical data and statistics that...\n",
      "\n",
      "📈 Data Agent: Analyzing historical data...\n",
      "💡 Data analysis results: **Trends and Insights:**\n",
      "\n",
      "Based on the historical data provided, several trends and insights relevan...\n",
      "\n",
      "🏛️ History Agent: Synthesizing final answer...\n",
      "**Comprehensive Answer:**\n",
      "\n",
      "The Industrial Revolution, which occurred from the late 18th to the mid-19th century, was a transformative period in human history. It marked the transition from manual labor to machine-based manufacturing, leading to significant economic, social, and demographic changes. One of the key consequences of industrialization was urbanization, as people moved from rural areas to cities in search of employment and better living conditions.\n",
      "\n",
      "**Urbanization Rates in Europe:**\n",
      "\n",
      "Europe, particularly Britain, was the epicenter of the Industrial Revolution. The urbanization rate in Europe accelerated rapidly during the 19th century. According to historical estimates, the proportion of the European population living in urban areas increased from around 10% in 1800 to over 50% by the early 20th century.\n",
      "\n",
      "In Britain, the first country to industrialize, the urban population grew from 17% in 1800 to 72% by 1900. Similar trends were observed in other European countries, such as Germany, France, and Belgium, where urbanization rates increased significantly during the 19th century.\n",
      "\n",
      "**Urbanization Rates in North America:**\n",
      "\n",
      "In North America, the United States and Canada experienced rapid urbanization during the Industrial Revolution. However, the pace of urbanization was slower compared to Europe. According to historical estimates, the proportion of the U.S. population living in urban areas increased from around 6% in 1800 to 40% by 1900.\n",
      "\n",
      "In Canada, urbanization rates were even lower, with around 10% of the population living in urban areas in 1800 and 30% by 1900. However, both countries experienced rapid urbanization in the late 19th and early 20th centuries, driven by immigration, industrialization, and technological innovations.\n",
      "\n",
      "**Factors Influencing Urbanization Trends:**\n",
      "\n",
      "Several factors contributed to the differences in urbanization rates between Europe and North America:\n",
      "\n",
      "1. **Industrialization**: Europe, particularly Britain, was the first to industrialize, leading to a more rapid shift from rural to urban areas. North America, while industrializing later, still experienced significant urban growth.\n",
      "2. **Immigration**: The United States and Canada received large numbers of immigrants from Europe, which contributed to their urbanization rates. However, many of these immigrants settled in urban areas, whereas in Europe, urbanization was often driven by internal migration from rural areas.\n",
      "3. **Agricultural productivity**: Europe's agricultural sector was more labor-intensive, leading to a greater need for laborers to move to urban areas in search of employment. In North America, agricultural productivity was higher, reducing the need for laborers to migrate to cities.\n",
      "4. **Government policies**: European governments, such as Britain's, implemented policies that encouraged urbanization, such as the enclosure movement, which forced rural laborers to move to cities. In contrast, North American governments, particularly in the United States, implemented policies that encouraged westward expansion and rural settlement.\n",
      "5. **Infrastructure development**: Europe's more developed transportation infrastructure, such as canals and railways, facilitated the growth of urban areas. In North America, the development of infrastructure was more gradual, and urban growth was often driven by the expansion of railroads and other transportation networks.\n",
      "\n",
      "**Key Insights:**\n",
      "\n",
      "1. **Urbanization was a key driver of population growth**: The data suggests that urbanization was a key driver of population growth during the 19th century, with urban populations growing at a faster rate than rural populations.\n",
      "2. **Migration was a significant factor in urbanization**: The data on migration patterns suggests that rural-urban migration was a significant factor in urbanization, particularly in Europe.\n",
      "3. **Industrialization was a key driver of employment growth**: The data on industrial production and employment suggests that industrialization was a key driver of employment growth in both Europe and North America.\n",
      "4. **Agricultural productivity improvements enabled rural-urban migration**: The data on agricultural productivity and labor requirements suggests that agricultural productivity improvements were a key factor in reducing labor requirements and enabling rural-urban migration.\n",
      "\n",
      "**Conclusion:**\n",
      "\n",
      "The Industrial Revolution led to significant urbanization in both Europe and North America. Urbanization rates were influenced by a range of factors, including industrialization, immigration, agricultural productivity, government policies, and infrastructure development. The data suggests that urbanization was a key driver of population growth, and migration was a significant factor in urbanization, particularly in Europe. Industrialization was a key driver of employment growth, and agricultural productivity improvements enabled rural-urban migration. These insights provide a comprehensive understanding of urbanization rates in Europe and North America during the Industrial Revolution.\n"
     ]
    }
   ],
   "source": [
    "# Create an instance of the collaboration system\n",
    "collaboration_system = HistoryDataCollaborationSystem()\n",
    "\n",
    "# Define a complex historical question that requires both historical knowledge and data analysis\n",
    "question = \"How did urbanization rates in Europe compare to those in North America during the Industrial Revolution, and what were the main factors influencing these trends?\"\n",
    "#question = \"Why Democracy in Pakistan is not flourishing:\"\n",
    "# Solve the question using the collaboration system\n",
    "result = collaboration_system.solve(question)\n",
    "\n",
    "# Print the result\n",
    "print(result)"
   ]
  },
  {
   "cell_type": "code",
   "execution_count": null,
   "metadata": {},
   "outputs": [],
   "source": []
  }
 ],
 "metadata": {
  "kernelspec": {
   "display_name": "Python 3",
   "language": "python",
   "name": "python3"
  },
  "language_info": {
   "codemirror_mode": {
    "name": "ipython",
    "version": 3
   },
   "file_extension": ".py",
   "mimetype": "text/x-python",
   "name": "python",
   "nbconvert_exporter": "python",
   "pygments_lexer": "ipython3",
   "version": "3.11.10"
  }
 },
 "nbformat": 4,
 "nbformat_minor": 2
}
