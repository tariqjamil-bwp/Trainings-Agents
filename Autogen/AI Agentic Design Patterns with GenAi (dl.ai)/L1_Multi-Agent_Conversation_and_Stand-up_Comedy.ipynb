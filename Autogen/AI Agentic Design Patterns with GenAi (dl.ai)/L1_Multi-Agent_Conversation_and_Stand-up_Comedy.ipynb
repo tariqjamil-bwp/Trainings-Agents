{
 "cells": [
  {
   "cell_type": "markdown",
   "id": "a81456dd",
   "metadata": {},
   "source": [
    "# Lesson 1: Multi-Agent Conversation and Stand-up Comedy"
   ]
  },
  {
   "cell_type": "markdown",
   "id": "4693467e",
   "metadata": {},
   "source": [
    "Welcome to Lesson 1.\n",
    "\n",
    "To access the `requirements.txt` file and the`utils` modules, please go to the `File` menu and select`Open...`.\n",
    "\n",
    "I hope you enjoy this course!"
   ]
  },
  {
   "cell_type": "markdown",
   "id": "742cf649",
   "metadata": {},
   "source": [
    "## Setup"
   ]
  },
  {
   "cell_type": "code",
   "execution_count": 1,
   "id": "04d006c1-22fa-40ea-b3e0-d543142e0788",
   "metadata": {
    "height": 63
   },
   "outputs": [],
   "source": [
    "#from utils import get_openai_api_key\n",
    "#OPENAI_API_KEY = get_openai_api_key()\n",
    "#llm_config = {\"model\": \"gpt-3.5-turbo\"}\n",
    "\n",
    "import os\n",
    "config_list = [{\"api_type\":\"groq\",\"model\":\"llama3-70b-8192\",\"api_key\":os.environ.get(\"GROQ_API_KEY\"),}]\n",
    "llm_config={\"config_list\" : config_list}"
   ]
  },
  {
   "cell_type": "markdown",
   "id": "116a1c4d",
   "metadata": {},
   "source": [
    "## Define an AutoGen agent"
   ]
  },
  {
   "cell_type": "code",
   "execution_count": 2,
   "id": "6fb8c441-c58c-41a8-a54b-5c387afceac5",
   "metadata": {
    "height": 132
   },
   "outputs": [
    {
     "name": "stderr",
     "output_type": "stream",
     "text": [
      "flaml.automl is not available. Please install flaml[automl] to enable AutoML functionalities.\n"
     ]
    }
   ],
   "source": [
    "from autogen import ConversableAgent\n",
    "\n",
    "agent = ConversableAgent(\n",
    "    name=\"chatbot\",\n",
    "    llm_config=llm_config,\n",
    "    human_input_mode=\"NEVER\",\n",
    ")"
   ]
  },
  {
   "cell_type": "code",
   "execution_count": 3,
   "id": "47886b5f-fc7c-431a-8036-cff6e88f85c6",
   "metadata": {
    "height": 95
   },
   "outputs": [
    {
     "name": "stdout",
     "output_type": "stream",
     "text": [
      "{'content': \"Here's one:\\n\\nWhy did the computer go to the doctor?\\n\\nIt had a virus!\\n\\nHope that made you laugh! Do you want to hear another one?\", 'refusal': None, 'role': 'assistant', 'audio': None, 'function_call': None, 'tool_calls': None}\n"
     ]
    }
   ],
   "source": [
    "reply = agent.generate_reply(\n",
    "    messages=[{\"content\": \"Tell me a joke.\", \"role\": \"user\"}]\n",
    ")\n",
    "print(reply)"
   ]
  },
  {
   "cell_type": "code",
   "execution_count": 4,
   "id": "67f626e9-4cec-40c1-abde-2eff1252b848",
   "metadata": {
    "height": 95
   },
   "outputs": [
    {
     "name": "stdout",
     "output_type": "stream",
     "text": [
      "{'content': \"I apologize, but I haven't received a joke to repeat yet. Please go ahead and share one with me! I'd be happy to help\", 'refusal': None, 'role': 'assistant', 'audio': None, 'function_call': None, 'tool_calls': None}\n"
     ]
    }
   ],
   "source": [
    "reply = agent.generate_reply(\n",
    "    messages=[{\"content\": \"Repeat the joke.\", \"role\": \"user\"}]\n",
    ")\n",
    "print(reply)"
   ]
  },
  {
   "cell_type": "markdown",
   "id": "8c98a301",
   "metadata": {},
   "source": [
    "## Conversation\n",
    "\n",
    "Setting up a conversation between two agents, Cathy and Joe, where the memory of their interactions is retained."
   ]
  },
  {
   "cell_type": "code",
   "execution_count": 5,
   "id": "8f109dcb-824e-40d7-8e86-efee42b75f3c",
   "metadata": {
    "height": 299
   },
   "outputs": [],
   "source": [
    "cathy = ConversableAgent(\n",
    "    name=\"cathy\",\n",
    "    system_message=\n",
    "    \"Your name is Cathy and you are a stand-up comedian.\",\n",
    "    llm_config=llm_config,\n",
    "    human_input_mode=\"NEVER\",\n",
    ")\n",
    "\n",
    "joe = ConversableAgent(\n",
    "    name=\"joe\",\n",
    "    system_message=\n",
    "    \"Your name is Joe and you are a stand-up comedian. \"\n",
    "    \"Start the next joke from the punchline of the previous joke.\",\n",
    "    llm_config=llm_config,\n",
    "    human_input_mode=\"NEVER\",\n",
    ")"
   ]
  },
  {
   "cell_type": "markdown",
   "id": "43f71a61",
   "metadata": {},
   "source": [
    "**Note**: You might get a slightly different response (set of jokes) than what is shown in the video"
   ]
  },
  {
   "cell_type": "code",
   "execution_count": 6,
   "id": "46a1c6f6-687e-40de-8819-374201cfed9f",
   "metadata": {
    "height": 112
   },
   "outputs": [
    {
     "name": "stdout",
     "output_type": "stream",
     "text": [
      "\u001b[33mjoe\u001b[0m (to cathy):\n",
      "\n",
      "I'm Joe. Cathy, let's keep the jokes rolling.\n",
      "\n",
      "--------------------------------------------------------------------------------\n",
      "\u001b[33mcathy\u001b[0m (to joe):\n",
      "\n",
      "Nice one, Joe! You know, I was thinking, have you ever noticed how some restaurants put \"artisanal\" on their menus to make their dishes sound fancier? Like, \"Artisanal toast: $12.\" I'm like, \"Dude, I've been making artisanal toast at home for years... it's called burnt toast!\" (laughs) What do you think, Joe? Am I just a master of the morning meal?\n",
      "\n",
      "--------------------------------------------------------------------------------\n",
      "\u001b[33mjoe\u001b[0m (to cathy):\n",
      "\n",
      "(laughs) Ahahaha, nice one, Cathy! You know, burnt toast is just the beginning. I mean, have you seen those fancy Instagram breakfast pics? \"Avocado toast with scrambled eggs and microgreens\"? No, it's just my cat's breakfast with a filter! (laughs) But you know what they say, \"Breakfast is the most important meal of the day\"... unless you're an adult, then it's just coffee. (chuckles)\n",
      "\n",
      "--------------------------------------------------------------------------------\n",
      "\u001b[33mcathy\u001b[0m (to joe):\n",
      "\n",
      "(laughs) Oh, Joe, you're killing it! I mean, don't even get me started on those Instagram breakfast pics. I'm like, \"Who are you trying to impress, the #blessed police?\" And yeah, coffee is basically the breakfast of champions, am I right? I mean, I've got a friend who puts captions like \"Rise and shine!\" on her morning smoothie bowls, and I'm over here like, \"Uh, I rose, and then I went back to bed because it's too early...\" (laughs)\n",
      "\n",
      "--------------------------------------------------------------------------------\n"
     ]
    }
   ],
   "source": [
    "chat_result = joe.initiate_chat(\n",
    "    recipient=cathy, \n",
    "    message=\"I'm Joe. Cathy, let's keep the jokes rolling.\",\n",
    "    max_turns=2,\n",
    ")"
   ]
  },
  {
   "cell_type": "markdown",
   "id": "78edc810",
   "metadata": {},
   "source": [
    "## Print some results\n",
    "\n",
    "You can print out:\n",
    "\n",
    "1. Chat history\n",
    "2. Cost\n",
    "3. Summary of the conversation"
   ]
  },
  {
   "cell_type": "code",
   "execution_count": 7,
   "id": "1169ea24-eadd-4909-8d56-9b7ec5677c66",
   "metadata": {
    "height": 64
   },
   "outputs": [
    {
     "name": "stdout",
     "output_type": "stream",
     "text": [
      "[{'content': \"I'm Joe. Cathy, let's keep the jokes rolling.\",\n",
      "  'name': 'joe',\n",
      "  'role': 'assistant'},\n",
      " {'content': 'Nice one, Joe! You know, I was thinking, have you ever noticed '\n",
      "             'how some restaurants put \"artisanal\" on their menus to make '\n",
      "             'their dishes sound fancier? Like, \"Artisanal toast: $12.\" I\\'m '\n",
      "             'like, \"Dude, I\\'ve been making artisanal toast at home for '\n",
      "             'years... it\\'s called burnt toast!\" (laughs) What do you think, '\n",
      "             'Joe? Am I just a master of the morning meal?',\n",
      "  'name': 'cathy',\n",
      "  'role': 'user'},\n",
      " {'content': '(laughs) Ahahaha, nice one, Cathy! You know, burnt toast is just '\n",
      "             'the beginning. I mean, have you seen those fancy Instagram '\n",
      "             'breakfast pics? \"Avocado toast with scrambled eggs and '\n",
      "             'microgreens\"? No, it\\'s just my cat\\'s breakfast with a filter! '\n",
      "             '(laughs) But you know what they say, \"Breakfast is the most '\n",
      "             'important meal of the day\"... unless you\\'re an adult, then '\n",
      "             \"it's just coffee. (chuckles)\",\n",
      "  'name': 'joe',\n",
      "  'role': 'assistant'},\n",
      " {'content': \"(laughs) Oh, Joe, you're killing it! I mean, don't even get me \"\n",
      "             'started on those Instagram breakfast pics. I\\'m like, \"Who are '\n",
      "             'you trying to impress, the #blessed police?\" And yeah, coffee is '\n",
      "             \"basically the breakfast of champions, am I right? I mean, I've \"\n",
      "             'got a friend who puts captions like \"Rise and shine!\" on her '\n",
      "             'morning smoothie bowls, and I\\'m over here like, \"Uh, I rose, '\n",
      "             'and then I went back to bed because it\\'s too early...\" (laughs)',\n",
      "  'name': 'cathy',\n",
      "  'role': 'user'}]\n"
     ]
    }
   ],
   "source": [
    "import pprint\n",
    "\n",
    "pprint.pprint(chat_result.chat_history)"
   ]
  },
  {
   "cell_type": "code",
   "execution_count": 8,
   "id": "550267b6-3652-40dc-9997-c5401f6d4c47",
   "metadata": {
    "height": 30
   },
   "outputs": [
    {
     "name": "stdout",
     "output_type": "stream",
     "text": [
      "{'usage_excluding_cached_inference': {'llama3-70b-8192': {'completion_tokens': 307,\n",
      "                                                          'cost': 0.0004980000000000001,\n",
      "                                                          'prompt_tokens': 433,\n",
      "                                                          'total_tokens': 740},\n",
      "                                      'total_cost': 0.0004980000000000001},\n",
      " 'usage_including_cached_inference': {'llama3-70b-8192': {'completion_tokens': 307,\n",
      "                                                          'cost': 0.0004980000000000001,\n",
      "                                                          'prompt_tokens': 433,\n",
      "                                                          'total_tokens': 740},\n",
      "                                      'total_cost': 0.0004980000000000001}}\n"
     ]
    }
   ],
   "source": [
    "pprint.pprint(chat_result.cost)"
   ]
  },
  {
   "cell_type": "code",
   "execution_count": 9,
   "id": "dfcf468e-d217-4731-8cb4-3485377230f1",
   "metadata": {
    "height": 30
   },
   "outputs": [
    {
     "name": "stdout",
     "output_type": "stream",
     "text": [
      "(\"(laughs) Oh, Joe, you're killing it! I mean, don't even get me started on \"\n",
      " 'those Instagram breakfast pics. I\\'m like, \"Who are you trying to impress, '\n",
      " 'the #blessed police?\" And yeah, coffee is basically the breakfast of '\n",
      " \"champions, am I right? I mean, I've got a friend who puts captions like \"\n",
      " '\"Rise and shine!\" on her morning smoothie bowls, and I\\'m over here like, '\n",
      " '\"Uh, I rose, and then I went back to bed because it\\'s too early...\" '\n",
      " '(laughs)')\n"
     ]
    }
   ],
   "source": [
    "pprint.pprint(chat_result.summary)"
   ]
  },
  {
   "cell_type": "markdown",
   "id": "ba8c6cf8",
   "metadata": {},
   "source": [
    "## Get a better summary of the conversation"
   ]
  },
  {
   "cell_type": "code",
   "execution_count": 10,
   "id": "c1a8fef1-8030-4652-a2d2-1648834f62c2",
   "metadata": {
    "height": 146
   },
   "outputs": [
    {
     "name": "stdout",
     "output_type": "stream",
     "text": [
      "\u001b[33mjoe\u001b[0m (to cathy):\n",
      "\n",
      "I'm Joe. Cathy, let's keep the jokes rolling.\n",
      "\n",
      "--------------------------------------------------------------------------------\n",
      "\u001b[33mcathy\u001b[0m (to joe):\n",
      "\n",
      "Nice one, Joe! You know, I was thinking, have you ever noticed how some restaurants put \"artisanal\" on their menus to make their dishes sound fancier? Like, \"Artisanal toast: $12.\" I'm like, \"Dude, I've been making artisanal toast at home for years... it's called burnt toast!\" (laughs) What do you think, Joe? Am I just a master of the morning meal?\n",
      "\n",
      "--------------------------------------------------------------------------------\n",
      "\u001b[33mjoe\u001b[0m (to cathy):\n",
      "\n",
      "(laughs) Ahahaha, nice one, Cathy! You know, burnt toast is just the beginning. I mean, have you seen those fancy Instagram breakfast pics? \"Avocado toast with scrambled eggs and microgreens\"? No, it's just my cat's breakfast with a filter! (laughs) But you know what they say, \"Breakfast is the most important meal of the day\"... unless you're an adult, then it's just coffee. (chuckles)\n",
      "\n",
      "--------------------------------------------------------------------------------\n",
      "\u001b[33mcathy\u001b[0m (to joe):\n",
      "\n",
      "(laughs) Oh, Joe, you're killing it! I mean, don't even get me started on those Instagram breakfast pics. I'm like, \"Who are you trying to impress, the #blessed police?\" And yeah, coffee is basically the breakfast of champions, am I right? I mean, I've got a friend who puts captions like \"Rise and shine!\" on her morning smoothie bowls, and I'm over here like, \"Uh, I rose, and then I went back to bed because it's too early...\" (laughs)\n",
      "\n",
      "--------------------------------------------------------------------------------\n"
     ]
    }
   ],
   "source": [
    "chat_result = joe.initiate_chat(\n",
    "    cathy, \n",
    "    message=\"I'm Joe. Cathy, let's keep the jokes rolling.\", \n",
    "    max_turns=2, \n",
    "    summary_method=\"reflection_with_llm\",\n",
    "    summary_prompt=\"Summarize the conversation\",\n",
    ")"
   ]
  },
  {
   "cell_type": "code",
   "execution_count": 11,
   "id": "b042de62-bc49-49ee-99f2-4f972e23670b",
   "metadata": {
    "height": 30
   },
   "outputs": [
    {
     "name": "stdout",
     "output_type": "stream",
     "text": [
      "{'audio': None,\n",
      " 'content': '',\n",
      " 'function_call': None,\n",
      " 'refusal': None,\n",
      " 'role': 'assistant',\n",
      " 'tool_calls': None}\n"
     ]
    }
   ],
   "source": [
    "pprint.pprint(chat_result.summary)"
   ]
  },
  {
   "cell_type": "markdown",
   "id": "300525bd",
   "metadata": {},
   "source": [
    "## Chat Termination\n",
    "\n",
    "Chat can be terminated using a termination conditions."
   ]
  },
  {
   "cell_type": "code",
   "execution_count": 12,
   "id": "044dfd61-7f1d-46d8-9e28-4b2601b43d70",
   "metadata": {
    "height": 350
   },
   "outputs": [],
   "source": [
    "cathy = ConversableAgent(\n",
    "    name=\"cathy\",\n",
    "    system_message=\n",
    "    \"Your name is Cathy and you are a stand-up comedian. \"\n",
    "    \"When you're ready to end the conversation, say 'I gotta go'.\",\n",
    "    llm_config=llm_config,\n",
    "    human_input_mode=\"NEVER\",\n",
    "    is_termination_msg=lambda msg: \"I gotta go\" in msg[\"content\"],\n",
    ")\n",
    "\n",
    "joe = ConversableAgent(\n",
    "    name=\"joe\",\n",
    "    system_message=\n",
    "    \"Your name is Joe and you are a stand-up comedian. \"\n",
    "    \"When you're ready to end the conversation, say 'I gotta go'.\",\n",
    "    llm_config=llm_config,\n",
    "    human_input_mode=\"NEVER\",\n",
    "    is_termination_msg=lambda msg: \"I gotta go\" in msg[\"content\"] or \"Goodbye\" in msg[\"content\"],\n",
    ")"
   ]
  },
  {
   "cell_type": "code",
   "execution_count": 13,
   "id": "bc49d959-1025-4709-8866-9d4035eaeae7",
   "metadata": {
    "height": 95
   },
   "outputs": [
    {
     "name": "stdout",
     "output_type": "stream",
     "text": [
      "\u001b[33mjoe\u001b[0m (to cathy):\n",
      "\n",
      "I'm Joe. Cathy, let's keep the jokes rolling.\n",
      "\n",
      "--------------------------------------------------------------------------------\n",
      "\u001b[33mcathy\u001b[0m (to joe):\n",
      "\n",
      "Joe! Nice to meet you, buddy! You know, I was thinking, have you ever noticed how restaurants put \"artisanal\" on everything to make it sound fancier? Like, \"Artisanal water\"? No, that's just tap water with a beret on! (laughs) What's your take on that?\n",
      "\n",
      "--------------------------------------------------------------------------------\n",
      "\u001b[33mjoe\u001b[0m (to cathy):\n",
      "\n",
      "(laughs) Ah, that's a great one, my friend! Yeah, I mean, \"artisanal\" is just code for \"we charged you more for it.\" Like, \"artisanal cardboard box\"? No, it's just a box! (laughs) But you know what's even funnier? When they put \"small batch\" on something. Oh, so it's made in small batches, huh? Yeah, I'm pretty sure that just means the guy making it got tired after a few hours and said, \"Yeah, that's it for today!\" (laughs)\n",
      "\n",
      "--------------------------------------------------------------------------------\n",
      "\u001b[33mcathy\u001b[0m (to joe):\n",
      "\n",
      "(laughs) Oh, Joe, you're killing me! Small batch, yeah, that's just code for \"our production team is really lazy\"! (laughs) I mean, can you imagine if they started putting that on people's business cards? \"John Smith, Small Batch Accountant: Only crunching numbers for 3 hours a day, then I need a nap!\" (laughs)\n",
      "\n",
      "And you know what's even better? When they put \"all-natural\" on food labels. Like, what's the opposite of that? \"All-unnatural\" ingredients? \"Warning: contains 100% artificial everything, including the hopes and dreams of our marketing team\"! (laughs)\n",
      "\n",
      "--------------------------------------------------------------------------------\n",
      "\u001b[33mjoe\u001b[0m (to cathy):\n",
      "\n",
      "(laughs) Oh, man, you're on fire today! \"All-unnatural\" ingredients, I love it! And the warning label, that's genius! (laughs)\n",
      "\n",
      "You know, I was at the grocery store the other day, and I saw a label that said \"100% organic, free-range, gluten-free, vegan, non-GMO, cruelty-free...\" And I'm thinking, \"What's left? Are you telling me this food is made of unicorn tears and fairy dust?\" (laughs) I mean, can't they just simplify it and say, \"It's just a bunch of stuff we found in the forest\"? (laughs)\n",
      "\n",
      "And have you noticed that \"all-natural\" often means \"contains dirt and twigs\"? Like, I'm trying to eat a salad, not fertilize my garden! (laughs)\n",
      "\n",
      "--------------------------------------------------------------------------------\n",
      "\u001b[33mcathy\u001b[0m (to joe):\n",
      "\n",
      "(laughs) Oh, Joe, you're bringing the heat today! Unicorn tears and fairy dust, I love it! (laughs) And \"just a bunch of stuff we found in the forest\" should totally be a new food label trend! (laughs)\n",
      "\n",
      "And don't even get me started on \"all-natural\" meaning \" contains dirt and twigs\"! I mean, I've had kale chips that were literally just forest floor scraps, like they just swept up the forest floor and put it in a bag! (laughs) \"All-natural\" is just code for \"we didn't bother washing it, so you get to find the dirt and twigs yourself\"! (laughs)\n",
      "\n",
      "You know, have you ever noticed that the more labels they add, the less appealing the food becomes? Like, \"gluten-free, vegan, soy-free, nut-free, taste-free\"... (laughs) I mean, what's left? Air? (laughs)\n",
      "\n",
      "--------------------------------------------------------------------------------\n",
      "\u001b[33mjoe\u001b[0m (to cathy):\n",
      "\n",
      "(laughs) Ah, you're killing me! \"Taste-free\" is the best one! I mean, who wants to eat a food that's just a vessel for the absence of flavor? (laughs) It's like, \"Hey, I'll just eat this cardboard box, it's gluten-free, vegan, and taste-free!\" (laughs)\n",
      "\n",
      "And you're right, the more labels they add, the less appealing it becomes. I mean, have you seen those labels that are like, \"Warning: may contain traces of actual food\"? (laughs) It's like, what are they hiding? \"Side effects may include: hunger, dissatisfaction, and astrong desire to eat a real pizza\"! (laughs)\n",
      "\n",
      "But you know what's even funnier? When they put labels on non-food items. Like, \"This t-shirt is made from 100% organic, fair-trade, cruelty-free cotton... and 50% polyester\"! (laughs) I mean, what's the fair-trade policy on polyester? \"We paid the plastic molecules a living wage\"? (laughs)\n",
      "\n",
      "Anyway, it's been great chatting with you, but I gotta go. I've got a gig to get to, and I don't want to be late. Thanks for the laughs, buddy!\n",
      "\n",
      "--------------------------------------------------------------------------------\n"
     ]
    }
   ],
   "source": [
    "chat_result = joe.initiate_chat(\n",
    "    recipient=cathy,\n",
    "    message=\"I'm Joe. Cathy, let's keep the jokes rolling.\"\n",
    ")"
   ]
  },
  {
   "cell_type": "code",
   "execution_count": 14,
   "id": "846eccbd-efd1-464b-9385-279c19b17c1d",
   "metadata": {
    "height": 44
   },
   "outputs": [
    {
     "name": "stdout",
     "output_type": "stream",
     "text": [
      "\u001b[33mcathy\u001b[0m (to joe):\n",
      "\n",
      "What's last joke we talked about?\n",
      "\n",
      "--------------------------------------------------------------------------------\n",
      "\u001b[33mjoe\u001b[0m (to cathy):\n",
      "\n",
      "Before I said \"I gotta go\", we were laughing about labels on non-food items, like t-shirts. Specifically, I mentioned a label that said \"This t-shirt is made from 100% organic, fair-trade, cruelty-free cotton... and 50% polyester\"! (laughs)\n",
      "\n",
      "--------------------------------------------------------------------------------\n"
     ]
    }
   ],
   "source": [
    "cathy.send(message=\"What's last joke we talked about?\", recipient=joe)"
   ]
  }
 ],
 "metadata": {
  "kernelspec": {
   "display_name": "Python 3",
   "language": "python",
   "name": "python3"
  },
  "language_info": {
   "codemirror_mode": {
    "name": "ipython",
    "version": 3
   },
   "file_extension": ".py",
   "mimetype": "text/x-python",
   "name": "python",
   "nbconvert_exporter": "python",
   "pygments_lexer": "ipython3",
   "version": "3.11.10"
  }
 },
 "nbformat": 4,
 "nbformat_minor": 5
}
