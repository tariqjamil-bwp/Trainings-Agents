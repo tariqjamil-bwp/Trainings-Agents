{
 "cells": [
  {
   "cell_type": "code",
   "execution_count": 1,
   "metadata": {},
   "outputs": [
    {
     "name": "stdout",
     "output_type": "stream",
     "text": [
      "Environment variables loaded successfully\n"
     ]
    }
   ],
   "source": [
    "from phi.assistant import Assistant\n",
    "from aisTools_r1 import ddg_search, get_news\n",
    "from phi.llm.groq import Groq\n",
    "\n",
    "llm = Groq(temperature=0)"
   ]
  },
  {
   "cell_type": "code",
   "execution_count": 2,
   "metadata": {},
   "outputs": [],
   "source": [
    "import requests\n",
    "from typing import Annotated, Sequence, TypedDict\n",
    "\n",
    "\n",
    "def currency_converter_phi(\n",
    "    amount: Annotated[str, \"Amount of currency in base_currency\"],\n",
    "    from_currency: Annotated[str, \"Base_currency symbol\"] = \"USD\",\n",
    "    to_currency: Annotated[str, \"Quote currency symbol\"] = \"GBP\",\n",
    ") -> float:\n",
    "    \"\"\"AI is creating summary for currency_converter_lg\n",
    "\n",
    "    Args:\n",
    "        amount (Annotated[str,): [description]\n",
    "        from_currency (Annotated[str,, optional): [description]. Defaults to \"USD\".\n",
    "        to_currency (Annotated[str,, optional): [description]. Defaults to \"GBP\".\n",
    "\n",
    "    Returns:\n",
    "        float: [description]\n",
    "    \"\"\"\n",
    "    try:\n",
    "        #api_key = os.environ.get('EXCHRATE_API_KEY')\n",
    "        api_key = \"a71dffbb1968f78f3cf3e22f\"  # will expire on 11th Oct 2024\n",
    "        \n",
    "        if not api_key:\n",
    "            return \"Error: API key not found. Set 'EXCHRATE_API_KEY' in environment variables.\"\n",
    "        \n",
    "        amount = float(amount)  # Convert amount to float\n",
    "\n",
    "        # API URL with from_currency and to_currency\n",
    "        url = f\"https://v6.exchangerate-api.com/v6/{api_key}/pair/{from_currency}/{to_currency}\"\n",
    "        response = requests.get(url)\n",
    "        response.raise_for_status()  # Raise exception for HTTP errors\n",
    "        data = response.json()\n",
    "\n",
    "        # Check for a successful response\n",
    "        if data.get(\"result\") != \"success\":\n",
    "            return -3 #f\"Error: Failed to retrieve exchange rate. {data.get('error-type', 'Unknown error')}\"\n",
    "\n",
    "        # Access the conversion rate\n",
    "        rate = data['conversion_rate']\n",
    "        converted = float(amount * rate)\n",
    "        \n",
    "        return converted\n",
    "    \n",
    "    except ValueError:\n",
    "        return -2\n",
    "    except requests.RequestException as e:\n",
    "        return -1\n",
    "####################################################################################################################\n"
   ]
  },
  {
   "cell_type": "code",
   "execution_count": 3,
   "metadata": {},
   "outputs": [],
   "source": [
    "\n",
    "def currency_converter_phix(\n",
    "    amount: Annotated[str, \"Amount of currency in base_currency\"],\n",
    "    base_currency: Annotated[str, \"Base_currency symbol\"] = \"USD\",\n",
    "    quote_currency: Annotated[str, \"Quote currency symbol\"] = \"GBP\",\n",
    ") -> float:\n",
    "    \"\"\"AI is creating summary for currency_converter_lg\n",
    "\n",
    "    Args:\n",
    "        amount (Annotated[str,): [description]\n",
    "        base_currency (Annotated[str,, optional): [description]. Defaults to \"USD\".\n",
    "        quote_currency (Annotated[str,, optional): [description]. Defaults to \"GBP\".\n",
    "\n",
    "    Returns:\n",
    "        float\n",
    "    \"\"\"\n",
    "    result = currency_converter(amount, base_currency, quote_currency)\n",
    "    return result\n",
    "\n",
    "\n",
    "def ddg_search_phi(\n",
    "    topic: Annotated[str, \"Topic to search for news\"]=\"world news\",\n",
    "    num_headlines: Annotated[int, \"Number of headlines to return\"] = 5,\n",
    "    )-> float:\n",
    "    \"\"\"AI is creating summary for ddg_search_lg\n",
    "\n",
    "    Args:\n",
    "        topic (Annotated[str,, optional): [description]. Defaults to \"world news\".\n",
    "        num_headlines (Annotated[int,, optional): [description]. Defaults to 5.\n",
    "\n",
    "    Returns:\n",
    "        str: [description]\n",
    "    \"\"\"\n",
    "    search_results = ddg_search(topic, num_headlines)\n",
    "    return search_results\n",
    " \n",
    "\n",
    "def get_news_phi(\n",
    "    topic: Annotated[str, \"Topic to search for news\"]=\"world news\",\n",
    "    num_headlines: Annotated[int, \"Number of headlines to return\"] = 5,\n",
    "    )-> str:\n",
    "    \"\"\"AI is creating summary for get_news_lg\n",
    "\n",
    "    Args:\n",
    "        topic (Annotated[str,, optional): [description]. Defaults to \"world news\".\n",
    "        num_headlines (Annotated[int,, optional): [description]. Defaults to 5.\n",
    "\n",
    "    Returns:\n",
    "        str: [description]\n",
    "    \"\"\"\n",
    "    news_results = get_news(topic, num_headlines)\n",
    "    return news_results\n"
   ]
  },
  {
   "cell_type": "code",
   "execution_count": 4,
   "metadata": {},
   "outputs": [],
   "source": [
    "# Define tools\n",
    "tools = [ddg_search_phi, currency_converter_phi, get_news_phi]"
   ]
  },
  {
   "cell_type": "code",
   "execution_count": 5,
   "metadata": {},
   "outputs": [
    {
     "data": {
      "application/vnd.jupyter.widget-view+json": {
       "model_id": "76e9439214ed48dcbe3003802d042d5c",
       "version_major": 2,
       "version_minor": 0
      },
      "text/plain": [
       "Output()"
      ]
     },
     "metadata": {},
     "output_type": "display_data"
    },
    {
     "data": {
      "text/html": [
       "<pre style=\"white-space:pre;overflow-x:auto;line-height:normal;font-family:Menlo,'DejaVu Sans Mono',consolas,'Courier New',monospace\"><span style=\"color: #808000; text-decoration-color: #808000\">WARNING </span> Could not run function <span style=\"color: #800080; text-decoration-color: #800080; font-weight: bold\">currency_converter_phi</span><span style=\"font-weight: bold\">(</span><span style=\"color: #808000; text-decoration-color: #808000\">amount</span>=<span style=\"color: #008080; text-decoration-color: #008080; font-weight: bold\">100</span>, <span style=\"color: #808000; text-decoration-color: #808000\">base_currency</span>=<span style=\"color: #800080; text-decoration-color: #800080\">USD</span>, <span style=\"color: #808000; text-decoration-color: #808000\">quote_currency</span>=<span style=\"color: #800080; text-decoration-color: #800080\">EUR</span><span style=\"font-weight: bold\">)</span>          \n",
       "</pre>\n"
      ],
      "text/plain": [
       "\u001b[33mWARNING \u001b[0m Could not run function \u001b[1;35mcurrency_converter_phi\u001b[0m\u001b[1m(\u001b[0m\u001b[33mamount\u001b[0m=\u001b[1;36m100\u001b[0m, \u001b[33mbase_currency\u001b[0m=\u001b[35mUSD\u001b[0m, \u001b[33mquote_currency\u001b[0m=\u001b[35mEUR\u001b[0m\u001b[1m)\u001b[0m          \n"
      ]
     },
     "metadata": {},
     "output_type": "display_data"
    },
    {
     "data": {
      "text/html": [
       "<pre style=\"white-space:pre;overflow-x:auto;line-height:normal;font-family:Menlo,'DejaVu Sans Mono',consolas,'Courier New',monospace\"><span style=\"color: #800000; text-decoration-color: #800000; font-weight: bold\">ERROR   </span> name <span style=\"color: #008000; text-decoration-color: #008000\">'from_currency'</span> is not defined                                                                       \n",
       "         Traceback <span style=\"font-weight: bold\">(</span>most recent call last<span style=\"font-weight: bold\">)</span>:                                                                        \n",
       "           File                                                                                                    \n",
       "         <span style=\"color: #008000; text-decoration-color: #008000\">\"/home/tjamil/.local/share/virtualenvs/Agents-4yRd6dJo/lib/python3.11/site-packages/phi/tools/function.py\"</span>\n",
       "         , line <span style=\"color: #008080; text-decoration-color: #008080; font-weight: bold\">150</span>, in execute                                                                                    \n",
       "             self.result = <span style=\"color: #800080; text-decoration-color: #800080; font-weight: bold\">self.function.entrypoint</span><span style=\"font-weight: bold\">(</span>**self.arguments<span style=\"font-weight: bold\">)</span>                                              \n",
       "                           ^^^^^^^^^^^^^^^^^^^^^^^^^^^^^^^^^^^^^^^^^^                                              \n",
       "           File                                                                                                    \n",
       "         <span style=\"color: #008000; text-decoration-color: #008000\">\"/home/tjamil/.local/share/virtualenvs/Agents-4yRd6dJo/lib/python3.11/site-packages/pydantic/validate_call</span>\n",
       "         <span style=\"color: #008000; text-decoration-color: #008000\">_decorator.py\"</span>, line <span style=\"color: #008080; text-decoration-color: #008080; font-weight: bold\">60</span>, in wrapper_function                                                              \n",
       "             return <span style=\"color: #800080; text-decoration-color: #800080; font-weight: bold\">validate_call_wrapper</span><span style=\"font-weight: bold\">(</span>*args, **kwargs<span style=\"font-weight: bold\">)</span>                                                         \n",
       "                    ^^^^^^^^^^^^^^^^^^^^^^^^^^^^^^^^^^^^^^                                                         \n",
       "           File                                                                                                    \n",
       "         <span style=\"color: #008000; text-decoration-color: #008000\">\"/home/tjamil/.local/share/virtualenvs/Agents-4yRd6dJo/lib/python3.11/site-packages/pydantic/_internal/_va</span>\n",
       "         <span style=\"color: #008000; text-decoration-color: #008000\">lidate_call.py\"</span>, line <span style=\"color: #008080; text-decoration-color: #008080; font-weight: bold\">96</span>, in __call__                                                                     \n",
       "             res = <span style=\"color: #800080; text-decoration-color: #800080; font-weight: bold\">self.__pydantic_validator__.validate_python</span><span style=\"font-weight: bold\">(</span><span style=\"color: #800080; text-decoration-color: #800080; font-weight: bold\">pydantic_core.ArgsKwargs</span><span style=\"font-weight: bold\">(</span>args, kwargs<span style=\"font-weight: bold\">))</span>             \n",
       "                   ^^^^^^^^^^^^^^^^^^^^^^^^^^^^^^^^^^^^^^^^^^^^^^^^^^^^^^^^^^^^^^^^^^^^^^^^^^^^^^^^^^^             \n",
       "           File <span style=\"color: #008000; text-decoration-color: #008000\">\"/tmp/ipykernel_13932/3836774134.py\"</span>, line <span style=\"color: #008080; text-decoration-color: #008080; font-weight: bold\">30</span>, in currency_converter_phi                           \n",
       "             url = f\"<span style=\"color: #0000ff; text-decoration-color: #0000ff; text-decoration: underline\">https://v6.exchangerate-api.com/v6/</span><span style=\"font-weight: bold\">{</span>api_key<span style=\"font-weight: bold\">}</span><span style=\"color: #800080; text-decoration-color: #800080\">/pair/</span><span style=\"font-weight: bold\">{</span>from_currency<span style=\"font-weight: bold\">}</span><span style=\"color: #800080; text-decoration-color: #800080\">/</span><span style=\"font-weight: bold\">{</span>to_currency<span style=\"font-weight: bold\">}</span>\"              \n",
       "                                                                        ^^^^^^^^^^^^^                              \n",
       "         NameError: name <span style=\"color: #008000; text-decoration-color: #008000\">'from_currency'</span> is not defined                                                            \n",
       "</pre>\n"
      ],
      "text/plain": [
       "\u001b[1;31mERROR   \u001b[0m name \u001b[32m'from_currency'\u001b[0m is not defined                                                                       \n",
       "         Traceback \u001b[1m(\u001b[0mmost recent call last\u001b[1m)\u001b[0m:                                                                        \n",
       "           File                                                                                                    \n",
       "         \u001b[32m\"/home/tjamil/.local/share/virtualenvs/Agents-4yRd6dJo/lib/python3.11/site-packages/phi/tools/function.py\"\u001b[0m\n",
       "         , line \u001b[1;36m150\u001b[0m, in execute                                                                                    \n",
       "             self.result = \u001b[1;35mself.function.entrypoint\u001b[0m\u001b[1m(\u001b[0m**self.arguments\u001b[1m)\u001b[0m                                              \n",
       "                           ^^^^^^^^^^^^^^^^^^^^^^^^^^^^^^^^^^^^^^^^^^                                              \n",
       "           File                                                                                                    \n",
       "         \u001b[32m\"/home/tjamil/.local/share/virtualenvs/Agents-4yRd6dJo/lib/python3.11/site-packages/pydantic/validate_call\u001b[0m\n",
       "         \u001b[32m_decorator.py\"\u001b[0m, line \u001b[1;36m60\u001b[0m, in wrapper_function                                                              \n",
       "             return \u001b[1;35mvalidate_call_wrapper\u001b[0m\u001b[1m(\u001b[0m*args, **kwargs\u001b[1m)\u001b[0m                                                         \n",
       "                    ^^^^^^^^^^^^^^^^^^^^^^^^^^^^^^^^^^^^^^                                                         \n",
       "           File                                                                                                    \n",
       "         \u001b[32m\"/home/tjamil/.local/share/virtualenvs/Agents-4yRd6dJo/lib/python3.11/site-packages/pydantic/_internal/_va\u001b[0m\n",
       "         \u001b[32mlidate_call.py\"\u001b[0m, line \u001b[1;36m96\u001b[0m, in __call__                                                                     \n",
       "             res = \u001b[1;35mself.__pydantic_validator__.validate_python\u001b[0m\u001b[1m(\u001b[0m\u001b[1;35mpydantic_core.ArgsKwargs\u001b[0m\u001b[1m(\u001b[0margs, kwargs\u001b[1m)\u001b[0m\u001b[1m)\u001b[0m             \n",
       "                   ^^^^^^^^^^^^^^^^^^^^^^^^^^^^^^^^^^^^^^^^^^^^^^^^^^^^^^^^^^^^^^^^^^^^^^^^^^^^^^^^^^^             \n",
       "           File \u001b[32m\"/tmp/ipykernel_13932/3836774134.py\"\u001b[0m, line \u001b[1;36m30\u001b[0m, in currency_converter_phi                           \n",
       "             url = f\"\u001b[4;94mhttps://v6.exchangerate-api.com/v6/\u001b[0m\u001b[1m{\u001b[0mapi_key\u001b[1m}\u001b[0m\u001b[35m/pair/\u001b[0m\u001b[1m{\u001b[0mfrom_currency\u001b[1m}\u001b[0m\u001b[35m/\u001b[0m\u001b[1m{\u001b[0mto_currency\u001b[1m}\u001b[0m\"              \n",
       "                                                                        ^^^^^^^^^^^^^                              \n",
       "         NameError: name \u001b[32m'from_currency'\u001b[0m is not defined                                                            \n"
      ]
     },
     "metadata": {},
     "output_type": "display_data"
    },
    {
     "data": {
      "text/html": [
       "<pre style=\"white-space:pre;overflow-x:auto;line-height:normal;font-family:Menlo,'DejaVu Sans Mono',consolas,'Courier New',monospace\"><span style=\"color: #808000; text-decoration-color: #808000\">WARNING </span> Could not run function <span style=\"color: #800080; text-decoration-color: #800080; font-weight: bold\">currency_converter_phi</span><span style=\"font-weight: bold\">(</span><span style=\"color: #808000; text-decoration-color: #808000\">amount</span>=<span style=\"color: #008080; text-decoration-color: #008080; font-weight: bold\">100</span>, <span style=\"color: #808000; text-decoration-color: #808000\">base_currency</span>=<span style=\"color: #800080; text-decoration-color: #800080\">USD</span>, <span style=\"color: #808000; text-decoration-color: #808000\">quote_currency</span>=<span style=\"color: #800080; text-decoration-color: #800080\">EUR</span><span style=\"font-weight: bold\">)</span>          \n",
       "</pre>\n"
      ],
      "text/plain": [
       "\u001b[33mWARNING \u001b[0m Could not run function \u001b[1;35mcurrency_converter_phi\u001b[0m\u001b[1m(\u001b[0m\u001b[33mamount\u001b[0m=\u001b[1;36m100\u001b[0m, \u001b[33mbase_currency\u001b[0m=\u001b[35mUSD\u001b[0m, \u001b[33mquote_currency\u001b[0m=\u001b[35mEUR\u001b[0m\u001b[1m)\u001b[0m          \n"
      ]
     },
     "metadata": {},
     "output_type": "display_data"
    },
    {
     "data": {
      "text/html": [
       "<pre style=\"white-space:pre;overflow-x:auto;line-height:normal;font-family:Menlo,'DejaVu Sans Mono',consolas,'Courier New',monospace\"><span style=\"color: #800000; text-decoration-color: #800000; font-weight: bold\">ERROR   </span> name <span style=\"color: #008000; text-decoration-color: #008000\">'from_currency'</span> is not defined                                                                       \n",
       "         Traceback <span style=\"font-weight: bold\">(</span>most recent call last<span style=\"font-weight: bold\">)</span>:                                                                        \n",
       "           File                                                                                                    \n",
       "         <span style=\"color: #008000; text-decoration-color: #008000\">\"/home/tjamil/.local/share/virtualenvs/Agents-4yRd6dJo/lib/python3.11/site-packages/phi/tools/function.py\"</span>\n",
       "         , line <span style=\"color: #008080; text-decoration-color: #008080; font-weight: bold\">150</span>, in execute                                                                                    \n",
       "             self.result = <span style=\"color: #800080; text-decoration-color: #800080; font-weight: bold\">self.function.entrypoint</span><span style=\"font-weight: bold\">(</span>**self.arguments<span style=\"font-weight: bold\">)</span>                                              \n",
       "                           ^^^^^^^^^^^^^^^^^^^^^^^^^^^^^^^^^^^^^^^^^^                                              \n",
       "           File                                                                                                    \n",
       "         <span style=\"color: #008000; text-decoration-color: #008000\">\"/home/tjamil/.local/share/virtualenvs/Agents-4yRd6dJo/lib/python3.11/site-packages/pydantic/validate_call</span>\n",
       "         <span style=\"color: #008000; text-decoration-color: #008000\">_decorator.py\"</span>, line <span style=\"color: #008080; text-decoration-color: #008080; font-weight: bold\">60</span>, in wrapper_function                                                              \n",
       "             return <span style=\"color: #800080; text-decoration-color: #800080; font-weight: bold\">validate_call_wrapper</span><span style=\"font-weight: bold\">(</span>*args, **kwargs<span style=\"font-weight: bold\">)</span>                                                         \n",
       "                    ^^^^^^^^^^^^^^^^^^^^^^^^^^^^^^^^^^^^^^                                                         \n",
       "           File                                                                                                    \n",
       "         <span style=\"color: #008000; text-decoration-color: #008000\">\"/home/tjamil/.local/share/virtualenvs/Agents-4yRd6dJo/lib/python3.11/site-packages/pydantic/_internal/_va</span>\n",
       "         <span style=\"color: #008000; text-decoration-color: #008000\">lidate_call.py\"</span>, line <span style=\"color: #008080; text-decoration-color: #008080; font-weight: bold\">96</span>, in __call__                                                                     \n",
       "             res = <span style=\"color: #800080; text-decoration-color: #800080; font-weight: bold\">self.__pydantic_validator__.validate_python</span><span style=\"font-weight: bold\">(</span><span style=\"color: #800080; text-decoration-color: #800080; font-weight: bold\">pydantic_core.ArgsKwargs</span><span style=\"font-weight: bold\">(</span>args, kwargs<span style=\"font-weight: bold\">))</span>             \n",
       "                   ^^^^^^^^^^^^^^^^^^^^^^^^^^^^^^^^^^^^^^^^^^^^^^^^^^^^^^^^^^^^^^^^^^^^^^^^^^^^^^^^^^^             \n",
       "           File <span style=\"color: #008000; text-decoration-color: #008000\">\"/tmp/ipykernel_13932/3836774134.py\"</span>, line <span style=\"color: #008080; text-decoration-color: #008080; font-weight: bold\">30</span>, in currency_converter_phi                           \n",
       "             url = f\"<span style=\"color: #0000ff; text-decoration-color: #0000ff; text-decoration: underline\">https://v6.exchangerate-api.com/v6/</span><span style=\"font-weight: bold\">{</span>api_key<span style=\"font-weight: bold\">}</span><span style=\"color: #800080; text-decoration-color: #800080\">/pair/</span><span style=\"font-weight: bold\">{</span>from_currency<span style=\"font-weight: bold\">}</span><span style=\"color: #800080; text-decoration-color: #800080\">/</span><span style=\"font-weight: bold\">{</span>to_currency<span style=\"font-weight: bold\">}</span>\"              \n",
       "                                                                        ^^^^^^^^^^^^^                              \n",
       "         NameError: name <span style=\"color: #008000; text-decoration-color: #008000\">'from_currency'</span> is not defined                                                            \n",
       "</pre>\n"
      ],
      "text/plain": [
       "\u001b[1;31mERROR   \u001b[0m name \u001b[32m'from_currency'\u001b[0m is not defined                                                                       \n",
       "         Traceback \u001b[1m(\u001b[0mmost recent call last\u001b[1m)\u001b[0m:                                                                        \n",
       "           File                                                                                                    \n",
       "         \u001b[32m\"/home/tjamil/.local/share/virtualenvs/Agents-4yRd6dJo/lib/python3.11/site-packages/phi/tools/function.py\"\u001b[0m\n",
       "         , line \u001b[1;36m150\u001b[0m, in execute                                                                                    \n",
       "             self.result = \u001b[1;35mself.function.entrypoint\u001b[0m\u001b[1m(\u001b[0m**self.arguments\u001b[1m)\u001b[0m                                              \n",
       "                           ^^^^^^^^^^^^^^^^^^^^^^^^^^^^^^^^^^^^^^^^^^                                              \n",
       "           File                                                                                                    \n",
       "         \u001b[32m\"/home/tjamil/.local/share/virtualenvs/Agents-4yRd6dJo/lib/python3.11/site-packages/pydantic/validate_call\u001b[0m\n",
       "         \u001b[32m_decorator.py\"\u001b[0m, line \u001b[1;36m60\u001b[0m, in wrapper_function                                                              \n",
       "             return \u001b[1;35mvalidate_call_wrapper\u001b[0m\u001b[1m(\u001b[0m*args, **kwargs\u001b[1m)\u001b[0m                                                         \n",
       "                    ^^^^^^^^^^^^^^^^^^^^^^^^^^^^^^^^^^^^^^                                                         \n",
       "           File                                                                                                    \n",
       "         \u001b[32m\"/home/tjamil/.local/share/virtualenvs/Agents-4yRd6dJo/lib/python3.11/site-packages/pydantic/_internal/_va\u001b[0m\n",
       "         \u001b[32mlidate_call.py\"\u001b[0m, line \u001b[1;36m96\u001b[0m, in __call__                                                                     \n",
       "             res = \u001b[1;35mself.__pydantic_validator__.validate_python\u001b[0m\u001b[1m(\u001b[0m\u001b[1;35mpydantic_core.ArgsKwargs\u001b[0m\u001b[1m(\u001b[0margs, kwargs\u001b[1m)\u001b[0m\u001b[1m)\u001b[0m             \n",
       "                   ^^^^^^^^^^^^^^^^^^^^^^^^^^^^^^^^^^^^^^^^^^^^^^^^^^^^^^^^^^^^^^^^^^^^^^^^^^^^^^^^^^^             \n",
       "           File \u001b[32m\"/tmp/ipykernel_13932/3836774134.py\"\u001b[0m, line \u001b[1;36m30\u001b[0m, in currency_converter_phi                           \n",
       "             url = f\"\u001b[4;94mhttps://v6.exchangerate-api.com/v6/\u001b[0m\u001b[1m{\u001b[0mapi_key\u001b[1m}\u001b[0m\u001b[35m/pair/\u001b[0m\u001b[1m{\u001b[0mfrom_currency\u001b[1m}\u001b[0m\u001b[35m/\u001b[0m\u001b[1m{\u001b[0mto_currency\u001b[1m}\u001b[0m\"              \n",
       "                                                                        ^^^^^^^^^^^^^                              \n",
       "         NameError: name \u001b[32m'from_currency'\u001b[0m is not defined                                                            \n"
      ]
     },
     "metadata": {},
     "output_type": "display_data"
    },
    {
     "data": {
      "text/html": [
       "<pre style=\"white-space:pre;overflow-x:auto;line-height:normal;font-family:Menlo,'DejaVu Sans Mono',consolas,'Courier New',monospace\"></pre>\n"
      ],
      "text/plain": []
     },
     "metadata": {},
     "output_type": "display_data"
    }
   ],
   "source": [
    "assistant = Assistant(\n",
    "    llm=llm,\n",
    "    tools=tools,\n",
    "    show_tool_calls=True,\n",
    "    markdown=True,\n",
    ")\n",
    "\n",
    "\n",
    "# Define the Assistant with available tools\n",
    "assistant = Assistant(\n",
    "    tools=tools,\n",
    "    llm=llm,\n",
    "    show_tool_calls=True,\n",
    "    markdown=True,\n",
    "    )\n",
    "\n",
    "# User query\n",
    "query = \"\"\"What's are the top 10 the latest news about AI (list in bullets, with dates)\n",
    "and how much is 100 USD in EUR?\"\"\"\n",
    "\n",
    "assistant.print_response(query)"
   ]
  },
  {
   "cell_type": "code",
   "execution_count": null,
   "metadata": {},
   "outputs": [],
   "source": []
  }
 ],
 "metadata": {
  "kernelspec": {
   "display_name": "Agents-4yRd6dJo",
   "language": "python",
   "name": "python3"
  },
  "language_info": {
   "codemirror_mode": {
    "name": "ipython",
    "version": 3
   },
   "file_extension": ".py",
   "mimetype": "text/x-python",
   "name": "python",
   "nbconvert_exporter": "python",
   "pygments_lexer": "ipython3",
   "version": "3.11.10"
  }
 },
 "nbformat": 4,
 "nbformat_minor": 2
}
