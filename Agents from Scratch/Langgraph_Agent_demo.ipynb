{
 "cells": [
  {
   "cell_type": "markdown",
   "metadata": {},
   "source": [
    "### Imports"
   ]
  },
  {
   "cell_type": "code",
   "execution_count": 8,
   "metadata": {},
   "outputs": [],
   "source": [
    "from langchain_core.messages import AIMessage, BaseMessage\n",
    "from langgraph.graph.message import add_messages\n",
    "from typing import Annotated, Sequence, TypedDict\n",
    "\n",
    "from dotenv import load_dotenv\n",
    "load_dotenv()#'../.env')\n",
    "\n",
    "from Tools_r2 import get_news, currency_converter, ddg_search"
   ]
  },
  {
   "cell_type": "markdown",
   "metadata": {},
   "source": [
    "### Model Instantiation"
   ]
  },
  {
   "cell_type": "code",
   "execution_count": 9,
   "metadata": {},
   "outputs": [],
   "source": [
    "from langchain_groq.chat_models import ChatGroq\n",
    "llm = ChatGroq(temperature=0, model_name=\"llama3-70b-8192\")"
   ]
  },
  {
   "cell_type": "code",
   "execution_count": 10,
   "metadata": {},
   "outputs": [
    {
     "data": {
      "text/plain": [
       "AIMessage(content=\"Here are the top world news stories currently trending:\\n\\n**1.** **Russia-Ukraine Conflict:** The situation in Ukraine remains tense as Russian forces continue to build up along the border. The US and its allies have imposed sanctions on Russia, and NATO has deployed troops to Eastern Europe. Diplomatic efforts are underway to prevent a full-scale war.\\n\\n**2.** **COVID-19 Pandemic:** The Omicron variant continues to spread globally, with many countries experiencing surges in cases and hospitalizations. Governments are reimposing restrictions, and vaccine distribution efforts are ongoing.\\n\\n**3.** **Myanmar Coup:** The military junta in Myanmar (Burma) has cracked down on pro-democracy protests, leading to widespread violence and international condemnation. The UN has called for the release of detained leaders, including Aung San Suu Kyi.\\n\\n**4.** **Iran Nuclear Talks:** Diplomatic efforts to revive the 2015 Iran nuclear deal are ongoing in Vienna. The US, Iran, and other world powers are negotiating to lift sanctions and curb Iran's nuclear program.\\n\\n**5.** **China's Crackdown on Hong Kong:** China has introduced a new national security law in Hong Kong, sparking concerns about the territory's autonomy and human rights. Pro-democracy activists have been arrested, and the US has imposed sanctions on Chinese officials.\\n\\n**6.** **Climate Change:** The UN Climate Change Conference (COP26) is set to take place in Glasgow in November, with world leaders expected to discuss ambitious emissions reductions and climate finance. The IPCC has warned of catastrophic consequences if global warming exceeds 1.5°C.\\n\\n**7.** **North Korea Missile Tests:** North Korea has conducted a series of missile tests, including a recent launch of an intercontinental ballistic missile (ICBM). The international community has condemned the tests, and the US has imposed new sanctions.\\n\\n**8.** **Ethiopia's Tigray Conflict:** The conflict in Ethiopia's Tigray region has led to a humanitarian crisis, with reports of ethnic cleansing, mass killings, and widespread displacement. The international community is calling for a ceasefire and humanitarian access.\\n\\n**9.** **Israel-Palestine Tensions:** Violence has escalated in the West Bank and Gaza Strip, with clashes between Israeli security forces and Palestinian protesters. The international community is urging restraint and a return to peace talks.\\n\\n**10.** **Global Economy:** The global economy is recovering from the COVID-19 pandemic, but concerns remain about inflation, supply chain disruptions, and rising debt levels. The IMF has warned of a potential slowdown in growth.\\n\\nThese are just a few of the top world news stories currently trending. If you'd like more information on a specific topic, feel free to ask!\", additional_kwargs={}, response_metadata={'token_usage': {'completion_tokens': 560, 'prompt_tokens': 17, 'total_tokens': 577, 'completion_time': 1.7152451690000001, 'prompt_time': 0.000452676, 'queue_time': 0.014685175, 'total_time': 1.715697845}, 'model_name': 'llama3-70b-8192', 'system_fingerprint': 'fp_753a4aecf6', 'finish_reason': 'stop', 'logprobs': None}, id='run-b8bfe777-0d83-4b8a-bc13-d775235ed8b1-0', usage_metadata={'input_tokens': 17, 'output_tokens': 560, 'total_tokens': 577})"
      ]
     },
     "execution_count": 10,
     "metadata": {},
     "output_type": "execute_result"
    }
   ],
   "source": [
    "llm.invoke(\"what's the top world news?\")"
   ]
  },
  {
   "cell_type": "markdown",
   "metadata": {},
   "source": [
    "### Making tools compatible with LangGraph"
   ]
  },
  {
   "cell_type": "code",
   "execution_count": 11,
   "metadata": {},
   "outputs": [],
   "source": [
    "from langchain_core.tools import tool\n",
    "# doc strings are mendatory in langgraph\n",
    "\n",
    "@tool\n",
    "def currency_converter_lg(\n",
    "    amount: Annotated[str, \"Amount of currency in base_currency\"],\n",
    "    base_currency: Annotated[str, \"Base_currency symbol\"] = \"USD\",\n",
    "    quote_currency: Annotated[str, \"Quote currency symbol\"] = \"GBP\",\n",
    ") -> str:\n",
    "    \"\"\"AI is creating summary for currency_converter_lg\n",
    "\n",
    "    Args:\n",
    "        amount (Annotated[str,): [description]\n",
    "        base_currency (Annotated[str,, optional): [description]. Defaults to \"USD\".\n",
    "        quote_currency (Annotated[str,, optional): [description]. Defaults to \"GBP\".\n",
    "\n",
    "    Returns:\n",
    "        str: [description]\n",
    "    \"\"\"\n",
    "    result = currency_converter(amount, base_currency, quote_currency)\n",
    "    return result\n",
    "\n",
    "@tool\n",
    "def ddg_search_lg(\n",
    "    topic: Annotated[str, \"Topic to search for news\"]=\"world news\",\n",
    "    num_headlines: Annotated[int, \"Number of headlines to return\"] = 5,\n",
    "    )-> str:\n",
    "    \"\"\"AI is creating summary for ddg_search_lg\n",
    "\n",
    "    Args:\n",
    "        topic (Annotated[str,, optional): [description]. Defaults to \"world news\".\n",
    "        num_headlines (Annotated[int,, optional): [description]. Defaults to 5.\n",
    "\n",
    "    Returns:\n",
    "        str: [description]\n",
    "    \"\"\"\n",
    "    search_results = ddg_search(topic, num_headlines)\n",
    "    return search_results\n",
    " \n",
    "@tool\n",
    "def get_news_lg(\n",
    "    topic: Annotated[str, \"Topic to search for news\"]=\"world news\",\n",
    "    num_headlines: Annotated[int, \"Number of headlines to return\"] = 5,\n",
    "    )-> str:\n",
    "    \"\"\"AI is creating summary for get_news_lg\n",
    "\n",
    "    Args:\n",
    "        topic (Annotated[str,, optional): [description]. Defaults to \"world news\".\n",
    "        num_headlines (Annotated[int,, optional): [description]. Defaults to 5.\n",
    "\n",
    "    Returns:\n",
    "        str: [description]\n",
    "    \"\"\"\n",
    "    news_results = get_news(topic, num_headlines)\n",
    "    return news_results\n",
    "\n",
    "tools = [currency_converter_lg, ddg_search_lg, get_news_lg]\n",
    "model = llm.bind_tools(tools)  # this is important, we have similar thing in Autogen"
   ]
  },
  {
   "cell_type": "markdown",
   "metadata": {},
   "source": [
    "### Initializaing agent-state, defining tool_node, agent_node "
   ]
  },
  {
   "cell_type": "code",
   "execution_count": 12,
   "metadata": {},
   "outputs": [],
   "source": [
    "import json\n",
    "from langchain_core.messages import ToolMessage, SystemMessage\n",
    "from langchain_core.runnables import RunnableConfig\n",
    "\n",
    "class AgentState(TypedDict):\n",
    "    \"\"\"The state of the agent.\"\"\"\n",
    "    messages: Annotated[Sequence[BaseMessage], add_messages]\n",
    "\n",
    "tools_by_name = {tool.name: tool for tool in tools}  # same as tools dictionary \n",
    "\n",
    "\n",
    "# Define our tool node, that calls the tools\n",
    "def tool_node(state: AgentState):\n",
    "    outputs = []\n",
    "    for tool_call in state['messages'][-1].tool_calls:  # calling any tools found in message state.\n",
    "        tool_result = tools_by_name[tool_call[\"name\"]].invoke(\n",
    "            tool_call[\"args\"]\n",
    "        )\n",
    "        outputs.append(\n",
    "            ToolMessage(\n",
    "                content=json.dumps(tool_result),\n",
    "                name=tool_call[\"name\"],\n",
    "                tool_call_id=tool_call[\"id\"],\n",
    "            )\n",
    "        )\n",
    "    return {\"messages\": outputs}\n",
    "# The tool node function is now pre-built in langgraph\n",
    "#from langgraph.prebuilt import ToolNode\n",
    "#tool_node = ToolNode(tools)\n",
    "\n",
    "# Define the agent node that calls the model\n",
    "def agent_node(state: AgentState, config: RunnableConfig,):\n",
    "    # this is similar to customizing the create_react_agent with state_modifier, but is a lot more flexible\n",
    "    system_prompt = SystemMessage(\"You are an intelligent agent capable of answering questions and performing tasks using the tools you have been provided.\")\n",
    "    response = model.invoke([system_prompt] + state['messages'], config)\n",
    "    # We return a list, because this will get added to the existing list\n",
    "    return {\"messages\": [response]}\n",
    "\n",
    "# Define the conditional edge that determines whether to continue or not\n",
    "def should_continue(state: AgentState):\n",
    "    messages = state[\"messages\"]\n",
    "    last_message = messages[-1]\n",
    "    # If there is no function call, then we finish\n",
    "    if last_message.tool_calls:\n",
    "        return \"tools\"\n",
    "    # Otherwise if there is, we continue\n",
    "    else:\n",
    "        return \"end\""
   ]
  },
  {
   "cell_type": "markdown",
   "metadata": {},
   "source": [
    "### Define Graph, Adding Nodes and Edges"
   ]
  },
  {
   "cell_type": "code",
   "execution_count": 13,
   "metadata": {},
   "outputs": [
    {
     "data": {
      "image/jpeg": "[encoded data removed]",
      "text/plain": [
       "<IPython.core.display.Image object>"
      ]
     },
     "metadata": {},
     "output_type": "display_data"
    }
   ],
   "source": [
    "from langgraph.graph import StateGraph, END\n",
    "from langgraph.constants import END\n",
    "\n",
    "######################## Defining Graph ######################\n",
    "# Define a new graph\n",
    "workflow = StateGraph(AgentState)\n",
    "\n",
    "######################## Defining Nodes ######################\n",
    "# Define the two nodes we will cycle between\n",
    "workflow.add_node(\"Agent\", agent_node)\n",
    "workflow.add_node(\"Tools\", tool_node)\n",
    "\n",
    "######################## Defining Edges ######################\n",
    "# Set the entrypoint as `agent` (this node is the first one called)\n",
    "workflow.add_edge(\"__start__\", \"Agent\")  #same as workflow.set_entry_point(\"agent\")\n",
    "\n",
    "# We now add a conditional edge\n",
    "workflow.add_conditional_edges(\n",
    "    # First, we define the start node. We use `agent`.\n",
    "    # This means these are the edges taken after the `agent` node is called.\n",
    "    \"Agent\",\n",
    "    # Next, we pass in the function that will determine which node is called next.\n",
    "    should_continue,  \n",
    "    # Based on if the last message in the state has tools call or END (final answer obtained).\n",
    "    {   \n",
    "        \"tools\": \"Tools\",  # If `tools` in last message, then we call the tool_node.\n",
    "        \"end\": END,        # Otherwise 'END' a special node marking that the graph should finish.\n",
    "    },\n",
    ")\n",
    "\n",
    "# We now add a normal edge from `tools` to `agent`.\n",
    "# This means that after `tools` is called, `agent` node is called next.\n",
    "workflow.add_edge(\"Tools\", \"Agent\")\n",
    "\n",
    "######################## Compiling Graph ######################\n",
    "# Now we can compile and visualize our graph\n",
    "graph = workflow.compile()\n",
    "\n",
    "from IPython.display import Image, display\n",
    "\n",
    "try:\n",
    "    display(Image(graph.get_graph().draw_mermaid_png()))\n",
    "except Exception:\n",
    "    # This requires some extra dependencies and is optional\n",
    "    pass"
   ]
  },
  {
   "cell_type": "code",
   "execution_count": 14,
   "metadata": {},
   "outputs": [
    {
     "name": "stdout",
     "output_type": "stream",
     "text": [
      "================================\u001b[1m Human Message \u001b[0m=================================\n",
      "\n",
      "\"What's are the top 10 the latest news about AI (list in bullets)\n",
      "and how much is 100 USD in EUR?\n",
      "==================================\u001b[1m Ai Message \u001b[0m==================================\n",
      "Tool Calls:\n",
      "  get_news_lg (call_ntgn)\n",
      " Call ID: call_ntgn\n",
      "  Args:\n",
      "    topic: AI\n",
      "    num_headlines: 10\n",
      "  currency_converter_lg (call_azhd)\n",
      " Call ID: call_azhd\n",
      "  Args:\n",
      "    amount: 100\n",
      "    base_currency: USD\n",
      "    quote_currency: EUR\n",
      "-> TOOL-CURRENCY_CONVERTER CALLED\n",
      "=================================\u001b[1m Tool Message \u001b[0m=================================\n",
      "Name: currency_converter_lg\n",
      "\n",
      "92.10000000000001\n",
      "==================================\u001b[1m Ai Message \u001b[0m==================================\n",
      "\n",
      "Here is the response:\n",
      "\n",
      "The top 10 latest news about AI are:\n",
      "\n",
      "* The Age of AI Child Abuse Is Here\n",
      "* Big Tech Has Given Itself an AI Deadline\n",
      "* AI Chatbots Behind The Latest Memecoin Trend\n",
      "* Meta releases AI model that can check other AI models' work\n",
      "* AI Startup SandboxAQ Seeks Funding at Over $5 Billion Valuation\n",
      "* What the roller-coaster earnings at ASML and TSMC tell us about demand for AI chips\n",
      "* Google's viral AI podcast tool just got more useful\n",
      "* How to use Gemini AI to ask questions about your Gmail inbox\n",
      "* Kamala Harris's AI Deepfake\n",
      "* Writing backwards can trick an AI into providing a bomb recipe\n",
      "\n",
      "And 100 USD is approximately 92.10 EUR.\n"
     ]
    }
   ],
   "source": [
    "# Helper function for formatting the stream nicely\n",
    "def print_stream(stream):\n",
    "    for s in stream:\n",
    "        message = s[\"messages\"][-1]\n",
    "        if isinstance(message, tuple):\n",
    "            print(message)\n",
    "        else:\n",
    "            message.pretty_print()\n",
    "\n",
    "query = \"\"\"\"What's are the top 10 the latest news about AI (list in bullets)\n",
    "and how much is 100 USD in EUR?\"\"\"\n",
    "\n",
    "inputs = {\"messages\": [(\"user\", query)]}\n",
    "print_stream(graph.stream(inputs, stream_mode=\"values\"))"
   ]
  },
  {
   "cell_type": "code",
   "execution_count": null,
   "metadata": {},
   "outputs": [],
   "source": []
  }
 ],
 "metadata": {
  "kernelspec": {
   "display_name": "Python 3",
   "language": "python",
   "name": "python3"
  },
  "language_info": {
   "codemirror_mode": {
    "name": "ipython",
    "version": 3
   },
   "file_extension": ".py",
   "mimetype": "text/x-python",
   "name": "python",
   "nbconvert_exporter": "python",
   "pygments_lexer": "ipython3",
   "version": "3.11.10"
  }
 },
 "nbformat": 4,
 "nbformat_minor": 2
}
