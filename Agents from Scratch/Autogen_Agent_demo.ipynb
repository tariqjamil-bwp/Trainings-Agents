{
 "cells": [
  {
   "attachments": {},
   "cell_type": "markdown",
   "id": "ae1f50ec",
   "metadata": {},
   "source": [
    "# Task Solving with Provided Tools as Functions\n"
   ]
  },
  {
   "attachments": {},
   "cell_type": "markdown",
   "id": "9a71fa36",
   "metadata": {},
   "source": [
    "* In this notebook, we demonstrate how to use `AssistantAgent` and `UserProxyAgent` to make function calls with the new feature of latest models like OpenAI / Llama3, etc.\n",
    "\n",
    "* A specified prompt and function configs must be passed to `AssistantAgent` to initialize the agent. \n",
    "\n",
    "* The corresponding functions must be passed to `UserProxyAgent`, which will execute any function calls made by `AssistantAgent`.\n",
    "\n",
    "* Besides this requirement of matching descriptions with functions, we recommend checking the system message in the `AssistantAgent` to ensure the instructions align with the function call descriptions.\n",
    "\n",
    "\n",
    "## Requirements\n",
    "\n",
    "AutoGen requires `Python>=3.8`. To run this notebook example, please install `pyautogen`:\n",
    "```bash\n",
    "pip install pyautogen\n",
    "```"
   ]
  },
  {
   "cell_type": "code",
   "execution_count": 1,
   "id": "2b803c17",
   "metadata": {},
   "outputs": [],
   "source": [
    "# %pip install \"pyautogen>=0.2.3\""
   ]
  },
  {
   "cell_type": "markdown",
   "id": "b9c534d5",
   "metadata": {},
   "source": [
    "### Imports"
   ]
  },
  {
   "cell_type": "code",
   "execution_count": 2,
   "id": "dca301a4",
   "metadata": {},
   "outputs": [
    {
     "name": "stderr",
     "output_type": "stream",
     "text": [
      "flaml.automl is not available. Please install flaml[automl] to enable AutoML functionalities.\n"
     ]
    }
   ],
   "source": [
    "#from typing import Literal\n",
    "from typing_extensions import Annotated\n",
    "import autogen\n",
    "from autogen.cache import Cache\n",
    "from Tools_r2 import calculate, currency_converter, ddg_search, get_news\n",
    "\n",
    "#config_list = autogen.config_list_from_json(\n",
    "#    \"OAI_CONFIG_LIST\",\n",
    "#    filter_dict={\"tags\": [\"3.5-tool\"]},  # comment out to get all\n",
    "#)"
   ]
  },
  {
   "cell_type": "markdown",
   "id": "1082df8a",
   "metadata": {},
   "source": [
    "### LLM Configuration setting"
   ]
  },
  {
   "cell_type": "code",
   "execution_count": 3,
   "id": "f652657a",
   "metadata": {},
   "outputs": [],
   "source": [
    "import os\n",
    "config_list = [{\"api_type\":\"groq\",\"model\":\"llama3-70b-8192\",\"api_key\":os.environ.get(\"GROQ_API_KEY\"),},\n",
    "               {\"api_type\":\"groq\",\"model\":\"llama3-8b-8192\",\"api_key\":os.environ.get(\"GROQ_API_KEY\"),}]\n",
    "\n",
    "llm_config = {\n",
    "    \"config_list\": config_list,\n",
    "    \"timeout\": 120,\n",
    "}"
   ]
  },
  {
   "cell_type": "markdown",
   "id": "bd9d61cf",
   "metadata": {},
   "source": [
    "## Creating Agents"
   ]
  },
  {
   "cell_type": "code",
   "execution_count": 4,
   "id": "7b3d8b58",
   "metadata": {},
   "outputs": [],
   "source": [
    "# Creating chatbot\n",
    "Assistant_Agent = autogen.AssistantAgent(\n",
    "    name=\"assistant_agent\",\n",
    "    system_message=\"\"\"You are an intelligent agent capable of answering questions and performing tasks, like \n",
    "    For currency exchange tasks, web search tasks and news search tasks when required. only use the functions you have been provided with.\n",
    "    Reply TERMINATE when the task is done.\"\"\",\n",
    "    llm_config=llm_config,\n",
    ")\n",
    "\n",
    "# create a UserProxyAgent instance named \"user_proxy\" \n",
    "user_proxy = autogen.UserProxyAgent(\n",
    "    name=\"user_proxy\",\n",
    "    is_termination_msg=lambda x: x.get(\"content\", \"\") and x.get(\"content\", \"\").rstrip().endswith(\"TERMINATE\"),\n",
    "    human_input_mode=\"NEVER\",\n",
    "    max_consecutive_auto_reply=5,\n",
    ")"
   ]
  },
  {
   "cell_type": "markdown",
   "id": "83e63535",
   "metadata": {},
   "source": [
    "### Tools Functions (converting to autogen recommended format)"
   ]
  },
  {
   "cell_type": "code",
   "execution_count": 5,
   "id": "dd0fe8a2",
   "metadata": {},
   "outputs": [],
   "source": [
    "def currency_converter_ag(\n",
    "    amount: Annotated[str, \"Amount of currency in base_currency\"],\n",
    "    base_currency: Annotated[str, \"Base_currency symbol\"] = \"USD\",\n",
    "    quote_currency: Annotated[str, \"Quote currency symbol\"] = \"GBP\",\n",
    ") -> str:\n",
    "    result = currency_converter(amount, base_currency, quote_currency)\n",
    "    return result\n",
    "\n",
    "def ddg_search_ag(\n",
    "    topic: Annotated[str, \"Topic to search for news\"]=\"world news\",\n",
    "    num_headlines: Annotated[int, \"Number of headlines to return\"] = 5,\n",
    "    )-> str:\n",
    "    search_results = ddg_search(topic, num_headlines)\n",
    "    return search_results\n",
    " \n",
    "def get_news_ag(\n",
    "    topic: Annotated[str, \"Topic to search for news\"]=\"world news\",\n",
    "    num_headlines: Annotated[int, \"Number of headlines to return\"] = 5,\n",
    "    )-> str:\n",
    "    news_results = get_news(topic, num_headlines)\n",
    "    return news_results"
   ]
  },
  {
   "cell_type": "markdown",
   "id": "d049580e",
   "metadata": {},
   "source": [
    "### Registering the tools with Agents"
   ]
  },
  {
   "cell_type": "code",
   "execution_count": 6,
   "id": "8d84cc6c",
   "metadata": {},
   "outputs": [],
   "source": [
    "autogen.agentchat.register_function(\n",
    "    currency_converter_ag,\n",
    "    caller=Assistant_Agent,\n",
    "    executor=user_proxy,\n",
    "    description=\"Currency exchange calculator.\",\n",
    ")\n",
    "\n",
    "autogen.agentchat.register_function(\n",
    "    ddg_search_ag,\n",
    "    caller=Assistant_Agent,\n",
    "    executor=user_proxy,\n",
    "    description=\"Search on DuckDuckGo.\",\n",
    ")\n",
    "\n",
    "autogen.agentchat.register_function(\n",
    "    get_news_ag,\n",
    "    caller=Assistant_Agent,\n",
    "    executor=user_proxy,\n",
    "    description=\"Get latest news.\",\n",
    ")"
   ]
  },
  {
   "cell_type": "markdown",
   "id": "4b9047cb",
   "metadata": {},
   "source": [
    "### Checking Tools availability with Assistant Agent"
   ]
  },
  {
   "cell_type": "code",
   "execution_count": 7,
   "id": "971ed0d5",
   "metadata": {},
   "outputs": [
    {
     "data": {
      "text/plain": [
       "[{'type': 'function',\n",
       "  'function': {'description': 'Currency exchange calculator.',\n",
       "   'name': 'currency_converter_ag',\n",
       "   'parameters': {'type': 'object',\n",
       "    'properties': {'amount': {'type': 'string',\n",
       "      'description': 'Amount of currency in base_currency'},\n",
       "     'base_currency': {'type': 'string',\n",
       "      'default': 'USD',\n",
       "      'description': 'Base_currency symbol'},\n",
       "     'quote_currency': {'type': 'string',\n",
       "      'default': 'GBP',\n",
       "      'description': 'Quote currency symbol'}},\n",
       "    'required': ['amount']}}},\n",
       " {'type': 'function',\n",
       "  'function': {'description': 'Search on DuckDuckGo.',\n",
       "   'name': 'ddg_search_ag',\n",
       "   'parameters': {'type': 'object',\n",
       "    'properties': {'topic': {'type': 'string',\n",
       "      'default': 'world news',\n",
       "      'description': 'Topic to search for news'},\n",
       "     'num_headlines': {'type': 'integer',\n",
       "      'default': 5,\n",
       "      'description': 'Number of headlines to return'}},\n",
       "    'required': []}}},\n",
       " {'type': 'function',\n",
       "  'function': {'description': 'Get latest news.',\n",
       "   'name': 'get_news_ag',\n",
       "   'parameters': {'type': 'object',\n",
       "    'properties': {'topic': {'type': 'string',\n",
       "      'default': 'world news',\n",
       "      'description': 'Topic to search for news'},\n",
       "     'num_headlines': {'type': 'integer',\n",
       "      'default': 5,\n",
       "      'description': 'Number of headlines to return'}},\n",
       "    'required': []}}}]"
      ]
     },
     "execution_count": 7,
     "metadata": {},
     "output_type": "execute_result"
    }
   ],
   "source": [
    "Assistant_Agent.llm_config[\"tools\"]"
   ]
  },
  {
   "cell_type": "markdown",
   "id": "4341e118",
   "metadata": {},
   "source": [
    "### Sample 1 Query"
   ]
  },
  {
   "cell_type": "code",
   "execution_count": 8,
   "id": "ab081090",
   "metadata": {},
   "outputs": [
    {
     "name": "stdout",
     "output_type": "stream",
     "text": [
      "\u001b[33muser_proxy\u001b[0m (to assistant_agent):\n",
      "\n",
      "\"What's are the top 10 latest news about AI (list in bullets)\n",
      "and how much is 100 USD in EUR?\n",
      "\n",
      "--------------------------------------------------------------------------------\n",
      "\u001b[33massistant_agent\u001b[0m (to user_proxy):\n",
      "\n",
      "\u001b[32m***** Suggested tool call (call_apdp): get_news_ag *****\u001b[0m\n",
      "Arguments: \n",
      "{\"num_headlines\":10,\"topic\":\"AI news\"}\n",
      "\u001b[32m********************************************************\u001b[0m\n",
      "\n",
      "--------------------------------------------------------------------------------\n",
      "\u001b[35m\n",
      ">>>>>>>> EXECUTING FUNCTION get_news_ag...\u001b[0m\n",
      "\u001b[33muser_proxy\u001b[0m (to assistant_agent):\n",
      "\n",
      "\u001b[33muser_proxy\u001b[0m (to assistant_agent):\n",
      "\n",
      "\u001b[32m***** Response from calling tool (call_apdp) *****\u001b[0m\n",
      "[\n",
      "  {\n",
      "    \"date\": \"2024-10-18T20:48:00+00:00\",\n",
      "    \"title\": \"AI Chatbots Behind The Latest Memecoin Trend\",\n",
      "    \"body\": \"Tokens created for Terminal of Truths, an AI millionaire chatbot, and Fi, a female AI character, may be the start of the latest trend among memecoins\",\n",
      "    \"url\": \"https://www.forbes.com/sites/digital-assets/2024/10/18/ai-chatbots-behind-the-latest-memecoin-trend/\",\n",
      "    \"image\": \"https://imageio.forbes.com/specials-images/imageserve/671294bf1c909a80f546b971/0x0.jpg?format=jpg&crop=946,532,x166,y0,safe&height=900&width=1600&fit=bounds\",\n",
      "    \"source\": \"Forbes\"\n",
      "  },\n",
      "  {\n",
      "    \"date\": \"2024-10-18T18:10:00+00:00\",\n",
      "    \"title\": \"Big Tech Has Given Itself an AI Deadline\",\n",
      "    \"body\": \"Why are AI execs suddenly saying that superintelligence is just around the corner? This is an edition of The Atlantic Daily, a newsletter that guides you through the biggest stories of the day, helps you discover new ideas,\",\n",
      "    \"url\": \"https://www.msn.com/en-us/news/technology/big-tech-has-given-itself-an-ai-deadline/ar-AA1swaMN\",\n",
      "    \"image\": \"https://cdn.theatlantic.com/thumbor/Mzflwcl7TERZ4IJanM3BXYlZL90=/0x43:2000x1085/1200x625/media/img/mt/2024/10/superintelligence_atlantic_intelligence/original.jpg\",\n",
      "    \"source\": \"The Atlantic on MSN.com\"\n",
      "  },\n",
      "  {\n",
      "    \"date\": \"2024-10-18T17:09:00+00:00\",\n",
      "    \"title\": \"What the roller-coaster earnings at ASML and TSMC tell us about demand for AI chips\",\n",
      "    \"body\": \"TSMC's blockbuster results should be a welcome surprise to investors after ASML's earnings sent semiconductor stocks tumbling earlier this week.\",\n",
      "    \"url\": \"https://www.businessinsider.com/asml-tsmc-earnings-demand-ai-chips-2024-10\",\n",
      "    \"image\": \"https://i.insider.com/67110b8b3f2165d716e27179?width=1024&format=jpeg\",\n",
      "    \"source\": \"Business Insider\"\n",
      "  },\n",
      "  {\n",
      "    \"date\": \"2024-10-18T15:52:00+00:00\",\n",
      "    \"title\": \"AI Startup SandboxAQ Seeks Funding at Over $5 Billion Valuation\",\n",
      "    \"body\": \"SandboxAQ, a startup spun off from Alphabet Inc., is seeking to raise new equity funding at a valuation of more than $5 billion, according to people with knowledge of the matter.\",\n",
      "    \"url\": \"https://www.bloomberg.com/news/articles/2024-10-18/ai-startup-sandboxaq-seeks-funding-at-over-5-billion-valuation\",\n",
      "    \"image\": \"https://assets.bwbx.io/images/users/iqjWHBFdfxIU/ib4S808PwtP0/v0/1200x898.jpg\",\n",
      "    \"source\": \"Bloomberg L.P.\"\n",
      "  },\n",
      "  {\n",
      "    \"date\": \"2024-10-18T22:08:00+00:00\",\n",
      "    \"title\": \"Kamala Harris's AI Deepfake\",\n",
      "    \"body\": \"Her main concern has been identity and interest group politics.\",\n",
      "    \"url\": \"https://www.msn.com/en-us/money/other/opinion-kamala-harris-s-ai-deepfake/ar-AA1swOT5\",\n",
      "    \"image\": \"https://opinion-images.wsj.net/im-78118474/social\",\n",
      "    \"source\": \"The Wall Street Journal on MSN.com\"\n",
      "  },\n",
      "  {\n",
      "    \"date\": \"2024-10-18T19:36:00+00:00\",\n",
      "    \"title\": \"Tensions with OpenAI underscore Microsoft's need to ensure its own AI future\",\n",
      "    \"body\": \"Are Microsoft and OpenAI going from bromance to frenemies? Two new reports on the companies suggest that may be the case.\",\n",
      "    \"url\": \"https://www.msn.com/en-us/money/other/tensions-with-openai-underscore-microsoft-s-need-to-ensure-its-own-ai-future/ar-AA1sw7rP\",\n",
      "    \"image\": \"https://cdn.geekwire.com/wp-content/uploads/2023/11/Altman-Satya-3.jpg\",\n",
      "    \"source\": \"Geekwire on MSN.com\"\n",
      "  },\n",
      "  {\n",
      "    \"date\": \"2024-10-18T16:14:06+00:00\",\n",
      "    \"title\": \"AI Leaders Discuss Responsibility and Regulation\",\n",
      "    \"body\": \"On Tuesday, luminaries in the field of AI gathered at Serpentine North for the inaugural TIME100 Impact Dinner London.\",\n",
      "    \"url\": \"https://www.msn.com/en-us/news/technology/ai-leaders-discuss-responsibility-and-regulation/ar-AA1sp271\",\n",
      "    \"image\": \"https://img-s-msn-com.akamaized.net/tenant/amp/entityid/AA1sp26N.img?w=2400&h=1600&m=4&q=79\",\n",
      "    \"source\": \"Time on MSN.com\"\n",
      "  },\n",
      "  {\n",
      "    \"date\": \"2024-10-18T14:29:00+00:00\",\n",
      "    \"title\": \"Writing backwards can trick an AI into providing a bomb recipe\",\n",
      "    \"body\": \"AI models have safeguards in place to prevent them creating dangerous or illegal output, but a range of jailbreaks have been found to evade them. Now researchers show that writing backwards can trick AI models into revealing bomb-making instructions.\",\n",
      "    \"url\": \"https://www.newscientist.com/article/2450838-writing-backwards-can-trick-an-ai-into-providing-a-bomb-recipe/\",\n",
      "    \"image\": \"https://images.newscientist.com/wp-content/uploads/2024/10/18141824/SEI_226051170.jpg\",\n",
      "    \"source\": \"New Scientist\"\n",
      "  },\n",
      "  {\n",
      "    \"date\": \"2024-10-18T15:52:00+00:00\",\n",
      "    \"title\": \"Google's viral AI podcast tool just got more useful\",\n",
      "    \"body\": \"Google's product lead for the AI podcast tool, which now has millions of users, told BI that customizing instructions was the most requested feature.\",\n",
      "    \"url\": \"https://www.businessinsider.com/google-notebooklm-ai-podcast-tool-customize-feature-update-2024-10\",\n",
      "    \"image\": \"https://i.insider.com/6712833801ea6d83dee23b19?width=1200&format=jpeg\",\n",
      "    \"source\": \"Business Insider\"\n",
      "  },\n",
      "  {\n",
      "    \"date\": \"2024-10-18T13:38:00+00:00\",\n",
      "    \"title\": \"AI, crypto and data privacy: Comparing Harris, Trump on technology regulation\",\n",
      "    \"body\": \"With artificial intelligence now widespread, governments worldwide are grappling with how to regulate various aspects of the technology. Kamala Harris and Donald Trump offer different visions for U.S.\",\n",
      "    \"url\": \"https://www.upi.com/Voices/2024/10/18/comparing-Harris-Trump-technology-regulation-AI-data/4501729255736/\",\n",
      "    \"image\": \"https://cdnph.upi.com/sv/ph/og/i/4501729255736/2024/1/17292586857178/v1.5/AI-crypto-and-data-privacy-Comparing-Harris-Trump-on-technology-regulation.jpg\",\n",
      "    \"source\": \"UPI\"\n",
      "  }\n",
      "]\n",
      "\u001b[32m**************************************************\u001b[0m\n",
      "\n",
      "--------------------------------------------------------------------------------\n",
      "\u001b[33massistant_agent\u001b[0m (to user_proxy):\n",
      "\n",
      "\u001b[32m***** Suggested tool call (call_23hj): currency_converter_ag *****\u001b[0m\n",
      "Arguments: \n",
      "{\"amount\":\"100\",\"base_currency\":\"USD\",\"quote_currency\":\"EUR\"}\n",
      "\u001b[32m******************************************************************\u001b[0m\n",
      "\n",
      "--------------------------------------------------------------------------------\n",
      "\u001b[35m\n",
      ">>>>>>>> EXECUTING FUNCTION currency_converter_ag...\u001b[0m\n",
      "-> TOOL-CURRENCY_CONVERTER CALLED\n",
      "\u001b[33muser_proxy\u001b[0m (to assistant_agent):\n",
      "\n",
      "\u001b[33muser_proxy\u001b[0m (to assistant_agent):\n",
      "\n",
      "\u001b[32m***** Response from calling tool (call_23hj) *****\u001b[0m\n",
      "92.10000000000001\n",
      "\u001b[32m**************************************************\u001b[0m\n",
      "\n",
      "--------------------------------------------------------------------------------\n",
      "\u001b[33massistant_agent\u001b[0m (to user_proxy):\n",
      "\n",
      "Here are the top 10 latest news about AI:\n",
      "\n",
      "* AI Chatbots Behind The Latest Memecoin Trend\n",
      "* Big Tech Has Given Itself an AI Deadline\n",
      "* What the roller-coaster earnings at ASML and TSMC tell us about demand for AI chips\n",
      "* AI Startup SandboxAQ Seeks Funding at Over $5 Billion Valuation\n",
      "* Kamala Harris's AI Deepfake\n",
      "* Tensions with OpenAI underscore Microsoft's need to ensure its own AI future\n",
      "* AI Leaders Discuss Responsibility and Regulation\n",
      "* Writing backwards can trick an AI into providing a bomb recipe\n",
      "* Google's viral AI podcast tool just got more useful\n",
      "* AI, crypto and data privacy: Comparing Harris, Trump on technology regulation\n",
      "\n",
      "And 100 USD is approximately 92.10000000000001 EUR.\n",
      "\n",
      "TERMINATE\n",
      "\n",
      "--------------------------------------------------------------------------------\n"
     ]
    }
   ],
   "source": [
    "with Cache.disk() as cache:\n",
    "    # start the conversation\n",
    "    query = \"\"\"\"What's are the top 10 latest news about AI (list in bullets)\n",
    "and how much is 100 USD in EUR?\"\"\"\n",
    "\n",
    "    res = user_proxy.initiate_chat(Assistant_Agent, message=query, summary_method=\"reflection_with_llm\", cache=cache)"
   ]
  },
  {
   "cell_type": "code",
   "execution_count": null,
   "id": "365f8eb5",
   "metadata": {},
   "outputs": [],
   "source": []
  }
 ],
 "metadata": {
  "front_matter": {
   "description": "Learn how to register function calls using AssistantAgent and UserProxyAgent in AutoGen.",
   "tags": [
    "function call",
    "tool use"
   ]
  },
  "kernelspec": {
   "display_name": "Python 3",
   "language": "python",
   "name": "python3"
  },
  "language_info": {
   "codemirror_mode": {
    "name": "ipython",
    "version": 3
   },
   "file_extension": ".py",
   "mimetype": "text/x-python",
   "name": "python",
   "nbconvert_exporter": "python",
   "pygments_lexer": "ipython3",
   "version": "3.11.10"
  }
 },
 "nbformat": 4,
 "nbformat_minor": 5
}
